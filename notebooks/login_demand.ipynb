{
 "cells": [
  {
   "cell_type": "code",
   "execution_count": 8,
   "metadata": {},
   "outputs": [],
   "source": [
    "import json\n",
    "import datetime"
   ]
  },
  {
   "cell_type": "code",
   "execution_count": 2,
   "metadata": {},
   "outputs": [],
   "source": [
    "file_path = '../data/sboard/logins.json'\n",
    "with open(file_path) as f:\n",
    "    data = json.load(f)"
   ]
  },
  {
   "cell_type": "code",
   "execution_count": 3,
   "metadata": {},
   "outputs": [
    {
     "name": "stdout",
     "output_type": "stream",
     "text": [
      "[u'login_time']\n"
     ]
    }
   ],
   "source": [
    "print(data.keys())"
   ]
  },
  {
   "cell_type": "code",
   "execution_count": 5,
   "metadata": {},
   "outputs": [
    {
     "name": "stdout",
     "output_type": "stream",
     "text": [
      "93142\n"
     ]
    }
   ],
   "source": [
    "print(len(data['login_time']))"
   ]
  },
  {
   "cell_type": "code",
   "execution_count": 7,
   "metadata": {},
   "outputs": [
    {
     "name": "stdout",
     "output_type": "stream",
     "text": [
      "1970-01-01 20:13:18\n",
      "1970-01-01 20:16:10\n",
      "1970-01-01 20:16:37\n",
      "1970-01-01 20:16:36\n",
      "1970-01-01 20:26:21\n",
      "1970-01-01 20:21:41\n",
      "1970-01-01 20:12:16\n",
      "1970-01-01 20:35:47\n",
      "1970-01-01 20:35:38\n",
      "1970-01-01 20:47:52\n"
     ]
    }
   ],
   "source": [
    "for login in data['login_time'][0:10]:\n",
    "    print login"
   ]
  },
  {
   "cell_type": "code",
   "execution_count": 12,
   "metadata": {},
   "outputs": [],
   "source": [
    "# convert to list of datetime objects\n",
    "login_format = '%Y-%m-%d %H:%M:%S'\n",
    "logins = map(lambda x: datetime.datetime.strptime(x, login_format), data['login_time'])\n",
    "logins = sorted(logins)"
   ]
  },
  {
   "cell_type": "code",
   "execution_count": 14,
   "metadata": {},
   "outputs": [],
   "source": [
    "# create list of cut times for bins of 15-minute intervals\n",
    "bin_duration = datetime.timedelta(minutes=15)\n",
    "bin_cuts = []\n",
    "bin_start = logins[0]\n",
    "last_login = logins[-1]\n",
    "\n",
    "while bin_start < last_login:\n",
    "    bin_cuts.append(bin_start)\n",
    "    bin_start += bin_duration"
   ]
  },
  {
   "cell_type": "code",
   "execution_count": null,
   "metadata": {},
   "outputs": [],
   "source": []
  }
 ],
 "metadata": {
  "kernelspec": {
   "display_name": ".venv",
   "language": "python",
   "name": ".venv"
  },
  "language_info": {
   "codemirror_mode": {
    "name": "ipython",
    "version": 2
   },
   "file_extension": ".py",
   "mimetype": "text/x-python",
   "name": "python",
   "nbconvert_exporter": "python",
   "pygments_lexer": "ipython2",
   "version": "2.7.15"
  }
 },
 "nbformat": 4,
 "nbformat_minor": 4
}
