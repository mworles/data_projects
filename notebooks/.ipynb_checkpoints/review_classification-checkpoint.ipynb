{
 "cells": [
  {
   "cell_type": "markdown",
   "metadata": {},
   "source": [
    "# Using movie review text to classify critic ratings\n",
    "***\n",
    "In this project I analyze data from movie reviews from the Rotten Tomatoes website. The goal is to predict whether a movie is rated \"Fresh\" or Rotten\" by the critic using only the text of the review submitted by the critic. "
   ]
  },
  {
   "cell_type": "code",
   "execution_count": 1,
   "metadata": {},
   "outputs": [],
   "source": [
    "import pandas as pd\n",
    "import numpy as np\n",
    "\n",
    "# plotting tools\n",
    "import matplotlib.pyplot as plt\n",
    "import matplotlib.style as style\n",
    "style.use('fivethirtyeight')\n",
    "\n",
    "# for data clearning and modeling\n",
    "from __future__ import division\n",
    "import datetime\n",
    "from sklearn.metrics import accuracy_score, confusion_matrix\n",
    "from sklearn.model_selection import StratifiedKFold, cross_val_predict\n",
    "from sklearn.naive_bayes import MultinomialNB, BernoulliNB\n",
    "from sklearn.feature_extraction.text import CountVectorizer, TfidfVectorizer"
   ]
  },
  {
   "cell_type": "markdown",
   "metadata": {},
   "source": [
    "## Rotten Tomatoes Dataset"
   ]
  },
  {
   "cell_type": "markdown",
   "metadata": {},
   "source": [
    "First I import the dataset and print the first 5 rows to gain a sense of what the dataset contains. "
   ]
  },
  {
   "cell_type": "code",
   "execution_count": 2,
   "metadata": {},
   "outputs": [
    {
     "name": "stdout",
     "output_type": "stream",
     "text": [
      "(15561, 8)\n"
     ]
    },
    {
     "data": {
      "text/html": [
       "<div>\n",
       "<style scoped>\n",
       "    .dataframe tbody tr th:only-of-type {\n",
       "        vertical-align: middle;\n",
       "    }\n",
       "\n",
       "    .dataframe tbody tr th {\n",
       "        vertical-align: top;\n",
       "    }\n",
       "\n",
       "    .dataframe thead th {\n",
       "        text-align: right;\n",
       "    }\n",
       "</style>\n",
       "<table border=\"1\" class=\"dataframe\">\n",
       "  <thead>\n",
       "    <tr style=\"text-align: right;\">\n",
       "      <th></th>\n",
       "      <th>critic</th>\n",
       "      <th>fresh</th>\n",
       "      <th>imdb</th>\n",
       "      <th>publication</th>\n",
       "      <th>quote</th>\n",
       "      <th>review_date</th>\n",
       "      <th>rtid</th>\n",
       "      <th>title</th>\n",
       "    </tr>\n",
       "  </thead>\n",
       "  <tbody>\n",
       "    <tr>\n",
       "      <th>1</th>\n",
       "      <td>Derek Adams</td>\n",
       "      <td>fresh</td>\n",
       "      <td>114709</td>\n",
       "      <td>Time Out</td>\n",
       "      <td>So ingenious in concept, design and execution ...</td>\n",
       "      <td>2009-10-04</td>\n",
       "      <td>9559</td>\n",
       "      <td>Toy story</td>\n",
       "    </tr>\n",
       "    <tr>\n",
       "      <th>2</th>\n",
       "      <td>Richard Corliss</td>\n",
       "      <td>fresh</td>\n",
       "      <td>114709</td>\n",
       "      <td>TIME Magazine</td>\n",
       "      <td>The year's most inventive comedy.</td>\n",
       "      <td>2008-08-31</td>\n",
       "      <td>9559</td>\n",
       "      <td>Toy story</td>\n",
       "    </tr>\n",
       "    <tr>\n",
       "      <th>3</th>\n",
       "      <td>David Ansen</td>\n",
       "      <td>fresh</td>\n",
       "      <td>114709</td>\n",
       "      <td>Newsweek</td>\n",
       "      <td>A winning animated feature that has something ...</td>\n",
       "      <td>2008-08-18</td>\n",
       "      <td>9559</td>\n",
       "      <td>Toy story</td>\n",
       "    </tr>\n",
       "    <tr>\n",
       "      <th>4</th>\n",
       "      <td>Leonard Klady</td>\n",
       "      <td>fresh</td>\n",
       "      <td>114709</td>\n",
       "      <td>Variety</td>\n",
       "      <td>The film sports a provocative and appealing st...</td>\n",
       "      <td>2008-06-09</td>\n",
       "      <td>9559</td>\n",
       "      <td>Toy story</td>\n",
       "    </tr>\n",
       "    <tr>\n",
       "      <th>5</th>\n",
       "      <td>Jonathan Rosenbaum</td>\n",
       "      <td>fresh</td>\n",
       "      <td>114709</td>\n",
       "      <td>Chicago Reader</td>\n",
       "      <td>An entertaining computer-generated, hyperreali...</td>\n",
       "      <td>2008-03-10</td>\n",
       "      <td>9559</td>\n",
       "      <td>Toy story</td>\n",
       "    </tr>\n",
       "  </tbody>\n",
       "</table>\n",
       "</div>"
      ],
      "text/plain": [
       "               critic  fresh    imdb     publication  \\\n",
       "1         Derek Adams  fresh  114709        Time Out   \n",
       "2     Richard Corliss  fresh  114709   TIME Magazine   \n",
       "3         David Ansen  fresh  114709        Newsweek   \n",
       "4       Leonard Klady  fresh  114709         Variety   \n",
       "5  Jonathan Rosenbaum  fresh  114709  Chicago Reader   \n",
       "\n",
       "                                               quote review_date  rtid  \\\n",
       "1  So ingenious in concept, design and execution ...  2009-10-04  9559   \n",
       "2                  The year's most inventive comedy.  2008-08-31  9559   \n",
       "3  A winning animated feature that has something ...  2008-08-18  9559   \n",
       "4  The film sports a provocative and appealing st...  2008-06-09  9559   \n",
       "5  An entertaining computer-generated, hyperreali...  2008-03-10  9559   \n",
       "\n",
       "       title  \n",
       "1  Toy story  \n",
       "2  Toy story  \n",
       "3  Toy story  \n",
       "4  Toy story  \n",
       "5  Toy story  "
      ]
     },
     "execution_count": 2,
     "metadata": {},
     "output_type": "execute_result"
    }
   ],
   "source": [
    "critics = pd.read_csv('../data/text/critics.csv')\n",
    "# drop rows with missing text reviews\n",
    "critics = critics[~critics.quote.isnull()]\n",
    "print critics.shape\n",
    "critics.head()"
   ]
  },
  {
   "cell_type": "markdown",
   "metadata": {},
   "source": [
    "For this project the two important columns are the \"fresh\" column, which contains the critic's rating of the movie, and the \"quote\" column, which contains the text of the critic's review. "
   ]
  },
  {
   "cell_type": "markdown",
   "metadata": {},
   "source": [
    "## Fresh or Rotten?  Example of divided opinions"
   ]
  },
  {
   "cell_type": "markdown",
   "metadata": {},
   "source": [
    "What do positive and negative reviews tend to look like? For a basic example, I wanted to examine a polarizing movie, one that people tend to either love or hate. The first movie that came to mind was \"Dumb and Dumber\". Some people (myself included) find this movie to be pretty hilarious, while many others find it to be pretty stupid.  \n",
    "As I show below, this dataset confirms my suspicion about \"Dumb and Dumber\": of the 10 reviews, it's a near-even split with 4 \"fresh\" and 6 \"rotten\". "
   ]
  },
  {
   "cell_type": "code",
   "execution_count": 3,
   "metadata": {},
   "outputs": [
    {
     "data": {
      "text/plain": [
       "fresh\n",
       "fresh     4\n",
       "rotten    6\n",
       "Name: title, dtype: int64"
      ]
     },
     "execution_count": 3,
     "metadata": {},
     "output_type": "execute_result"
    }
   ],
   "source": [
    "# select reviews for the example \n",
    "example = \"Dumb & Dumber\"\n",
    "dd = critics[critics.title == example]\n",
    "# group by fresh column, count rows to show number for each group\n",
    "dd.groupby('fresh')['title'].count()"
   ]
  },
  {
   "cell_type": "markdown",
   "metadata": {},
   "source": [
    "In general, one would hope that the sentiment of the critic about the movie as \"fresh\" or \"rotten\" is reflected in the text of the review. For this example I print the review text for a \"Fresh\" review and \"Rotten\" review below. "
   ]
  },
  {
   "cell_type": "code",
   "execution_count": 4,
   "metadata": {},
   "outputs": [
    {
     "name": "stdout",
     "output_type": "stream",
     "text": [
      "Dumb & Dumber Fresh Review\n",
      "Dumb and Dumber, which features Carrey and Jeff Daniels as nitwits traveling cross-country, is a frayed string of gags posing as a movie. Carrey, though, does literal-minded doofdom with peerless enthusiasm.\n",
      "\n",
      "Dumb & Dumber Rotten Review\n",
      "Given American cinema's current obsession with innocence and ignorance, at least this never romanticises its protagonists. They are genuinely, irredeemably, 100 per cent no-hopers.\n"
     ]
    }
   ],
   "source": [
    "print example + \" Fresh Review\"\n",
    "print dd.loc[2543, 'quote']\n",
    "print \"\"\n",
    "print example + \" Rotten Review\"\n",
    "print dd.loc[2546, 'quote']"
   ]
  },
  {
   "cell_type": "markdown",
   "metadata": {},
   "source": [
    "This example immediately illustrates the challenges of text classification. \n",
    "\n",
    "The text of the \"fresh\" review does not convey a strong sense of positivity, referring to the characters as \"nitwits\" and the movie as \"frayed string of gags\". The \"rotten\" review doesn't clearly communicate whether the critic felt positively or negatively about the movie.  "
   ]
  },
  {
   "cell_type": "markdown",
   "metadata": {},
   "source": [
    "## Exploratory Analysis"
   ]
  },
  {
   "cell_type": "markdown",
   "metadata": {},
   "source": [
    "First I conduct some exploratory data analysis to learn more about this dataset. "
   ]
  },
  {
   "cell_type": "code",
   "execution_count": 5,
   "metadata": {},
   "outputs": [
    {
     "name": "stdout",
     "output_type": "stream",
     "text": [
      "Total number of reviews: 15561\n",
      "Number of unique critics: 1921\n",
      "Number of unique movies:  623\n"
     ]
    }
   ],
   "source": [
    "print(\"Total number of reviews: {:d}\".format(len(critics)))\n",
    "print(\"Number of unique critics: {:d}\".format(critics.rtid.unique().size))\n",
    "print(\"Number of unique movies:  {:d}\".format(critics.critic.unique().size))"
   ]
  },
  {
   "cell_type": "markdown",
   "metadata": {},
   "source": [
    "The code below produces a new table with a row for each critic, with columns for the critic's total number of reviews and their mean of \"fresh\" ratings, which is just the percentage of all their reviews that they gave a fresh rating. "
   ]
  },
  {
   "cell_type": "code",
   "execution_count": 6,
   "metadata": {},
   "outputs": [
    {
     "data": {
      "text/html": [
       "<div>\n",
       "<style scoped>\n",
       "    .dataframe tbody tr th:only-of-type {\n",
       "        vertical-align: middle;\n",
       "    }\n",
       "\n",
       "    .dataframe tbody tr th {\n",
       "        vertical-align: top;\n",
       "    }\n",
       "\n",
       "    .dataframe thead th {\n",
       "        text-align: right;\n",
       "    }\n",
       "</style>\n",
       "<table border=\"1\" class=\"dataframe\">\n",
       "  <thead>\n",
       "    <tr style=\"text-align: right;\">\n",
       "      <th></th>\n",
       "      <th>rev_count</th>\n",
       "      <th>pct_fresh</th>\n",
       "    </tr>\n",
       "    <tr>\n",
       "      <th>critic</th>\n",
       "      <th></th>\n",
       "      <th></th>\n",
       "    </tr>\n",
       "  </thead>\n",
       "  <tbody>\n",
       "    <tr>\n",
       "      <th>A.D. Murphy</th>\n",
       "      <td>13.0</td>\n",
       "      <td>100.000000</td>\n",
       "    </tr>\n",
       "    <tr>\n",
       "      <th>A.H. Weiler</th>\n",
       "      <td>17.0</td>\n",
       "      <td>70.588235</td>\n",
       "    </tr>\n",
       "    <tr>\n",
       "      <th>A.O. Scott</th>\n",
       "      <td>19.0</td>\n",
       "      <td>36.842105</td>\n",
       "    </tr>\n",
       "    <tr>\n",
       "      <th>Aaron Hillis</th>\n",
       "      <td>2.0</td>\n",
       "      <td>100.000000</td>\n",
       "    </tr>\n",
       "    <tr>\n",
       "      <th>Abel Green</th>\n",
       "      <td>5.0</td>\n",
       "      <td>100.000000</td>\n",
       "    </tr>\n",
       "  </tbody>\n",
       "</table>\n",
       "</div>"
      ],
      "text/plain": [
       "              rev_count   pct_fresh\n",
       "critic                             \n",
       "A.D. Murphy        13.0  100.000000\n",
       "A.H. Weiler        17.0   70.588235\n",
       "A.O. Scott         19.0   36.842105\n",
       "Aaron Hillis        2.0  100.000000\n",
       "Abel Green          5.0  100.000000"
      ]
     },
     "execution_count": 6,
     "metadata": {},
     "output_type": "execute_result"
    }
   ],
   "source": [
    "df = critics.copy()\n",
    "# create boolean column from fresh column\n",
    "df['fresh'] = df.fresh == 'fresh'\n",
    "# group data by critic, create aggregate measures\n",
    "def func_agg(x):\n",
    "    names = {'rev_count': x['fresh'].count(),\n",
    "             'pct_fresh':  x['fresh'].mean()}\n",
    "    return pd.Series(names, index=['rev_count', 'pct_fresh'])\n",
    "gbdf = df.groupby('critic').apply(func_agg)\n",
    "gbdf['pct_fresh'] = gbdf['pct_fresh'] * 100\n",
    "gbdf.head()"
   ]
  },
  {
   "cell_type": "markdown",
   "metadata": {},
   "source": [
    "Here I examine the critics' percentages of \"fresh\" ratings in a histogram, which shows the amount of critics that had various percentages of \"fresh\" ratings, from 0% fresh up to 100% fresh. "
   ]
  },
  {
   "cell_type": "code",
   "execution_count": 7,
   "metadata": {},
   "outputs": [
    {
     "data": {
      "image/png": "[encoded data removed]",
      "text/plain": [
       "<Figure size 576x432 with 1 Axes>"
      ]
     },
     "metadata": {
      "needs_background": "light"
     },
     "output_type": "display_data"
    }
   ],
   "source": [
    "plt.figure(figsize=(8, 6))\n",
    "plt.hist(gbdf['pct_fresh'])\n",
    "plt.xlabel(\"Percentage of Critic's Rating's Fresh\")\n",
    "plt.ylabel('Number of critics')\n",
    "plt.title(\"Distribution of critics' Fresh percentage\")\n",
    "plt.show()"
   ]
  },
  {
   "cell_type": "markdown",
   "metadata": {},
   "source": [
    "There's a large number of critics at 0% and 100%, meaning their reviews were either all rotten or all fresh. \n",
    "\n",
    "This makes it seem like most critics either like or hate everything that they see, but my hunch is that these are mostly critics with a small number of reviews."
   ]
  },
  {
   "cell_type": "markdown",
   "metadata": {},
   "source": [
    "To investigate this hunch I select the critics with either 0% or 100% of their ratings as fresh."
   ]
  },
  {
   "cell_type": "code",
   "execution_count": 8,
   "metadata": {},
   "outputs": [],
   "source": [
    "extreme = gbdf[(gbdf['pct_fresh'] == 100.0) | (gbdf['pct_fresh'] == 0)]"
   ]
  },
  {
   "cell_type": "markdown",
   "metadata": {},
   "source": [
    "Then, I group the table by review count and count the rows."
   ]
  },
  {
   "cell_type": "code",
   "execution_count": 9,
   "metadata": {},
   "outputs": [
    {
     "data": {
      "text/plain": [
       "rev_count\n",
       "1.0     221\n",
       "2.0      46\n",
       "3.0      15\n",
       "4.0       5\n",
       "5.0       6\n",
       "6.0       1\n",
       "8.0       2\n",
       "9.0       2\n",
       "10.0      1\n",
       "11.0      1\n",
       "13.0      1\n",
       "16.0      1\n",
       "Name: rev_count, dtype: int64"
      ]
     },
     "execution_count": 9,
     "metadata": {},
     "output_type": "execute_result"
    }
   ],
   "source": [
    "extreme.groupby('rev_count')['rev_count'].count()"
   ]
  },
  {
   "cell_type": "code",
   "execution_count": 10,
   "metadata": {},
   "outputs": [
    {
     "name": "stdout",
     "output_type": "stream",
     "text": [
      "Percentage of extreme with one review: 0.73178807947\n"
     ]
    }
   ],
   "source": [
    "one_review = extreme[extreme['rev_count'] == 1].shape[0] / extreme.shape[0]\n",
    "print \"Percentage of extreme with one review: {}\".format(one_review)"
   ]
  },
  {
   "cell_type": "markdown",
   "metadata": {},
   "source": [
    "Most of the 100% or 0% fresh critics have only submitted a handful of reviews, and 73% of these reviewers have only submitted one review. "
   ]
  },
  {
   "cell_type": "markdown",
   "metadata": {},
   "source": [
    "Here I remove the critics with less than 3 reviews, and plot the distribution of Fresh percentages again. "
   ]
  },
  {
   "cell_type": "code",
   "execution_count": 11,
   "metadata": {},
   "outputs": [
    {
     "data": {
      "image/png": "[encoded data removed]",
      "text/plain": [
       "<Figure size 576x432 with 1 Axes>"
      ]
     },
     "metadata": {
      "needs_background": "light"
     },
     "output_type": "display_data"
    }
   ],
   "source": [
    "atleast_3 = gbdf[gbdf['rev_count'] > 3]\n",
    "plt.figure(figsize=(8, 6))\n",
    "plt.hist(atleast_3['pct_fresh'])\n",
    "plt.xlabel(\"Percentage of Critic's Rating's Fresh\")\n",
    "plt.ylabel('Number of critics')\n",
    "plt.title(\"Distribution of critics' Fresh percentage\")\n",
    "plt.show()"
   ]
  },
  {
   "cell_type": "markdown",
   "metadata": {},
   "source": [
    "This looks more like what I would expect. For the most part, critics submit a fresh rating 20-80% of the time. However, a few of the critics still have only \"Fresh\" ratings. "
   ]
  },
  {
   "cell_type": "markdown",
   "metadata": {},
   "source": [
    "## Data Cleaning and Preparation"
   ]
  },
  {
   "cell_type": "markdown",
   "metadata": {},
   "source": [
    "Before I train models to classify the reviews as \"Fresh\" or \"Rotten\", I will remove some of the data for later testing. By holding this data out, I can use it later to get a \"true\" estimate of classification performance on future, uncollected data. "
   ]
  },
  {
   "cell_type": "markdown",
   "metadata": {},
   "source": [
    "I chose to use the most recent 20% of ratings as the test set. I could have used a random split of the reviews to divide the data into a training set and test set, but using the latest 20% of the reviews is more similar to a real-world scenario, where existing data would be used to train a model that predicts ratings from future data. "
   ]
  },
  {
   "cell_type": "markdown",
   "metadata": {},
   "source": [
    "Here I convert the string date to python's datetime format, sort the data by date, and return the date at the 80th percentile. Using this data as marker, I create a True/False column to note whether a review occurs after this date. Rows marked as \"False\" will be my training set, \"True\" will be the test set.  "
   ]
  },
  {
   "cell_type": "code",
   "execution_count": 12,
   "metadata": {},
   "outputs": [],
   "source": [
    "# convert to review date to datetime format\n",
    "df['date'] = df['review_date'].apply(lambda x: datetime.datetime.strptime(x, '%Y-%m-%d'))\n",
    "df = df.sort_values('date')\n",
    "\n",
    "# set the latest 20% of reviews as the test set\n",
    "df['date'].quantile(q=0.8)\n",
    "df['test'] = df['date'] > df['date'].quantile(q=0.8)"
   ]
  },
  {
   "cell_type": "code",
   "execution_count": 13,
   "metadata": {},
   "outputs": [
    {
     "data": {
      "text/plain": [
       "0.1999871473555684"
      ]
     },
     "execution_count": 13,
     "metadata": {},
     "output_type": "execute_result"
    }
   ],
   "source": [
    "# confirm the dftest = True rows comprise 20% of dataset\n",
    "np.sum(df.test) / df.shape[0]"
   ]
  },
  {
   "cell_type": "code",
   "execution_count": 14,
   "metadata": {},
   "outputs": [],
   "source": [
    "# create train and test dataframes\n",
    "dftrain = df.loc[df.test == False]\n",
    "dftest = df.loc[df.test == True]"
   ]
  },
  {
   "cell_type": "markdown",
   "metadata": {},
   "source": [
    "I also create separate training and test arrays for the target variable, which is the \"fresh\" rating. "
   ]
  },
  {
   "cell_type": "code",
   "execution_count": 15,
   "metadata": {},
   "outputs": [],
   "source": [
    "# create target array, training and test sets\n",
    "# convert boolean \"fresh\" column to array of integers\n",
    "y = df['fresh'].values * 1\n",
    "\n",
    "# use boolean array to divide to training and test\n",
    "ytrain = y[df.test == False]\n",
    "ytest = y[df.test == True]"
   ]
  },
  {
   "cell_type": "code",
   "execution_count": 16,
   "metadata": {},
   "outputs": [],
   "source": [
    "# save datsets for easier importing later\n",
    "dftrain.to_csv('../data/text/critics_train.csv')\n",
    "dftest.to_csv('../data/text/critics_test.csv')"
   ]
  },
  {
   "cell_type": "markdown",
   "metadata": {},
   "source": [
    "## Converting text data to numerical format"
   ]
  },
  {
   "cell_type": "markdown",
   "metadata": {},
   "source": [
    "Most classification algorithms cannot take raw text as input, which means I need to convert the review text into a numeric format algorithms will understand. \n",
    "\n",
    "One strategy for this problem involves creation of a term frequency matrix. \n",
    "\n",
    "To understand what a term frequency matrix is, consider this simple example."
   ]
  },
  {
   "cell_type": "code",
   "execution_count": 17,
   "metadata": {},
   "outputs": [
    {
     "data": {
      "text/html": [
       "<div>\n",
       "<style scoped>\n",
       "    .dataframe tbody tr th:only-of-type {\n",
       "        vertical-align: middle;\n",
       "    }\n",
       "\n",
       "    .dataframe tbody tr th {\n",
       "        vertical-align: top;\n",
       "    }\n",
       "\n",
       "    .dataframe thead th {\n",
       "        text-align: right;\n",
       "    }\n",
       "</style>\n",
       "<table border=\"1\" class=\"dataframe\">\n",
       "  <thead>\n",
       "    <tr style=\"text-align: right;\">\n",
       "      <th></th>\n",
       "      <th>review</th>\n",
       "    </tr>\n",
       "  </thead>\n",
       "  <tbody>\n",
       "    <tr>\n",
       "      <th>0</th>\n",
       "      <td>This movie was good</td>\n",
       "    </tr>\n",
       "    <tr>\n",
       "      <th>1</th>\n",
       "      <td>Awful, awful. This movie was not good</td>\n",
       "    </tr>\n",
       "  </tbody>\n",
       "</table>\n",
       "</div>"
      ],
      "text/plain": [
       "                                  review\n",
       "0                    This movie was good\n",
       "1  Awful, awful. This movie was not good"
      ]
     },
     "execution_count": 17,
     "metadata": {},
     "output_type": "execute_result"
    }
   ],
   "source": [
    "# make up 2 reviews with similar words\n",
    "review0 = 'This movie was good'\n",
    "review1 = 'Awful, awful. This movie was not good'\n",
    "ex_data = pd.DataFrame({'review': [review0, review1]})\n",
    "ex_data"
   ]
  },
  {
   "cell_type": "markdown",
   "metadata": {},
   "source": [
    "The table above contains 2 made-up reviews. The text for both reviews is almost exactly the same, except the second review has the additional words, \"Awful, awful\", and \"not good\" instead of \"good\". "
   ]
  },
  {
   "cell_type": "markdown",
   "metadata": {},
   "source": [
    "To convert these reviews to a term frequency matrix, I use a vectorizer. The vectorizer treats the 2 reviews as separate \"documents\" that use a common vocabulary. The vocabulary comes directly from the documents, and so this vocabulary is just a collection of all the unique words across all of the documents. "
   ]
  },
  {
   "cell_type": "markdown",
   "metadata": {},
   "source": [
    "Fitting the vectorizer allows it to learn all the words contained in the documents. Here I fit the vectorizer to the two made-up reviews and print the vocabulary. "
   ]
  },
  {
   "cell_type": "code",
   "execution_count": 18,
   "metadata": {},
   "outputs": [
    {
     "name": "stdout",
     "output_type": "stream",
     "text": [
      "[u'awful', u'good', u'movie', u'not', u'this', u'was']\n"
     ]
    }
   ],
   "source": [
    "vectorizer = CountVectorizer()\n",
    "vectorizer.fit(ex_data['review'])\n",
    "vocab = vectorizer.get_feature_names()\n",
    "print vocab"
   ]
  },
  {
   "cell_type": "markdown",
   "metadata": {},
   "source": [
    "The vocabulary simply contains all of the unique words that occurred in the reviews. \n",
    "Now that the vectorizer has \"learned\" the vocabulary from the reviews, it can be used to transform the reviews into the term frequency matrix. "
   ]
  },
  {
   "cell_type": "code",
   "execution_count": 19,
   "metadata": {},
   "outputs": [
    {
     "name": "stdout",
     "output_type": "stream",
     "text": [
      "Term Frequency Matrix\n",
      "   awful  good  movie  not  this  was\n",
      "0      0     1      1    0     1    1\n",
      "1      2     1      1    1     1    1\n",
      "This movie was good\n",
      "Awful, awful. This movie was not good\n"
     ]
    }
   ],
   "source": [
    "tfm = vectorizer.transform(ex_data['review'])\n",
    "print \"Term Frequency Matrix\"\n",
    "print pd.DataFrame(tfm.toarray(), columns=vocab)\n",
    "print review0\n",
    "print review1"
   ]
  },
  {
   "cell_type": "markdown",
   "metadata": {},
   "source": [
    "As you can see above, the term frequency matrix simply counts the number of occurrences of each word in each document."
   ]
  },
  {
   "cell_type": "markdown",
   "metadata": {},
   "source": [
    "I can follow this same process to convert the 15,000 reviews in the Rotten Tomatoes dataset. "
   ]
  },
  {
   "cell_type": "code",
   "execution_count": 20,
   "metadata": {},
   "outputs": [],
   "source": [
    "# fit vectorizer to all reviews\n",
    "vectorizer = CountVectorizer()\n",
    "vectorizer.fit(df['quote'])\n",
    "\n",
    "# transform training set\n",
    "xtrain = vectorizer.transform(dftrain['quote'])\n",
    "\n",
    "# transform test set\n",
    "xtest = vectorizer.transform(dftest['quote'])"
   ]
  },
  {
   "cell_type": "code",
   "execution_count": 21,
   "metadata": {},
   "outputs": [
    {
     "name": "stdout",
     "output_type": "stream",
     "text": [
      "(12449, 22417)\n",
      "(3112, 22417)\n"
     ]
    }
   ],
   "source": [
    "print xtrain.shape\n",
    "print xtest.shape"
   ]
  },
  {
   "cell_type": "markdown",
   "metadata": {},
   "source": [
    "The xtrain and xtest objects now contain the term frequency matrix for the training and test sets. \n",
    "\n",
    "The columns of these datasets are now \"features\" that we can use to train a classification algorithm, with the features being the number of times a word appears in a review. "
   ]
  },
  {
   "cell_type": "markdown",
   "metadata": {},
   "source": [
    "## Classifying reviews from term frequencies"
   ]
  },
  {
   "cell_type": "markdown",
   "metadata": {},
   "source": [
    "I am now ready to use the term frequency matrix to train a model to classify reviews as \"Fresh\" or \"Rotten\". \n",
    "\n",
    "For a baseline classification model, I use the Naive Bayes classifier. This classifier tends to perform fairly well on text classification tasks without much tweaking or input from the user. "
   ]
  },
  {
   "cell_type": "markdown",
   "metadata": {},
   "source": [
    "I use cross-validation to assess classifier performance, with 5 cross-validation folds. I train the model using 4/5 of the data, and use the trained model to make predictions for the remaining 1/5. This process repeats 5 times, and the cross-validation score is the average across the 5 folds."
   ]
  },
  {
   "cell_type": "code",
   "execution_count": 22,
   "metadata": {},
   "outputs": [],
   "source": [
    "#set up and fit classifier\n",
    "clf = MultinomialNB()\n",
    "\n",
    "# create cross-validation generator\n",
    "skf = StratifiedKFold(n_splits = 5, random_state=3950)\n",
    "\n",
    "# make cross-validated predictions\n",
    "prdscv = cross_val_predict(clf, xtrain, ytrain, cv=skf)"
   ]
  },
  {
   "cell_type": "markdown",
   "metadata": {},
   "source": [
    "I also collect full training set predictions to assess the gap between training and cross-validation performance. "
   ]
  },
  {
   "cell_type": "code",
   "execution_count": 23,
   "metadata": {},
   "outputs": [],
   "source": [
    "# fit classifier to trainig set and make predictions\n",
    "prdstrn = clf.fit(xtrain, ytrain).predict(xtrain)"
   ]
  },
  {
   "cell_type": "markdown",
   "metadata": {},
   "source": [
    "For a metric of classification performance, I use accuracy score, which is the percentage of correct predictions out of the total number of predictions. I also inspect the confusion matrix from the cross-validated predictions. "
   ]
  },
  {
   "cell_type": "code",
   "execution_count": 24,
   "metadata": {},
   "outputs": [
    {
     "name": "stdout",
     "output_type": "stream",
     "text": [
      "Training accuracy: 0.919431279620853\n",
      "Cross-validation accuracy: 0.7632741585669531\n"
     ]
    },
    {
     "data": {
      "text/plain": [
       "array([[3136, 1870],\n",
       "       [1077, 6366]], dtype=int64)"
      ]
     },
     "execution_count": 24,
     "metadata": {},
     "output_type": "execute_result"
    }
   ],
   "source": [
    "# predict accuracy scores for both training and test sets\n",
    "print \"Training accuracy: %r\" % (accuracy_score(ytrain, prdstrn))\n",
    "print \"Cross-validation accuracy: %r\" % (accuracy_score(ytrain, prdscv))\n",
    "confusion_matrix(ytrain, prdscv)"
   ]
  },
  {
   "cell_type": "markdown",
   "metadata": {},
   "source": [
    "The default Naive Bayes algorithm has cross-validation accuracy of 76%."
   ]
  },
  {
   "cell_type": "markdown",
   "metadata": {},
   "source": [
    "Here I try a slightly different Bernoulli Naive Bayes classifier. Instead of a term frequency matrix, this algorithm takes as input a term occurrence matrix. Instead of a term count, the matrix values indicate whether the word was or was not in the critique. Often times this algorithm performs better with shorter documents. "
   ]
  },
  {
   "cell_type": "code",
   "execution_count": 25,
   "metadata": {},
   "outputs": [
    {
     "name": "stdout",
     "output_type": "stream",
     "text": [
      "Training accuracy: 0.8983050847457628\n",
      "Cross-validation accuracy: 0.745039762229898\n"
     ]
    },
    {
     "data": {
      "text/plain": [
       "array([[2850, 2156],\n",
       "       [1018, 6425]], dtype=int64)"
      ]
     },
     "execution_count": 25,
     "metadata": {},
     "output_type": "execute_result"
    }
   ],
   "source": [
    "# create a binary term matrix\n",
    "vectorizer = CountVectorizer(binary=True)\n",
    "xtrain_bin = vectorizer.fit_transform(dftrain['quote'])\n",
    "\n",
    "# set up Bernoulli model\n",
    "clf = BernoulliNB()\n",
    "prdscv = cross_val_predict(clf, xtrain_bin, ytrain, cv=skf)\n",
    "prdstrn = clf.fit(xtrain, ytrain).predict(xtrain)\n",
    "print \"Training accuracy: %r\" % (accuracy_score(ytrain, prdstrn))\n",
    "print \"Cross-validation accuracy: %r\" % (accuracy_score(ytrain, prdscv))\n",
    "confusion_matrix(ytrain, prdscv)"
   ]
  },
  {
   "cell_type": "markdown",
   "metadata": {},
   "source": [
    "The Bernoulli Naive Bayes model produces slightly lower cross-validation accuracy, at 74.3%. "
   ]
  },
  {
   "cell_type": "markdown",
   "metadata": {},
   "source": [
    "Since the standard Naive Bayes classifier performed better in cross-validation, I use this model to fit to the full training data, predict ratings on the test set, and examine accuracy of the test set predictions. "
   ]
  },
  {
   "cell_type": "code",
   "execution_count": 26,
   "metadata": {},
   "outputs": [
    {
     "name": "stdout",
     "output_type": "stream",
     "text": [
      "Test accuracy: 0.765745501285347\n"
     ]
    }
   ],
   "source": [
    "clf = BernoulliNB()\n",
    "clf.fit(xtrain, ytrain)\n",
    "prds_test = clf.predict(xtest)\n",
    "print \"Test accuracy: %r\" % (accuracy_score(ytest, prds_test))"
   ]
  },
  {
   "cell_type": "markdown",
   "metadata": {},
   "source": [
    "Accuracy on the 20% of ratings I held out is 76.6%, very similar to the cross-validation accuracy. "
   ]
  },
  {
   "cell_type": "markdown",
   "metadata": {},
   "source": [
    "### Examining Prediction Errors"
   ]
  },
  {
   "cell_type": "markdown",
   "metadata": {},
   "source": [
    "The standard naive bayes algorithm fit to the basic term frequency matrix misclassifies the review about 23% of the time. Inspecting some of the mistakes may help me decide how to improve on these results. \n",
    "\n",
    "Below I look at some of the biggest \"mistakes\" made by the model: true \"fresh\" ratings that were estimated to have low probabilities of \"fresh\", and true \"rotten\" ratings estimated to have a high probability of \"fresh\". "
   ]
  },
  {
   "cell_type": "code",
   "execution_count": 27,
   "metadata": {},
   "outputs": [],
   "source": [
    "# get estimated probabilities of \"fresh\" rating\n",
    "vectorizer = CountVectorizer()\n",
    "xtrain = vectorizer.fit_transform(dftrain['quote'])\n",
    "clf = MultinomialNB()\n",
    "probs = cross_val_predict(clf, xtrain, ytrain, cv=skf, method='predict_proba')[:, 1]"
   ]
  },
  {
   "cell_type": "code",
   "execution_count": 28,
   "metadata": {},
   "outputs": [],
   "source": [
    "# return indices of lowest \"fresh\" probability for true fresh ratings\n",
    "tfresh_protten = np.argsort(probs[ytrain==1])[0:5]\n",
    "# highest \"fresh\" probability for true rotten ratings\n",
    "trotten_pfresh = np.argsort(probs[ytrain==0])[-5:]"
   ]
  },
  {
   "cell_type": "code",
   "execution_count": 29,
   "metadata": {},
   "outputs": [
    {
     "name": "stdout",
     "output_type": "stream",
     "text": [
      "Rating is Fresh, Model Predicted it as Rotten\n",
      "---------------------------\n",
      "3e-05\n",
      "Still Breathing\n",
      "A gooey, swooning swatch of romantic hyperventilation, its queasy charms. And let it be said that surrendering to those charms could be as guilt-inducing as polishing off a pint of Haagen-Dazs chocolate ice cream before lunch.\n",
      "\n",
      "8e-05\n",
      "South Park: Bigger Longer & Uncut\n",
      "Certain, probably arrested, personalities (like mine) just find this kind of sh*t pretty funny and any attempt to talk your way around that is, as Cartman would say, blowing bubbles out your *ss.\n",
      "\n",
      "0.00014\n",
      "Nochnoy dozor\n",
      "Although it doesn't have Kate Beckinsale, her guns ablazin', vamped out in the latest vampire-slaying couture, Night Watch is vastly more fun than the similar-themed Underworld pics.\n",
      "\n",
      "0.00017\n",
      "Young Frankenstein\n",
      "Some of the gags don't work, but fewer than in any previous Brooks film that I've seen, and when the jokes are meant to be bad, they are riotously poor. What more can one ask of Mel Brooks?\n",
      "\n",
      "0.00029\n",
      "Trust the Man\n",
      "I saw this at a festival and hated it, then sat through it again a year later and decided it wasn't so bad, aside from the god-awful ending.\n",
      "\n"
     ]
    }
   ],
   "source": [
    "print(\"Rating is Fresh, Model Predicted it as Rotten\")\n",
    "print('---------------------------')\n",
    "for i in tfresh_protten:\n",
    "    print round(probs[ytrain==1][i], 5)\n",
    "    print dftrain[ytrain == 1].title.iloc[i]\n",
    "    print(dftrain[ytrain == 1].quote.iloc[i])\n",
    "    print(\"\")"
   ]
  },
  {
   "cell_type": "markdown",
   "metadata": {},
   "source": [
    "It's easy to see why the algorithm misclassified these \"fresh\" reviews as \"rotten\": they include many words that are most likely associated with rotten ratings, like \"queasy\", \"hated\", \"bad\", \"god-awful\", \"exploitative\", \"mess\", and \"ashamed\". "
   ]
  },
  {
   "cell_type": "code",
   "execution_count": 30,
   "metadata": {},
   "outputs": [
    {
     "name": "stdout",
     "output_type": "stream",
     "text": [
      "Rating is Rotten, Model Predicted it as Fresh\n",
      "---------------------------\n",
      "0.99993\n",
      "Across the Sea of Time\n",
      "Employing 3-D and PSE sound, then projected on a screen that suggests a small skyscraper, the new show at West Side Manhattan's Sony IMAX theater is, visually speaking, nothing but a clear day... but it definitely put me in scat-mode.\n",
      "\n",
      "0.99995\n",
      "The Waterboy\n",
      "The Waterboy is arguably Sandler's most enjoyable motion picture to date, but it's still far from a masterpiece.\n",
      "\n",
      "0.99998\n",
      "Pokémon: The First Movie\n",
      "This pacifist spirit of brotherhood echoes the heroics in Princess Mononoke and other anime titles, but the artistic gap between the Miyazaki masterpiece and this project is huge.\n",
      "\n",
      "0.99998\n",
      "King of New York\n",
      "Walken is one of the few undeniably charismatic male villains of recent years; he can generate a snakelike charm that makes his worst characters the most memorable, and here he operates on pure style.\n",
      "\n",
      "1.0\n",
      "Det sjunde inseglet\n",
      "It survives today only as an unusually pure example of a typical 50s art-film strategy: the attempt to make the most modern and most popular of art forms acceptable to the intelligentsia by forcing it into an arcane, antique mold.\n",
      "\n"
     ]
    }
   ],
   "source": [
    "print(\"Rating is Rotten, Model Predicted it as Fresh\")\n",
    "print('---------------------------')\n",
    "for i in trotten_pfresh:\n",
    "    print round(probs[ytrain==0][i], 5)\n",
    "    print dftrain[ytrain == 0].title.iloc[i]\n",
    "    print(dftrain[ytrain == 0].quote.iloc[i])\n",
    "    print(\"\")"
   ]
  },
  {
   "cell_type": "markdown",
   "metadata": {},
   "source": [
    "For these true \"rotten\" reviews predicted as fresh, I notice several words more commonly associated with positive reviews: \"lively\", \"profound\", \"enjoyable\", \"nicely\", \"popular\", and \"acceptable\"."
   ]
  },
  {
   "cell_type": "code",
   "execution_count": 31,
   "metadata": {},
   "outputs": [],
   "source": [
    "negwords = [\"queasy\", \"hated\", \"bad\", \"awful\", \"exploitative\", \"mess\", \"ashamed\"]\n",
    "poswords = [\"lively\", \"profound\", \"enjoyable\", \"nicely\", \"popular\", \"acceptable\"]"
   ]
  },
  {
   "cell_type": "markdown",
   "metadata": {},
   "source": [
    "To estiamte the probability of \"fresh\" from individual words, I create a 2-D matrix of all words in the vocabulary, with a 1 along the diagonal, 0's elswhere, and make predictions from this matrix. This is like predicting the probability of \"fresh\" if the review contained only one word. "
   ]
  },
  {
   "cell_type": "code",
   "execution_count": 32,
   "metadata": {},
   "outputs": [],
   "source": [
    "# fit the model to the training data\n",
    "clf.fit(xtrain, ytrain)\n",
    "\n",
    "# create the 2-d matrix for single word occurrence\n",
    "x = np.eye(xtrain.shape[1])\n",
    "\n",
    "# get probabilities predicted for single words\n",
    "probs = clf.predict_proba(x)[:, 1]"
   ]
  },
  {
   "cell_type": "code",
   "execution_count": 33,
   "metadata": {},
   "outputs": [],
   "source": [
    "# get the vocabulary\n",
    "words = np.array(vectorizer.get_feature_names())"
   ]
  },
  {
   "cell_type": "code",
   "execution_count": 34,
   "metadata": {},
   "outputs": [
    {
     "name": "stdout",
     "output_type": "stream",
     "text": [
      "queasy 0.37585973104125503\n",
      "hated 0.31897776817773715\n",
      "bad 0.28418084112860387\n",
      "awful 0.26729009598751186\n",
      "exploitative 0.4574315793100554\n",
      "mess 0.31631826483595005\n",
      "ashamed 0.5131111618552979\n"
     ]
    }
   ],
   "source": [
    "for w in negwords:\n",
    "    i = list(words).index(w)\n",
    "    print w, probs[i]"
   ]
  },
  {
   "cell_type": "markdown",
   "metadata": {},
   "source": [
    "Nearly all these words have probabilities below 0.50, meaning they typically predict a rotten rating. "
   ]
  },
  {
   "cell_type": "code",
   "execution_count": 35,
   "metadata": {},
   "outputs": [
    {
     "name": "stdout",
     "output_type": "stream",
     "text": [
      "lively 0.7759190347896087\n",
      "profound 0.6930881725587438\n",
      "enjoyable 0.8326792899122243\n",
      "nicely 0.7980598958647901\n",
      "popular 0.8289938160629914\n",
      "acceptable 0.5131111618552979\n"
     ]
    }
   ],
   "source": [
    "for w in poswords:\n",
    "    i = list(words).index(w)\n",
    "    print w, probs[i]"
   ]
  },
  {
   "cell_type": "markdown",
   "metadata": {},
   "source": [
    "All have probabilities above 0.50, meaning they're associated with fresh ratings. "
   ]
  },
  {
   "cell_type": "markdown",
   "metadata": {},
   "source": [
    "These errors illustrate the limitations of the \"bag-of-words\" approach that I used. Each word is considered in isolation, without consideration of the language or context around the word. However, a human understanding of language considers that the interpretation of a review may take on a different sentiment than the sum of its individual parts."
   ]
  },
  {
   "cell_type": "markdown",
   "metadata": {},
   "source": [
    "## Summary and Next Steps"
   ]
  },
  {
   "cell_type": "markdown",
   "metadata": {},
   "source": [
    "I've demonstrated how to convert movie review text into numeric data for use as features for classification algorithms. I tested two versions of the Naive Bayes classifier to predict movie ratings from review text, with the standard Naive Bayes classifier predicting the rating with 76% accuracy. \n",
    "\n",
    "By inspecting some predictions that were both highly confident and incorrect, I've also identified areas for potential improvement. Some \"Fresh\" reviews contained words that are strongly identified with \"Rotten\" ratings, and vice versa. \n",
    "\n",
    "As a follow-up to this project, I can try to improve the classification accuracy, by testing different feature selection approaches, selecting and fine-tuning different classification algorithms, or some combination of both. "
   ]
  }
 ],
 "metadata": {
  "anaconda-cloud": {},
  "kernelspec": {
   "display_name": "Python 2",
   "language": "python",
   "name": "python2"
  },
  "language_info": {
   "codemirror_mode": {
    "name": "ipython",
    "version": 2
   },
   "file_extension": ".py",
   "mimetype": "text/x-python",
   "name": "python",
   "nbconvert_exporter": "python",
   "pygments_lexer": "ipython2",
   "version": "2.7.15"
  }
 },
 "nbformat": 4,
 "nbformat_minor": 1
}
