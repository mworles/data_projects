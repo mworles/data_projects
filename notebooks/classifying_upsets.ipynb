{
 "cells": [
  {
   "cell_type": "markdown",
   "metadata": {},
   "source": [
    "# Classifying college basketball tournament upsets with machine learning\n",
    "In this notebook I perform exploratory analyses and machine learning on a dataset of 14 years of men's college basketball tournament games, from 2002 to 2016. The goal is to build a classification model to predict upsets in future games. \n",
    "\n",
    "### The definition of an \"upset\"\n",
    "In sports terminology, an \"upset\" occurs when the team that's expected to lose (aka the \"underdog\") wins a game. Upsets happen across all sports, but the annual tournament for the men's college basketball championship is famous for them, for a few different reasons: \n",
    "- **The single-elimination format**. Win and advance, or lose and your season is over. The stakes of each game are incredibly high, which adds extra shock value to the major upsets. \n",
    "- **Bids from all conferences**. The champions of 34 conferences receive an invite to the tournament, and remaining slots are filled with at-large invites. Because of this \"equal opportunity\" format, many games feature smaller schools with less resources against powerhouse programs with future NBA stars. In most sports, the playoffs feature only the most elite teams, so the college hoops tournament is unique for its wealth of upset opportunities.  \n",
    "- **Neutral game locations**. Games are played in neutral arenas around the country, not in any team's home gym. The absence of a \"true\" home court advantage creates a more even playing field. And if an underdog can keep the score close, fans in the arena will often end up pulling for the upset. \n",
    "\n",
    "### Motivation: The value of accurate upset prediction\n",
    "By definition, upsets are events that are considered unlikely to happen. But underdogs still win relatively often, about 20% of the time, and every year a few highly-ranked teams lose earlier than expected. Accurate upset forecasts are useful for millons of fans who fill out tournament brackets each year. Accurate upset prediction predictions are also valuable for sports gambling, because correct bets on underdogs typically provide a higher rate of return than bets on favored teams. "
   ]
  },
  {
   "cell_type": "markdown",
   "metadata": {},
   "source": [
    "## Introduction\n",
    "In my previous work on this project I acquired the data, performed data cleaning, and did some feature engineering operations. These steps produced a dataset of tournament games from 1985 to 2016, with the winner of each game and 80 features for both teams. In this notebook I use this data to build a model for predicting future upsets. \n",
    "\n",
    "First I import several packages and tools for data manipulation and analysis. "
   ]
  },
  {
   "cell_type": "code",
   "execution_count": 1,
   "metadata": {},
   "outputs": [],
   "source": [
    "# for data importing and wrangling\n",
    "import pandas as pd\n",
    "import numpy as np\n",
    "\n",
    "# for data processing, model training, and scoring\n",
    "from sklearn.model_selection import cross_val_score, cross_val_predict, StratifiedKFold\n",
    "from sklearn.model_selection import GridSearchCV, RandomizedSearchCV\n",
    "from sklearn.metrics import (f1_score, accuracy_score, confusion_matrix, roc_auc_score,\n",
    "                             precision_score, recall_score, precision_recall_curve)\n",
    "from sklearn.preprocessing import StandardScaler\n",
    "\n",
    "# classification algorithms\n",
    "from sklearn.linear_model import LogisticRegression\n",
    "import statsmodels.api as sm\n",
    "\n",
    "# for random grid search\n",
    "from scipy.stats import uniform as sp_uniform"
   ]
  },
  {
   "cell_type": "markdown",
   "metadata": {},
   "source": [
    "I also set some display and plot preferences for the notebook. "
   ]
  },
  {
   "cell_type": "code",
   "execution_count": 2,
   "metadata": {},
   "outputs": [],
   "source": [
    "# plot tools and preferences\n",
    "import matplotlib.pyplot as plt\n",
    "%matplotlib inline\n",
    "import seaborn as sns\n",
    "plt.style.use('ggplot')\n",
    "\n",
    "# create a list of colors from matplotlib ggplot style\n",
    "colors = []\n",
    "for j, c in zip(range(8), plt.rcParams['axes.prop_cycle']):\n",
    "    colors.append((j, c)[1].get('color'))\n",
    "gg_blue = colors[1]\n",
    "gg_red = colors[0]\n",
    "\n",
    "# remove display limits\n",
    "pd.set_option('display.max_columns', None)\n",
    "pd.set_option('display.max_rows', None)\n",
    "\n",
    "# use future division to show percentages\n",
    "from __future__ import division"
   ]
  },
  {
   "cell_type": "markdown",
   "metadata": {
    "collapsed": true
   },
   "source": [
    "## Data preparation\n",
    "\n",
    "To begin data preparation, I import the data. I also remove rows with missing data on the features, which I know includes years prior to 2002. The classification algorithms I use don't allow missing data. Another option would be to impute the missing data, but to estblish a baseline level of upset prediction performance, I chose the simpler approach of using complete data.  "
   ]
  },
  {
   "cell_type": "code",
   "execution_count": 3,
   "metadata": {},
   "outputs": [],
   "source": [
    "# import the data\n",
    "df = pd.read_csv('../data/ncaa/matchups.csv')\n",
    "# select years with complete data, 2003 and above\n",
    "df = df[df.season >= 2003]"
   ]
  },
  {
   "cell_type": "markdown",
   "metadata": {},
   "source": [
    "### Select games relevant for upset prediction\n",
    "The dataset includes all tournament games from 2003 to 2016. Because the end goal is to create a model specifically for predicting upsets, I will only use games where there is a clear favorite and underdog. One way to determine this would be to use Vegas odds or point spreads, but a reasonable shortcut is to use the team seeds. Before the tournament begins, each team is assigned a \"seed\" to indicate their ranking, from 1 (best) to 16 (worst). A win by a team with a much higher numerical seed than their opponent typically qualifies as an upset.\n",
    "\n",
    "To create a dataset of relevant games, I selected games between teams with a seed difference of at least 4, such as 1-seed vs 5-seed, 2-seed vs 6-seed, 3-seed vs 7-seed, and so on. The dataset already includes this information, in a numeric column that contains the teams' seed difference, and a dichotomous column that indicates whether the seed difference is at least 4. \n",
    "\n",
    "Below I verify that the upset-potential games only include the games with at-least a 4-point seed difference. "
   ]
  },
  {
   "cell_type": "code",
   "execution_count": 4,
   "metadata": {},
   "outputs": [
    {
     "data": {
      "text/html": [
       "<div>\n",
       "<style scoped>\n",
       "    .dataframe tbody tr th:only-of-type {\n",
       "        vertical-align: middle;\n",
       "    }\n",
       "\n",
       "    .dataframe tbody tr th {\n",
       "        vertical-align: top;\n",
       "    }\n",
       "\n",
       "    .dataframe thead th {\n",
       "        text-align: right;\n",
       "    }\n",
       "</style>\n",
       "<table border=\"1\" class=\"dataframe\">\n",
       "  <thead>\n",
       "    <tr style=\"text-align: right;\">\n",
       "      <th></th>\n",
       "      <th>count</th>\n",
       "      <th>mean</th>\n",
       "      <th>std</th>\n",
       "      <th>min</th>\n",
       "      <th>25%</th>\n",
       "      <th>50%</th>\n",
       "      <th>75%</th>\n",
       "      <th>max</th>\n",
       "    </tr>\n",
       "    <tr>\n",
       "      <th>upsetpot</th>\n",
       "      <th></th>\n",
       "      <th></th>\n",
       "      <th></th>\n",
       "      <th></th>\n",
       "      <th></th>\n",
       "      <th></th>\n",
       "      <th></th>\n",
       "      <th></th>\n",
       "    </tr>\n",
       "  </thead>\n",
       "  <tbody>\n",
       "    <tr>\n",
       "      <th>0</th>\n",
       "      <td>330.0</td>\n",
       "      <td>1.633333</td>\n",
       "      <td>1.097986</td>\n",
       "      <td>0.0</td>\n",
       "      <td>1.0</td>\n",
       "      <td>1.0</td>\n",
       "      <td>3.0</td>\n",
       "      <td>3.0</td>\n",
       "    </tr>\n",
       "    <tr>\n",
       "      <th>1</th>\n",
       "      <td>584.0</td>\n",
       "      <td>8.636986</td>\n",
       "      <td>3.289111</td>\n",
       "      <td>4.0</td>\n",
       "      <td>6.0</td>\n",
       "      <td>8.0</td>\n",
       "      <td>11.0</td>\n",
       "      <td>15.0</td>\n",
       "    </tr>\n",
       "  </tbody>\n",
       "</table>\n",
       "</div>"
      ],
      "text/plain": [
       "          count      mean       std  min  25%  50%   75%   max\n",
       "upsetpot                                                      \n",
       "0         330.0  1.633333  1.097986  0.0  1.0  1.0   3.0   3.0\n",
       "1         584.0  8.636986  3.289111  4.0  6.0  8.0  11.0  15.0"
      ]
     },
     "execution_count": 4,
     "metadata": {},
     "output_type": "execute_result"
    }
   ],
   "source": [
    "# to verify minimum seed difference for \"upset-potential\" group\n",
    "df.groupby('upsetpot')['seedif'].describe()"
   ]
  },
  {
   "cell_type": "markdown",
   "metadata": {},
   "source": [
    "For rows where \"upsetpot\" equals 1, the minimum seed difference is indeed 4. \n",
    "\n",
    "By selecting these rows, I keep only the upset-potential games in the dataset. I also remove some other irrelevant columns.  "
   ]
  },
  {
   "cell_type": "code",
   "execution_count": 5,
   "metadata": {},
   "outputs": [],
   "source": [
    "# to train only on games meeting the upset-potential criteria\n",
    "df = df[df['upsetpot'] == 1]\n",
    "# remove some irrelevant features\n",
    "df = df.drop(['upsetpot', 'rnd', 'seedif', 'daynum', \n",
    "              'win_t2', 't1_team_id', 't2_team_id'], axis=1)"
   ]
  },
  {
   "cell_type": "markdown",
   "metadata": {},
   "source": [
    "## Creating a training set and test set\n",
    "My plan is to train a classification model using 80% of the data as a training set, and test the performance of the model using the remaining 20% as a test set. By \"holding out\" the test set during the model training and tuning process, I can use the test set later to estimate the model's performance on future, unseen data. \n",
    "\n",
    "A popular way to perform a train-test split is to split the data randomly, but I believe that isn't the best choice for this dataset, because examples are related to each other. The same team can have multiple games in the dataset. With a random split, I could end up with the same team having examples in the training and test set, which would bias the model performance on the test set.\n",
    "\n",
    "For this reason, I split the data chronologically, by placing the most recent ~20% of games in the test set. By training on games that occured first in chronological order, and testing on games that occurred later, I will also train and test the model using a similar method to the way it would be trained and deployed in practice. "
   ]
  },
  {
   "cell_type": "markdown",
   "metadata": {},
   "source": [
    "To determine where to split the data, I examine the proportion of the data that would be split into the training set for each year. "
   ]
  },
  {
   "cell_type": "code",
   "execution_count": 6,
   "metadata": {},
   "outputs": [
    {
     "data": {
      "text/plain": [
       "season\n",
       "2003    0.070205\n",
       "2004    0.140411\n",
       "2005    0.214041\n",
       "2006    0.291096\n",
       "2007    0.357877\n",
       "2008    0.424658\n",
       "2009    0.488014\n",
       "2010    0.565068\n",
       "2011    0.636986\n",
       "2012    0.705479\n",
       "2013    0.777397\n",
       "2014    0.852740\n",
       "2015    0.924658\n",
       "2016    1.000000\n",
       "Name: upset, dtype: float64"
      ]
     },
     "execution_count": 6,
     "metadata": {},
     "output_type": "execute_result"
    }
   ],
   "source": [
    "# group by season, count games, get cumulative sum\n",
    "# get percentile of all games occurring by end of each season\n",
    "df.groupby(['season'])['upset'].count().cumsum() / df.shape[0]"
   ]
  },
  {
   "cell_type": "markdown",
   "metadata": {},
   "source": [
    "The games occuring from 2003-2013 contain 78% of the examples, so I use those games as training set, and the games from 2014-2016 as the test set. To mark the examples as in the training or test set, I create a boolean (True/False) vector. "
   ]
  },
  {
   "cell_type": "code",
   "execution_count": 7,
   "metadata": {},
   "outputs": [],
   "source": [
    "# create boolean to indicate if row is in test set\n",
    "test_set = df['season'] > 2013\n",
    "# remove season from the data\n",
    "df = df.drop('season', axis=1)"
   ]
  },
  {
   "cell_type": "markdown",
   "metadata": {},
   "source": [
    "Now that I have a vector that marks the training and test set examples, I use it to create separate vectors of the \"upset\" target for the training and test sets. I also remove the \"upset\" column from the game data, so the remaining columns includes only predictive features for the two teams in the matchup."
   ]
  },
  {
   "cell_type": "code",
   "execution_count": 8,
   "metadata": {},
   "outputs": [],
   "source": [
    "# create separate vectors of upset labels for training and test set\n",
    "y_test = df[test_set]['upset'].values\n",
    "y_train = df[~test_set]['upset'].values\n",
    "# remove upset column from data\n",
    "df = df.drop('upset', axis=1)"
   ]
  },
  {
   "cell_type": "markdown",
   "metadata": {},
   "source": [
    "Through a prior data exploration and visualization project, I have a list of 20 features I want to include in the next phase of the analysis. Here I subset the features data to include only these features. "
   ]
  },
  {
   "cell_type": "code",
   "execution_count": 9,
   "metadata": {},
   "outputs": [],
   "source": [
    "# list of strings that are suffixes for the features to include\n",
    "feat_suff = ['seed', 'adjoe', 'adjde', 'em', 'dist', 'texp', 'orbtomarg', 'sos',\n",
    "            'cvisits', 'cfar']\n",
    "\n",
    "# feature names are the suffix strings preceded by either 't1_' or 't2_'\n",
    "feat_list = ['t1_' + x for x in feat_suff] + ['t2_' + x for x in feat_suff]\n",
    "\n",
    "# retain only the features on the list in the dataset\n",
    "df = df[feat_list]"
   ]
  },
  {
   "cell_type": "markdown",
   "metadata": {},
   "source": [
    "As I did with the \"upset\" target variable, I split the features into training and test sets. Because some of the features have much larger values than others, I also standardize all of the features to a similar scale, to prevent large differences in scale between features from having an impact on the model. "
   ]
  },
  {
   "cell_type": "code",
   "execution_count": 10,
   "metadata": {},
   "outputs": [],
   "source": [
    "# initialize object to scale features\n",
    "sc = StandardScaler()\n",
    "\n",
    "# fit the scaler object using the training set\n",
    "# values converted to float type for the scaler conversion\n",
    "x_train = sc.fit_transform(df[~test_set].astype(float))\n",
    "\n",
    "# transform test set using training set parameters\n",
    "x_test = sc.transform(df[test_set].astype(float))"
   ]
  },
  {
   "cell_type": "code",
   "execution_count": 11,
   "metadata": {},
   "outputs": [
    {
     "name": "stdout",
     "output_type": "stream",
     "text": [
      "shape of training set features\n",
      "(454L, 20L)\n",
      "number of training set targets\n",
      "454\n",
      "shape of test set features\n",
      "(130L, 20L)\n",
      "number of test set targets\n",
      "130\n"
     ]
    }
   ],
   "source": [
    "# print size of training and test sets\n",
    "print 'shape of training set features'\n",
    "print x_train.shape\n",
    "print 'number of training set targets'\n",
    "print len(y_train)\n",
    "print 'shape of test set features'\n",
    "print x_test.shape\n",
    "print 'number of test set targets'\n",
    "print len(y_test)"
   ]
  },
  {
   "cell_type": "markdown",
   "metadata": {},
   "source": [
    "Now that the features and labels have been separated into training and test sets, I'm ready to use the training set to start exploring the features and building a classification model.  "
   ]
  },
  {
   "cell_type": "markdown",
   "metadata": {},
   "source": [
    "## Exploring features for the model\n",
    "\n",
    "The features data includes 10 numeric features on each underdog and favorite involved the game. Half of these features are computed from the team's performance during the season leading up to the championship tournament. \n",
    "\n",
    "- **Scoring margin:** The average amount that a team outscores their opponents, adjusted for pace and opponents.\n",
    "- **Offensive rebound & turnover margins:** Average advantage in offensive rebounds + turnovers compared to opponents, which is an indicator of a team's \"extra\" opportunities to score. \n",
    "- **Strength of schedule:** An index of the difficulty of opponents that a team played during the season.\n",
    "- **Offensive efficiency:** Points per game scored on offense, adjusted for pace and opponents.\n",
    "- **Defensive efficiency:** Points per game allowed on defense, adjusted for pace and opponents.\n",
    "\n",
    "The remaining half of the features measure the players' and coach's previous tournament experience, or other aspects of the team's tournament matchup. \n",
    "- **Coach success**: An index of the coach's maximum level of success in any prior championship tournament.\n",
    "- **Coach experience**: An index of the coach's cumulative amount of tournament experience. \n",
    "- **Player experience**: An index of the total amount of previous tournament experience for the team's players. \n",
    "- **Team Seed**: The ranking assigned to the team prior to the tournament, from 1 (best) to 16 (worst). \n",
    "- **Travel distance**: Distance (in miles) from the team's home campus to the game. "
   ]
  },
  {
   "cell_type": "markdown",
   "metadata": {},
   "source": [
    "### Examining correlations between features\n",
    "\n",
    "Below I create a function to plot a heat map of the feature correlation matrix to examine the degree of association between the features in this dataset. The function allows me to plot the correlation matrix separately for favorites and underdogs. "
   ]
  },
  {
   "cell_type": "code",
   "execution_count": 12,
   "metadata": {},
   "outputs": [],
   "source": [
    "# create a dictionary of feature labels for plots\n",
    "feat_dict = {'seed': \"Team Seed\",\n",
    "             'adjoe': 'Offensive Efficiency',\n",
    "             'adjde': 'Defensive Efficiency',\n",
    "             'em': 'Scoring Margin',\n",
    "             'dist': 'Travel Distance',\n",
    "             'texp': 'Player Experience',\n",
    "             'orbtomarg': 'ORB+TO Margin',\n",
    "             'sos': 'Strength of Schedule',\n",
    "             'cvisits': 'Coach Experience',\n",
    "             'cfar': 'Coach Success'}\n",
    "\n",
    "# function to plot team correlation matrix\n",
    "def plot_team_correlations(team_prefix):\n",
    "    tp = team_prefix + '_'\n",
    "    features_team = [x for x in feat_list if tp in x]\n",
    "    # indices of t1 or t2 features, used to select columns in feature matrix\n",
    "    features_team_ix = [feat_list.index(x) for x in features_team]\n",
    "    # select columns in the training data, using features indices\n",
    "    x_train_team= x_train[:, features_team_ix]\n",
    "    \n",
    "    # create a dataframe from features for correlation matrix\n",
    "    df_heat_team = pd.DataFrame(x_train_team, columns=features_team)\n",
    "    # rename columns to the feature labels\n",
    "    df_heat_team.columns = feat_suff\n",
    "    for col in list(df_heat_team.columns):\n",
    "        df_heat_team = df_heat_team.rename(columns={col: feat_dict[col]})\n",
    "    corrmat_team = df_heat_team.corr()\n",
    "    \n",
    "    # plot figure of correlation matrix\n",
    "    plt.figure(figsize=(9, 9))\n",
    "    ax = plt.axes()\n",
    "    ax.tick_params(labelsize=12)\n",
    "    sns.set(font_scale=0.8)\n",
    "    sns.heatmap(corrmat_team, square=True, cmap = 'coolwarm')\n",
    "    \n",
    "    # depending on team_prefix, label plot as favorite or underdog\n",
    "    tp_title = 'Favorite'\n",
    "    if team_prefix == 't2':\n",
    "        tp_title = \"Underdog\"\n",
    "    plot_title = \"%s feature correlations\" % (tp_title)\n",
    "    plt.title(plot_title, size=14)\n",
    "    plt.show()"
   ]
  },
  {
   "cell_type": "markdown",
   "metadata": {},
   "source": [
    "In these plots, blue grids indicate negative correlations and red grids indicate positive correlations, with darker colors indicative of stronger correlations. "
   ]
  },
  {
   "cell_type": "code",
   "execution_count": 13,
   "metadata": {},
   "outputs": [
    {
     "data": {
      "image/png": "[encoded data removed]",
      "text/plain": [
       "<Figure size 648x648 with 2 Axes>"
      ]
     },
     "metadata": {},
     "output_type": "display_data"
    },
    {
     "data": {
      "image/png": "[encoded data removed]",
      "text/plain": [
       "<Figure size 648x648 with 2 Axes>"
      ]
     },
     "metadata": {},
     "output_type": "display_data"
    }
   ],
   "source": [
    "# plot correlation matrix\n",
    "# favorites\n",
    "plot_team_correlations('t1')\n",
    "# underdogs\n",
    "plot_team_correlations('t2')"
   ]
  },
  {
   "cell_type": "markdown",
   "metadata": {},
   "source": [
    "Some of the strongest correlations are expected, due to the features representing similar constructs.\n",
    "- Each team's margin is positively correlated with their offense and negatively correlated with their defense. This is expected since teams with higher margins have offenses that score more points and/or defenses that allow fewer points. \n",
    "- Schedule (a measure of schedule difficulty) is positively correlated with offense and margin, and negatively correlated with defense for underdogs. Schedule strength factors into the calculation of these metrics, so it makes sense that teams with more extreme values on strength of schedule would also have more extreme values on these metrics.  \n",
    "- Margins are negatively correlated with seed, which fits the expectation that teams who win by more points receive more favorable seeds for the tournament.\n",
    "\n",
    "Other interesting observations:\n",
    "- The positive correlation between underdog schedule and margin shows that underdogs who schedule tougher opponents during the regular season also outscore their opponents by greater amounts. Many tournament \"underdogs\" are the dominant teams from small or mid-major conferences who also make it a point to scheudle a few tougher opponents during the season. \n",
    "- The positive correlation between underdog coach features (experience & success) and strength of schedule suggests that coaches with previous success in the tournament may push their teams to schedule tougher opponents during the season. Or, it may just mean these coaches tend to coach in conferences with better teams overall. "
   ]
  },
  {
   "cell_type": "markdown",
   "metadata": {},
   "source": [
    "### Associations between single features and upsets\n",
    "One viable strategy for feature selection is to examine \"univariate\" models where each feature is tested as the only feature in the model. To examine the associations between features and upsets, I'll use logistic regression, which can be used to model a dichotomous outcome from one or more numeric features.\n",
    "\n",
    "First I define two functions, one to return classification scores that indicate how well each single-feature model predicts upsets, and another to estimate the logistic regression from a single feature and return model results. For each model I obtain the odds ratio and p-value for the feature, along with the classification scores."
   ]
  },
  {
   "cell_type": "code",
   "execution_count": 14,
   "metadata": {},
   "outputs": [],
   "source": [
    "# function to return classification scores from model predictions\n",
    "def get_scores(y_true, y_pred):\n",
    "    scores = []\n",
    "    scores.append(accuracy_score(y_true, y_pred))\n",
    "    scores.append(precision_score(y_true, y_pred))\n",
    "    scores.append(recall_score(y_true, y_pred))\n",
    "    scores.append(f1_score(y_true, y_pred))\n",
    "    scores_rounded = map(lambda x: round(x, 2), scores)\n",
    "    return scores_rounded\n",
    "\n",
    "# function to classify upsets from a single feature\n",
    "def model_univariate(feature):\n",
    "    # get index of feature to select column in data\n",
    "    feature_ix = feat_list.index(feature)\n",
    "    # set up and fit model to training set upsets using single feature\n",
    "    logit = sm.Logit(y_train, x_train[:, feature_ix])\n",
    "    result = logit.fit(disp=False)\n",
    "    # predict probability of upset using fit model\n",
    "    prob = result.predict(x_train[:, feature_ix])\n",
    "    threshold = 0.5\n",
    "    # predict dichotomous upset target from probabilities\n",
    "    preds = np.array(prob > threshold, dtype=float)\n",
    "    \n",
    "    # to label results\n",
    "    if 't1_' in feature:\n",
    "        feature_name = \"Favorite \" + feat_dict[feature[3:]]\n",
    "    elif 't2_' in feature:\n",
    "        feature_name = 'Underdog ' + feat_dict[feature[3:]]\n",
    "    else:\n",
    "        feature_name = feat_dict[feature]\n",
    "    odds_ratio = round(np.exp(result.params), 2)\n",
    "    p_val = round(result.pvalues, 3)\n",
    "    # list of results for single-feature model\n",
    "    model_data = [feature_name, odds_ratio, p_val]\n",
    "    # add scores to list of results\n",
    "    model_data.extend(get_scores(y_train, preds))\n",
    "    return model_data"
   ]
  },
  {
   "cell_type": "markdown",
   "metadata": {},
   "source": [
    "Here I repeat the single-feature model function for each feature and create a dataframe of the results."
   ]
  },
  {
   "cell_type": "code",
   "execution_count": 15,
   "metadata": {},
   "outputs": [],
   "source": [
    "# iterate the single-feature model function over the list of features\n",
    "results = map(lambda x: model_univariate(x), feat_list)\n",
    "\n",
    "# create dataframe with column labels to match the lists of results\n",
    "results_columns = ['feature', 'odds_ratio', 'p_value', 'accuracy', 'precision', 'recall',\n",
    "                   'f1']\n",
    "df_results = pd.DataFrame(results, columns=results_columns)"
   ]
  },
  {
   "cell_type": "markdown",
   "metadata": {},
   "source": [
    "To view the results, I sort them by the estimated odds ratio for each feature, from lowest to highest.  \n",
    "Features with an odds ratio below 1 have a negative association with upsets, where higher feature values indicate less probability of an upset.  \n",
    "Features with an odds ratio above 1 have a positive association with upsets, where higher feature values indicate greater probability of an upset.  \n",
    "For all the odds ratios, greater distance from 1 implies a stronger positive or negative association with upsets. "
   ]
  },
  {
   "cell_type": "code",
   "execution_count": 16,
   "metadata": {},
   "outputs": [
    {
     "data": {
      "text/html": [
       "<div>\n",
       "<style scoped>\n",
       "    .dataframe tbody tr th:only-of-type {\n",
       "        vertical-align: middle;\n",
       "    }\n",
       "\n",
       "    .dataframe tbody tr th {\n",
       "        vertical-align: top;\n",
       "    }\n",
       "\n",
       "    .dataframe thead th {\n",
       "        text-align: right;\n",
       "    }\n",
       "</style>\n",
       "<table border=\"1\" class=\"dataframe\">\n",
       "  <thead>\n",
       "    <tr style=\"text-align: right;\">\n",
       "      <th></th>\n",
       "      <th>feature</th>\n",
       "      <th>odds_ratio</th>\n",
       "      <th>p_value</th>\n",
       "      <th>accuracy</th>\n",
       "      <th>precision</th>\n",
       "      <th>recall</th>\n",
       "      <th>f1</th>\n",
       "    </tr>\n",
       "  </thead>\n",
       "  <tbody>\n",
       "    <tr>\n",
       "      <th>3</th>\n",
       "      <td>Favorite Scoring Margin</td>\n",
       "      <td>0.65</td>\n",
       "      <td>0.000</td>\n",
       "      <td>0.56</td>\n",
       "      <td>0.28</td>\n",
       "      <td>0.71</td>\n",
       "      <td>0.40</td>\n",
       "    </tr>\n",
       "    <tr>\n",
       "      <th>6</th>\n",
       "      <td>Favorite ORB+TO Margin</td>\n",
       "      <td>0.70</td>\n",
       "      <td>0.000</td>\n",
       "      <td>0.57</td>\n",
       "      <td>0.27</td>\n",
       "      <td>0.67</td>\n",
       "      <td>0.39</td>\n",
       "    </tr>\n",
       "    <tr>\n",
       "      <th>12</th>\n",
       "      <td>Underdog Defensive Efficiency</td>\n",
       "      <td>0.75</td>\n",
       "      <td>0.003</td>\n",
       "      <td>0.53</td>\n",
       "      <td>0.26</td>\n",
       "      <td>0.68</td>\n",
       "      <td>0.37</td>\n",
       "    </tr>\n",
       "    <tr>\n",
       "      <th>7</th>\n",
       "      <td>Favorite Strength of Schedule</td>\n",
       "      <td>0.75</td>\n",
       "      <td>0.004</td>\n",
       "      <td>0.60</td>\n",
       "      <td>0.28</td>\n",
       "      <td>0.59</td>\n",
       "      <td>0.38</td>\n",
       "    </tr>\n",
       "    <tr>\n",
       "      <th>1</th>\n",
       "      <td>Favorite Offensive Efficiency</td>\n",
       "      <td>0.77</td>\n",
       "      <td>0.006</td>\n",
       "      <td>0.57</td>\n",
       "      <td>0.27</td>\n",
       "      <td>0.63</td>\n",
       "      <td>0.37</td>\n",
       "    </tr>\n",
       "    <tr>\n",
       "      <th>9</th>\n",
       "      <td>Favorite Coach Success</td>\n",
       "      <td>0.80</td>\n",
       "      <td>0.018</td>\n",
       "      <td>0.57</td>\n",
       "      <td>0.26</td>\n",
       "      <td>0.58</td>\n",
       "      <td>0.36</td>\n",
       "    </tr>\n",
       "    <tr>\n",
       "      <th>10</th>\n",
       "      <td>Underdog Team Seed</td>\n",
       "      <td>0.80</td>\n",
       "      <td>0.019</td>\n",
       "      <td>0.59</td>\n",
       "      <td>0.26</td>\n",
       "      <td>0.56</td>\n",
       "      <td>0.36</td>\n",
       "    </tr>\n",
       "    <tr>\n",
       "      <th>5</th>\n",
       "      <td>Favorite Player Experience</td>\n",
       "      <td>0.82</td>\n",
       "      <td>0.039</td>\n",
       "      <td>0.49</td>\n",
       "      <td>0.24</td>\n",
       "      <td>0.66</td>\n",
       "      <td>0.35</td>\n",
       "    </tr>\n",
       "    <tr>\n",
       "      <th>8</th>\n",
       "      <td>Favorite Coach Experience</td>\n",
       "      <td>0.86</td>\n",
       "      <td>0.117</td>\n",
       "      <td>0.52</td>\n",
       "      <td>0.25</td>\n",
       "      <td>0.67</td>\n",
       "      <td>0.36</td>\n",
       "    </tr>\n",
       "    <tr>\n",
       "      <th>14</th>\n",
       "      <td>Underdog Travel Distance</td>\n",
       "      <td>1.00</td>\n",
       "      <td>0.995</td>\n",
       "      <td>0.56</td>\n",
       "      <td>0.22</td>\n",
       "      <td>0.45</td>\n",
       "      <td>0.29</td>\n",
       "    </tr>\n",
       "    <tr>\n",
       "      <th>18</th>\n",
       "      <td>Underdog Coach Experience</td>\n",
       "      <td>1.01</td>\n",
       "      <td>0.927</td>\n",
       "      <td>0.58</td>\n",
       "      <td>0.21</td>\n",
       "      <td>0.37</td>\n",
       "      <td>0.26</td>\n",
       "    </tr>\n",
       "    <tr>\n",
       "      <th>19</th>\n",
       "      <td>Underdog Coach Success</td>\n",
       "      <td>1.06</td>\n",
       "      <td>0.563</td>\n",
       "      <td>0.56</td>\n",
       "      <td>0.22</td>\n",
       "      <td>0.45</td>\n",
       "      <td>0.30</td>\n",
       "    </tr>\n",
       "    <tr>\n",
       "      <th>15</th>\n",
       "      <td>Underdog Player Experience</td>\n",
       "      <td>1.09</td>\n",
       "      <td>0.379</td>\n",
       "      <td>0.56</td>\n",
       "      <td>0.21</td>\n",
       "      <td>0.43</td>\n",
       "      <td>0.28</td>\n",
       "    </tr>\n",
       "    <tr>\n",
       "      <th>4</th>\n",
       "      <td>Favorite Travel Distance</td>\n",
       "      <td>1.13</td>\n",
       "      <td>0.190</td>\n",
       "      <td>0.61</td>\n",
       "      <td>0.27</td>\n",
       "      <td>0.51</td>\n",
       "      <td>0.35</td>\n",
       "    </tr>\n",
       "    <tr>\n",
       "      <th>11</th>\n",
       "      <td>Underdog Offensive Efficiency</td>\n",
       "      <td>1.23</td>\n",
       "      <td>0.031</td>\n",
       "      <td>0.50</td>\n",
       "      <td>0.22</td>\n",
       "      <td>0.58</td>\n",
       "      <td>0.32</td>\n",
       "    </tr>\n",
       "    <tr>\n",
       "      <th>2</th>\n",
       "      <td>Favorite Defensive Efficiency</td>\n",
       "      <td>1.28</td>\n",
       "      <td>0.009</td>\n",
       "      <td>0.57</td>\n",
       "      <td>0.25</td>\n",
       "      <td>0.57</td>\n",
       "      <td>0.35</td>\n",
       "    </tr>\n",
       "    <tr>\n",
       "      <th>16</th>\n",
       "      <td>Underdog ORB+TO Margin</td>\n",
       "      <td>1.28</td>\n",
       "      <td>0.010</td>\n",
       "      <td>0.54</td>\n",
       "      <td>0.26</td>\n",
       "      <td>0.66</td>\n",
       "      <td>0.37</td>\n",
       "    </tr>\n",
       "    <tr>\n",
       "      <th>17</th>\n",
       "      <td>Underdog Strength of Schedule</td>\n",
       "      <td>1.38</td>\n",
       "      <td>0.001</td>\n",
       "      <td>0.58</td>\n",
       "      <td>0.28</td>\n",
       "      <td>0.69</td>\n",
       "      <td>0.40</td>\n",
       "    </tr>\n",
       "    <tr>\n",
       "      <th>13</th>\n",
       "      <td>Underdog Scoring Margin</td>\n",
       "      <td>1.40</td>\n",
       "      <td>0.001</td>\n",
       "      <td>0.52</td>\n",
       "      <td>0.27</td>\n",
       "      <td>0.77</td>\n",
       "      <td>0.40</td>\n",
       "    </tr>\n",
       "    <tr>\n",
       "      <th>0</th>\n",
       "      <td>Favorite Team Seed</td>\n",
       "      <td>1.45</td>\n",
       "      <td>0.000</td>\n",
       "      <td>0.56</td>\n",
       "      <td>0.27</td>\n",
       "      <td>0.69</td>\n",
       "      <td>0.39</td>\n",
       "    </tr>\n",
       "  </tbody>\n",
       "</table>\n",
       "</div>"
      ],
      "text/plain": [
       "                          feature  odds_ratio  p_value  accuracy  precision  \\\n",
       "3         Favorite Scoring Margin        0.65    0.000      0.56       0.28   \n",
       "6          Favorite ORB+TO Margin        0.70    0.000      0.57       0.27   \n",
       "12  Underdog Defensive Efficiency        0.75    0.003      0.53       0.26   \n",
       "7   Favorite Strength of Schedule        0.75    0.004      0.60       0.28   \n",
       "1   Favorite Offensive Efficiency        0.77    0.006      0.57       0.27   \n",
       "9          Favorite Coach Success        0.80    0.018      0.57       0.26   \n",
       "10             Underdog Team Seed        0.80    0.019      0.59       0.26   \n",
       "5      Favorite Player Experience        0.82    0.039      0.49       0.24   \n",
       "8       Favorite Coach Experience        0.86    0.117      0.52       0.25   \n",
       "14       Underdog Travel Distance        1.00    0.995      0.56       0.22   \n",
       "18      Underdog Coach Experience        1.01    0.927      0.58       0.21   \n",
       "19         Underdog Coach Success        1.06    0.563      0.56       0.22   \n",
       "15     Underdog Player Experience        1.09    0.379      0.56       0.21   \n",
       "4        Favorite Travel Distance        1.13    0.190      0.61       0.27   \n",
       "11  Underdog Offensive Efficiency        1.23    0.031      0.50       0.22   \n",
       "2   Favorite Defensive Efficiency        1.28    0.009      0.57       0.25   \n",
       "16         Underdog ORB+TO Margin        1.28    0.010      0.54       0.26   \n",
       "17  Underdog Strength of Schedule        1.38    0.001      0.58       0.28   \n",
       "13        Underdog Scoring Margin        1.40    0.001      0.52       0.27   \n",
       "0              Favorite Team Seed        1.45    0.000      0.56       0.27   \n",
       "\n",
       "    recall    f1  \n",
       "3     0.71  0.40  \n",
       "6     0.67  0.39  \n",
       "12    0.68  0.37  \n",
       "7     0.59  0.38  \n",
       "1     0.63  0.37  \n",
       "9     0.58  0.36  \n",
       "10    0.56  0.36  \n",
       "5     0.66  0.35  \n",
       "8     0.67  0.36  \n",
       "14    0.45  0.29  \n",
       "18    0.37  0.26  \n",
       "19    0.45  0.30  \n",
       "15    0.43  0.28  \n",
       "4     0.51  0.35  \n",
       "11    0.58  0.32  \n",
       "2     0.57  0.35  \n",
       "16    0.66  0.37  \n",
       "17    0.69  0.40  \n",
       "13    0.77  0.40  \n",
       "0     0.69  0.39  "
      ]
     },
     "execution_count": 16,
     "metadata": {},
     "output_type": "execute_result"
    }
   ],
   "source": [
    "df_results.sort_values('odds_ratio')"
   ]
  },
  {
   "cell_type": "markdown",
   "metadata": {},
   "source": [
    "### Summary of single-feature associations with upsets\n",
    "Games resulting in an upset tended to involve Favorites that:\n",
    "- outscored their opponents by a smaller margin\n",
    "- had less of an advantage in offensive rebounds and turnovers\n",
    "- played a easier schedule prior to the tournament\n",
    "- had less efficient offense or defense \n",
    "- were led by coaches with less peak success in prior tournaments\n",
    "- were assigned a higher seed value\n",
    "\n",
    "And underdogs in upset games tended to be those that:\n",
    "- typically outscore their opponents by larger amounts\n",
    "- had a greater advantage in offensive rebounds and turnovers\n",
    "- played a more difficult schedule prior to the tournament\n",
    "- had more efficient offense or defense\n",
    "- were assigned a lower seed value for the tournament\n",
    "\n",
    "All of these results make sense. The features for favorites all reflect a worse team, while the features for underdogs reflect a higher quality team. "
   ]
  },
  {
   "cell_type": "markdown",
   "metadata": {},
   "source": [
    "### Feature selection\n",
    "\n",
    "From these results, I choose to retain 8 features for the classification model. For both favorites and underdogs, I use scoring margin, offensive rebound + turnover margin, strength of schedule, and seed.  Each of these factors was associated with upsets in the training data. \n",
    "\n",
    "Even though offense and defense were associated with upsets, I chose not to include them, because both of those metrics are \"baked in\" to the scoring margin feature, and the scoring margin feature has a stronger association with upsets than either offense or defense alone. In general, I want to include features that represent unique information, and not include too many features that reperesent overlapping information. "
   ]
  },
  {
   "cell_type": "code",
   "execution_count": 17,
   "metadata": {},
   "outputs": [],
   "source": [
    "# create list of features to keep\n",
    "features_keep = ['t1_em', 't2_em', 't1_seed', 't2_seed',\n",
    "                 't2_orbtomarg', 't1_orbtomarg', 't2_sos', 't1_sos']\n",
    "features_keep_ix = [feat_list.index(x) for x in features_keep]\n",
    "x_train_sel = x_train[:, features_keep_ix]"
   ]
  },
  {
   "cell_type": "markdown",
   "metadata": {},
   "source": [
    "## Training the classification model for upset prediction"
   ]
  },
  {
   "cell_type": "markdown",
   "metadata": {},
   "source": [
    "So far, I have used the training data to look at associations between features and the target variable (upsets) within the training examples. But the purpose of the upset classification model is make predictions on unseen data (new games that haven't occurred yet). With this goal in mind, I need to test how well the model performs when trained on one set of data, and used to make predictions on another \"held-out\" set of data.\n",
    "\n",
    "Earlier I held out the games from 2014-2016 (22% of the games) to use as \"test set\". But I don't want to use that data here, because I am still building and adjusting the model, and if I use that test set to make adjustments to the model, subsequent predictions on that test set will no longer be unbiased estimates of how the model would perform on future, unseeen data. \n",
    "\n",
    "Instead, I will use k-fold cross-validation to estimate out-of-sample performance when building and adjusting the model. "
   ]
  },
  {
   "cell_type": "markdown",
   "metadata": {},
   "source": [
    "### *K*-fold cross-validation\n",
    "With k-fold cross-validation, I split the training data into *k* number of \"folds\". Here I choose k = 5, so each fold is roughly 1/5 of the training data. For each fold, I make predictions for that fold using a model trained on the other 4/5 of the data, and compute a classification score from all of these \"cross-validated\" predictions. "
   ]
  },
  {
   "cell_type": "markdown",
   "metadata": {},
   "source": [
    "Here I demonstrate 5-fold cross-validation with a non-regularized logistic regression model.  \n",
    "First I create a cross-validator object to use to to divide the data into folds. In order to compare my results across different models, the cross-validation folds need to stay consistent. "
   ]
  },
  {
   "cell_type": "code",
   "execution_count": 18,
   "metadata": {},
   "outputs": [],
   "source": [
    "# create cross-validator to use the same folds for every analysis \n",
    "kf = StratifiedKFold(n_splits=5, shuffle=True, random_state=489)"
   ]
  },
  {
   "cell_type": "markdown",
   "metadata": {},
   "source": [
    "After setting up a classification model, I input the model, the cross-validator, and the data to the a cross-validation predict function that generates cross-validated predictions for all the examples in the dataset. "
   ]
  },
  {
   "cell_type": "code",
   "execution_count": 19,
   "metadata": {},
   "outputs": [],
   "source": [
    "# set high C parameter value to examine \"non-regularized model\"\n",
    "clf = LogisticRegression(penalty = 'l2', solver='liblinear', random_state=0, C=100000)\n",
    "\n",
    "# get cross-validated predictions for all games\n",
    "preds = cross_val_predict(clf, x_train_sel, y_train, cv=kf)"
   ]
  },
  {
   "cell_type": "markdown",
   "metadata": {},
   "source": [
    "Using the get_score function I created earlier, I obtain the classification scores and print them for interpretation. "
   ]
  },
  {
   "cell_type": "code",
   "execution_count": 20,
   "metadata": {},
   "outputs": [
    {
     "name": "stdout",
     "output_type": "stream",
     "text": [
      "Accuracy 0.8\n",
      "Precision 0.51\n",
      "Recall 0.2\n",
      "F1 0.29\n"
     ]
    }
   ],
   "source": [
    "# list of scores from non-regularized model\n",
    "scores_0 = get_scores(y_train, preds)\n",
    "score_names = ['Accuracy', 'Precision', 'Recall', 'F1']\n",
    "for n, s in zip(score_names, scores_0):\n",
    "    print n, s"
   ]
  },
  {
   "cell_type": "markdown",
   "metadata": {},
   "source": [
    "The model has decent accuracy, but accuracy is a misleading score to use for this problem. Because upsets make up 20% of the training set, the model could achieve 80% accuracy simply by predicting \"not upset\" every time. \n",
    "The model has fairly unimpressive results on the other scores. The model predicts only 20% of the true upsets as upsets (Recall), and the model's upset predictions are correct only 51% of the time (Precision).  \n",
    "In order for this model to be useful for predicting upsets, it would be useful to increase both Precision and Recall. "
   ]
  },
  {
   "cell_type": "markdown",
   "metadata": {},
   "source": [
    "### Improve model performance through regularization\n",
    "Performance of the model on out-of-sample data can likely be improved by using regularization. In a nutshell, regularization is a way of penalizing extreme predictions so that the model generalizes well to data that wasn't used in model training.  \n",
    "In the logistic regression model, regularization type is controlled with the categorical *penalty* hyperparameter, and the \"strength\" or magnitude of regularization is controlled with the numeric *C* hyperparameter. By trying different values for these hyperparameters, I can develop a model that performs better when predicting out-of-sample data. "
   ]
  },
  {
   "cell_type": "markdown",
   "metadata": {},
   "source": [
    "First I define two functions, one to obtain the scores of cross-validation predictions from a classification model, and another  function to print them. These are two tasks I will repeat several times as I work to improve the model. "
   ]
  },
  {
   "cell_type": "code",
   "execution_count": 21,
   "metadata": {},
   "outputs": [],
   "source": [
    "# create function to cross-validate model and return scores\n",
    "def get_cv_scores(model, x, y):\n",
    "    score_names = ['Accuracy', 'Precision', 'Recall', 'F1']\n",
    "    preds = cross_val_predict(model, x, y, cv=kf)\n",
    "    scores = get_scores(y, preds)\n",
    "    score_dict = dict(zip(score_names, scores))\n",
    "    return score_dict\n",
    "\n",
    "def print_cv_scores(score_dict):\n",
    "    for x in score_dict:\n",
    "        print x, score_dict[x]"
   ]
  },
  {
   "cell_type": "markdown",
   "metadata": {},
   "source": [
    "Now I perform cross-validation with the logistic regression model with two different types of regularization, *Lasso* and *Ridge*, with the default *C* value for both types. "
   ]
  },
  {
   "cell_type": "code",
   "execution_count": 22,
   "metadata": {},
   "outputs": [
    {
     "name": "stdout",
     "output_type": "stream",
     "text": [
      "l1 (lasso) regularization\n",
      "Recall 0.17\n",
      "F1 0.26\n",
      "Precision 0.52\n",
      "Accuracy 0.8\n",
      "l2 (ridge) regularization\n",
      "Recall 0.2\n",
      "F1 0.29\n",
      "Precision 0.53\n",
      "Accuracy 0.8\n"
     ]
    }
   ],
   "source": [
    "# obtain and print cross-validation scores for regularized models\n",
    "# l1 regularization\n",
    "clf_l1 = LogisticRegression(penalty = 'l1', solver='liblinear', random_state=0, C=1.0)\n",
    "print 'l1 (lasso) regularization'\n",
    "print_cv_scores(get_cv_scores(clf_l1, x_train_sel, y_train))\n",
    "print 'l2 (ridge) regularization'\n",
    "clf_l2 = LogisticRegression(penalty = 'l2', solver='liblinear', random_state=0, C=1.0)\n",
    "print_cv_scores(get_cv_scores(clf_l2, x_train_sel, y_train))"
   ]
  },
  {
   "cell_type": "markdown",
   "metadata": {},
   "source": [
    "### Tuning hyperparameter values"
   ]
  },
  {
   "cell_type": "markdown",
   "metadata": {},
   "source": [
    "Regularization does improve the cross-validation predictions, but from my experience the default hyperparameter values often leave much room for improvement. Better values might by identified by using a hyperparameter search, where cross-validation is repeated for different values of the hyperparameter. \n",
    "\n",
    "Two different approaches for hyperparameter search are grid search and random search. I will test both approaches below. "
   ]
  },
  {
   "cell_type": "markdown",
   "metadata": {},
   "source": [
    "#### Grid search\n",
    "In a grid search, cross-validation is repeated for specific values of the hyperparameter that I provide. \n",
    "To perform the search, I create a dictionary where each key is the string of one of the model's hyperparameters, and each value is a list of the hyperparameter's values to try in the model.  \n",
    "For the logistic regression classifier, I provide 6 values of C, and the two regularization types.  \n",
    "From this dictionary, the grid-search will fit a model for each unique combination of hyperparameters, 12 unique models."
   ]
  },
  {
   "cell_type": "code",
   "execution_count": 23,
   "metadata": {},
   "outputs": [],
   "source": [
    "# create hyperparameter grid dictionary for search\n",
    "params_gs = {'C': [0.0001, 0.001, 0.01, 0.1, 1.0, 10.0, 20.0],\n",
    "             'penalty': ['l1', 'l2']}"
   ]
  },
  {
   "cell_type": "markdown",
   "metadata": {},
   "source": [
    "The grid search object also accepts a scoring parameter, to automatically calculate and record a classification score for iteration of the search.  \n",
    "For upset prediction I want to maximize both of precision (percentage of upset predictions correct) and recall (percentage of true upsets predicted). So I use the *F1* score, which is the weighted average of precision and recall. "
   ]
  },
  {
   "cell_type": "code",
   "execution_count": 24,
   "metadata": {},
   "outputs": [],
   "source": [
    "# score for grid search object to report\n",
    "score_type = 'f1'"
   ]
  },
  {
   "cell_type": "markdown",
   "metadata": {},
   "source": [
    "I also need to initialize a base version of the model to input to the grid search. No hyperparameter values are set, because the grid search will set them using the dictionary I created above. "
   ]
  },
  {
   "cell_type": "code",
   "execution_count": 25,
   "metadata": {},
   "outputs": [],
   "source": [
    "# base classifier \n",
    "clf = LogisticRegression(random_state=0, solver='liblinear')"
   ]
  },
  {
   "cell_type": "markdown",
   "metadata": {},
   "source": [
    "To set up the grid search object I first initialize the grid search object with a classifier, the hyperparameter value dictoinary, the score type, and the cross-validator object. By inputting the same k-fold cross-validator object I used above, I ensure that the cross-validated predictions and classification scores from the grid search are comparable to the previous results.  "
   ]
  },
  {
   "cell_type": "code",
   "execution_count": 26,
   "metadata": {},
   "outputs": [],
   "source": [
    "# basic classifier\n",
    "gs = GridSearchCV(estimator=clf,\n",
    "                  param_grid=params_gs,\n",
    "                  scoring=score_type,\n",
    "                  cv=kf,\n",
    "                  iid=False,\n",
    "                  n_jobs=-1,\n",
    "                  return_train_score=True)"
   ]
  },
  {
   "cell_type": "markdown",
   "metadata": {},
   "source": [
    "To perform the grid search, the grid search object is fit to the training data. "
   ]
  },
  {
   "cell_type": "code",
   "execution_count": 27,
   "metadata": {},
   "outputs": [],
   "source": [
    "gsf = gs.fit(x_train_sel, y_train)"
   ]
  },
  {
   "cell_type": "markdown",
   "metadata": {},
   "source": [
    "After fitting, the grid search object contains a results dictionary with detailed information about the search.  \n",
    "I'm interested mainly in the cross-validated *F1* score and the hyperparameter values for each iteration, so I select and show these results below. "
   ]
  },
  {
   "cell_type": "code",
   "execution_count": 28,
   "metadata": {},
   "outputs": [
    {
     "data": {
      "text/html": [
       "<div>\n",
       "<style scoped>\n",
       "    .dataframe tbody tr th:only-of-type {\n",
       "        vertical-align: middle;\n",
       "    }\n",
       "\n",
       "    .dataframe tbody tr th {\n",
       "        vertical-align: top;\n",
       "    }\n",
       "\n",
       "    .dataframe thead th {\n",
       "        text-align: right;\n",
       "    }\n",
       "</style>\n",
       "<table border=\"1\" class=\"dataframe\">\n",
       "  <thead>\n",
       "    <tr style=\"text-align: right;\">\n",
       "      <th></th>\n",
       "      <th>mean_test_score</th>\n",
       "      <th>mean_train_score</th>\n",
       "      <th>param_C</th>\n",
       "      <th>param_penalty</th>\n",
       "    </tr>\n",
       "  </thead>\n",
       "  <tbody>\n",
       "    <tr>\n",
       "      <th>0</th>\n",
       "      <td>0.438210</td>\n",
       "      <td>0.446485</td>\n",
       "      <td>0.0001</td>\n",
       "      <td>l2</td>\n",
       "    </tr>\n",
       "    <tr>\n",
       "      <th>1</th>\n",
       "      <td>0.402478</td>\n",
       "      <td>0.424580</td>\n",
       "      <td>0.001</td>\n",
       "      <td>l2</td>\n",
       "    </tr>\n",
       "    <tr>\n",
       "      <th>2</th>\n",
       "      <td>0.295069</td>\n",
       "      <td>0.296885</td>\n",
       "      <td>1</td>\n",
       "      <td>l2</td>\n",
       "    </tr>\n",
       "    <tr>\n",
       "      <th>3</th>\n",
       "      <td>0.292402</td>\n",
       "      <td>0.296314</td>\n",
       "      <td>10</td>\n",
       "      <td>l1</td>\n",
       "    </tr>\n",
       "    <tr>\n",
       "      <th>4</th>\n",
       "      <td>0.292402</td>\n",
       "      <td>0.295131</td>\n",
       "      <td>10</td>\n",
       "      <td>l2</td>\n",
       "    </tr>\n",
       "  </tbody>\n",
       "</table>\n",
       "</div>"
      ],
      "text/plain": [
       "   mean_test_score  mean_train_score param_C param_penalty\n",
       "0         0.438210          0.446485  0.0001            l2\n",
       "1         0.402478          0.424580   0.001            l2\n",
       "2         0.295069          0.296885       1            l2\n",
       "3         0.292402          0.296314      10            l1\n",
       "4         0.292402          0.295131      10            l2"
      ]
     },
     "execution_count": 28,
     "metadata": {},
     "output_type": "execute_result"
    }
   ],
   "source": [
    "# list of columns to show in results dataframe\n",
    "cols_show = ['mean_test_score', 'mean_train_score', 'param_C', 'param_penalty']\n",
    "# create dataframe from the grid search results dict\n",
    "results_gs = pd.DataFrame.from_dict(gsf.cv_results_)\n",
    "# sort to show iterations with 5 best scores\n",
    "results_gs = results_gs.sort_values('mean_test_score', ascending=False).reset_index()\n",
    "results_gs[cols_show].head(5)"
   ]
  },
  {
   "cell_type": "markdown",
   "metadata": {},
   "source": [
    "The highest *F1* score was 0.438, produced by the model with *L2* regularization and *C* of 0.0001.  \n",
    "To assess this model in greater detail I examine the other classification scores. "
   ]
  },
  {
   "cell_type": "code",
   "execution_count": 29,
   "metadata": {},
   "outputs": [
    {
     "name": "stdout",
     "output_type": "stream",
     "text": [
      "ridge regularization, C=0.0001\n",
      "Recall 0.41\n",
      "F1 0.44\n",
      "Precision 0.47\n",
      "Accuracy 0.79\n"
     ]
    }
   ],
   "source": [
    "best_C = results_gs.loc[0, 'param_C']\n",
    "clf = LogisticRegression(penalty = 'l2', solver='liblinear', random_state=0, C=best_C)\n",
    "print 'ridge regularization, C=0.0001'\n",
    "print_cv_scores(get_cv_scores(clf, x_train_sel, y_train))"
   ]
  },
  {
   "cell_type": "markdown",
   "metadata": {},
   "source": [
    "The model with the top F1 score does seem to balance precision and recall, with 41% of the true upsets predicted as upsets, and 47% of the upsets predictions being correct. This is an improvement over the Logistic Regression with default regularization strength, because of a big increase in Recall (0.20 to 0.41). This model predicts twice as many of the true upsets. "
   ]
  },
  {
   "cell_type": "markdown",
   "metadata": {},
   "source": [
    "#### Random hyperparameter search\n",
    "The grid search approach is limited by the fact that it only tests the specific values I provide. It's quite possible that I fail to provide the value that would maximize cross-validation *F1*.  \n",
    "A random hyperparameter search helps address this limitation, by testing random values of each hyperparameter within a specified range, for a specified number of iterations. "
   ]
  },
  {
   "cell_type": "markdown",
   "metadata": {},
   "source": [
    "For inputs to the random search object, I create a dictionary with a random number function for the *C* hyperparameter. For this dictionary, I don't include the penalty hyperparameter. Because none of the Lasso models scored well in the grid search above, I only include the Ridge models in the random search."
   ]
  },
  {
   "cell_type": "code",
   "execution_count": 30,
   "metadata": {},
   "outputs": [],
   "source": [
    "np.random.seed(seed=204181)\n",
    "params_rs = {'C': sp_uniform(0.00005, 0.005)}"
   ]
  },
  {
   "cell_type": "markdown",
   "metadata": {},
   "source": [
    "The process for setting up and fitting the randomized search is nearly identical to the grid search, with two small differences.  \n",
    "- I set the *l2* penalty type for the classifier, because I want the search to only use this type\n",
    "- With the *n_iter* parameter, I provide a number of iterations for the search. Whereas the grid search performed the number of iterations that was necessary to test all unique hyperparameter combinations, the random search performs a specified number of iterations. "
   ]
  },
  {
   "cell_type": "code",
   "execution_count": 31,
   "metadata": {},
   "outputs": [],
   "source": [
    "clf = LogisticRegression(penalty = 'l2', solver='liblinear', random_state=0)\n",
    "rs = RandomizedSearchCV(clf,\n",
    "                        param_distributions=params_rs,\n",
    "                        n_iter = 30,\n",
    "                        scoring=score_type,\n",
    "                        cv=kf,\n",
    "                        iid=False,\n",
    "                        n_jobs=-1,\n",
    "                        return_train_score=True)\n",
    "rsf = rs.fit(x_train_sel, y_train)"
   ]
  },
  {
   "cell_type": "markdown",
   "metadata": {},
   "source": [
    "As with the grid search, I want to see which hyperparameter values produced the best *F1* scores. "
   ]
  },
  {
   "cell_type": "code",
   "execution_count": 32,
   "metadata": {},
   "outputs": [
    {
     "data": {
      "text/html": [
       "<div>\n",
       "<style scoped>\n",
       "    .dataframe tbody tr th:only-of-type {\n",
       "        vertical-align: middle;\n",
       "    }\n",
       "\n",
       "    .dataframe tbody tr th {\n",
       "        vertical-align: top;\n",
       "    }\n",
       "\n",
       "    .dataframe thead th {\n",
       "        text-align: right;\n",
       "    }\n",
       "</style>\n",
       "<table border=\"1\" class=\"dataframe\">\n",
       "  <thead>\n",
       "    <tr style=\"text-align: right;\">\n",
       "      <th></th>\n",
       "      <th>mean_test_score</th>\n",
       "      <th>mean_train_score</th>\n",
       "      <th>param_C</th>\n",
       "    </tr>\n",
       "  </thead>\n",
       "  <tbody>\n",
       "    <tr>\n",
       "      <th>0</th>\n",
       "      <td>0.438210</td>\n",
       "      <td>0.446485</td>\n",
       "      <td>0.000100428</td>\n",
       "    </tr>\n",
       "    <tr>\n",
       "      <th>1</th>\n",
       "      <td>0.438210</td>\n",
       "      <td>0.446485</td>\n",
       "      <td>9.20397e-05</td>\n",
       "    </tr>\n",
       "    <tr>\n",
       "      <th>2</th>\n",
       "      <td>0.408573</td>\n",
       "      <td>0.439589</td>\n",
       "      <td>0.000506701</td>\n",
       "    </tr>\n",
       "    <tr>\n",
       "      <th>3</th>\n",
       "      <td>0.408573</td>\n",
       "      <td>0.431151</td>\n",
       "      <td>0.00071728</td>\n",
       "    </tr>\n",
       "    <tr>\n",
       "      <th>4</th>\n",
       "      <td>0.408573</td>\n",
       "      <td>0.441547</td>\n",
       "      <td>0.000533631</td>\n",
       "    </tr>\n",
       "  </tbody>\n",
       "</table>\n",
       "</div>"
      ],
      "text/plain": [
       "   mean_test_score  mean_train_score      param_C\n",
       "0         0.438210          0.446485  0.000100428\n",
       "1         0.438210          0.446485  9.20397e-05\n",
       "2         0.408573          0.439589  0.000506701\n",
       "3         0.408573          0.431151   0.00071728\n",
       "4         0.408573          0.441547  0.000533631"
      ]
     },
     "execution_count": 32,
     "metadata": {},
     "output_type": "execute_result"
    }
   ],
   "source": [
    "# random search results don't include 'param_penalty'\n",
    "cols_show_rs = [x for x in cols_show if x is not 'param_penalty']\n",
    "results_rs = pd.DataFrame.from_dict(rsf.cv_results_)\n",
    "results_rs = results_rs.sort_values('mean_test_score', ascending=False).reset_index()\n",
    "results_rs[cols_show_rs].head(5)"
   ]
  },
  {
   "cell_type": "code",
   "execution_count": 33,
   "metadata": {},
   "outputs": [
    {
     "name": "stdout",
     "output_type": "stream",
     "text": [
      "ridge regularization, C= 0.0001\n",
      "Recall 0.41\n",
      "F1 0.44\n",
      "Precision 0.47\n",
      "Accuracy 0.79\n"
     ]
    }
   ],
   "source": [
    "best_C = results_rs.loc[0, 'param_C']\n",
    "clf = LogisticRegression(penalty = 'l2', solver='liblinear',random_state=0, C=best_C)\n",
    "print 'ridge regularization, C= %s' % (round(best_C, 6))\n",
    "print_cv_scores(get_cv_scores(clf, x_train_sel, y_train))"
   ]
  },
  {
   "cell_type": "markdown",
   "metadata": {},
   "source": [
    "The best cross-validation *F1* score from the random search (0.41) is also an improvement over the default regularized Logistic Regression, but not quite as high as from the grid search (0.43). "
   ]
  },
  {
   "cell_type": "markdown",
   "metadata": {},
   "source": [
    "### Regularization without pre-selection of features"
   ]
  },
  {
   "cell_type": "markdown",
   "metadata": {},
   "source": [
    "The training set used in the grid search was one where the features had been pre-screened based on the results from univariate models. Although guided feature selection can be useful in practice, it's worth testing whether including all 20 features in the training set might improve model performance.\n",
    "\n",
    "Here I repeat both grid searches using all 20 features. "
   ]
  },
  {
   "cell_type": "code",
   "execution_count": 34,
   "metadata": {},
   "outputs": [
    {
     "data": {
      "text/html": [
       "<div>\n",
       "<style scoped>\n",
       "    .dataframe tbody tr th:only-of-type {\n",
       "        vertical-align: middle;\n",
       "    }\n",
       "\n",
       "    .dataframe tbody tr th {\n",
       "        vertical-align: top;\n",
       "    }\n",
       "\n",
       "    .dataframe thead th {\n",
       "        text-align: right;\n",
       "    }\n",
       "</style>\n",
       "<table border=\"1\" class=\"dataframe\">\n",
       "  <thead>\n",
       "    <tr style=\"text-align: right;\">\n",
       "      <th></th>\n",
       "      <th>mean_test_score</th>\n",
       "      <th>mean_train_score</th>\n",
       "      <th>param_C</th>\n",
       "      <th>param_penalty</th>\n",
       "    </tr>\n",
       "  </thead>\n",
       "  <tbody>\n",
       "    <tr>\n",
       "      <th>0</th>\n",
       "      <td>0.484606</td>\n",
       "      <td>0.491414</td>\n",
       "      <td>0.001</td>\n",
       "      <td>l2</td>\n",
       "    </tr>\n",
       "    <tr>\n",
       "      <th>1</th>\n",
       "      <td>0.472823</td>\n",
       "      <td>0.483529</td>\n",
       "      <td>0.0001</td>\n",
       "      <td>l2</td>\n",
       "    </tr>\n",
       "    <tr>\n",
       "      <th>2</th>\n",
       "      <td>0.290540</td>\n",
       "      <td>0.376555</td>\n",
       "      <td>0.01</td>\n",
       "      <td>l2</td>\n",
       "    </tr>\n",
       "    <tr>\n",
       "      <th>3</th>\n",
       "      <td>0.277736</td>\n",
       "      <td>0.360534</td>\n",
       "      <td>1</td>\n",
       "      <td>l2</td>\n",
       "    </tr>\n",
       "    <tr>\n",
       "      <th>4</th>\n",
       "      <td>0.271265</td>\n",
       "      <td>0.360534</td>\n",
       "      <td>10</td>\n",
       "      <td>l1</td>\n",
       "    </tr>\n",
       "  </tbody>\n",
       "</table>\n",
       "</div>"
      ],
      "text/plain": [
       "   mean_test_score  mean_train_score param_C param_penalty\n",
       "0         0.484606          0.491414   0.001            l2\n",
       "1         0.472823          0.483529  0.0001            l2\n",
       "2         0.290540          0.376555    0.01            l2\n",
       "3         0.277736          0.360534       1            l2\n",
       "4         0.271265          0.360534      10            l1"
      ]
     },
     "execution_count": 34,
     "metadata": {},
     "output_type": "execute_result"
    }
   ],
   "source": [
    "clf = LogisticRegression(random_state=0, solver='liblinear')\n",
    "gs = GridSearchCV(estimator=clf,\n",
    "                  param_grid=params_gs,\n",
    "                  scoring=score_type,\n",
    "                  cv=kf,\n",
    "                  iid=False,\n",
    "                  n_jobs=-1,\n",
    "                  return_train_score=True)\n",
    "gsf = gs.fit(x_train, y_train)\n",
    "results_gs_20 = pd.DataFrame.from_dict(gsf.cv_results_)\n",
    "results_gs_20 = results_gs_20.sort_values('mean_test_score', ascending=False).reset_index()\n",
    "results_gs_20[cols_show].head(5)"
   ]
  },
  {
   "cell_type": "markdown",
   "metadata": {},
   "source": [
    "In a grid search using all 20 features in the training data, the cross-validation *F1* score is improved to 0.48. "
   ]
  },
  {
   "cell_type": "code",
   "execution_count": 35,
   "metadata": {},
   "outputs": [
    {
     "name": "stdout",
     "output_type": "stream",
     "text": [
      "20 features, ridge regularization, C=0.001\n",
      "Recall 0.54\n",
      "F1 0.49\n",
      "Precision 0.44\n",
      "Accuracy 0.77\n"
     ]
    }
   ],
   "source": [
    "best_C = results_gs_20.loc[0, 'param_C']\n",
    "clf = LogisticRegression(penalty = 'l2', solver='liblinear', random_state=0, C=best_C)\n",
    "print '20 features, ridge regularization, C=0.001'\n",
    "print_cv_scores(get_cv_scores(clf, x_train, y_train))"
   ]
  },
  {
   "cell_type": "markdown",
   "metadata": {},
   "source": [
    "In cross-validation this model predicts 57% of the true upsets as upsets, and is correct on 40% of the upset predictions. "
   ]
  },
  {
   "cell_type": "code",
   "execution_count": null,
   "metadata": {},
   "outputs": [],
   "source": [
    "np.random.seed(seed=204181)\n",
    "params_rs = {'C': sp_uniform(0.00005, 0.005)}"
   ]
  },
  {
   "cell_type": "code",
   "execution_count": 40,
   "metadata": {},
   "outputs": [
    {
     "data": {
      "text/html": [
       "<div>\n",
       "<style scoped>\n",
       "    .dataframe tbody tr th:only-of-type {\n",
       "        vertical-align: middle;\n",
       "    }\n",
       "\n",
       "    .dataframe tbody tr th {\n",
       "        vertical-align: top;\n",
       "    }\n",
       "\n",
       "    .dataframe thead th {\n",
       "        text-align: right;\n",
       "    }\n",
       "</style>\n",
       "<table border=\"1\" class=\"dataframe\">\n",
       "  <thead>\n",
       "    <tr style=\"text-align: right;\">\n",
       "      <th></th>\n",
       "      <th>mean_test_score</th>\n",
       "      <th>mean_train_score</th>\n",
       "      <th>param_C</th>\n",
       "    </tr>\n",
       "  </thead>\n",
       "  <tbody>\n",
       "    <tr>\n",
       "      <th>0</th>\n",
       "      <td>0.483913</td>\n",
       "      <td>0.490847</td>\n",
       "      <td>0.000699687</td>\n",
       "    </tr>\n",
       "    <tr>\n",
       "      <th>1</th>\n",
       "      <td>0.483913</td>\n",
       "      <td>0.490847</td>\n",
       "      <td>0.000678152</td>\n",
       "    </tr>\n",
       "    <tr>\n",
       "      <th>2</th>\n",
       "      <td>0.483913</td>\n",
       "      <td>0.490847</td>\n",
       "      <td>0.000691619</td>\n",
       "    </tr>\n",
       "    <tr>\n",
       "      <th>3</th>\n",
       "      <td>0.482473</td>\n",
       "      <td>0.483158</td>\n",
       "      <td>0.00122555</td>\n",
       "    </tr>\n",
       "    <tr>\n",
       "      <th>4</th>\n",
       "      <td>0.479746</td>\n",
       "      <td>0.488467</td>\n",
       "      <td>0.000589299</td>\n",
       "    </tr>\n",
       "  </tbody>\n",
       "</table>\n",
       "</div>"
      ],
      "text/plain": [
       "   mean_test_score  mean_train_score      param_C\n",
       "0         0.483913          0.490847  0.000699687\n",
       "1         0.483913          0.490847  0.000678152\n",
       "2         0.483913          0.490847  0.000691619\n",
       "3         0.482473          0.483158   0.00122555\n",
       "4         0.479746          0.488467  0.000589299"
      ]
     },
     "execution_count": 40,
     "metadata": {},
     "output_type": "execute_result"
    }
   ],
   "source": [
    "clf = LogisticRegression(penalty = 'l2', solver='liblinear', random_state=0)\n",
    "rs = RandomizedSearchCV(clf,\n",
    "                        param_distributions=params_rs,\n",
    "                        n_iter = 30,\n",
    "                        scoring=score_type,\n",
    "                        cv=kf,\n",
    "                        iid=False,\n",
    "                        n_jobs=-1,\n",
    "                        return_train_score=True)\n",
    "rsf = rs.fit(x_train, y_train)\n",
    "results_rs_20 = pd.DataFrame.from_dict(rsf.cv_results_)\n",
    "results_rs_20 = results_rs_20.sort_values('mean_test_score', ascending=False).reset_index()\n",
    "results_rs_20[cols_show_rs].head()"
   ]
  },
  {
   "cell_type": "code",
   "execution_count": 41,
   "metadata": {},
   "outputs": [
    {
     "name": "stdout",
     "output_type": "stream",
     "text": [
      "20 features, ridge regularization, C= 0.0006996868352730606\n",
      "Recall 0.55\n",
      "F1 0.48\n",
      "Precision 0.43\n",
      "Accuracy 0.76\n"
     ]
    }
   ],
   "source": [
    "best_C = results_rs_20.loc[0, 'param_C']\n",
    "clf = LogisticRegression(penalty = 'l2', solver='liblinear', random_state=0, C=best_C)\n",
    "print '20 features, ridge regularization, C= %s' % (best_C)\n",
    "print_cv_scores(get_cv_scores(clf, x_train, y_train))"
   ]
  },
  {
   "cell_type": "markdown",
   "metadata": {},
   "source": [
    "The random search with all 20 features identifies a model with cross-validation *F1* of 0.486, which is similar to the best cross-validation *F1* score found in the grid search.  "
   ]
  },
  {
   "cell_type": "markdown",
   "metadata": {},
   "source": [
    "In this case, selecting a smaller subset of the features was detrimental to the cross-validation performance, which illustrates the value of experimenting with different feature sets. Also, the smaller subset of 8 features was selected based on degree of association within the full training set, which may not be the best way to select features when building a model for out-of-sample predictions. "
   ]
  },
  {
   "cell_type": "markdown",
   "metadata": {},
   "source": [
    "## Estimate future performance using the test set"
   ]
  },
  {
   "cell_type": "markdown",
   "metadata": {},
   "source": [
    "Finally, I will use the final model from cross-validation to make predictions on the test set. "
   ]
  },
  {
   "cell_type": "code",
   "execution_count": 44,
   "metadata": {},
   "outputs": [],
   "source": [
    "clf = LogisticRegression(penalty='l2', solver='liblinear', random_state=0, C=0.000699)\n",
    "clf.fit(x_train, y_train)\n",
    "preds_train = clf.predict(x_train)\n",
    "preds_test = clf.predict(x_test)"
   ]
  },
  {
   "cell_type": "markdown",
   "metadata": {},
   "source": [
    "Below I print the classification scores for predictions made on the test set, with the scores from cross-validation also shown for comparison. "
   ]
  },
  {
   "cell_type": "code",
   "execution_count": 45,
   "metadata": {},
   "outputs": [
    {
     "name": "stdout",
     "output_type": "stream",
     "text": [
      "Accuracy\n",
      "Test: 0.72\n",
      "Cross-validation: 0.76\n",
      "\n",
      "Precision\n",
      "Test: 0.45\n",
      "Cross-validation: 0.43\n",
      "\n",
      "Recall\n",
      "Test: 0.29\n",
      "Cross-validation: 0.55\n",
      "\n",
      "F1\n",
      "Test: 0.36\n",
      "Cross-validation: 0.48\n",
      "\n"
     ]
    }
   ],
   "source": [
    "scores_test = get_scores(y_test, preds_test)\n",
    "scores_cv = get_cv_scores(clf, x_train, y_train)\n",
    "\n",
    "for n, tst in zip(score_names, scores_test):\n",
    "    print n\n",
    "    print \"Test: %s\" % (tst)\n",
    "    print \"Cross-validation: %s\" % (scores_cv[n])\n",
    "    print \"\""
   ]
  },
  {
   "cell_type": "markdown",
   "metadata": {},
   "source": [
    "## Summary and conclusions"
   ]
  },
  {
   "cell_type": "markdown",
   "metadata": {},
   "source": [
    "By training and tuning a classification model using cross-validation, my goal was to follow a reproducible process that maximizes performance of the model on future, unseen data. In this case, I selected models to maximixe the *F1* score, although the test set *F1* of 0.36 is well short of the cross-validation *F1* of 0.49, the model's predictions may still be useful, and there are several areas for future improvement. \n",
    "\n",
    "By using this model to predict upsets in 2014-2016, 29% of the true upsets would have been predicted, and 45% of the upset predictions would have been correct. In a vacuum, this may seem like a low rate of success, but considering that underdog winners are only picked correctly 20% of the time, the model offers better predictions than the typical bracket contest participant will achieve on their own. \n",
    "\n",
    "From a sports gambling perspective, achievement of 0.45 precision on the test set may also be favorable. Even if less than half of bets on underdogs are correct, the rate of return is likely to be positive, since the odds on underdogs are typically greater than 1:1, and sometimes much greater. \n",
    "\n",
    "There are also several paths for improvement, including testing other classification algorithms, training the model using more features, and using strategies for classifying imbalanced data. Like many classification algorithms, logistic regression typically performs best when the target variable is balanced at or near 50%. In this dataset, the \"positive\" targets (the upsets) only comprise 20% of the examples. Classification performance may improve when using strategies designed to address imbalanced data. My future work will test these approaches. "
   ]
  }
 ],
 "metadata": {
  "anaconda-cloud": {},
  "kernelspec": {
   "display_name": "Python 2",
   "language": "python",
   "name": "python2"
  },
  "language_info": {
   "codemirror_mode": {
    "name": "ipython",
    "version": 2
   },
   "file_extension": ".py",
   "mimetype": "text/x-python",
   "name": "python",
   "nbconvert_exporter": "python",
   "pygments_lexer": "ipython2",
   "version": "2.7.15"
  }
 },
 "nbformat": 4,
 "nbformat_minor": 1
}
