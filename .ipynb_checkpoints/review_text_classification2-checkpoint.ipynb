{
 "cells": [
  {
   "cell_type": "markdown",
   "metadata": {},
   "source": [
    "# Rotten or Fresh? Basic Text Classification with movie reviews\n",
    "***\n",
    "In this project I analyze data from real movie reviews from the Rotten Tomatoes website. \n",
    "\n",
    "Rotten Tomatoes provides an aggregated rating of movies, based on the reviews of film critics. Each review contains 2 key pieces of information: a rating of the movie as \"rotten (for a negative review) or \"fresh\" (for a positive one), along with a brief snippet of text submitted by the critic along with the rating. \n",
    "\n",
    "The goal of this project is to predict whether a review is \"Fresh\" or Rotten\" using the text submitted by the critic. "
   ]
  },
  {
   "cell_type": "code",
   "execution_count": 619,
   "metadata": {
    "collapsed": true
   },
   "outputs": [],
   "source": [
    "import pandas as pd\n",
    "import numpy as np\n",
    "import scipy as sp\n",
    "from plotnine import *\n",
    "theme_set(theme_538)\n",
    "from __future__ import division\n",
    "import datetime\n",
    "from sklearn.metrics import accuracy_score\n",
    "from sklearn.model_selection import StratifiedKFold\n",
    "from sklearn.naive_bayes import MultinomialNB\n",
    "from sklearn.feature_extraction.text import CountVectorizer\n",
    "from sklearn.feature_extraction.text import TfidfVectorizer\n",
    "from sklearn.pipeline import Pipeline\n",
    "from sklearn.model_selection import RandomizedSearchCV\n",
    "from sklearn.model_selection import GridSearchCV\n",
    "from sklearn.model_selection import cross_val_predict\n",
    "from sklearn.metrics import confusion_matrix\n",
    "from scipy.stats import randint, uniform"
   ]
  },
  {
   "cell_type": "markdown",
   "metadata": {},
   "source": [
    "## Rotten Tomatoes Dataset"
   ]
  },
  {
   "cell_type": "code",
   "execution_count": 166,
   "metadata": {},
   "outputs": [
    {
     "name": "stdout",
     "output_type": "stream",
     "text": [
      "(15561, 8)\n"
     ]
    },
    {
     "data": {
      "text/html": [
       "<div>\n",
       "<style scoped>\n",
       "    .dataframe tbody tr th:only-of-type {\n",
       "        vertical-align: middle;\n",
       "    }\n",
       "\n",
       "    .dataframe tbody tr th {\n",
       "        vertical-align: top;\n",
       "    }\n",
       "\n",
       "    .dataframe thead th {\n",
       "        text-align: right;\n",
       "    }\n",
       "</style>\n",
       "<table border=\"1\" class=\"dataframe\">\n",
       "  <thead>\n",
       "    <tr style=\"text-align: right;\">\n",
       "      <th></th>\n",
       "      <th>critic</th>\n",
       "      <th>fresh</th>\n",
       "      <th>imdb</th>\n",
       "      <th>publication</th>\n",
       "      <th>quote</th>\n",
       "      <th>review_date</th>\n",
       "      <th>rtid</th>\n",
       "      <th>title</th>\n",
       "    </tr>\n",
       "  </thead>\n",
       "  <tbody>\n",
       "    <tr>\n",
       "      <th>1</th>\n",
       "      <td>Derek Adams</td>\n",
       "      <td>fresh</td>\n",
       "      <td>114709</td>\n",
       "      <td>Time Out</td>\n",
       "      <td>So ingenious in concept, design and execution ...</td>\n",
       "      <td>2009-10-04</td>\n",
       "      <td>9559</td>\n",
       "      <td>Toy story</td>\n",
       "    </tr>\n",
       "    <tr>\n",
       "      <th>2</th>\n",
       "      <td>Richard Corliss</td>\n",
       "      <td>fresh</td>\n",
       "      <td>114709</td>\n",
       "      <td>TIME Magazine</td>\n",
       "      <td>The year's most inventive comedy.</td>\n",
       "      <td>2008-08-31</td>\n",
       "      <td>9559</td>\n",
       "      <td>Toy story</td>\n",
       "    </tr>\n",
       "    <tr>\n",
       "      <th>3</th>\n",
       "      <td>David Ansen</td>\n",
       "      <td>fresh</td>\n",
       "      <td>114709</td>\n",
       "      <td>Newsweek</td>\n",
       "      <td>A winning animated feature that has something ...</td>\n",
       "      <td>2008-08-18</td>\n",
       "      <td>9559</td>\n",
       "      <td>Toy story</td>\n",
       "    </tr>\n",
       "    <tr>\n",
       "      <th>4</th>\n",
       "      <td>Leonard Klady</td>\n",
       "      <td>fresh</td>\n",
       "      <td>114709</td>\n",
       "      <td>Variety</td>\n",
       "      <td>The film sports a provocative and appealing st...</td>\n",
       "      <td>2008-06-09</td>\n",
       "      <td>9559</td>\n",
       "      <td>Toy story</td>\n",
       "    </tr>\n",
       "    <tr>\n",
       "      <th>5</th>\n",
       "      <td>Jonathan Rosenbaum</td>\n",
       "      <td>fresh</td>\n",
       "      <td>114709</td>\n",
       "      <td>Chicago Reader</td>\n",
       "      <td>An entertaining computer-generated, hyperreali...</td>\n",
       "      <td>2008-03-10</td>\n",
       "      <td>9559</td>\n",
       "      <td>Toy story</td>\n",
       "    </tr>\n",
       "  </tbody>\n",
       "</table>\n",
       "</div>"
      ],
      "text/plain": [
       "               critic  fresh    imdb     publication  \\\n",
       "1         Derek Adams  fresh  114709        Time Out   \n",
       "2     Richard Corliss  fresh  114709   TIME Magazine   \n",
       "3         David Ansen  fresh  114709        Newsweek   \n",
       "4       Leonard Klady  fresh  114709         Variety   \n",
       "5  Jonathan Rosenbaum  fresh  114709  Chicago Reader   \n",
       "\n",
       "                                               quote review_date  rtid  \\\n",
       "1  So ingenious in concept, design and execution ...  2009-10-04  9559   \n",
       "2                  The year's most inventive comedy.  2008-08-31  9559   \n",
       "3  A winning animated feature that has something ...  2008-08-18  9559   \n",
       "4  The film sports a provocative and appealing st...  2008-06-09  9559   \n",
       "5  An entertaining computer-generated, hyperreali...  2008-03-10  9559   \n",
       "\n",
       "       title  \n",
       "1  Toy story  \n",
       "2  Toy story  \n",
       "3  Toy story  \n",
       "4  Toy story  \n",
       "5  Toy story  "
      ]
     },
     "execution_count": 166,
     "metadata": {},
     "output_type": "execute_result"
    }
   ],
   "source": [
    "critics = pd.read_csv('data/text/critics.csv')\n",
    "#drop rows with missing quotes\n",
    "critics = critics[~critics.quote.isnull()]\n",
    "print critics.shape\n",
    "critics.head()"
   ]
  },
  {
   "cell_type": "code",
   "execution_count": 494,
   "metadata": {},
   "outputs": [
    {
     "data": {
      "text/html": [
       "<div>\n",
       "<style scoped>\n",
       "    .dataframe tbody tr th:only-of-type {\n",
       "        vertical-align: middle;\n",
       "    }\n",
       "\n",
       "    .dataframe tbody tr th {\n",
       "        vertical-align: top;\n",
       "    }\n",
       "\n",
       "    .dataframe thead th {\n",
       "        text-align: right;\n",
       "    }\n",
       "</style>\n",
       "<table border=\"1\" class=\"dataframe\">\n",
       "  <thead>\n",
       "    <tr style=\"text-align: right;\">\n",
       "      <th></th>\n",
       "      <th>critic</th>\n",
       "      <th>fresh</th>\n",
       "      <th>imdb</th>\n",
       "      <th>publication</th>\n",
       "      <th>quote</th>\n",
       "      <th>review_date</th>\n",
       "      <th>rtid</th>\n",
       "      <th>title</th>\n",
       "    </tr>\n",
       "  </thead>\n",
       "  <tbody>\n",
       "    <tr>\n",
       "      <th>2543</th>\n",
       "      <td>Owen Gleiberman</td>\n",
       "      <td>fresh</td>\n",
       "      <td>109686</td>\n",
       "      <td>Entertainment Weekly</td>\n",
       "      <td>Dumb and Dumber, which features Carrey and Jef...</td>\n",
       "      <td>2008-04-28</td>\n",
       "      <td>10194</td>\n",
       "      <td>Dumb &amp; Dumber</td>\n",
       "    </tr>\n",
       "    <tr>\n",
       "      <th>2544</th>\n",
       "      <td>Variety Staff</td>\n",
       "      <td>fresh</td>\n",
       "      <td>109686</td>\n",
       "      <td>Variety</td>\n",
       "      <td>The wholeheartedness of this descent into crud...</td>\n",
       "      <td>2008-04-28</td>\n",
       "      <td>10194</td>\n",
       "      <td>Dumb &amp; Dumber</td>\n",
       "    </tr>\n",
       "    <tr>\n",
       "      <th>2545</th>\n",
       "      <td>Jonathan Rosenbaum</td>\n",
       "      <td>rotten</td>\n",
       "      <td>109686</td>\n",
       "      <td>Chicago Reader</td>\n",
       "      <td>This is a long way from the social comedy of J...</td>\n",
       "      <td>2008-04-28</td>\n",
       "      <td>10194</td>\n",
       "      <td>Dumb &amp; Dumber</td>\n",
       "    </tr>\n",
       "    <tr>\n",
       "      <th>2546</th>\n",
       "      <td>NaN</td>\n",
       "      <td>rotten</td>\n",
       "      <td>109686</td>\n",
       "      <td>Time Out</td>\n",
       "      <td>Given American cinema's current obsession with...</td>\n",
       "      <td>2006-01-26</td>\n",
       "      <td>10194</td>\n",
       "      <td>Dumb &amp; Dumber</td>\n",
       "    </tr>\n",
       "    <tr>\n",
       "      <th>2548</th>\n",
       "      <td>Stephen Holden</td>\n",
       "      <td>fresh</td>\n",
       "      <td>109686</td>\n",
       "      <td>New York Times</td>\n",
       "      <td>A movie that fully lives up to its name, right...</td>\n",
       "      <td>2003-05-20</td>\n",
       "      <td>10194</td>\n",
       "      <td>Dumb &amp; Dumber</td>\n",
       "    </tr>\n",
       "  </tbody>\n",
       "</table>\n",
       "</div>"
      ],
      "text/plain": [
       "                  critic   fresh    imdb           publication  \\\n",
       "2543     Owen Gleiberman   fresh  109686  Entertainment Weekly   \n",
       "2544       Variety Staff   fresh  109686               Variety   \n",
       "2545  Jonathan Rosenbaum  rotten  109686        Chicago Reader   \n",
       "2546                 NaN  rotten  109686              Time Out   \n",
       "2548      Stephen Holden   fresh  109686        New York Times   \n",
       "\n",
       "                                                  quote review_date   rtid  \\\n",
       "2543  Dumb and Dumber, which features Carrey and Jef...  2008-04-28  10194   \n",
       "2544  The wholeheartedness of this descent into crud...  2008-04-28  10194   \n",
       "2545  This is a long way from the social comedy of J...  2008-04-28  10194   \n",
       "2546  Given American cinema's current obsession with...  2006-01-26  10194   \n",
       "2548  A movie that fully lives up to its name, right...  2003-05-20  10194   \n",
       "\n",
       "              title  \n",
       "2543  Dumb & Dumber  \n",
       "2544  Dumb & Dumber  \n",
       "2545  Dumb & Dumber  \n",
       "2546  Dumb & Dumber  \n",
       "2548  Dumb & Dumber  "
      ]
     },
     "execution_count": 494,
     "metadata": {},
     "output_type": "execute_result"
    }
   ],
   "source": [
    "example = 'Dumb & Dumber'\n",
    "critics[(critics.title == 'Dumb & Dumber')].head(5)"
   ]
  },
  {
   "cell_type": "code",
   "execution_count": 497,
   "metadata": {},
   "outputs": [
    {
     "name": "stdout",
     "output_type": "stream",
     "text": [
      "Dumb & Dumber Fresh Review\n",
      "Dumb and Dumber, which features Carrey and Jeff Daniels as nitwits traveling cross-country, is a frayed string of gags posing as a movie. Carrey, though, does literal-minded doofdom with peerless enthusiasm.\n",
      "\n",
      "Dumb & Dumber Rotten Review\n",
      "This is a long way from the social comedy of Jerry Lewis. The characters here are ultimately turned into punching bags or punch-line dispensers.\n"
     ]
    }
   ],
   "source": [
    "dd = critics[(critics.title == example)]\n",
    "print example + \" Fresh Review\"\n",
    "print dd.loc[2543, 'quote']\n",
    "print \"\"\n",
    "print example + \" Rotten Review\"\n",
    "print dd.loc[2545, 'quote']"
   ]
  },
  {
   "cell_type": "markdown",
   "metadata": {},
   "source": [
    "This example immediately illustrates the challenges of text classification. The text of the \"fresh\" review does not convey a strong sense of positivity. The rotten review does convey somewhat of a negative sentiment, but most of the text isn't incredibly clear about whether the critic was negative or positive on the movie. "
   ]
  },
  {
   "cell_type": "markdown",
   "metadata": {},
   "source": [
    "## Exploratory Analysis"
   ]
  },
  {
   "cell_type": "markdown",
   "metadata": {},
   "source": [
    "First I conduct some exploratory data analysis to learn more about this dataset. "
   ]
  },
  {
   "cell_type": "code",
   "execution_count": 167,
   "metadata": {},
   "outputs": [
    {
     "name": "stdout",
     "output_type": "stream",
     "text": [
      "Number of reviews: 15561\n",
      "Number of critics: 623\n",
      "Number of movies:  1921\n"
     ]
    }
   ],
   "source": [
    "n_reviews = len(critics)\n",
    "n_movies = critics.rtid.unique().size\n",
    "n_critics = critics.critic.unique().size\n",
    "\n",
    "print(\"Number of reviews: {:d}\".format(n_reviews))\n",
    "print(\"Number of critics: {:d}\".format(n_critics))\n",
    "print(\"Number of movies:  {:d}\".format(n_movies))"
   ]
  },
  {
   "cell_type": "markdown",
   "metadata": {},
   "source": [
    "The code below produces a new table with a row for each critic, with columns for the critic's total number of reviews and their mean of \"fresh\" ratings, which is just the percentage of reviews in which they gave a fresh rating. "
   ]
  },
  {
   "cell_type": "code",
   "execution_count": 500,
   "metadata": {},
   "outputs": [
    {
     "data": {
      "text/html": [
       "<div>\n",
       "<style scoped>\n",
       "    .dataframe tbody tr th:only-of-type {\n",
       "        vertical-align: middle;\n",
       "    }\n",
       "\n",
       "    .dataframe tbody tr th {\n",
       "        vertical-align: top;\n",
       "    }\n",
       "\n",
       "    .dataframe thead th {\n",
       "        text-align: right;\n",
       "    }\n",
       "</style>\n",
       "<table border=\"1\" class=\"dataframe\">\n",
       "  <thead>\n",
       "    <tr style=\"text-align: right;\">\n",
       "      <th></th>\n",
       "      <th>rev_count</th>\n",
       "      <th>rev_mean</th>\n",
       "    </tr>\n",
       "    <tr>\n",
       "      <th>critic</th>\n",
       "      <th></th>\n",
       "      <th></th>\n",
       "    </tr>\n",
       "  </thead>\n",
       "  <tbody>\n",
       "    <tr>\n",
       "      <th>A.D. Murphy</th>\n",
       "      <td>13.0</td>\n",
       "      <td>1.000000</td>\n",
       "    </tr>\n",
       "    <tr>\n",
       "      <th>A.H. Weiler</th>\n",
       "      <td>17.0</td>\n",
       "      <td>0.705882</td>\n",
       "    </tr>\n",
       "    <tr>\n",
       "      <th>A.O. Scott</th>\n",
       "      <td>19.0</td>\n",
       "      <td>0.368421</td>\n",
       "    </tr>\n",
       "    <tr>\n",
       "      <th>Aaron Hillis</th>\n",
       "      <td>2.0</td>\n",
       "      <td>1.000000</td>\n",
       "    </tr>\n",
       "    <tr>\n",
       "      <th>Abel Green</th>\n",
       "      <td>5.0</td>\n",
       "      <td>1.000000</td>\n",
       "    </tr>\n",
       "  </tbody>\n",
       "</table>\n",
       "</div>"
      ],
      "text/plain": [
       "              rev_count  rev_mean\n",
       "critic                           \n",
       "A.D. Murphy        13.0  1.000000\n",
       "A.H. Weiler        17.0  0.705882\n",
       "A.O. Scott         19.0  0.368421\n",
       "Aaron Hillis        2.0  1.000000\n",
       "Abel Green          5.0  1.000000"
      ]
     },
     "execution_count": 500,
     "metadata": {},
     "output_type": "execute_result"
    }
   ],
   "source": [
    "df = critics.copy()\n",
    "# create boolean column from fresh column\n",
    "df['fresh'] = df.fresh == 'fresh'\n",
    "# group data by critic, create aggregate measures\n",
    "def func_agg(x):\n",
    "    names = {'rev_count': x['fresh'].count(),\n",
    "             'rev_mean':  x['fresh'].mean()\n",
    "            }\n",
    "    return pd.Series(names, index=['rev_count', 'rev_mean'])\n",
    "gbdf = df.groupby('critic').apply(func_agg)\n",
    "gbdf.head()"
   ]
  },
  {
   "cell_type": "markdown",
   "metadata": {},
   "source": [
    "Here I examine the critics' percentages of \"fresh\" ratings, showing the number of critics from 0% fresh up to 100% fresh. "
   ]
  },
  {
   "cell_type": "code",
   "execution_count": 501,
   "metadata": {},
   "outputs": [
    {
     "data": {
      "image/png": "[encoded data removed]",
      "text/plain": [
       "<Figure size 600x400 with 1 Axes>"
      ]
     },
     "metadata": {},
     "output_type": "display_data"
    },
    {
     "data": {
      "text/plain": [
       "<ggplot: (44680042)>"
      ]
     },
     "execution_count": 501,
     "metadata": {},
     "output_type": "execute_result"
    }
   ],
   "source": [
    "ptitle = 'Distribution of critic mean'\n",
    "axlab = labs(x = 'Percentage of Ratings \"Fresh\"', y = 'Number of Critics')\n",
    "plt = ggplot(gbdf) + aes(x='rev_mean') + geom_histogram(binwidth=0.1)\n",
    "plt + ggtitle(ptitle) + axlab"
   ]
  },
  {
   "cell_type": "markdown",
   "metadata": {},
   "source": [
    "The figure above shows that there's many critics at 0% and 100%, meaning their reviews were either all rotten or all fresh. \n",
    "\n",
    "This picture makes it seem like there's alot of critics out there who either really like or really hate everything that they see! But my hunch is actually that these are mostly critics with a small number of reviews. I investigate this hunch below. "
   ]
  },
  {
   "cell_type": "markdown",
   "metadata": {},
   "source": [
    "Below I select the critics with either 0% or 100% of their ratings as fresh. Then, I group the table by reviewer count and count the rows. This shows that most of the 100% or 0% fresh critics have only submitted a handful of reviews."
   ]
  },
  {
   "cell_type": "code",
   "execution_count": 524,
   "metadata": {},
   "outputs": [
    {
     "data": {
      "text/plain": [
       "rev_count\n",
       "1.0     221\n",
       "2.0      46\n",
       "3.0      15\n",
       "4.0       5\n",
       "5.0       6\n",
       "6.0       1\n",
       "8.0       2\n",
       "9.0       2\n",
       "10.0      1\n",
       "11.0      1\n",
       "13.0      1\n",
       "16.0      1\n",
       "Name: rev_count, dtype: int64"
      ]
     },
     "execution_count": 524,
     "metadata": {},
     "output_type": "execute_result"
    }
   ],
   "source": [
    "extreme = gbdf[(gbdf['rev_mean'] == 1.0) | (gbdf['rev_mean'] == 0)]\n",
    "extreme.groupby('rev_count')['rev_count'].count()"
   ]
  },
  {
   "cell_type": "markdown",
   "metadata": {},
   "source": [
    "If I eliminate the critics with less than 3 reviews, and then plot the critic percentages, the figure more of an expected pattern. For the most part, each critic subumits a fresh rating from 20-80% of the time. The ratings skew slightly positive, as it looks like most critics rate movies as \"fresh\" 60% of the time. "
   ]
  },
  {
   "cell_type": "code",
   "execution_count": 512,
   "metadata": {},
   "outputs": [
    {
     "data": {
      "image/png": "[encoded data removed]",
      "text/plain": [
       "<Figure size 600x400 with 1 Axes>"
      ]
     },
     "metadata": {},
     "output_type": "display_data"
    },
    {
     "data": {
      "text/plain": [
       "<ggplot: (48411336)>"
      ]
     },
     "execution_count": 512,
     "metadata": {},
     "output_type": "execute_result"
    }
   ],
   "source": [
    "ptitle = 'Distribution of critic mean'\n",
    "plt = ggplot(gbdf[gbdf.rev_count > 3]) + aes(x='rev_mean') + geom_histogram(binwidth=0.1)\n",
    "plt + ggtitle(ptitle) + axlab"
   ]
  },
  {
   "cell_type": "markdown",
   "metadata": {},
   "source": [
    "A quick look at the mean fresh rating confirms the global average is pretty close to 60%. "
   ]
  },
  {
   "cell_type": "code",
   "execution_count": 546,
   "metadata": {},
   "outputs": [
    {
     "name": "stdout",
     "output_type": "stream",
     "text": [
      "Global average fresh rating: 60.9 percent\n"
     ]
    }
   ],
   "source": [
    "print \"Global average fresh rating: %r percent\" % (round(np.mean(df.fresh), 3) * 100)"
   ]
  },
  {
   "cell_type": "markdown",
   "metadata": {},
   "source": [
    "## Data Cleaning and Preparation"
   ]
  },
  {
   "cell_type": "markdown",
   "metadata": {},
   "source": [
    "Before I begin analyzing the text data and training models, I will reserve some of the data for later testing. By holding this data out of the model training process, I can use it to estimate performance on unseen data. "
   ]
  },
  {
   "cell_type": "markdown",
   "metadata": {},
   "source": [
    "Instead of using a random split of the data, I chose to use the most recent 20% of ratings as the test set. This is more analagous to a real-world scenario, where the model would be used to classify new data coming in. "
   ]
  },
  {
   "cell_type": "code",
   "execution_count": 549,
   "metadata": {},
   "outputs": [
    {
     "name": "stdout",
     "output_type": "stream",
     "text": [
      "1800-01-01 00:00:00\n",
      "2013-10-07 00:00:00\n"
     ]
    }
   ],
   "source": [
    "# convert to review date to datetime format\n",
    "df['date'] = df['review_date'].apply(lambda x: datetime.datetime.strptime(x, '%Y-%m-%d'))\n",
    "\n",
    "# inspect date range\n",
    "print np.min(df.date)\n",
    "print np.max(df.date)"
   ]
  },
  {
   "cell_type": "markdown",
   "metadata": {},
   "source": [
    "One of the reviews was submitted in 1800? That doesn't seem right. Below I sort the data by date and display the first 10 rows. "
   ]
  },
  {
   "cell_type": "code",
   "execution_count": 550,
   "metadata": {},
   "outputs": [
    {
     "data": {
      "text/html": [
       "<div>\n",
       "<style scoped>\n",
       "    .dataframe tbody tr th:only-of-type {\n",
       "        vertical-align: middle;\n",
       "    }\n",
       "\n",
       "    .dataframe tbody tr th {\n",
       "        vertical-align: top;\n",
       "    }\n",
       "\n",
       "    .dataframe thead th {\n",
       "        text-align: right;\n",
       "    }\n",
       "</style>\n",
       "<table border=\"1\" class=\"dataframe\">\n",
       "  <thead>\n",
       "    <tr style=\"text-align: right;\">\n",
       "      <th></th>\n",
       "      <th>critic</th>\n",
       "      <th>fresh</th>\n",
       "      <th>imdb</th>\n",
       "      <th>publication</th>\n",
       "      <th>quote</th>\n",
       "      <th>review_date</th>\n",
       "      <th>rtid</th>\n",
       "      <th>title</th>\n",
       "      <th>date</th>\n",
       "    </tr>\n",
       "  </thead>\n",
       "  <tbody>\n",
       "    <tr>\n",
       "      <th>10865</th>\n",
       "      <td>Owen Gleiberman</td>\n",
       "      <td>True</td>\n",
       "      <td>103644</td>\n",
       "      <td>Entertainment Weekly</td>\n",
       "      <td>A grimly seductive end-of-the-world thriller, ...</td>\n",
       "      <td>1800-01-01</td>\n",
       "      <td>14276</td>\n",
       "      <td>Alien³</td>\n",
       "      <td>1800-01-01 00:00:00</td>\n",
       "    </tr>\n",
       "    <tr>\n",
       "      <th>10478</th>\n",
       "      <td>James Berardinelli</td>\n",
       "      <td>True</td>\n",
       "      <td>92005</td>\n",
       "      <td>ReelViews</td>\n",
       "      <td>It's as effective in 2009 as it was upon its i...</td>\n",
       "      <td>1800-01-01</td>\n",
       "      <td>16272</td>\n",
       "      <td>Stand by Me</td>\n",
       "      <td>1800-01-01 00:00:00</td>\n",
       "    </tr>\n",
       "    <tr>\n",
       "      <th>8143</th>\n",
       "      <td>James Berardinelli</td>\n",
       "      <td>True</td>\n",
       "      <td>32976</td>\n",
       "      <td>ReelViews</td>\n",
       "      <td>The result exhibits that the director is capab...</td>\n",
       "      <td>1800-01-01</td>\n",
       "      <td>17080</td>\n",
       "      <td>Rebecca</td>\n",
       "      <td>1800-01-01 00:00:00</td>\n",
       "    </tr>\n",
       "    <tr>\n",
       "      <th>16362</th>\n",
       "      <td>James Berardinelli</td>\n",
       "      <td>False</td>\n",
       "      <td>19729</td>\n",
       "      <td>ReelViews</td>\n",
       "      <td>The Broadway Melody has not stood the test of ...</td>\n",
       "      <td>1929-02-01</td>\n",
       "      <td>18773</td>\n",
       "      <td>The Broadway Melody</td>\n",
       "      <td>1929-02-01</td>\n",
       "    </tr>\n",
       "    <tr>\n",
       "      <th>16369</th>\n",
       "      <td>James Berardinelli</td>\n",
       "      <td>True</td>\n",
       "      <td>20629</td>\n",
       "      <td>ReelViews</td>\n",
       "      <td>All Quiet on the Western Front is the definiti...</td>\n",
       "      <td>1930-08-24</td>\n",
       "      <td>17121</td>\n",
       "      <td>All Quiet on the Western Front</td>\n",
       "      <td>1930-08-24</td>\n",
       "    </tr>\n",
       "    <tr>\n",
       "      <th>16395</th>\n",
       "      <td>James Berardinelli</td>\n",
       "      <td>True</td>\n",
       "      <td>22958</td>\n",
       "      <td>ReelViews</td>\n",
       "      <td>It hasn't aged as well as some Oscar-winners, ...</td>\n",
       "      <td>1932-01-01</td>\n",
       "      <td>19274</td>\n",
       "      <td>Grand Hotel</td>\n",
       "      <td>1932-01-01</td>\n",
       "    </tr>\n",
       "    <tr>\n",
       "      <th>16401</th>\n",
       "      <td>James Berardinelli</td>\n",
       "      <td>True</td>\n",
       "      <td>23876</td>\n",
       "      <td>ReelViews</td>\n",
       "      <td>If nothing else, this reveals something about ...</td>\n",
       "      <td>1933-01-01</td>\n",
       "      <td>358138026</td>\n",
       "      <td>Cavalcade</td>\n",
       "      <td>1933-01-01</td>\n",
       "    </tr>\n",
       "    <tr>\n",
       "      <th>7948</th>\n",
       "      <td>James Berardinelli</td>\n",
       "      <td>True</td>\n",
       "      <td>25316</td>\n",
       "      <td>ReelViews</td>\n",
       "      <td>Its opposites-attract melding of screwball com...</td>\n",
       "      <td>1934-02-22</td>\n",
       "      <td>18256</td>\n",
       "      <td>It Happened One Night</td>\n",
       "      <td>1934-02-22</td>\n",
       "    </tr>\n",
       "    <tr>\n",
       "      <th>16408</th>\n",
       "      <td>James Berardinelli</td>\n",
       "      <td>True</td>\n",
       "      <td>26752</td>\n",
       "      <td>ReelViews</td>\n",
       "      <td>A rousing adventure film set on the high seas.</td>\n",
       "      <td>1935-01-01</td>\n",
       "      <td>18544</td>\n",
       "      <td>Mutiny on the Bounty</td>\n",
       "      <td>1935-01-01</td>\n",
       "    </tr>\n",
       "    <tr>\n",
       "      <th>16413</th>\n",
       "      <td>James Berardinelli</td>\n",
       "      <td>False</td>\n",
       "      <td>27698</td>\n",
       "      <td>ReelViews</td>\n",
       "      <td>Although some of the production's technical as...</td>\n",
       "      <td>1936-01-01</td>\n",
       "      <td>20735</td>\n",
       "      <td>The Great Ziegfeld</td>\n",
       "      <td>1936-01-01</td>\n",
       "    </tr>\n",
       "  </tbody>\n",
       "</table>\n",
       "</div>"
      ],
      "text/plain": [
       "                   critic  fresh    imdb           publication  \\\n",
       "10865     Owen Gleiberman   True  103644  Entertainment Weekly   \n",
       "10478  James Berardinelli   True   92005             ReelViews   \n",
       "8143   James Berardinelli   True   32976             ReelViews   \n",
       "16362  James Berardinelli  False   19729             ReelViews   \n",
       "16369  James Berardinelli   True   20629             ReelViews   \n",
       "16395  James Berardinelli   True   22958             ReelViews   \n",
       "16401  James Berardinelli   True   23876             ReelViews   \n",
       "7948   James Berardinelli   True   25316             ReelViews   \n",
       "16408  James Berardinelli   True   26752             ReelViews   \n",
       "16413  James Berardinelli  False   27698             ReelViews   \n",
       "\n",
       "                                                   quote review_date  \\\n",
       "10865  A grimly seductive end-of-the-world thriller, ...  1800-01-01   \n",
       "10478  It's as effective in 2009 as it was upon its i...  1800-01-01   \n",
       "8143   The result exhibits that the director is capab...  1800-01-01   \n",
       "16362  The Broadway Melody has not stood the test of ...  1929-02-01   \n",
       "16369  All Quiet on the Western Front is the definiti...  1930-08-24   \n",
       "16395  It hasn't aged as well as some Oscar-winners, ...  1932-01-01   \n",
       "16401  If nothing else, this reveals something about ...  1933-01-01   \n",
       "7948   Its opposites-attract melding of screwball com...  1934-02-22   \n",
       "16408     A rousing adventure film set on the high seas.  1935-01-01   \n",
       "16413  Although some of the production's technical as...  1936-01-01   \n",
       "\n",
       "            rtid                           title                date  \n",
       "10865      14276                          Alien³ 1800-01-01 00:00:00  \n",
       "10478      16272                     Stand by Me 1800-01-01 00:00:00  \n",
       "8143       17080                         Rebecca 1800-01-01 00:00:00  \n",
       "16362      18773             The Broadway Melody          1929-02-01  \n",
       "16369      17121  All Quiet on the Western Front          1930-08-24  \n",
       "16395      19274                     Grand Hotel          1932-01-01  \n",
       "16401  358138026                       Cavalcade          1933-01-01  \n",
       "7948       18256           It Happened One Night          1934-02-22  \n",
       "16408      18544            Mutiny on the Bounty          1935-01-01  \n",
       "16413      20735              The Great Ziegfeld          1936-01-01  "
      ]
     },
     "execution_count": 550,
     "metadata": {},
     "output_type": "execute_result"
    }
   ],
   "source": [
    "df.sort_values('date').head(10)"
   ]
  },
  {
   "cell_type": "markdown",
   "metadata": {},
   "source": [
    "The first 3 reviews seem to have incorrect dates. I'll drop them from the dataset. "
   ]
  },
  {
   "cell_type": "code",
   "execution_count": 555,
   "metadata": {
    "collapsed": true
   },
   "outputs": [],
   "source": [
    "df['year'] = df['date'].apply(lambda x: x.year)\n",
    "df = df[df['year'] >= 1929]"
   ]
  },
  {
   "cell_type": "code",
   "execution_count": 557,
   "metadata": {
    "collapsed": true
   },
   "outputs": [],
   "source": [
    "# set the latest 20% of reviews as the test set\n",
    "df = df.sort_values('date')\n",
    "df['date'].quantile(q=0.8)\n",
    "df['test'] = df['date'] > df['date'].quantile(q=0.8)"
   ]
  },
  {
   "cell_type": "code",
   "execution_count": 558,
   "metadata": {},
   "outputs": [
    {
     "data": {
      "text/plain": [
       "0.20002571024553284"
      ]
     },
     "execution_count": 558,
     "metadata": {},
     "output_type": "execute_result"
    }
   ],
   "source": [
    "# confirm the dftest = True rows comprise 20% of dataset\n",
    "np.sum(df.test) / df.shape[0]"
   ]
  },
  {
   "cell_type": "code",
   "execution_count": 179,
   "metadata": {
    "collapsed": true
   },
   "outputs": [],
   "source": [
    "# create train and test dataframes\n",
    "dftrain = df.loc[df.test == False]\n",
    "dftest = df.loc[df.test == True]"
   ]
  },
  {
   "cell_type": "code",
   "execution_count": 180,
   "metadata": {
    "collapsed": true
   },
   "outputs": [],
   "source": [
    "# create target array, training and test sets\n",
    "# convert boolean \"fresh\" column to array of integers\n",
    "y = df['fresh'].values * 1\n",
    "\n",
    "# use boolean array to divide to training and test\n",
    "ytrain = y[df.test == False]\n",
    "ytest = y[df.test == True]"
   ]
  },
  {
   "cell_type": "markdown",
   "metadata": {},
   "source": [
    "## Converting text data to numerical format"
   ]
  },
  {
   "cell_type": "markdown",
   "metadata": {},
   "source": [
    "Most classification algorithms require numeric data as input, which means I need to convert the review text into a numeric format that algorithms will understand. \n",
    "\n",
    "One common approach to deal with this problem is to create a term frequency matrix."
   ]
  },
  {
   "cell_type": "markdown",
   "metadata": {},
   "source": [
    " I illustrate a simple example below.  "
   ]
  },
  {
   "cell_type": "code",
   "execution_count": 564,
   "metadata": {},
   "outputs": [
    {
     "data": {
      "text/html": [
       "<div>\n",
       "<style scoped>\n",
       "    .dataframe tbody tr th:only-of-type {\n",
       "        vertical-align: middle;\n",
       "    }\n",
       "\n",
       "    .dataframe tbody tr th {\n",
       "        vertical-align: top;\n",
       "    }\n",
       "\n",
       "    .dataframe thead th {\n",
       "        text-align: right;\n",
       "    }\n",
       "</style>\n",
       "<table border=\"1\" class=\"dataframe\">\n",
       "  <thead>\n",
       "    <tr style=\"text-align: right;\">\n",
       "      <th></th>\n",
       "      <th>revtext</th>\n",
       "      <th>rating</th>\n",
       "    </tr>\n",
       "  </thead>\n",
       "  <tbody>\n",
       "    <tr>\n",
       "      <th>0</th>\n",
       "      <td>This movie was good</td>\n",
       "      <td>1</td>\n",
       "    </tr>\n",
       "    <tr>\n",
       "      <th>1</th>\n",
       "      <td>Awful. This movie was not good</td>\n",
       "      <td>0</td>\n",
       "    </tr>\n",
       "  </tbody>\n",
       "</table>\n",
       "</div>"
      ],
      "text/plain": [
       "                          revtext  rating\n",
       "0             This movie was good       1\n",
       "1  Awful. This movie was not good       0"
      ]
     },
     "execution_count": 564,
     "metadata": {},
     "output_type": "execute_result"
    }
   ],
   "source": [
    "review1 = 'This movie was good'\n",
    "review2 = 'Awful. This movie was not good'\n",
    "ex_data = pd.DataFrame({'revtext': [review1, review2], 'rating': [1, 0]}, columns=['revtext', 'rating'])\n",
    "ex_data"
   ]
  },
  {
   "cell_type": "markdown",
   "metadata": {},
   "source": [
    "The table has 2 made-up reviews. The text is very similar. Identical, in fact, except the second review has 2 additional words, 'awful' and not'. "
   ]
  },
  {
   "cell_type": "markdown",
   "metadata": {},
   "source": [
    "To convert the text to a term frequency matrix, I use a vectorizer. First the vectorizer is fit to the reviews. "
   ]
  },
  {
   "cell_type": "code",
   "execution_count": 572,
   "metadata": {
    "collapsed": true
   },
   "outputs": [],
   "source": [
    "vectorizer = CountVectorizer()\n",
    "ex_mat = vectorizer.fit(ex_data['revtext'])"
   ]
  },
  {
   "cell_type": "markdown",
   "metadata": {},
   "source": [
    "The vectorizer treats the reviews as a set of \"documents\" that use a common vocabulary. The vocabulary comes from the documents, and in its simplest form this vocabulary is just a collection of all the unique words in all the documents. Fitting the vectorizer allows it to learn all the words contained in the documents. "
   ]
  },
  {
   "cell_type": "code",
   "execution_count": 574,
   "metadata": {},
   "outputs": [
    {
     "name": "stdout",
     "output_type": "stream",
     "text": [
      "Vocabulary: [u'awful', u'good', u'movie', u'not', u'this', u'was']\n"
     ]
    }
   ],
   "source": [
    "print \"Vocabulary: %r\" % (vectorizer.get_feature_names())"
   ]
  },
  {
   "cell_type": "markdown",
   "metadata": {},
   "source": [
    "To convert the review text to the term frequency matrix, I use the vectorizer to transform it, which I convert to a data frame to show the results."
   ]
  },
  {
   "cell_type": "code",
   "execution_count": 576,
   "metadata": {
    "collapsed": true
   },
   "outputs": [],
   "source": [
    "ex_mat = vectorizer.transform(ex_data['revtext'])"
   ]
  },
  {
   "cell_type": "code",
   "execution_count": 579,
   "metadata": {},
   "outputs": [
    {
     "name": "stdout",
     "output_type": "stream",
     "text": [
      "This movie was good\n",
      "Awful. This movie was not good\n"
     ]
    },
    {
     "data": {
      "text/html": [
       "<div>\n",
       "<style scoped>\n",
       "    .dataframe tbody tr th:only-of-type {\n",
       "        vertical-align: middle;\n",
       "    }\n",
       "\n",
       "    .dataframe tbody tr th {\n",
       "        vertical-align: top;\n",
       "    }\n",
       "\n",
       "    .dataframe thead th {\n",
       "        text-align: right;\n",
       "    }\n",
       "</style>\n",
       "<table border=\"1\" class=\"dataframe\">\n",
       "  <thead>\n",
       "    <tr style=\"text-align: right;\">\n",
       "      <th></th>\n",
       "      <th>awful</th>\n",
       "      <th>good</th>\n",
       "      <th>movie</th>\n",
       "      <th>not</th>\n",
       "      <th>this</th>\n",
       "      <th>was</th>\n",
       "    </tr>\n",
       "  </thead>\n",
       "  <tbody>\n",
       "    <tr>\n",
       "      <th>0</th>\n",
       "      <td>0</td>\n",
       "      <td>1</td>\n",
       "      <td>1</td>\n",
       "      <td>0</td>\n",
       "      <td>1</td>\n",
       "      <td>1</td>\n",
       "    </tr>\n",
       "    <tr>\n",
       "      <th>1</th>\n",
       "      <td>1</td>\n",
       "      <td>1</td>\n",
       "      <td>1</td>\n",
       "      <td>1</td>\n",
       "      <td>1</td>\n",
       "      <td>1</td>\n",
       "    </tr>\n",
       "  </tbody>\n",
       "</table>\n",
       "</div>"
      ],
      "text/plain": [
       "   awful  good  movie  not  this  was\n",
       "0      0     1      1    0     1    1\n",
       "1      1     1      1    1     1    1"
      ]
     },
     "execution_count": 579,
     "metadata": {},
     "output_type": "execute_result"
    }
   ],
   "source": [
    "columns = vectorizer.get_feature_names()\n",
    "print review1\n",
    "print review2\n",
    "pd.DataFrame(ex_mat.toarray(), columns=columns)"
   ]
  },
  {
   "cell_type": "markdown",
   "metadata": {},
   "source": [
    "As you can see above, the term frequency matrix simply counts the number of occurrences of each word in each document. \n",
    "\n",
    "To analyze the real reviews, I extend the same concept to the set of over 15,000 reviews in this dataset. "
   ]
  },
  {
   "cell_type": "code",
   "execution_count": 586,
   "metadata": {
    "collapsed": true
   },
   "outputs": [],
   "source": [
    "# fit and transform training set\n",
    "vectorizer = CountVectorizer()\n",
    "xtrain = vectorizer.fit_transform(dftrain['quote'])\n",
    "\n",
    "# transform test set\n",
    "xtest = vectorizer.transform(dftest['quote'])"
   ]
  },
  {
   "cell_type": "code",
   "execution_count": 605,
   "metadata": {},
   "outputs": [
    {
     "name": "stdout",
     "output_type": "stream",
     "text": [
      "(12446, 19805)\n",
      "(3112, 19805)\n"
     ]
    }
   ],
   "source": [
    "print xtrain.shape\n",
    "print xtest.shape"
   ]
  },
  {
   "cell_type": "markdown",
   "metadata": {},
   "source": [
    "The vocabulary contains 19,805 words. The matrix objects xtrain and xtest now contain the term frequency matrix for the training and test sets for these words. In a sense, the columns of these datasets are now \"features\" that we can use to train a classification algorithm, with the features being the number of times a word appears in a review. "
   ]
  },
  {
   "cell_type": "markdown",
   "metadata": {},
   "source": [
    "## Classifying the reviews from term frequencies"
   ]
  },
  {
   "cell_type": "markdown",
   "metadata": {},
   "source": [
    "For an baseline model, I chose the Naive Bayes classifier. This classifier tends to perform fairly well on text classification tasks without too much tweaking or input from the user. \n",
    "\n",
    "I will use cross-validation to assess classifier performance, with 5 cross-validation folds. I train the model using 4/5 of the data, and make predictions for the remaining 1/5 left. This process repeats 5 times, and the cross-validation score is the average across the 5 folds.\n",
    "\n",
    "I use the accuracy score which is the percentage of correct predictions out of the total number of predictions. "
   ]
  },
  {
   "cell_type": "code",
   "execution_count": 613,
   "metadata": {
    "collapsed": true
   },
   "outputs": [],
   "source": [
    "#set up and fit classifier\n",
    "clf = MultinomialNB()"
   ]
  },
  {
   "cell_type": "code",
   "execution_count": 614,
   "metadata": {
    "collapsed": true
   },
   "outputs": [],
   "source": [
    "# create cross-validation generator\n",
    "skf = StratifiedKFold(n_splits = 5, random_state=3950)\n",
    "\n",
    "# make cross-validated predictions\n",
    "prdscv = cross_val_predict(clf, xtrain, ytrain, cv=skf)"
   ]
  },
  {
   "cell_type": "code",
   "execution_count": 615,
   "metadata": {
    "collapsed": true
   },
   "outputs": [],
   "source": [
    "# fit classifier to trainig set and make predictions\n",
    "prdstrn = clf.fit(xtrain, ytrain).predict(xtrain)"
   ]
  },
  {
   "cell_type": "code",
   "execution_count": 620,
   "metadata": {},
   "outputs": [
    {
     "name": "stdout",
     "output_type": "stream",
     "text": [
      "Training accuracy: 0.9208581070223365\n",
      "Cross-validation accuracy: 0.76305640366382776\n"
     ]
    },
    {
     "data": {
      "text/plain": [
       "array([[3229, 1777],\n",
       "       [1172, 6268]], dtype=int64)"
      ]
     },
     "execution_count": 620,
     "metadata": {},
     "output_type": "execute_result"
    }
   ],
   "source": [
    "# predict accuracy scores for both training and test sets\n",
    "print \"Training accuracy: %r\" % (accuracy_score(ytrain, prdstrn))\n",
    "print \"Cross-validation accuracy: %r\" % (accuracy_score(ytrain, prdscv))\n",
    "confusion_matrix(ytrain, prdscv)"
   ]
  },
  {
   "cell_type": "markdown",
   "metadata": {},
   "source": [
    "The default Naive Bayes algorithm accurately predicts 76% of the reviews in cross-validation, which seems not bad for baseline performance. "
   ]
  },
  {
   "cell_type": "code",
   "execution_count": 626,
   "metadata": {},
   "outputs": [
    {
     "data": {
      "text/plain": [
       "MultinomialNB(alpha=1.0, class_prior=None, fit_prior=True)"
      ]
     },
     "execution_count": 626,
     "metadata": {},
     "output_type": "execute_result"
    }
   ],
   "source": [
    "clf.fit(xtrain, ytrain)"
   ]
  },
  {
   "cell_type": "code",
   "execution_count": 628,
   "metadata": {},
   "outputs": [
    {
     "data": {
      "text/plain": [
       "array([ 0.40221758,  0.59778242])"
      ]
     },
     "execution_count": 628,
     "metadata": {},
     "output_type": "execute_result"
    }
   ],
   "source": [
    "np.exp(clf.class_log_prior_)"
   ]
  },
  {
   "cell_type": "code",
   "execution_count": 644,
   "metadata": {},
   "outputs": [
    {
     "data": {
      "text/plain": [
       "(2L, 19805L)"
      ]
     },
     "execution_count": 644,
     "metadata": {},
     "output_type": "execute_result"
    }
   ],
   "source": [
    "clf.feature_count_.shape"
   ]
  },
  {
   "cell_type": "code",
   "execution_count": 639,
   "metadata": {},
   "outputs": [
    {
     "data": {
      "text/plain": [
       "array([[  6.36529134e-06,   6.36529134e-06,   6.36529134e-06, ...,\n",
       "          3.07125307e-02,   3.17946302e-02,   4.92227979e-02]])"
      ]
     },
     "execution_count": 639,
     "metadata": {},
     "output_type": "execute_result"
    }
   ],
   "source": [
    "np.sort(np.exp(clf.coef_))[-4:]"
   ]
  },
  {
   "cell_type": "code",
   "execution_count": null,
   "metadata": {
    "collapsed": true
   },
   "outputs": [],
   "source": []
  },
  {
   "cell_type": "code",
   "execution_count": 621,
   "metadata": {
    "collapsed": true
   },
   "outputs": [],
   "source": [
    "vect = CountVectorizer(vocabulary=vocab)\n",
    "clf = MultinomialNB()\n",
    "\n",
    "# create pipeline \n",
    "steps = [('vect', vect),\n",
    "         ('clf', clf)]\n",
    "\n",
    "pipe = Pipeline(steps)\n",
    "prdscv = cross_val_predict(pipe, dftrain['quote'], ytrain, cv=skf)"
   ]
  },
  {
   "cell_type": "code",
   "execution_count": 622,
   "metadata": {},
   "outputs": [
    {
     "name": "stdout",
     "output_type": "stream",
     "text": [
      "Cross-validation accuracy: 0.75196850393700787\n"
     ]
    },
    {
     "data": {
      "text/plain": [
       "array([[3046, 1960],\n",
       "       [1127, 6313]], dtype=int64)"
      ]
     },
     "execution_count": 622,
     "metadata": {},
     "output_type": "execute_result"
    }
   ],
   "source": [
    "print \"Cross-validation accuracy: %r\" % (accuracy_score(ytrain, prdscv))\n",
    "confusion_matrix(ytrain, prdscv)"
   ]
  },
  {
   "cell_type": "code",
   "execution_count": 187,
   "metadata": {
    "collapsed": true
   },
   "outputs": [],
   "source": [
    "vect = CountVectorizer(vocabulary=vocab)\n",
    "clf = MultinomialNB()\n",
    "\n",
    "# create pipeline \n",
    "steps = [('vect', vect),\n",
    "         ('clf', clf)]\n",
    "\n",
    "pipeline = Pipeline(steps)\n",
    "\n",
    "# create cross-validation generator\n",
    "skf = StratifiedKFold(n_splits = 5, random_state=3950)"
   ]
  },
  {
   "cell_type": "code",
   "execution_count": 333,
   "metadata": {
    "collapsed": true
   },
   "outputs": [],
   "source": [
    "# grid for grid search\n",
    "# create parameter grid for pipeline objects\n",
    "param_grid = {'vect__min_df': [1, 10, 100],\n",
    "              'vect__max_df': [0.25, 0.50, 0.75, 1.0],\n",
    "              'clf__alpha': [0.1, 1, 10]\n",
    "             }\n",
    "\n",
    "# set up grid search object\n",
    "search = GridSearchCV(pipeline,\n",
    "                      param_grid,\n",
    "                      cv=skf,\n",
    "                      scoring='accuracy'\n",
    "                     )"
   ]
  },
  {
   "cell_type": "code",
   "execution_count": 334,
   "metadata": {},
   "outputs": [
    {
     "data": {
      "text/plain": [
       "GridSearchCV(cv=StratifiedKFold(n_splits=5, random_state=3950, shuffle=False),\n",
       "       error_score='raise',\n",
       "       estimator=Pipeline(memory=None,\n",
       "     steps=[('vect', CountVectorizer(analyzer=u'word', binary=False, decode_error=u'strict',\n",
       "        dtype=<type 'numpy.int64'>, encoding=u'utf-8', input=u'content',\n",
       "        lowercase=True, max_df=1.0, max_features=None, min_df=1,\n",
       "        ngram_range=(1, 1), preprocessor=None, stop_words='english',\n",
       "     ...10512, u'untalented': 21174})), ('clf', MultinomialNB(alpha=1.0, class_prior=None, fit_prior=True))]),\n",
       "       fit_params=None, iid=True, n_jobs=1,\n",
       "       param_grid={'clf__alpha': [0.1, 1, 10], 'vect__vocabulary': [{u'fawn': 7145, u'raining': 15515, u'daftness': 4732, u'foul': 7726, u'revelers': 16273, u'woods': 21864, u'clotted': 3580, u'illsley': 9668, u'hanging': 8871, u'woody': 21866, u'comically': 3789, u'shamble': 17355, u'spidery': 18321, u'wi...10386, u'untalented': 20920}], 'vect__min_df': [1, 10, 100], 'vect__max_df': [0.25, 0.5, 0.75, 1.0]},\n",
       "       pre_dispatch='2*n_jobs', refit=True, return_train_score=True,\n",
       "       scoring='accuracy', verbose=0)"
      ]
     },
     "execution_count": 334,
     "metadata": {},
     "output_type": "execute_result"
    }
   ],
   "source": [
    "search.fit(dftrain['quote'], ytrain)"
   ]
  },
  {
   "cell_type": "code",
   "execution_count": 292,
   "metadata": {
    "collapsed": true
   },
   "outputs": [],
   "source": [
    "def get_best_five(gridsearch):\n",
    "    gsdf = pd.DataFrame(gridsearch.cv_results_)\n",
    "    gsdf = gsdf.sort_values('mean_test_score', ascending=False)\n",
    "    return gsdf.iloc[0:5, :]"
   ]
  },
  {
   "cell_type": "code",
   "execution_count": 335,
   "metadata": {},
   "outputs": [
    {
     "data": {
      "text/html": [
       "<div>\n",
       "<style scoped>\n",
       "    .dataframe tbody tr th:only-of-type {\n",
       "        vertical-align: middle;\n",
       "    }\n",
       "\n",
       "    .dataframe tbody tr th {\n",
       "        vertical-align: top;\n",
       "    }\n",
       "\n",
       "    .dataframe thead th {\n",
       "        text-align: right;\n",
       "    }\n",
       "</style>\n",
       "<table border=\"1\" class=\"dataframe\">\n",
       "  <thead>\n",
       "    <tr style=\"text-align: right;\">\n",
       "      <th></th>\n",
       "      <th>mean_fit_time</th>\n",
       "      <th>mean_score_time</th>\n",
       "      <th>mean_test_score</th>\n",
       "      <th>mean_train_score</th>\n",
       "      <th>param_clf__alpha</th>\n",
       "      <th>param_vect__max_df</th>\n",
       "      <th>param_vect__min_df</th>\n",
       "      <th>param_vect__vocabulary</th>\n",
       "      <th>params</th>\n",
       "      <th>rank_test_score</th>\n",
       "      <th>...</th>\n",
       "      <th>split2_test_score</th>\n",
       "      <th>split2_train_score</th>\n",
       "      <th>split3_test_score</th>\n",
       "      <th>split3_train_score</th>\n",
       "      <th>split4_test_score</th>\n",
       "      <th>split4_train_score</th>\n",
       "      <th>std_fit_time</th>\n",
       "      <th>std_score_time</th>\n",
       "      <th>std_test_score</th>\n",
       "      <th>std_train_score</th>\n",
       "    </tr>\n",
       "  </thead>\n",
       "  <tbody>\n",
       "    <tr>\n",
       "      <th>18</th>\n",
       "      <td>0.2584</td>\n",
       "      <td>0.0684</td>\n",
       "      <td>0.751969</td>\n",
       "      <td>0.923791</td>\n",
       "      <td>1</td>\n",
       "      <td>0.75</td>\n",
       "      <td>1</td>\n",
       "      <td>{u'fawn': 7145, u'raining': 15515, u'daftness'...</td>\n",
       "      <td>{u'vect__max_df': 0.75, u'vect__vocabulary': {...</td>\n",
       "      <td>1</td>\n",
       "      <td>...</td>\n",
       "      <td>0.764162</td>\n",
       "      <td>0.925379</td>\n",
       "      <td>0.744074</td>\n",
       "      <td>0.925781</td>\n",
       "      <td>0.732423</td>\n",
       "      <td>0.922065</td>\n",
       "      <td>0.028118</td>\n",
       "      <td>0.010151</td>\n",
       "      <td>0.013572</td>\n",
       "      <td>0.001923</td>\n",
       "    </tr>\n",
       "    <tr>\n",
       "      <th>13</th>\n",
       "      <td>0.2214</td>\n",
       "      <td>0.0540</td>\n",
       "      <td>0.751969</td>\n",
       "      <td>0.923791</td>\n",
       "      <td>1</td>\n",
       "      <td>0.25</td>\n",
       "      <td>10</td>\n",
       "      <td>{u'fawn': 7145, u'raining': 15515, u'daftness'...</td>\n",
       "      <td>{u'vect__max_df': 0.25, u'vect__vocabulary': {...</td>\n",
       "      <td>1</td>\n",
       "      <td>...</td>\n",
       "      <td>0.764162</td>\n",
       "      <td>0.925379</td>\n",
       "      <td>0.744074</td>\n",
       "      <td>0.925781</td>\n",
       "      <td>0.732423</td>\n",
       "      <td>0.922065</td>\n",
       "      <td>0.004224</td>\n",
       "      <td>0.006511</td>\n",
       "      <td>0.013572</td>\n",
       "      <td>0.001923</td>\n",
       "    </tr>\n",
       "    <tr>\n",
       "      <th>23</th>\n",
       "      <td>0.2582</td>\n",
       "      <td>0.0612</td>\n",
       "      <td>0.751969</td>\n",
       "      <td>0.923791</td>\n",
       "      <td>1</td>\n",
       "      <td>1</td>\n",
       "      <td>100</td>\n",
       "      <td>{u'fawn': 7145, u'raining': 15515, u'daftness'...</td>\n",
       "      <td>{u'vect__max_df': 1.0, u'vect__vocabulary': {u...</td>\n",
       "      <td>1</td>\n",
       "      <td>...</td>\n",
       "      <td>0.764162</td>\n",
       "      <td>0.925379</td>\n",
       "      <td>0.744074</td>\n",
       "      <td>0.925781</td>\n",
       "      <td>0.732423</td>\n",
       "      <td>0.922065</td>\n",
       "      <td>0.044269</td>\n",
       "      <td>0.010419</td>\n",
       "      <td>0.013572</td>\n",
       "      <td>0.001923</td>\n",
       "    </tr>\n",
       "    <tr>\n",
       "      <th>22</th>\n",
       "      <td>0.2264</td>\n",
       "      <td>0.0542</td>\n",
       "      <td>0.751969</td>\n",
       "      <td>0.923791</td>\n",
       "      <td>1</td>\n",
       "      <td>1</td>\n",
       "      <td>10</td>\n",
       "      <td>{u'fawn': 7145, u'raining': 15515, u'daftness'...</td>\n",
       "      <td>{u'vect__max_df': 1.0, u'vect__vocabulary': {u...</td>\n",
       "      <td>1</td>\n",
       "      <td>...</td>\n",
       "      <td>0.764162</td>\n",
       "      <td>0.925379</td>\n",
       "      <td>0.744074</td>\n",
       "      <td>0.925781</td>\n",
       "      <td>0.732423</td>\n",
       "      <td>0.922065</td>\n",
       "      <td>0.012371</td>\n",
       "      <td>0.005776</td>\n",
       "      <td>0.013572</td>\n",
       "      <td>0.001923</td>\n",
       "    </tr>\n",
       "    <tr>\n",
       "      <th>21</th>\n",
       "      <td>0.2398</td>\n",
       "      <td>0.0550</td>\n",
       "      <td>0.751969</td>\n",
       "      <td>0.923791</td>\n",
       "      <td>1</td>\n",
       "      <td>1</td>\n",
       "      <td>1</td>\n",
       "      <td>{u'fawn': 7145, u'raining': 15515, u'daftness'...</td>\n",
       "      <td>{u'vect__max_df': 1.0, u'vect__vocabulary': {u...</td>\n",
       "      <td>1</td>\n",
       "      <td>...</td>\n",
       "      <td>0.764162</td>\n",
       "      <td>0.925379</td>\n",
       "      <td>0.744074</td>\n",
       "      <td>0.925781</td>\n",
       "      <td>0.732423</td>\n",
       "      <td>0.922065</td>\n",
       "      <td>0.004707</td>\n",
       "      <td>0.002098</td>\n",
       "      <td>0.013572</td>\n",
       "      <td>0.001923</td>\n",
       "    </tr>\n",
       "  </tbody>\n",
       "</table>\n",
       "<p>5 rows × 24 columns</p>\n",
       "</div>"
      ],
      "text/plain": [
       "    mean_fit_time  mean_score_time  mean_test_score  mean_train_score  \\\n",
       "18         0.2584           0.0684         0.751969          0.923791   \n",
       "13         0.2214           0.0540         0.751969          0.923791   \n",
       "23         0.2582           0.0612         0.751969          0.923791   \n",
       "22         0.2264           0.0542         0.751969          0.923791   \n",
       "21         0.2398           0.0550         0.751969          0.923791   \n",
       "\n",
       "   param_clf__alpha param_vect__max_df param_vect__min_df  \\\n",
       "18                1               0.75                  1   \n",
       "13                1               0.25                 10   \n",
       "23                1                  1                100   \n",
       "22                1                  1                 10   \n",
       "21                1                  1                  1   \n",
       "\n",
       "                               param_vect__vocabulary  \\\n",
       "18  {u'fawn': 7145, u'raining': 15515, u'daftness'...   \n",
       "13  {u'fawn': 7145, u'raining': 15515, u'daftness'...   \n",
       "23  {u'fawn': 7145, u'raining': 15515, u'daftness'...   \n",
       "22  {u'fawn': 7145, u'raining': 15515, u'daftness'...   \n",
       "21  {u'fawn': 7145, u'raining': 15515, u'daftness'...   \n",
       "\n",
       "                                               params  rank_test_score  \\\n",
       "18  {u'vect__max_df': 0.75, u'vect__vocabulary': {...                1   \n",
       "13  {u'vect__max_df': 0.25, u'vect__vocabulary': {...                1   \n",
       "23  {u'vect__max_df': 1.0, u'vect__vocabulary': {u...                1   \n",
       "22  {u'vect__max_df': 1.0, u'vect__vocabulary': {u...                1   \n",
       "21  {u'vect__max_df': 1.0, u'vect__vocabulary': {u...                1   \n",
       "\n",
       "         ...         split2_test_score  split2_train_score  split3_test_score  \\\n",
       "18       ...                  0.764162            0.925379           0.744074   \n",
       "13       ...                  0.764162            0.925379           0.744074   \n",
       "23       ...                  0.764162            0.925379           0.744074   \n",
       "22       ...                  0.764162            0.925379           0.744074   \n",
       "21       ...                  0.764162            0.925379           0.744074   \n",
       "\n",
       "    split3_train_score  split4_test_score  split4_train_score  std_fit_time  \\\n",
       "18            0.925781           0.732423            0.922065      0.028118   \n",
       "13            0.925781           0.732423            0.922065      0.004224   \n",
       "23            0.925781           0.732423            0.922065      0.044269   \n",
       "22            0.925781           0.732423            0.922065      0.012371   \n",
       "21            0.925781           0.732423            0.922065      0.004707   \n",
       "\n",
       "    std_score_time  std_test_score  std_train_score  \n",
       "18        0.010151        0.013572         0.001923  \n",
       "13        0.006511        0.013572         0.001923  \n",
       "23        0.010419        0.013572         0.001923  \n",
       "22        0.005776        0.013572         0.001923  \n",
       "21        0.002098        0.013572         0.001923  \n",
       "\n",
       "[5 rows x 24 columns]"
      ]
     },
     "execution_count": 335,
     "metadata": {},
     "output_type": "execute_result"
    }
   ],
   "source": [
    "gsdf = get_best_five(search)\n",
    "gsdf"
   ]
  },
  {
   "cell_type": "code",
   "execution_count": 336,
   "metadata": {},
   "outputs": [
    {
     "data": {
      "text/html": [
       "<div>\n",
       "<style scoped>\n",
       "    .dataframe tbody tr th:only-of-type {\n",
       "        vertical-align: middle;\n",
       "    }\n",
       "\n",
       "    .dataframe tbody tr th {\n",
       "        vertical-align: top;\n",
       "    }\n",
       "\n",
       "    .dataframe thead th {\n",
       "        text-align: right;\n",
       "    }\n",
       "</style>\n",
       "<table border=\"1\" class=\"dataframe\">\n",
       "  <thead>\n",
       "    <tr style=\"text-align: right;\">\n",
       "      <th></th>\n",
       "      <th>score</th>\n",
       "      <th>estimator</th>\n",
       "    </tr>\n",
       "  </thead>\n",
       "  <tbody>\n",
       "    <tr>\n",
       "      <th>0</th>\n",
       "      <td>0.762815</td>\n",
       "      <td>Pipeline(memory=None,\\n     steps=[('vect', Co...</td>\n",
       "    </tr>\n",
       "    <tr>\n",
       "      <th>1</th>\n",
       "      <td>0.751969</td>\n",
       "      <td>Pipeline(memory=None,\\n     steps=[('vect', Co...</td>\n",
       "    </tr>\n",
       "    <tr>\n",
       "      <th>2</th>\n",
       "      <td>0.732766</td>\n",
       "      <td>Pipeline(memory=None,\\n     steps=[('vect', Tf...</td>\n",
       "    </tr>\n",
       "  </tbody>\n",
       "</table>\n",
       "</div>"
      ],
      "text/plain": [
       "      score                                          estimator\n",
       "0  0.762815  Pipeline(memory=None,\\n     steps=[('vect', Co...\n",
       "1  0.751969  Pipeline(memory=None,\\n     steps=[('vect', Co...\n",
       "2  0.732766  Pipeline(memory=None,\\n     steps=[('vect', Tf..."
      ]
     },
     "execution_count": 336,
     "metadata": {},
     "output_type": "execute_result"
    }
   ],
   "source": [
    "best_scores"
   ]
  },
  {
   "cell_type": "code",
   "execution_count": 192,
   "metadata": {
    "collapsed": true
   },
   "outputs": [],
   "source": [
    "def get_params(cv_results):\n",
    "    df = pd.DataFrame(cv_results)\n",
    "    df = df.sort_values('mean_test_score', ascending=False)\n",
    "    s = df.iloc[0, :]\n",
    "    param_dict = {}\n",
    "    if 'param_clf__alpha' in df.columns:\n",
    "        param_dict['alpha'] = s['param_clf__alpha']\n",
    "    else:\n",
    "        pass\n",
    "    if 'param_vect__min_df' in df.columns:\n",
    "        param_dict['min_df'] = s['param_vect__min_df']\n",
    "    else:\n",
    "        pass\n",
    "    return param_dict"
   ]
  },
  {
   "cell_type": "code",
   "execution_count": 193,
   "metadata": {
    "collapsed": true
   },
   "outputs": [],
   "source": [
    "param_dict = get_params(search.cv_results_)"
   ]
  },
  {
   "cell_type": "code",
   "execution_count": 194,
   "metadata": {
    "collapsed": true
   },
   "outputs": [],
   "source": [
    "def get_test_score(vectorizer, classifier, text_train, y_train, text_test, y_test):\n",
    "    xtrain = vectorizer.fit_transform(text_train)\n",
    "    xtest = vectorizer.transform(text_test)\n",
    "    clf.fit(xtrain, y_train)\n",
    "    prds_test = clf.predict(xtest)\n",
    "    print accuracy_score(y_test, prdstest)"
   ]
  },
  {
   "cell_type": "code",
   "execution_count": 215,
   "metadata": {},
   "outputs": [
    {
     "name": "stdout",
     "output_type": "stream",
     "text": [
      "0.768316195373\n"
     ]
    }
   ],
   "source": [
    "vectorizer = CountVectorizer(vocabulary=vocab, min_df=param_dict['min_df'])\n",
    "clf = MultinomialNB(alpha=param_dict['alpha'])\n",
    "get_test_score(vectorizer, clf, dftrain['quote'], ytrain, dftest['quote'], ytest)"
   ]
  },
  {
   "cell_type": "markdown",
   "metadata": {},
   "source": [
    "### Finding indicative words"
   ]
  },
  {
   "cell_type": "code",
   "execution_count": 222,
   "metadata": {
    "collapsed": true
   },
   "outputs": [],
   "source": [
    "words = np.array(vectorizer.get_feature_names())\n",
    "vectorizer.fit(dftrain['quote'])\n",
    "xtest = vectorizer.transform(dftest['quote'])"
   ]
  },
  {
   "cell_type": "code",
   "execution_count": 228,
   "metadata": {},
   "outputs": [
    {
     "name": "stdout",
     "output_type": "stream",
     "text": [
      "High Fresh Prob. words\t     P(fresh | word)\n",
      "('              superb', '0.95')\n",
      "('            stunning', '0.95')\n",
      "('          remarkable', '0.95')\n",
      "('            intimate', '0.95')\n",
      "('           seductive', '0.95')\n",
      "('              richly', '0.95')\n",
      "('             rousing', '0.96')\n",
      "('           absorbing', '0.96')\n",
      "('            captures', '0.96')\n",
      "('             delight', '0.98')\n",
      "Low Fresh Prob. words\t     P(fresh | word)\n",
      "('                lame', '0.03')\n",
      "('             unfunny', '0.04')\n",
      "('          uninspired', '0.04')\n",
      "('           pointless', '0.04')\n",
      "('             muddled', '0.06')\n",
      "('             witless', '0.07')\n",
      "('            sluggish', '0.07')\n",
      "('         overwrought', '0.08')\n",
      "('       unfortunately', '0.08')\n",
      "('             trailer', '0.09')\n"
     ]
    }
   ],
   "source": [
    "words = np.array(vectorizer.get_feature_names())\n",
    "\n",
    "x = np.eye(xtest.shape[1])\n",
    "probs = clf.predict_proba(x)[:, 1]\n",
    "ind = np.argsort(probs)\n",
    "\n",
    "bad_words = words[ind[:10]]\n",
    "good_words = words[ind[-10:]]\n",
    "\n",
    "bad_prob = probs[ind[:10]]\n",
    "good_prob = probs[ind[-10:]]\n",
    "\n",
    "print(\"High Fresh Prob. words\\t     P(fresh | word)\")\n",
    "for w, p in zip(good_words, good_prob):\n",
    "    print(\"{:>20}\".format(w), \"{:.2f}\".format(p))\n",
    "    \n",
    "print(\"Low Fresh Prob. words\\t     P(fresh | word)\")\n",
    "for w, p in zip(bad_words, bad_prob):\n",
    "    print(\"{:>20}\".format(w), \"{:.2f}\".format(p))"
   ]
  },
  {
   "cell_type": "markdown",
   "metadata": {},
   "source": [
    "### Examining Prediction Errors"
   ]
  },
  {
   "cell_type": "code",
   "execution_count": 229,
   "metadata": {
    "collapsed": true
   },
   "outputs": [],
   "source": [
    "prob = clf.predict_proba(xtest)[:, 1]"
   ]
  },
  {
   "cell_type": "code",
   "execution_count": 230,
   "metadata": {
    "collapsed": true
   },
   "outputs": [],
   "source": [
    "tfresh_protten = np.argsort(prob[ytest==1])[0:5]\n",
    "trotten_pfresh = np.argsort(prob[ytest==0])[-5:]"
   ]
  },
  {
   "cell_type": "code",
   "execution_count": 231,
   "metadata": {},
   "outputs": [
    {
     "name": "stdout",
     "output_type": "stream",
     "text": [
      "True Fresh Predicted Rotten\n",
      "---------------------------\n",
      "3.11928922311e-05\n",
      "The gangland plot is flimsy (bad guy Peter Greene wears too much eyeliner), and the jokes are erratic, but it's a far better showcase for Carrey's comic-from-Uranus talent than Ace Ventura.\n",
      "True\n",
      "\n",
      "0.000493803636538\n",
      "Considering the recent screen standards in book musicals with five numbers for 100 to 110 minutes of running time this Metro Santaclausing of numbers becomes virtually a double-feature filmusical.\n",
      "True\n",
      "\n",
      "0.000580485348766\n",
      "Though it's a good half hour too long, this overblown 1993 spin-off of the 60s TV show otherwise adds up to a pretty good suspense thriller.\n",
      "True\n",
      "\n",
      "0.00118669137404\n",
      "There are occasional flashes that the film may be patronizing the lower end of the blue-collar mentality, as much if not more than the characters who keep putting Rocky down on the screen. However, Avildsen is noted for creating such ambiguities.\n",
      "True\n",
      "\n",
      "0.00122726092911\n",
      "A glorious rebuke to all this summer's recycled, effects-ridden, laboriously \"fun\" Hollywood disappointments piled along the wayside like so many crashed cars.\n",
      "True\n",
      "\n"
     ]
    }
   ],
   "source": [
    "print(\"True Fresh Predicted Rotten\")\n",
    "print('---------------------------')\n",
    "for row in tfresh_protten:\n",
    "    print prob[ytest==1][row]\n",
    "    print(dftest[ytest == 1].quote.iloc[row])\n",
    "    print(dftest[ytest == 1].fresh.iloc[row])\n",
    "    print(\"\")"
   ]
  },
  {
   "cell_type": "code",
   "execution_count": 232,
   "metadata": {},
   "outputs": [
    {
     "name": "stdout",
     "output_type": "stream",
     "text": [
      "True Rotten Predicted Fresh\n",
      "---------------------------\n",
      "0.999494537314\n",
      "A lightweight romance for the senior crowd, Last Chance Harvey does nothing in particular, but it does it fairly well thanks to stars Dustin Hoffman and Emma Thompson.\n",
      "\n",
      "0.999800928031\n",
      "The performances are precise, the language is alive and well spoken and the setting is striking, but Vanya on 42nd Street still suffers rather heavily from the limitations of filmed theater.\n",
      "\n",
      "0.999840883222\n",
      "A bleak, annoyingly quirky Gen-X recasting of the When Harry Met Sally notion that true love is based on friendship.\n",
      "\n",
      "0.999961471314\n",
      "What if this lesser-known chapter of German resistance had been more deeply captured? What if the moral conflicts running through this movie about love of country and revolt said more about Germany, war and, yes, genocide?\n",
      "\n",
      "0.999985194203\n",
      "An ambitious, serious but not particularly stimulating musical feature that unconvincingly attempts to graft warm and cuddly family-film motifs onto turbulent aspects of modern history and mythology.\n",
      "\n"
     ]
    }
   ],
   "source": [
    "print(\"True Rotten Predicted Fresh\")\n",
    "print('---------------------------')\n",
    "for row in trotten_pfresh:\n",
    "    print prob[ytest==0][row]\n",
    "    print(dftest[ytest == 0].quote.iloc[row])\n",
    "    print(\"\")"
   ]
  },
  {
   "cell_type": "code",
   "execution_count": 234,
   "metadata": {},
   "outputs": [
    {
     "name": "stdout",
     "output_type": "stream",
     "text": [
      "[ 0.99950175]\n"
     ]
    }
   ],
   "source": [
    "text = ['This movie is not remarkable, touching, or superb in any way']\n",
    "x = vectorizer.transform(text)\n",
    "x = x.tocsc()\n",
    "prob = clf.predict_proba(x)[:, 1]\n",
    "print prob"
   ]
  },
  {
   "cell_type": "markdown",
   "metadata": {},
   "source": [
    "## Improving model accuracy"
   ]
  },
  {
   "cell_type": "code",
   "execution_count": 263,
   "metadata": {
    "collapsed": true
   },
   "outputs": [],
   "source": [
    "best_scores = pd.DataFrame({'score': search.best_score_,\n",
    "                            'estimator': search.best_estimator_},\n",
    "                          index=[0],\n",
    "                          columns=['score', 'estimator'])"
   ]
  },
  {
   "cell_type": "code",
   "execution_count": null,
   "metadata": {
    "collapsed": true
   },
   "outputs": [],
   "source": [
    "def run_search(vectorizer, classifier):\n",
    "    steps = [('vect', vect),\n",
    "             ('clf', clf)]\n",
    "    pipeline = pipeline = Pipeline(steps)\n",
    "    search = GridSearchCV(pipeline,\n",
    "                      param_grid,\n",
    "                      cv=skf,\n",
    "                      scoring='accuracy')\n",
    "    search.fit(dftrain['quote'], ytrain)\n",
    "    return search"
   ]
  },
  {
   "cell_type": "code",
   "execution_count": 260,
   "metadata": {
    "collapsed": true
   },
   "outputs": [],
   "source": [
    "def update_best_scores(gridsearch):\n",
    "    series_best = pd.Series([gridsearch.best_score_, gridsearch.best_estimator_],\n",
    "                           index=['score', 'estimator'])\n",
    "    return best_scores.append(series_best, ignore_index=True)"
   ]
  },
  {
   "cell_type": "markdown",
   "metadata": {},
   "source": [
    "### Count vectorizer with stop words\n",
    "\n",
    "some text"
   ]
  },
  {
   "cell_type": "code",
   "execution_count": 312,
   "metadata": {
    "collapsed": true
   },
   "outputs": [],
   "source": [
    "vectorizer = CountVectorizer(stop_words='english')\n",
    "vectorizer.fit(df.quote)\n",
    "vocab = vectorizer.vocabulary_"
   ]
  },
  {
   "cell_type": "code",
   "execution_count": 313,
   "metadata": {},
   "outputs": [
    {
     "data": {
      "text/html": [
       "<div>\n",
       "<style scoped>\n",
       "    .dataframe tbody tr th:only-of-type {\n",
       "        vertical-align: middle;\n",
       "    }\n",
       "\n",
       "    .dataframe tbody tr th {\n",
       "        vertical-align: top;\n",
       "    }\n",
       "\n",
       "    .dataframe thead th {\n",
       "        text-align: right;\n",
       "    }\n",
       "</style>\n",
       "<table border=\"1\" class=\"dataframe\">\n",
       "  <thead>\n",
       "    <tr style=\"text-align: right;\">\n",
       "      <th></th>\n",
       "      <th>mean_fit_time</th>\n",
       "      <th>mean_score_time</th>\n",
       "      <th>mean_test_score</th>\n",
       "      <th>mean_train_score</th>\n",
       "      <th>param_clf__alpha</th>\n",
       "      <th>param_vect__max_df</th>\n",
       "      <th>param_vect__min_df</th>\n",
       "      <th>params</th>\n",
       "      <th>rank_test_score</th>\n",
       "      <th>split0_test_score</th>\n",
       "      <th>...</th>\n",
       "      <th>split2_test_score</th>\n",
       "      <th>split2_train_score</th>\n",
       "      <th>split3_test_score</th>\n",
       "      <th>split3_train_score</th>\n",
       "      <th>split4_test_score</th>\n",
       "      <th>split4_train_score</th>\n",
       "      <th>std_fit_time</th>\n",
       "      <th>std_score_time</th>\n",
       "      <th>std_test_score</th>\n",
       "      <th>std_train_score</th>\n",
       "    </tr>\n",
       "  </thead>\n",
       "  <tbody>\n",
       "    <tr>\n",
       "      <th>18</th>\n",
       "      <td>0.2230</td>\n",
       "      <td>0.0570</td>\n",
       "      <td>0.751969</td>\n",
       "      <td>0.923791</td>\n",
       "      <td>1</td>\n",
       "      <td>0.75</td>\n",
       "      <td>1</td>\n",
       "      <td>{u'vect__max_df': 0.75, u'vect__min_df': 1, u'...</td>\n",
       "      <td>1</td>\n",
       "      <td>0.76988</td>\n",
       "      <td>...</td>\n",
       "      <td>0.764162</td>\n",
       "      <td>0.925379</td>\n",
       "      <td>0.744074</td>\n",
       "      <td>0.925781</td>\n",
       "      <td>0.732423</td>\n",
       "      <td>0.922065</td>\n",
       "      <td>0.006899</td>\n",
       "      <td>0.005177</td>\n",
       "      <td>0.013572</td>\n",
       "      <td>0.001923</td>\n",
       "    </tr>\n",
       "    <tr>\n",
       "      <th>13</th>\n",
       "      <td>0.2270</td>\n",
       "      <td>0.0566</td>\n",
       "      <td>0.751969</td>\n",
       "      <td>0.923791</td>\n",
       "      <td>1</td>\n",
       "      <td>0.25</td>\n",
       "      <td>10</td>\n",
       "      <td>{u'vect__max_df': 0.25, u'vect__min_df': 10, u...</td>\n",
       "      <td>1</td>\n",
       "      <td>0.76988</td>\n",
       "      <td>...</td>\n",
       "      <td>0.764162</td>\n",
       "      <td>0.925379</td>\n",
       "      <td>0.744074</td>\n",
       "      <td>0.925781</td>\n",
       "      <td>0.732423</td>\n",
       "      <td>0.922065</td>\n",
       "      <td>0.005797</td>\n",
       "      <td>0.004030</td>\n",
       "      <td>0.013572</td>\n",
       "      <td>0.001923</td>\n",
       "    </tr>\n",
       "    <tr>\n",
       "      <th>23</th>\n",
       "      <td>0.2412</td>\n",
       "      <td>0.0596</td>\n",
       "      <td>0.751969</td>\n",
       "      <td>0.923791</td>\n",
       "      <td>1</td>\n",
       "      <td>1</td>\n",
       "      <td>100</td>\n",
       "      <td>{u'vect__max_df': 1.0, u'vect__min_df': 100, u...</td>\n",
       "      <td>1</td>\n",
       "      <td>0.76988</td>\n",
       "      <td>...</td>\n",
       "      <td>0.764162</td>\n",
       "      <td>0.925379</td>\n",
       "      <td>0.744074</td>\n",
       "      <td>0.925781</td>\n",
       "      <td>0.732423</td>\n",
       "      <td>0.922065</td>\n",
       "      <td>0.019364</td>\n",
       "      <td>0.008935</td>\n",
       "      <td>0.013572</td>\n",
       "      <td>0.001923</td>\n",
       "    </tr>\n",
       "    <tr>\n",
       "      <th>22</th>\n",
       "      <td>0.2252</td>\n",
       "      <td>0.0564</td>\n",
       "      <td>0.751969</td>\n",
       "      <td>0.923791</td>\n",
       "      <td>1</td>\n",
       "      <td>1</td>\n",
       "      <td>10</td>\n",
       "      <td>{u'vect__max_df': 1.0, u'vect__min_df': 10, u'...</td>\n",
       "      <td>1</td>\n",
       "      <td>0.76988</td>\n",
       "      <td>...</td>\n",
       "      <td>0.764162</td>\n",
       "      <td>0.925379</td>\n",
       "      <td>0.744074</td>\n",
       "      <td>0.925781</td>\n",
       "      <td>0.732423</td>\n",
       "      <td>0.922065</td>\n",
       "      <td>0.004534</td>\n",
       "      <td>0.003929</td>\n",
       "      <td>0.013572</td>\n",
       "      <td>0.001923</td>\n",
       "    </tr>\n",
       "    <tr>\n",
       "      <th>21</th>\n",
       "      <td>0.2342</td>\n",
       "      <td>0.0562</td>\n",
       "      <td>0.751969</td>\n",
       "      <td>0.923791</td>\n",
       "      <td>1</td>\n",
       "      <td>1</td>\n",
       "      <td>1</td>\n",
       "      <td>{u'vect__max_df': 1.0, u'vect__min_df': 1, u'c...</td>\n",
       "      <td>1</td>\n",
       "      <td>0.76988</td>\n",
       "      <td>...</td>\n",
       "      <td>0.764162</td>\n",
       "      <td>0.925379</td>\n",
       "      <td>0.744074</td>\n",
       "      <td>0.925781</td>\n",
       "      <td>0.732423</td>\n",
       "      <td>0.922065</td>\n",
       "      <td>0.003970</td>\n",
       "      <td>0.005231</td>\n",
       "      <td>0.013572</td>\n",
       "      <td>0.001923</td>\n",
       "    </tr>\n",
       "  </tbody>\n",
       "</table>\n",
       "<p>5 rows × 23 columns</p>\n",
       "</div>"
      ],
      "text/plain": [
       "    mean_fit_time  mean_score_time  mean_test_score  mean_train_score  \\\n",
       "18         0.2230           0.0570         0.751969          0.923791   \n",
       "13         0.2270           0.0566         0.751969          0.923791   \n",
       "23         0.2412           0.0596         0.751969          0.923791   \n",
       "22         0.2252           0.0564         0.751969          0.923791   \n",
       "21         0.2342           0.0562         0.751969          0.923791   \n",
       "\n",
       "   param_clf__alpha param_vect__max_df param_vect__min_df  \\\n",
       "18                1               0.75                  1   \n",
       "13                1               0.25                 10   \n",
       "23                1                  1                100   \n",
       "22                1                  1                 10   \n",
       "21                1                  1                  1   \n",
       "\n",
       "                                               params  rank_test_score  \\\n",
       "18  {u'vect__max_df': 0.75, u'vect__min_df': 1, u'...                1   \n",
       "13  {u'vect__max_df': 0.25, u'vect__min_df': 10, u...                1   \n",
       "23  {u'vect__max_df': 1.0, u'vect__min_df': 100, u...                1   \n",
       "22  {u'vect__max_df': 1.0, u'vect__min_df': 10, u'...                1   \n",
       "21  {u'vect__max_df': 1.0, u'vect__min_df': 1, u'c...                1   \n",
       "\n",
       "    split0_test_score       ...         split2_test_score  split2_train_score  \\\n",
       "18            0.76988       ...                  0.764162            0.925379   \n",
       "13            0.76988       ...                  0.764162            0.925379   \n",
       "23            0.76988       ...                  0.764162            0.925379   \n",
       "22            0.76988       ...                  0.764162            0.925379   \n",
       "21            0.76988       ...                  0.764162            0.925379   \n",
       "\n",
       "    split3_test_score  split3_train_score  split4_test_score  \\\n",
       "18           0.744074            0.925781           0.732423   \n",
       "13           0.744074            0.925781           0.732423   \n",
       "23           0.744074            0.925781           0.732423   \n",
       "22           0.744074            0.925781           0.732423   \n",
       "21           0.744074            0.925781           0.732423   \n",
       "\n",
       "    split4_train_score  std_fit_time  std_score_time  std_test_score  \\\n",
       "18            0.922065      0.006899        0.005177        0.013572   \n",
       "13            0.922065      0.005797        0.004030        0.013572   \n",
       "23            0.922065      0.019364        0.008935        0.013572   \n",
       "22            0.922065      0.004534        0.003929        0.013572   \n",
       "21            0.922065      0.003970        0.005231        0.013572   \n",
       "\n",
       "    std_train_score  \n",
       "18         0.001923  \n",
       "13         0.001923  \n",
       "23         0.001923  \n",
       "22         0.001923  \n",
       "21         0.001923  \n",
       "\n",
       "[5 rows x 23 columns]"
      ]
     },
     "execution_count": 313,
     "metadata": {},
     "output_type": "execute_result"
    }
   ],
   "source": [
    "vect = CountVectorizer(stop_words='english', vocabulary=vocab)\n",
    "clf = MultinomialNB()\n",
    "\n",
    "search = run_search(vect, clf)\n",
    "best_scores = update_best_scores(search)\n",
    "gsdf = get_best_five(search)\n",
    "gsdf"
   ]
  },
  {
   "cell_type": "markdown",
   "metadata": {},
   "source": [
    "### TF-IDF vectorizer, Naive Bayes Classifier"
   ]
  },
  {
   "cell_type": "code",
   "execution_count": 323,
   "metadata": {
    "collapsed": true
   },
   "outputs": [],
   "source": [
    "vectorizer = TfidfVectorizer(stop_words='english')\n",
    "vectorizer.fit(df.quote)\n",
    "vocab_tfidf = vectorizer.vocabulary_"
   ]
  },
  {
   "cell_type": "code",
   "execution_count": 328,
   "metadata": {},
   "outputs": [
    {
     "data": {
      "text/html": [
       "<div>\n",
       "<style scoped>\n",
       "    .dataframe tbody tr th:only-of-type {\n",
       "        vertical-align: middle;\n",
       "    }\n",
       "\n",
       "    .dataframe tbody tr th {\n",
       "        vertical-align: top;\n",
       "    }\n",
       "\n",
       "    .dataframe thead th {\n",
       "        text-align: right;\n",
       "    }\n",
       "</style>\n",
       "<table border=\"1\" class=\"dataframe\">\n",
       "  <thead>\n",
       "    <tr style=\"text-align: right;\">\n",
       "      <th></th>\n",
       "      <th>mean_fit_time</th>\n",
       "      <th>mean_score_time</th>\n",
       "      <th>mean_test_score</th>\n",
       "      <th>mean_train_score</th>\n",
       "      <th>param_clf__alpha</th>\n",
       "      <th>param_vect__max_df</th>\n",
       "      <th>param_vect__min_df</th>\n",
       "      <th>params</th>\n",
       "      <th>rank_test_score</th>\n",
       "      <th>split0_test_score</th>\n",
       "      <th>...</th>\n",
       "      <th>split2_test_score</th>\n",
       "      <th>split2_train_score</th>\n",
       "      <th>split3_test_score</th>\n",
       "      <th>split3_train_score</th>\n",
       "      <th>split4_test_score</th>\n",
       "      <th>split4_train_score</th>\n",
       "      <th>std_fit_time</th>\n",
       "      <th>std_score_time</th>\n",
       "      <th>std_test_score</th>\n",
       "      <th>std_train_score</th>\n",
       "    </tr>\n",
       "  </thead>\n",
       "  <tbody>\n",
       "    <tr>\n",
       "      <th>0</th>\n",
       "      <td>0.2314</td>\n",
       "      <td>0.0550</td>\n",
       "      <td>0.732766</td>\n",
       "      <td>0.953539</td>\n",
       "      <td>0.1</td>\n",
       "      <td>0.25</td>\n",
       "      <td>1</td>\n",
       "      <td>{u'vect__max_df': 0.25, u'vect__min_df': 1, u'...</td>\n",
       "      <td>1</td>\n",
       "      <td>0.750602</td>\n",
       "      <td>...</td>\n",
       "      <td>0.739253</td>\n",
       "      <td>0.956111</td>\n",
       "      <td>0.720771</td>\n",
       "      <td>0.954404</td>\n",
       "      <td>0.71595</td>\n",
       "      <td>0.954504</td>\n",
       "      <td>0.008663</td>\n",
       "      <td>0.003847</td>\n",
       "      <td>0.012704</td>\n",
       "      <td>0.002082</td>\n",
       "    </tr>\n",
       "    <tr>\n",
       "      <th>7</th>\n",
       "      <td>0.2428</td>\n",
       "      <td>0.0552</td>\n",
       "      <td>0.732766</td>\n",
       "      <td>0.953539</td>\n",
       "      <td>0.1</td>\n",
       "      <td>0.75</td>\n",
       "      <td>10</td>\n",
       "      <td>{u'vect__max_df': 0.75, u'vect__min_df': 10, u...</td>\n",
       "      <td>1</td>\n",
       "      <td>0.750602</td>\n",
       "      <td>...</td>\n",
       "      <td>0.739253</td>\n",
       "      <td>0.956111</td>\n",
       "      <td>0.720771</td>\n",
       "      <td>0.954404</td>\n",
       "      <td>0.71595</td>\n",
       "      <td>0.954504</td>\n",
       "      <td>0.008060</td>\n",
       "      <td>0.007440</td>\n",
       "      <td>0.012704</td>\n",
       "      <td>0.002082</td>\n",
       "    </tr>\n",
       "    <tr>\n",
       "      <th>11</th>\n",
       "      <td>0.2300</td>\n",
       "      <td>0.0548</td>\n",
       "      <td>0.732766</td>\n",
       "      <td>0.953539</td>\n",
       "      <td>0.1</td>\n",
       "      <td>1</td>\n",
       "      <td>100</td>\n",
       "      <td>{u'vect__max_df': 1.0, u'vect__min_df': 100, u...</td>\n",
       "      <td>1</td>\n",
       "      <td>0.750602</td>\n",
       "      <td>...</td>\n",
       "      <td>0.739253</td>\n",
       "      <td>0.956111</td>\n",
       "      <td>0.720771</td>\n",
       "      <td>0.954404</td>\n",
       "      <td>0.71595</td>\n",
       "      <td>0.954504</td>\n",
       "      <td>0.006693</td>\n",
       "      <td>0.004445</td>\n",
       "      <td>0.012704</td>\n",
       "      <td>0.002082</td>\n",
       "    </tr>\n",
       "    <tr>\n",
       "      <th>10</th>\n",
       "      <td>0.2160</td>\n",
       "      <td>0.0548</td>\n",
       "      <td>0.732766</td>\n",
       "      <td>0.953539</td>\n",
       "      <td>0.1</td>\n",
       "      <td>1</td>\n",
       "      <td>10</td>\n",
       "      <td>{u'vect__max_df': 1.0, u'vect__min_df': 10, u'...</td>\n",
       "      <td>1</td>\n",
       "      <td>0.750602</td>\n",
       "      <td>...</td>\n",
       "      <td>0.739253</td>\n",
       "      <td>0.956111</td>\n",
       "      <td>0.720771</td>\n",
       "      <td>0.954404</td>\n",
       "      <td>0.71595</td>\n",
       "      <td>0.954504</td>\n",
       "      <td>0.002608</td>\n",
       "      <td>0.003763</td>\n",
       "      <td>0.012704</td>\n",
       "      <td>0.002082</td>\n",
       "    </tr>\n",
       "    <tr>\n",
       "      <th>9</th>\n",
       "      <td>0.2308</td>\n",
       "      <td>0.0590</td>\n",
       "      <td>0.732766</td>\n",
       "      <td>0.953539</td>\n",
       "      <td>0.1</td>\n",
       "      <td>1</td>\n",
       "      <td>1</td>\n",
       "      <td>{u'vect__max_df': 1.0, u'vect__min_df': 1, u'c...</td>\n",
       "      <td>1</td>\n",
       "      <td>0.750602</td>\n",
       "      <td>...</td>\n",
       "      <td>0.739253</td>\n",
       "      <td>0.956111</td>\n",
       "      <td>0.720771</td>\n",
       "      <td>0.954404</td>\n",
       "      <td>0.71595</td>\n",
       "      <td>0.954504</td>\n",
       "      <td>0.010419</td>\n",
       "      <td>0.002967</td>\n",
       "      <td>0.012704</td>\n",
       "      <td>0.002082</td>\n",
       "    </tr>\n",
       "  </tbody>\n",
       "</table>\n",
       "<p>5 rows × 23 columns</p>\n",
       "</div>"
      ],
      "text/plain": [
       "    mean_fit_time  mean_score_time  mean_test_score  mean_train_score  \\\n",
       "0          0.2314           0.0550         0.732766          0.953539   \n",
       "7          0.2428           0.0552         0.732766          0.953539   \n",
       "11         0.2300           0.0548         0.732766          0.953539   \n",
       "10         0.2160           0.0548         0.732766          0.953539   \n",
       "9          0.2308           0.0590         0.732766          0.953539   \n",
       "\n",
       "   param_clf__alpha param_vect__max_df param_vect__min_df  \\\n",
       "0               0.1               0.25                  1   \n",
       "7               0.1               0.75                 10   \n",
       "11              0.1                  1                100   \n",
       "10              0.1                  1                 10   \n",
       "9               0.1                  1                  1   \n",
       "\n",
       "                                               params  rank_test_score  \\\n",
       "0   {u'vect__max_df': 0.25, u'vect__min_df': 1, u'...                1   \n",
       "7   {u'vect__max_df': 0.75, u'vect__min_df': 10, u...                1   \n",
       "11  {u'vect__max_df': 1.0, u'vect__min_df': 100, u...                1   \n",
       "10  {u'vect__max_df': 1.0, u'vect__min_df': 10, u'...                1   \n",
       "9   {u'vect__max_df': 1.0, u'vect__min_df': 1, u'c...                1   \n",
       "\n",
       "    split0_test_score       ...         split2_test_score  split2_train_score  \\\n",
       "0            0.750602       ...                  0.739253            0.956111   \n",
       "7            0.750602       ...                  0.739253            0.956111   \n",
       "11           0.750602       ...                  0.739253            0.956111   \n",
       "10           0.750602       ...                  0.739253            0.956111   \n",
       "9            0.750602       ...                  0.739253            0.956111   \n",
       "\n",
       "    split3_test_score  split3_train_score  split4_test_score  \\\n",
       "0            0.720771            0.954404            0.71595   \n",
       "7            0.720771            0.954404            0.71595   \n",
       "11           0.720771            0.954404            0.71595   \n",
       "10           0.720771            0.954404            0.71595   \n",
       "9            0.720771            0.954404            0.71595   \n",
       "\n",
       "    split4_train_score  std_fit_time  std_score_time  std_test_score  \\\n",
       "0             0.954504      0.008663        0.003847        0.012704   \n",
       "7             0.954504      0.008060        0.007440        0.012704   \n",
       "11            0.954504      0.006693        0.004445        0.012704   \n",
       "10            0.954504      0.002608        0.003763        0.012704   \n",
       "9             0.954504      0.010419        0.002967        0.012704   \n",
       "\n",
       "    std_train_score  \n",
       "0          0.002082  \n",
       "7          0.002082  \n",
       "11         0.002082  \n",
       "10         0.002082  \n",
       "9          0.002082  \n",
       "\n",
       "[5 rows x 23 columns]"
      ]
     },
     "execution_count": 328,
     "metadata": {},
     "output_type": "execute_result"
    }
   ],
   "source": [
    "vect = TfidfVectorizer(stop_words='english', vocabulary=vocab_tfidf)\n",
    "clf = MultinomialNB()\n",
    "\n",
    "search = run_search(vect, clf)\n",
    "best_scores = update_best_scores(search)\n",
    "gsdf = get_best_five(search)\n",
    "gsdf"
   ]
  },
  {
   "cell_type": "markdown",
   "metadata": {},
   "source": [
    "### Count Vectorizer with 1-3 grams, Naive Bayes Classifier"
   ]
  },
  {
   "cell_type": "code",
   "execution_count": 353,
   "metadata": {},
   "outputs": [
    {
     "data": {
      "text/html": [
       "<div>\n",
       "<style scoped>\n",
       "    .dataframe tbody tr th:only-of-type {\n",
       "        vertical-align: middle;\n",
       "    }\n",
       "\n",
       "    .dataframe tbody tr th {\n",
       "        vertical-align: top;\n",
       "    }\n",
       "\n",
       "    .dataframe thead th {\n",
       "        text-align: right;\n",
       "    }\n",
       "</style>\n",
       "<table border=\"1\" class=\"dataframe\">\n",
       "  <thead>\n",
       "    <tr style=\"text-align: right;\">\n",
       "      <th></th>\n",
       "      <th>mean_fit_time</th>\n",
       "      <th>mean_score_time</th>\n",
       "      <th>mean_test_score</th>\n",
       "      <th>mean_train_score</th>\n",
       "      <th>param_clf__alpha</th>\n",
       "      <th>param_vect__max_df</th>\n",
       "      <th>param_vect__min_df</th>\n",
       "      <th>param_vect__ngram_range</th>\n",
       "      <th>param_vect__vocabulary</th>\n",
       "      <th>params</th>\n",
       "      <th>...</th>\n",
       "      <th>split2_test_score</th>\n",
       "      <th>split2_train_score</th>\n",
       "      <th>split3_test_score</th>\n",
       "      <th>split3_train_score</th>\n",
       "      <th>split4_test_score</th>\n",
       "      <th>split4_train_score</th>\n",
       "      <th>std_fit_time</th>\n",
       "      <th>std_score_time</th>\n",
       "      <th>std_test_score</th>\n",
       "      <th>std_train_score</th>\n",
       "    </tr>\n",
       "  </thead>\n",
       "  <tbody>\n",
       "    <tr>\n",
       "      <th>72</th>\n",
       "      <td>0.2474</td>\n",
       "      <td>0.0582</td>\n",
       "      <td>0.751969</td>\n",
       "      <td>0.923791</td>\n",
       "      <td>1</td>\n",
       "      <td>0.75</td>\n",
       "      <td>1</td>\n",
       "      <td>(1, 1)</td>\n",
       "      <td>{u'fawn': 7145, u'raining': 15515, u'daftness'...</td>\n",
       "      <td>{u'vect__ngram_range': (1, 1), u'vect__max_df'...</td>\n",
       "      <td>...</td>\n",
       "      <td>0.764162</td>\n",
       "      <td>0.925379</td>\n",
       "      <td>0.744074</td>\n",
       "      <td>0.925781</td>\n",
       "      <td>0.732423</td>\n",
       "      <td>0.922065</td>\n",
       "      <td>0.034725</td>\n",
       "      <td>0.005115</td>\n",
       "      <td>0.013572</td>\n",
       "      <td>0.001923</td>\n",
       "    </tr>\n",
       "    <tr>\n",
       "      <th>69</th>\n",
       "      <td>0.3970</td>\n",
       "      <td>0.0930</td>\n",
       "      <td>0.751969</td>\n",
       "      <td>0.923791</td>\n",
       "      <td>1</td>\n",
       "      <td>0.5</td>\n",
       "      <td>100</td>\n",
       "      <td>(1, 2)</td>\n",
       "      <td>{u'fawn': 7145, u'raining': 15515, u'daftness'...</td>\n",
       "      <td>{u'vect__ngram_range': (1, 2), u'vect__max_df'...</td>\n",
       "      <td>...</td>\n",
       "      <td>0.764162</td>\n",
       "      <td>0.925379</td>\n",
       "      <td>0.744074</td>\n",
       "      <td>0.925781</td>\n",
       "      <td>0.732423</td>\n",
       "      <td>0.922065</td>\n",
       "      <td>0.050727</td>\n",
       "      <td>0.009777</td>\n",
       "      <td>0.013572</td>\n",
       "      <td>0.001923</td>\n",
       "    </tr>\n",
       "    <tr>\n",
       "      <th>48</th>\n",
       "      <td>0.2368</td>\n",
       "      <td>0.0556</td>\n",
       "      <td>0.751969</td>\n",
       "      <td>0.923791</td>\n",
       "      <td>1</td>\n",
       "      <td>0.25</td>\n",
       "      <td>1</td>\n",
       "      <td>(1, 1)</td>\n",
       "      <td>{u'fawn': 7145, u'raining': 15515, u'daftness'...</td>\n",
       "      <td>{u'vect__ngram_range': (1, 1), u'vect__max_df'...</td>\n",
       "      <td>...</td>\n",
       "      <td>0.764162</td>\n",
       "      <td>0.925379</td>\n",
       "      <td>0.744074</td>\n",
       "      <td>0.925781</td>\n",
       "      <td>0.732423</td>\n",
       "      <td>0.922065</td>\n",
       "      <td>0.033766</td>\n",
       "      <td>0.003007</td>\n",
       "      <td>0.013572</td>\n",
       "      <td>0.001923</td>\n",
       "    </tr>\n",
       "    <tr>\n",
       "      <th>49</th>\n",
       "      <td>0.3386</td>\n",
       "      <td>0.0816</td>\n",
       "      <td>0.751969</td>\n",
       "      <td>0.923791</td>\n",
       "      <td>1</td>\n",
       "      <td>0.25</td>\n",
       "      <td>1</td>\n",
       "      <td>(1, 2)</td>\n",
       "      <td>{u'fawn': 7145, u'raining': 15515, u'daftness'...</td>\n",
       "      <td>{u'vect__ngram_range': (1, 2), u'vect__max_df'...</td>\n",
       "      <td>...</td>\n",
       "      <td>0.764162</td>\n",
       "      <td>0.925379</td>\n",
       "      <td>0.744074</td>\n",
       "      <td>0.925781</td>\n",
       "      <td>0.732423</td>\n",
       "      <td>0.922065</td>\n",
       "      <td>0.009178</td>\n",
       "      <td>0.006151</td>\n",
       "      <td>0.013572</td>\n",
       "      <td>0.001923</td>\n",
       "    </tr>\n",
       "    <tr>\n",
       "      <th>52</th>\n",
       "      <td>0.2274</td>\n",
       "      <td>0.0544</td>\n",
       "      <td>0.751969</td>\n",
       "      <td>0.923791</td>\n",
       "      <td>1</td>\n",
       "      <td>0.25</td>\n",
       "      <td>10</td>\n",
       "      <td>(1, 1)</td>\n",
       "      <td>{u'fawn': 7145, u'raining': 15515, u'daftness'...</td>\n",
       "      <td>{u'vect__ngram_range': (1, 1), u'vect__max_df'...</td>\n",
       "      <td>...</td>\n",
       "      <td>0.764162</td>\n",
       "      <td>0.925379</td>\n",
       "      <td>0.744074</td>\n",
       "      <td>0.925781</td>\n",
       "      <td>0.732423</td>\n",
       "      <td>0.922065</td>\n",
       "      <td>0.008452</td>\n",
       "      <td>0.004224</td>\n",
       "      <td>0.013572</td>\n",
       "      <td>0.001923</td>\n",
       "    </tr>\n",
       "  </tbody>\n",
       "</table>\n",
       "<p>5 rows × 25 columns</p>\n",
       "</div>"
      ],
      "text/plain": [
       "    mean_fit_time  mean_score_time  mean_test_score  mean_train_score  \\\n",
       "72         0.2474           0.0582         0.751969          0.923791   \n",
       "69         0.3970           0.0930         0.751969          0.923791   \n",
       "48         0.2368           0.0556         0.751969          0.923791   \n",
       "49         0.3386           0.0816         0.751969          0.923791   \n",
       "52         0.2274           0.0544         0.751969          0.923791   \n",
       "\n",
       "   param_clf__alpha param_vect__max_df param_vect__min_df  \\\n",
       "72                1               0.75                  1   \n",
       "69                1                0.5                100   \n",
       "48                1               0.25                  1   \n",
       "49                1               0.25                  1   \n",
       "52                1               0.25                 10   \n",
       "\n",
       "   param_vect__ngram_range                             param_vect__vocabulary  \\\n",
       "72                  (1, 1)  {u'fawn': 7145, u'raining': 15515, u'daftness'...   \n",
       "69                  (1, 2)  {u'fawn': 7145, u'raining': 15515, u'daftness'...   \n",
       "48                  (1, 1)  {u'fawn': 7145, u'raining': 15515, u'daftness'...   \n",
       "49                  (1, 2)  {u'fawn': 7145, u'raining': 15515, u'daftness'...   \n",
       "52                  (1, 1)  {u'fawn': 7145, u'raining': 15515, u'daftness'...   \n",
       "\n",
       "                                               params       ...         \\\n",
       "72  {u'vect__ngram_range': (1, 1), u'vect__max_df'...       ...          \n",
       "69  {u'vect__ngram_range': (1, 2), u'vect__max_df'...       ...          \n",
       "48  {u'vect__ngram_range': (1, 1), u'vect__max_df'...       ...          \n",
       "49  {u'vect__ngram_range': (1, 2), u'vect__max_df'...       ...          \n",
       "52  {u'vect__ngram_range': (1, 1), u'vect__max_df'...       ...          \n",
       "\n",
       "    split2_test_score  split2_train_score  split3_test_score  \\\n",
       "72           0.764162            0.925379           0.744074   \n",
       "69           0.764162            0.925379           0.744074   \n",
       "48           0.764162            0.925379           0.744074   \n",
       "49           0.764162            0.925379           0.744074   \n",
       "52           0.764162            0.925379           0.744074   \n",
       "\n",
       "    split3_train_score  split4_test_score  split4_train_score  std_fit_time  \\\n",
       "72            0.925781           0.732423            0.922065      0.034725   \n",
       "69            0.925781           0.732423            0.922065      0.050727   \n",
       "48            0.925781           0.732423            0.922065      0.033766   \n",
       "49            0.925781           0.732423            0.922065      0.009178   \n",
       "52            0.925781           0.732423            0.922065      0.008452   \n",
       "\n",
       "    std_score_time  std_test_score  std_train_score  \n",
       "72        0.005115        0.013572         0.001923  \n",
       "69        0.009777        0.013572         0.001923  \n",
       "48        0.003007        0.013572         0.001923  \n",
       "49        0.006151        0.013572         0.001923  \n",
       "52        0.004224        0.013572         0.001923  \n",
       "\n",
       "[5 rows x 25 columns]"
      ]
     },
     "execution_count": 353,
     "metadata": {},
     "output_type": "execute_result"
    }
   ],
   "source": [
    "vect = CountVectorizer(stop_words='english')\n",
    "clf = MultinomialNB()\n",
    "\n",
    "# add ngram_range to parameter search dict\n",
    "param_grid['vect__ngram_range'] = [(1, 1), (2,2), (3, 3)]\n",
    "\n",
    "search = run_search(vect, clf)\n",
    "best_scores = update_best_scores(search)\n",
    "gsdf = get_best_five(search)\n",
    "gsdf"
   ]
  },
  {
   "cell_type": "markdown",
   "metadata": {
    "collapsed": true
   },
   "source": [
    "### TFIDF Vectorizer with 1-3 n-grams, Naive Bayes Classifier"
   ]
  },
  {
   "cell_type": "code",
   "execution_count": 354,
   "metadata": {},
   "outputs": [
    {
     "ename": "KeyboardInterrupt",
     "evalue": "",
     "output_type": "error",
     "traceback": [
      "\u001b[1;31m---------------------------------------------------------------------------\u001b[0m",
      "\u001b[1;31mKeyboardInterrupt\u001b[0m                         Traceback (most recent call last)",
      "\u001b[1;32m<ipython-input-354-d56a2bf203c7>\u001b[0m in \u001b[0;36m<module>\u001b[1;34m()\u001b[0m\n\u001b[0;32m      2\u001b[0m \u001b[0mclf\u001b[0m \u001b[1;33m=\u001b[0m \u001b[0mMultinomialNB\u001b[0m\u001b[1;33m(\u001b[0m\u001b[1;33m)\u001b[0m\u001b[1;33m\u001b[0m\u001b[0m\n\u001b[0;32m      3\u001b[0m \u001b[1;33m\u001b[0m\u001b[0m\n\u001b[1;32m----> 4\u001b[1;33m \u001b[0msearch\u001b[0m \u001b[1;33m=\u001b[0m \u001b[0mrun_search\u001b[0m\u001b[1;33m(\u001b[0m\u001b[0mvect\u001b[0m\u001b[1;33m,\u001b[0m \u001b[0mclf\u001b[0m\u001b[1;33m)\u001b[0m\u001b[1;33m\u001b[0m\u001b[0m\n\u001b[0m\u001b[0;32m      5\u001b[0m \u001b[0mbest_scores\u001b[0m \u001b[1;33m=\u001b[0m \u001b[0mupdate_best_scores\u001b[0m\u001b[1;33m(\u001b[0m\u001b[0msearch\u001b[0m\u001b[1;33m)\u001b[0m\u001b[1;33m\u001b[0m\u001b[0m\n\u001b[0;32m      6\u001b[0m \u001b[0mgsdf\u001b[0m \u001b[1;33m=\u001b[0m \u001b[0mget_best_five\u001b[0m\u001b[1;33m(\u001b[0m\u001b[0msearch\u001b[0m\u001b[1;33m)\u001b[0m\u001b[1;33m\u001b[0m\u001b[0m\n",
      "\u001b[1;32m<ipython-input-300-822e1f8cc6eb>\u001b[0m in \u001b[0;36mrun_search\u001b[1;34m(vectorizer, classifier)\u001b[0m\n\u001b[0;32m      7\u001b[0m                       \u001b[0mcv\u001b[0m\u001b[1;33m=\u001b[0m\u001b[0mskf\u001b[0m\u001b[1;33m,\u001b[0m\u001b[1;33m\u001b[0m\u001b[0m\n\u001b[0;32m      8\u001b[0m                       scoring='accuracy')\n\u001b[1;32m----> 9\u001b[1;33m     \u001b[0msearch\u001b[0m\u001b[1;33m.\u001b[0m\u001b[0mfit\u001b[0m\u001b[1;33m(\u001b[0m\u001b[0mdftrain\u001b[0m\u001b[1;33m[\u001b[0m\u001b[1;34m'quote'\u001b[0m\u001b[1;33m]\u001b[0m\u001b[1;33m,\u001b[0m \u001b[0mytrain\u001b[0m\u001b[1;33m)\u001b[0m\u001b[1;33m\u001b[0m\u001b[0m\n\u001b[0m\u001b[0;32m     10\u001b[0m     \u001b[1;32mreturn\u001b[0m \u001b[0msearch\u001b[0m\u001b[1;33m\u001b[0m\u001b[0m\n",
      "\u001b[1;32mC:\\ProgramData\\Anaconda2\\lib\\site-packages\\sklearn\\model_selection\\_search.pyc\u001b[0m in \u001b[0;36mfit\u001b[1;34m(self, X, y, groups, **fit_params)\u001b[0m\n\u001b[0;32m    636\u001b[0m                                   error_score=self.error_score)\n\u001b[0;32m    637\u001b[0m           for parameters, (train, test) in product(candidate_params,\n\u001b[1;32m--> 638\u001b[1;33m                                                    cv.split(X, y, groups)))\n\u001b[0m\u001b[0;32m    639\u001b[0m \u001b[1;33m\u001b[0m\u001b[0m\n\u001b[0;32m    640\u001b[0m         \u001b[1;31m# if one choose to see train score, \"out\" will contain train score info\u001b[0m\u001b[1;33m\u001b[0m\u001b[1;33m\u001b[0m\u001b[0m\n",
      "\u001b[1;32mC:\\ProgramData\\Anaconda2\\lib\\site-packages\\sklearn\\externals\\joblib\\parallel.pyc\u001b[0m in \u001b[0;36m__call__\u001b[1;34m(self, iterable)\u001b[0m\n\u001b[0;32m    777\u001b[0m             \u001b[1;31m# was dispatched. In particular this covers the edge\u001b[0m\u001b[1;33m\u001b[0m\u001b[1;33m\u001b[0m\u001b[0m\n\u001b[0;32m    778\u001b[0m             \u001b[1;31m# case of Parallel used with an exhausted iterator.\u001b[0m\u001b[1;33m\u001b[0m\u001b[1;33m\u001b[0m\u001b[0m\n\u001b[1;32m--> 779\u001b[1;33m             \u001b[1;32mwhile\u001b[0m \u001b[0mself\u001b[0m\u001b[1;33m.\u001b[0m\u001b[0mdispatch_one_batch\u001b[0m\u001b[1;33m(\u001b[0m\u001b[0miterator\u001b[0m\u001b[1;33m)\u001b[0m\u001b[1;33m:\u001b[0m\u001b[1;33m\u001b[0m\u001b[0m\n\u001b[0m\u001b[0;32m    780\u001b[0m                 \u001b[0mself\u001b[0m\u001b[1;33m.\u001b[0m\u001b[0m_iterating\u001b[0m \u001b[1;33m=\u001b[0m \u001b[0mTrue\u001b[0m\u001b[1;33m\u001b[0m\u001b[0m\n\u001b[0;32m    781\u001b[0m             \u001b[1;32melse\u001b[0m\u001b[1;33m:\u001b[0m\u001b[1;33m\u001b[0m\u001b[0m\n",
      "\u001b[1;32mC:\\ProgramData\\Anaconda2\\lib\\site-packages\\sklearn\\externals\\joblib\\parallel.pyc\u001b[0m in \u001b[0;36mdispatch_one_batch\u001b[1;34m(self, iterator)\u001b[0m\n\u001b[0;32m    623\u001b[0m                 \u001b[1;32mreturn\u001b[0m \u001b[0mFalse\u001b[0m\u001b[1;33m\u001b[0m\u001b[0m\n\u001b[0;32m    624\u001b[0m             \u001b[1;32melse\u001b[0m\u001b[1;33m:\u001b[0m\u001b[1;33m\u001b[0m\u001b[0m\n\u001b[1;32m--> 625\u001b[1;33m                 \u001b[0mself\u001b[0m\u001b[1;33m.\u001b[0m\u001b[0m_dispatch\u001b[0m\u001b[1;33m(\u001b[0m\u001b[0mtasks\u001b[0m\u001b[1;33m)\u001b[0m\u001b[1;33m\u001b[0m\u001b[0m\n\u001b[0m\u001b[0;32m    626\u001b[0m                 \u001b[1;32mreturn\u001b[0m \u001b[0mTrue\u001b[0m\u001b[1;33m\u001b[0m\u001b[0m\n\u001b[0;32m    627\u001b[0m \u001b[1;33m\u001b[0m\u001b[0m\n",
      "\u001b[1;32mC:\\ProgramData\\Anaconda2\\lib\\site-packages\\sklearn\\externals\\joblib\\parallel.pyc\u001b[0m in \u001b[0;36m_dispatch\u001b[1;34m(self, batch)\u001b[0m\n\u001b[0;32m    586\u001b[0m         \u001b[0mdispatch_timestamp\u001b[0m \u001b[1;33m=\u001b[0m \u001b[0mtime\u001b[0m\u001b[1;33m.\u001b[0m\u001b[0mtime\u001b[0m\u001b[1;33m(\u001b[0m\u001b[1;33m)\u001b[0m\u001b[1;33m\u001b[0m\u001b[0m\n\u001b[0;32m    587\u001b[0m         \u001b[0mcb\u001b[0m \u001b[1;33m=\u001b[0m \u001b[0mBatchCompletionCallBack\u001b[0m\u001b[1;33m(\u001b[0m\u001b[0mdispatch_timestamp\u001b[0m\u001b[1;33m,\u001b[0m \u001b[0mlen\u001b[0m\u001b[1;33m(\u001b[0m\u001b[0mbatch\u001b[0m\u001b[1;33m)\u001b[0m\u001b[1;33m,\u001b[0m \u001b[0mself\u001b[0m\u001b[1;33m)\u001b[0m\u001b[1;33m\u001b[0m\u001b[0m\n\u001b[1;32m--> 588\u001b[1;33m         \u001b[0mjob\u001b[0m \u001b[1;33m=\u001b[0m \u001b[0mself\u001b[0m\u001b[1;33m.\u001b[0m\u001b[0m_backend\u001b[0m\u001b[1;33m.\u001b[0m\u001b[0mapply_async\u001b[0m\u001b[1;33m(\u001b[0m\u001b[0mbatch\u001b[0m\u001b[1;33m,\u001b[0m \u001b[0mcallback\u001b[0m\u001b[1;33m=\u001b[0m\u001b[0mcb\u001b[0m\u001b[1;33m)\u001b[0m\u001b[1;33m\u001b[0m\u001b[0m\n\u001b[0m\u001b[0;32m    589\u001b[0m         \u001b[0mself\u001b[0m\u001b[1;33m.\u001b[0m\u001b[0m_jobs\u001b[0m\u001b[1;33m.\u001b[0m\u001b[0mappend\u001b[0m\u001b[1;33m(\u001b[0m\u001b[0mjob\u001b[0m\u001b[1;33m)\u001b[0m\u001b[1;33m\u001b[0m\u001b[0m\n\u001b[0;32m    590\u001b[0m \u001b[1;33m\u001b[0m\u001b[0m\n",
      "\u001b[1;32mC:\\ProgramData\\Anaconda2\\lib\\site-packages\\sklearn\\externals\\joblib\\_parallel_backends.pyc\u001b[0m in \u001b[0;36mapply_async\u001b[1;34m(self, func, callback)\u001b[0m\n\u001b[0;32m    109\u001b[0m     \u001b[1;32mdef\u001b[0m \u001b[0mapply_async\u001b[0m\u001b[1;33m(\u001b[0m\u001b[0mself\u001b[0m\u001b[1;33m,\u001b[0m \u001b[0mfunc\u001b[0m\u001b[1;33m,\u001b[0m \u001b[0mcallback\u001b[0m\u001b[1;33m=\u001b[0m\u001b[0mNone\u001b[0m\u001b[1;33m)\u001b[0m\u001b[1;33m:\u001b[0m\u001b[1;33m\u001b[0m\u001b[0m\n\u001b[0;32m    110\u001b[0m         \u001b[1;34m\"\"\"Schedule a func to be run\"\"\"\u001b[0m\u001b[1;33m\u001b[0m\u001b[0m\n\u001b[1;32m--> 111\u001b[1;33m         \u001b[0mresult\u001b[0m \u001b[1;33m=\u001b[0m \u001b[0mImmediateResult\u001b[0m\u001b[1;33m(\u001b[0m\u001b[0mfunc\u001b[0m\u001b[1;33m)\u001b[0m\u001b[1;33m\u001b[0m\u001b[0m\n\u001b[0m\u001b[0;32m    112\u001b[0m         \u001b[1;32mif\u001b[0m \u001b[0mcallback\u001b[0m\u001b[1;33m:\u001b[0m\u001b[1;33m\u001b[0m\u001b[0m\n\u001b[0;32m    113\u001b[0m             \u001b[0mcallback\u001b[0m\u001b[1;33m(\u001b[0m\u001b[0mresult\u001b[0m\u001b[1;33m)\u001b[0m\u001b[1;33m\u001b[0m\u001b[0m\n",
      "\u001b[1;32mC:\\ProgramData\\Anaconda2\\lib\\site-packages\\sklearn\\externals\\joblib\\_parallel_backends.pyc\u001b[0m in \u001b[0;36m__init__\u001b[1;34m(self, batch)\u001b[0m\n\u001b[0;32m    330\u001b[0m         \u001b[1;31m# Don't delay the application, to avoid keeping the input\u001b[0m\u001b[1;33m\u001b[0m\u001b[1;33m\u001b[0m\u001b[0m\n\u001b[0;32m    331\u001b[0m         \u001b[1;31m# arguments in memory\u001b[0m\u001b[1;33m\u001b[0m\u001b[1;33m\u001b[0m\u001b[0m\n\u001b[1;32m--> 332\u001b[1;33m         \u001b[0mself\u001b[0m\u001b[1;33m.\u001b[0m\u001b[0mresults\u001b[0m \u001b[1;33m=\u001b[0m \u001b[0mbatch\u001b[0m\u001b[1;33m(\u001b[0m\u001b[1;33m)\u001b[0m\u001b[1;33m\u001b[0m\u001b[0m\n\u001b[0m\u001b[0;32m    333\u001b[0m \u001b[1;33m\u001b[0m\u001b[0m\n\u001b[0;32m    334\u001b[0m     \u001b[1;32mdef\u001b[0m \u001b[0mget\u001b[0m\u001b[1;33m(\u001b[0m\u001b[0mself\u001b[0m\u001b[1;33m)\u001b[0m\u001b[1;33m:\u001b[0m\u001b[1;33m\u001b[0m\u001b[0m\n",
      "\u001b[1;32mC:\\ProgramData\\Anaconda2\\lib\\site-packages\\sklearn\\externals\\joblib\\parallel.pyc\u001b[0m in \u001b[0;36m__call__\u001b[1;34m(self)\u001b[0m\n\u001b[0;32m    129\u001b[0m \u001b[1;33m\u001b[0m\u001b[0m\n\u001b[0;32m    130\u001b[0m     \u001b[1;32mdef\u001b[0m \u001b[0m__call__\u001b[0m\u001b[1;33m(\u001b[0m\u001b[0mself\u001b[0m\u001b[1;33m)\u001b[0m\u001b[1;33m:\u001b[0m\u001b[1;33m\u001b[0m\u001b[0m\n\u001b[1;32m--> 131\u001b[1;33m         \u001b[1;32mreturn\u001b[0m \u001b[1;33m[\u001b[0m\u001b[0mfunc\u001b[0m\u001b[1;33m(\u001b[0m\u001b[1;33m*\u001b[0m\u001b[0margs\u001b[0m\u001b[1;33m,\u001b[0m \u001b[1;33m**\u001b[0m\u001b[0mkwargs\u001b[0m\u001b[1;33m)\u001b[0m \u001b[1;32mfor\u001b[0m \u001b[0mfunc\u001b[0m\u001b[1;33m,\u001b[0m \u001b[0margs\u001b[0m\u001b[1;33m,\u001b[0m \u001b[0mkwargs\u001b[0m \u001b[1;32min\u001b[0m \u001b[0mself\u001b[0m\u001b[1;33m.\u001b[0m\u001b[0mitems\u001b[0m\u001b[1;33m]\u001b[0m\u001b[1;33m\u001b[0m\u001b[0m\n\u001b[0m\u001b[0;32m    132\u001b[0m \u001b[1;33m\u001b[0m\u001b[0m\n\u001b[0;32m    133\u001b[0m     \u001b[1;32mdef\u001b[0m \u001b[0m__len__\u001b[0m\u001b[1;33m(\u001b[0m\u001b[0mself\u001b[0m\u001b[1;33m)\u001b[0m\u001b[1;33m:\u001b[0m\u001b[1;33m\u001b[0m\u001b[0m\n",
      "\u001b[1;32mC:\\ProgramData\\Anaconda2\\lib\\site-packages\\sklearn\\model_selection\\_validation.pyc\u001b[0m in \u001b[0;36m_fit_and_score\u001b[1;34m(estimator, X, y, scorer, train, test, verbose, parameters, fit_params, return_train_score, return_parameters, return_n_test_samples, return_times, error_score)\u001b[0m\n\u001b[0;32m    435\u001b[0m             \u001b[0mestimator\u001b[0m\u001b[1;33m.\u001b[0m\u001b[0mfit\u001b[0m\u001b[1;33m(\u001b[0m\u001b[0mX_train\u001b[0m\u001b[1;33m,\u001b[0m \u001b[1;33m**\u001b[0m\u001b[0mfit_params\u001b[0m\u001b[1;33m)\u001b[0m\u001b[1;33m\u001b[0m\u001b[0m\n\u001b[0;32m    436\u001b[0m         \u001b[1;32melse\u001b[0m\u001b[1;33m:\u001b[0m\u001b[1;33m\u001b[0m\u001b[0m\n\u001b[1;32m--> 437\u001b[1;33m             \u001b[0mestimator\u001b[0m\u001b[1;33m.\u001b[0m\u001b[0mfit\u001b[0m\u001b[1;33m(\u001b[0m\u001b[0mX_train\u001b[0m\u001b[1;33m,\u001b[0m \u001b[0my_train\u001b[0m\u001b[1;33m,\u001b[0m \u001b[1;33m**\u001b[0m\u001b[0mfit_params\u001b[0m\u001b[1;33m)\u001b[0m\u001b[1;33m\u001b[0m\u001b[0m\n\u001b[0m\u001b[0;32m    438\u001b[0m \u001b[1;33m\u001b[0m\u001b[0m\n\u001b[0;32m    439\u001b[0m     \u001b[1;32mexcept\u001b[0m \u001b[0mException\u001b[0m \u001b[1;32mas\u001b[0m \u001b[0me\u001b[0m\u001b[1;33m:\u001b[0m\u001b[1;33m\u001b[0m\u001b[0m\n",
      "\u001b[1;32mC:\\ProgramData\\Anaconda2\\lib\\site-packages\\sklearn\\pipeline.pyc\u001b[0m in \u001b[0;36mfit\u001b[1;34m(self, X, y, **fit_params)\u001b[0m\n\u001b[0;32m    255\u001b[0m             \u001b[0mThis\u001b[0m \u001b[0mestimator\u001b[0m\u001b[1;33m\u001b[0m\u001b[0m\n\u001b[0;32m    256\u001b[0m         \"\"\"\n\u001b[1;32m--> 257\u001b[1;33m         \u001b[0mXt\u001b[0m\u001b[1;33m,\u001b[0m \u001b[0mfit_params\u001b[0m \u001b[1;33m=\u001b[0m \u001b[0mself\u001b[0m\u001b[1;33m.\u001b[0m\u001b[0m_fit\u001b[0m\u001b[1;33m(\u001b[0m\u001b[0mX\u001b[0m\u001b[1;33m,\u001b[0m \u001b[0my\u001b[0m\u001b[1;33m,\u001b[0m \u001b[1;33m**\u001b[0m\u001b[0mfit_params\u001b[0m\u001b[1;33m)\u001b[0m\u001b[1;33m\u001b[0m\u001b[0m\n\u001b[0m\u001b[0;32m    258\u001b[0m         \u001b[1;32mif\u001b[0m \u001b[0mself\u001b[0m\u001b[1;33m.\u001b[0m\u001b[0m_final_estimator\u001b[0m \u001b[1;32mis\u001b[0m \u001b[1;32mnot\u001b[0m \u001b[0mNone\u001b[0m\u001b[1;33m:\u001b[0m\u001b[1;33m\u001b[0m\u001b[0m\n\u001b[0;32m    259\u001b[0m             \u001b[0mself\u001b[0m\u001b[1;33m.\u001b[0m\u001b[0m_final_estimator\u001b[0m\u001b[1;33m.\u001b[0m\u001b[0mfit\u001b[0m\u001b[1;33m(\u001b[0m\u001b[0mXt\u001b[0m\u001b[1;33m,\u001b[0m \u001b[0my\u001b[0m\u001b[1;33m,\u001b[0m \u001b[1;33m**\u001b[0m\u001b[0mfit_params\u001b[0m\u001b[1;33m)\u001b[0m\u001b[1;33m\u001b[0m\u001b[0m\n",
      "\u001b[1;32mC:\\ProgramData\\Anaconda2\\lib\\site-packages\\sklearn\\pipeline.pyc\u001b[0m in \u001b[0;36m_fit\u001b[1;34m(self, X, y, **fit_params)\u001b[0m\n\u001b[0;32m    220\u001b[0m                 Xt, fitted_transformer = fit_transform_one_cached(\n\u001b[0;32m    221\u001b[0m                     \u001b[0mcloned_transformer\u001b[0m\u001b[1;33m,\u001b[0m \u001b[0mNone\u001b[0m\u001b[1;33m,\u001b[0m \u001b[0mXt\u001b[0m\u001b[1;33m,\u001b[0m \u001b[0my\u001b[0m\u001b[1;33m,\u001b[0m\u001b[1;33m\u001b[0m\u001b[0m\n\u001b[1;32m--> 222\u001b[1;33m                     **fit_params_steps[name])\n\u001b[0m\u001b[0;32m    223\u001b[0m                 \u001b[1;31m# Replace the transformer of the step with the fitted\u001b[0m\u001b[1;33m\u001b[0m\u001b[1;33m\u001b[0m\u001b[0m\n\u001b[0;32m    224\u001b[0m                 \u001b[1;31m# transformer. This is necessary when loading the transformer\u001b[0m\u001b[1;33m\u001b[0m\u001b[1;33m\u001b[0m\u001b[0m\n",
      "\u001b[1;32mC:\\ProgramData\\Anaconda2\\lib\\site-packages\\sklearn\\externals\\joblib\\memory.pyc\u001b[0m in \u001b[0;36m__call__\u001b[1;34m(self, *args, **kwargs)\u001b[0m\n\u001b[0;32m    360\u001b[0m \u001b[1;33m\u001b[0m\u001b[0m\n\u001b[0;32m    361\u001b[0m     \u001b[1;32mdef\u001b[0m \u001b[0m__call__\u001b[0m\u001b[1;33m(\u001b[0m\u001b[0mself\u001b[0m\u001b[1;33m,\u001b[0m \u001b[1;33m*\u001b[0m\u001b[0margs\u001b[0m\u001b[1;33m,\u001b[0m \u001b[1;33m**\u001b[0m\u001b[0mkwargs\u001b[0m\u001b[1;33m)\u001b[0m\u001b[1;33m:\u001b[0m\u001b[1;33m\u001b[0m\u001b[0m\n\u001b[1;32m--> 362\u001b[1;33m         \u001b[1;32mreturn\u001b[0m \u001b[0mself\u001b[0m\u001b[1;33m.\u001b[0m\u001b[0mfunc\u001b[0m\u001b[1;33m(\u001b[0m\u001b[1;33m*\u001b[0m\u001b[0margs\u001b[0m\u001b[1;33m,\u001b[0m \u001b[1;33m**\u001b[0m\u001b[0mkwargs\u001b[0m\u001b[1;33m)\u001b[0m\u001b[1;33m\u001b[0m\u001b[0m\n\u001b[0m\u001b[0;32m    363\u001b[0m \u001b[1;33m\u001b[0m\u001b[0m\n\u001b[0;32m    364\u001b[0m     \u001b[1;32mdef\u001b[0m \u001b[0mcall_and_shelve\u001b[0m\u001b[1;33m(\u001b[0m\u001b[0mself\u001b[0m\u001b[1;33m,\u001b[0m \u001b[1;33m*\u001b[0m\u001b[0margs\u001b[0m\u001b[1;33m,\u001b[0m \u001b[1;33m**\u001b[0m\u001b[0mkwargs\u001b[0m\u001b[1;33m)\u001b[0m\u001b[1;33m:\u001b[0m\u001b[1;33m\u001b[0m\u001b[0m\n",
      "\u001b[1;32mC:\\ProgramData\\Anaconda2\\lib\\site-packages\\sklearn\\pipeline.pyc\u001b[0m in \u001b[0;36m_fit_transform_one\u001b[1;34m(transformer, weight, X, y, **fit_params)\u001b[0m\n\u001b[0;32m    587\u001b[0m                        **fit_params):\n\u001b[0;32m    588\u001b[0m     \u001b[1;32mif\u001b[0m \u001b[0mhasattr\u001b[0m\u001b[1;33m(\u001b[0m\u001b[0mtransformer\u001b[0m\u001b[1;33m,\u001b[0m \u001b[1;34m'fit_transform'\u001b[0m\u001b[1;33m)\u001b[0m\u001b[1;33m:\u001b[0m\u001b[1;33m\u001b[0m\u001b[0m\n\u001b[1;32m--> 589\u001b[1;33m         \u001b[0mres\u001b[0m \u001b[1;33m=\u001b[0m \u001b[0mtransformer\u001b[0m\u001b[1;33m.\u001b[0m\u001b[0mfit_transform\u001b[0m\u001b[1;33m(\u001b[0m\u001b[0mX\u001b[0m\u001b[1;33m,\u001b[0m \u001b[0my\u001b[0m\u001b[1;33m,\u001b[0m \u001b[1;33m**\u001b[0m\u001b[0mfit_params\u001b[0m\u001b[1;33m)\u001b[0m\u001b[1;33m\u001b[0m\u001b[0m\n\u001b[0m\u001b[0;32m    590\u001b[0m     \u001b[1;32melse\u001b[0m\u001b[1;33m:\u001b[0m\u001b[1;33m\u001b[0m\u001b[0m\n\u001b[0;32m    591\u001b[0m         \u001b[0mres\u001b[0m \u001b[1;33m=\u001b[0m \u001b[0mtransformer\u001b[0m\u001b[1;33m.\u001b[0m\u001b[0mfit\u001b[0m\u001b[1;33m(\u001b[0m\u001b[0mX\u001b[0m\u001b[1;33m,\u001b[0m \u001b[0my\u001b[0m\u001b[1;33m,\u001b[0m \u001b[1;33m**\u001b[0m\u001b[0mfit_params\u001b[0m\u001b[1;33m)\u001b[0m\u001b[1;33m.\u001b[0m\u001b[0mtransform\u001b[0m\u001b[1;33m(\u001b[0m\u001b[0mX\u001b[0m\u001b[1;33m)\u001b[0m\u001b[1;33m\u001b[0m\u001b[0m\n",
      "\u001b[1;32mC:\\ProgramData\\Anaconda2\\lib\\site-packages\\sklearn\\feature_extraction\\text.pyc\u001b[0m in \u001b[0;36mfit_transform\u001b[1;34m(self, raw_documents, y)\u001b[0m\n\u001b[0;32m   1379\u001b[0m             \u001b[0mTf\u001b[0m\u001b[1;33m-\u001b[0m\u001b[0midf\u001b[0m\u001b[1;33m-\u001b[0m\u001b[0mweighted\u001b[0m \u001b[0mdocument\u001b[0m\u001b[1;33m-\u001b[0m\u001b[0mterm\u001b[0m \u001b[0mmatrix\u001b[0m\u001b[1;33m.\u001b[0m\u001b[1;33m\u001b[0m\u001b[0m\n\u001b[0;32m   1380\u001b[0m         \"\"\"\n\u001b[1;32m-> 1381\u001b[1;33m         \u001b[0mX\u001b[0m \u001b[1;33m=\u001b[0m \u001b[0msuper\u001b[0m\u001b[1;33m(\u001b[0m\u001b[0mTfidfVectorizer\u001b[0m\u001b[1;33m,\u001b[0m \u001b[0mself\u001b[0m\u001b[1;33m)\u001b[0m\u001b[1;33m.\u001b[0m\u001b[0mfit_transform\u001b[0m\u001b[1;33m(\u001b[0m\u001b[0mraw_documents\u001b[0m\u001b[1;33m)\u001b[0m\u001b[1;33m\u001b[0m\u001b[0m\n\u001b[0m\u001b[0;32m   1382\u001b[0m         \u001b[0mself\u001b[0m\u001b[1;33m.\u001b[0m\u001b[0m_tfidf\u001b[0m\u001b[1;33m.\u001b[0m\u001b[0mfit\u001b[0m\u001b[1;33m(\u001b[0m\u001b[0mX\u001b[0m\u001b[1;33m)\u001b[0m\u001b[1;33m\u001b[0m\u001b[0m\n\u001b[0;32m   1383\u001b[0m         \u001b[1;31m# X is already a transformed view of raw_documents so\u001b[0m\u001b[1;33m\u001b[0m\u001b[1;33m\u001b[0m\u001b[0m\n",
      "\u001b[1;32mC:\\ProgramData\\Anaconda2\\lib\\site-packages\\sklearn\\feature_extraction\\text.pyc\u001b[0m in \u001b[0;36mfit_transform\u001b[1;34m(self, raw_documents, y)\u001b[0m\n\u001b[0;32m    867\u001b[0m \u001b[1;33m\u001b[0m\u001b[0m\n\u001b[0;32m    868\u001b[0m         vocabulary, X = self._count_vocab(raw_documents,\n\u001b[1;32m--> 869\u001b[1;33m                                           self.fixed_vocabulary_)\n\u001b[0m\u001b[0;32m    870\u001b[0m \u001b[1;33m\u001b[0m\u001b[0m\n\u001b[0;32m    871\u001b[0m         \u001b[1;32mif\u001b[0m \u001b[0mself\u001b[0m\u001b[1;33m.\u001b[0m\u001b[0mbinary\u001b[0m\u001b[1;33m:\u001b[0m\u001b[1;33m\u001b[0m\u001b[0m\n",
      "\u001b[1;32mC:\\ProgramData\\Anaconda2\\lib\\site-packages\\sklearn\\feature_extraction\\text.pyc\u001b[0m in \u001b[0;36m_count_vocab\u001b[1;34m(self, raw_documents, fixed_vocab)\u001b[0m\n\u001b[0;32m    794\u001b[0m                     \u001b[0mfeature_idx\u001b[0m \u001b[1;33m=\u001b[0m \u001b[0mvocabulary\u001b[0m\u001b[1;33m[\u001b[0m\u001b[0mfeature\u001b[0m\u001b[1;33m]\u001b[0m\u001b[1;33m\u001b[0m\u001b[0m\n\u001b[0;32m    795\u001b[0m                     \u001b[1;32mif\u001b[0m \u001b[0mfeature_idx\u001b[0m \u001b[1;32mnot\u001b[0m \u001b[1;32min\u001b[0m \u001b[0mfeature_counter\u001b[0m\u001b[1;33m:\u001b[0m\u001b[1;33m\u001b[0m\u001b[0m\n\u001b[1;32m--> 796\u001b[1;33m                         \u001b[0mfeature_counter\u001b[0m\u001b[1;33m[\u001b[0m\u001b[0mfeature_idx\u001b[0m\u001b[1;33m]\u001b[0m \u001b[1;33m=\u001b[0m \u001b[1;36m1\u001b[0m\u001b[1;33m\u001b[0m\u001b[0m\n\u001b[0m\u001b[0;32m    797\u001b[0m                     \u001b[1;32melse\u001b[0m\u001b[1;33m:\u001b[0m\u001b[1;33m\u001b[0m\u001b[0m\n\u001b[0;32m    798\u001b[0m                         \u001b[0mfeature_counter\u001b[0m\u001b[1;33m[\u001b[0m\u001b[0mfeature_idx\u001b[0m\u001b[1;33m]\u001b[0m \u001b[1;33m+=\u001b[0m \u001b[1;36m1\u001b[0m\u001b[1;33m\u001b[0m\u001b[0m\n",
      "\u001b[1;31mKeyboardInterrupt\u001b[0m: "
     ]
    }
   ],
   "source": [
    "vect = TfidfVectorizer(stop_words='english')\n",
    "clf = MultinomialNB()\n",
    "\n",
    "search = run_search(vect, clf)\n",
    "best_scores = update_best_scores(search)\n",
    "gsdf = get_best_five(search)\n",
    "gsdf"
   ]
  },
  {
   "cell_type": "code",
   "execution_count": null,
   "metadata": {
    "collapsed": true
   },
   "outputs": [],
   "source": [
    "## Chi-Square for Feature Selection of Word Counts, Naive Bayes Model"
   ]
  },
  {
   "cell_type": "code",
   "execution_count": 465,
   "metadata": {
    "collapsed": true
   },
   "outputs": [],
   "source": [
    "from sklearn.feature_selection import chi2\n",
    "vectorizer = CountVectorizer(stop_words='english')\n",
    "xtrain = vectorizer.fit_transform(dftrain.quote)\n",
    "# compute chi2 for each feature\n",
    "chi2score = chi2(xtrain, ytrain)[0]"
   ]
  },
  {
   "cell_type": "code",
   "execution_count": 466,
   "metadata": {
    "collapsed": true
   },
   "outputs": [],
   "source": [
    "words_scores = zip(vectorizer.get_feature_names(),chi2score)\n",
    "words_scores = sorted(words_scores, key=lambda x:x[1])"
   ]
  },
  {
   "cell_type": "code",
   "execution_count": 440,
   "metadata": {},
   "outputs": [
    {
     "data": {
      "text/plain": [
       "[(u'like', 33.603302241123679),\n",
       " (u'uninspired', 34.182980423491813),\n",
       " (u'plot', 34.212347586029864),\n",
       " (u'flat', 34.227744122191481),\n",
       " (u'years', 34.888112209580328),\n",
       " (u'bland', 35.196172177616255),\n",
       " (u'unfunny', 35.669196963643635),\n",
       " (u'isn', 35.797062505461028),\n",
       " (u'intelligent', 36.814861687105761),\n",
       " (u'problem', 37.104350621548058),\n",
       " (u'video', 37.650721240772938),\n",
       " (u'entertainment', 39.119743527720459),\n",
       " (u'feels', 40.675619160000053),\n",
       " (u'fails', 41.236798986904105),\n",
       " (u'worst', 41.742394449241559),\n",
       " (u'great', 42.903290611383639),\n",
       " (u'really', 43.576073682285028),\n",
       " (u'unfortunately', 45.4947745820389),\n",
       " (u'lame', 47.558929284858166),\n",
       " (u'performance', 47.990525268590275),\n",
       " (u'film', 51.137424420014824),\n",
       " (u'dull', 57.762531415706178),\n",
       " (u'best', 65.623990811751383),\n",
       " (u'entertaining', 68.707761312610813),\n",
       " (u'bad', 88.189606979648431)]"
      ]
     },
     "execution_count": 440,
     "metadata": {},
     "output_type": "execute_result"
    }
   ],
   "source": [
    "words_scores[-25:]"
   ]
  },
  {
   "cell_type": "code",
   "execution_count": 441,
   "metadata": {},
   "outputs": [
    {
     "data": {
      "image/png": "[encoded data removed]",
      "text/plain": [
       "<Figure size 432x432 with 1 Axes>"
      ]
     },
     "metadata": {},
     "output_type": "display_data"
    }
   ],
   "source": [
    "from pylab import barh,plot,yticks,show,grid,xlabel,figure\n",
    "figure(figsize=(6,6))\n",
    "wscores = zip(vectorizer.get_feature_names(),chi2score)\n",
    "wchi2 = sorted(wscores,key=lambda x:x[1]) \n",
    "topchi2 = zip(*wchi2[-25:])\n",
    "xran = range(len(topchi2[1]))\n",
    "labels = topchi2[0]\n",
    "barh(xran,topchi2[1],align='center',alpha=.2,color='g')\n",
    "plot(topchi2[1],xran,'-o',markersize=2,alpha=.8,color='g')\n",
    "yticks(xran,labels)\n",
    "xlabel('$\\chi^2$')\n",
    "show()"
   ]
  },
  {
   "cell_type": "code",
   "execution_count": 469,
   "metadata": {},
   "outputs": [
    {
     "data": {
      "image/png": "[encoded data removed]",
      "text/plain": [
       "<Figure size 600x400 with 1 Axes>"
      ]
     },
     "metadata": {},
     "output_type": "display_data"
    },
    {
     "data": {
      "text/plain": [
       "<ggplot: (40741394)>"
      ]
     },
     "execution_count": 469,
     "metadata": {},
     "output_type": "execute_result"
    }
   ],
   "source": [
    "scores = pd.DataFrame({'chisqscore': chi2score})\n",
    "scores = scores[scores.chisqscore < 10]\n",
    "ptitle = 'Distribution of chi-square scores'\n",
    "axlab = labs(x = 'Chi-Square Scores', y = 'Number of Words')\n",
    "plt = ggplot(scores) + aes(x='chisqscore') + geom_histogram(binwidth=1)\n",
    "plt + ggtitle(ptitle) + axlab"
   ]
  },
  {
   "cell_type": "code",
   "execution_count": 471,
   "metadata": {
    "collapsed": true
   },
   "outputs": [],
   "source": [
    "xtrain = xtrain[:, chi2score > 1]\n",
    "xtest = vectorizer.transform(dftest.quote)\n",
    "xtest = xtest[:, chi2score > 1]"
   ]
  },
  {
   "cell_type": "code",
   "execution_count": 472,
   "metadata": {},
   "outputs": [
    {
     "name": "stdout",
     "output_type": "stream",
     "text": [
      "Test Accuracy: 0.723972\n"
     ]
    }
   ],
   "source": [
    "clf = MultinomialNB(alpha=0.01).fit(xtrain, ytrain)\n",
    "prdstest = clf.predict(xtest)\n",
    "test_accuracy = accuracy_score(ytest, prdstest)\n",
    "\n",
    "print(\"Test Accuracy: {:2f}\".format(test_accuracy))"
   ]
  },
  {
   "cell_type": "code",
   "execution_count": null,
   "metadata": {
    "collapsed": true
   },
   "outputs": [],
   "source": []
  },
  {
   "cell_type": "markdown",
   "metadata": {},
   "source": [
    "## Results\n",
    "\n",
    "I first tried TF-IDF weighting with the Naive Bayes Model. I selected the best model with 5-fold cross-validation grid search, testing the same min_df and alpha parameters I used for the word count data. The cross-validation scoring improved with this model, but the test accuracy did not. \n",
    "\n",
    "I then tried the Naive Bayes model on word-count bigrams, using the same model selection process as before to identify alpha and min_df. The test accuracy (0.62) for this model was much worse than when using the single word count features. \n",
    "\n",
    "For the final approach I used chi-square to select a subset of the word count features. By plotting the histogram of chi-square values, I could see that a large percentage of the single words had chi-square below 2.5. For this model I kept only features with a chi-square at least 2.5, reducing the feature set from 22125 to 3279. I thought that by only including features with at least a marginal association with the review label, the model might be more generalizable. This model produced the best cross-validation log-likelihood score and test accuracy yet (0.80). \n",
    "\n",
    "The feature selection cutoff I used was very quick and dirty, and I did not test many hyperparameters or other algorithms, so I think by refining the feature selection more & trying other alogirithms, results could improve even more. "
   ]
  }
 ],
 "metadata": {
  "anaconda-cloud": {},
  "kernelspec": {
   "display_name": "Python 2",
   "language": "python",
   "name": "python2"
  },
  "language_info": {
   "codemirror_mode": {
    "name": "ipython",
    "version": 2
   },
   "file_extension": ".py",
   "mimetype": "text/x-python",
   "name": "python",
   "nbconvert_exporter": "python",
   "pygments_lexer": "ipython2",
   "version": "2.7.13"
  }
 },
 "nbformat": 4,
 "nbformat_minor": 1
}
