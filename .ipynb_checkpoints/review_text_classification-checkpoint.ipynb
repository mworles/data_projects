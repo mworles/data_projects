{
 "cells": [
  {
   "cell_type": "markdown",
   "metadata": {},
   "source": [
    "# Rotten or Fresh? Basic Text Classification with movie reviews\n",
    "***\n",
    "In this project I analyze data from movie reviews from the Rotten Tomatoes website. This project is my first foray into natural language processing and classification. The goal is to predict whether a review is \"Fresh\" or Rotten\" using the text submitted by the critic. \n",
    "\n",
    "### Why Rotten Tomatoes?\n",
    "\n",
    "Rotten Tomatoes provides an aggregated rating of movies, based on the reviews of film critics. Each review contains 2 key pieces of information: a rating of the movie as \"rotten\" (for a negative review) or \"fresh\" (for a positive one), along with a brief text critique that describes the critic's impression of the movie. The critiques are short, but as far as I know they don't critiques don't have any other particular guidelines regarding what the critique should say. "
   ]
  },
  {
   "cell_type": "code",
   "execution_count": 1,
   "metadata": {},
   "outputs": [
    {
     "name": "stderr",
     "output_type": "stream",
     "text": [
      "C:\\ProgramData\\Anaconda2\\lib\\site-packages\\statsmodels\\compat\\pandas.py:56: FutureWarning: The pandas.core.datetools module is deprecated and will be removed in a future version. Please use the pandas.tseries module instead.\n",
      "  from pandas.core import datetools\n"
     ]
    }
   ],
   "source": [
    "import pandas as pd\n",
    "import numpy as np\n",
    "from plotnine import *\n",
    "theme_set(theme_538)\n",
    "from __future__ import division\n",
    "import datetime\n",
    "from sklearn.metrics import accuracy_score\n",
    "from sklearn.metrics import confusion_matrix\n",
    "from sklearn.model_selection import StratifiedKFold\n",
    "from sklearn.model_selection import cross_val_predict\n",
    "from sklearn.naive_bayes import MultinomialNB\n",
    "from sklearn.naive_bayes import BernoulliNB\n",
    "from sklearn.feature_extraction.text import CountVectorizer\n",
    "from sklearn.feature_extraction.text import TfidfVectorizer\n",
    "from sklearn.pipeline import Pipeline"
   ]
  },
  {
   "cell_type": "markdown",
   "metadata": {},
   "source": [
    "## Rotten Tomatoes Dataset"
   ]
  },
  {
   "cell_type": "markdown",
   "metadata": {},
   "source": [
    "First I import the dataset and print the first 5 rows to gain a sense of what the dataset contains. "
   ]
  },
  {
   "cell_type": "code",
   "execution_count": 2,
   "metadata": {},
   "outputs": [
    {
     "name": "stdout",
     "output_type": "stream",
     "text": [
      "(15561, 8)\n"
     ]
    },
    {
     "data": {
      "text/html": [
       "<div>\n",
       "<style scoped>\n",
       "    .dataframe tbody tr th:only-of-type {\n",
       "        vertical-align: middle;\n",
       "    }\n",
       "\n",
       "    .dataframe tbody tr th {\n",
       "        vertical-align: top;\n",
       "    }\n",
       "\n",
       "    .dataframe thead th {\n",
       "        text-align: right;\n",
       "    }\n",
       "</style>\n",
       "<table border=\"1\" class=\"dataframe\">\n",
       "  <thead>\n",
       "    <tr style=\"text-align: right;\">\n",
       "      <th></th>\n",
       "      <th>critic</th>\n",
       "      <th>fresh</th>\n",
       "      <th>imdb</th>\n",
       "      <th>publication</th>\n",
       "      <th>quote</th>\n",
       "      <th>review_date</th>\n",
       "      <th>rtid</th>\n",
       "      <th>title</th>\n",
       "    </tr>\n",
       "  </thead>\n",
       "  <tbody>\n",
       "    <tr>\n",
       "      <th>1</th>\n",
       "      <td>Derek Adams</td>\n",
       "      <td>fresh</td>\n",
       "      <td>114709</td>\n",
       "      <td>Time Out</td>\n",
       "      <td>So ingenious in concept, design and execution ...</td>\n",
       "      <td>2009-10-04</td>\n",
       "      <td>9559</td>\n",
       "      <td>Toy story</td>\n",
       "    </tr>\n",
       "    <tr>\n",
       "      <th>2</th>\n",
       "      <td>Richard Corliss</td>\n",
       "      <td>fresh</td>\n",
       "      <td>114709</td>\n",
       "      <td>TIME Magazine</td>\n",
       "      <td>The year's most inventive comedy.</td>\n",
       "      <td>2008-08-31</td>\n",
       "      <td>9559</td>\n",
       "      <td>Toy story</td>\n",
       "    </tr>\n",
       "    <tr>\n",
       "      <th>3</th>\n",
       "      <td>David Ansen</td>\n",
       "      <td>fresh</td>\n",
       "      <td>114709</td>\n",
       "      <td>Newsweek</td>\n",
       "      <td>A winning animated feature that has something ...</td>\n",
       "      <td>2008-08-18</td>\n",
       "      <td>9559</td>\n",
       "      <td>Toy story</td>\n",
       "    </tr>\n",
       "    <tr>\n",
       "      <th>4</th>\n",
       "      <td>Leonard Klady</td>\n",
       "      <td>fresh</td>\n",
       "      <td>114709</td>\n",
       "      <td>Variety</td>\n",
       "      <td>The film sports a provocative and appealing st...</td>\n",
       "      <td>2008-06-09</td>\n",
       "      <td>9559</td>\n",
       "      <td>Toy story</td>\n",
       "    </tr>\n",
       "    <tr>\n",
       "      <th>5</th>\n",
       "      <td>Jonathan Rosenbaum</td>\n",
       "      <td>fresh</td>\n",
       "      <td>114709</td>\n",
       "      <td>Chicago Reader</td>\n",
       "      <td>An entertaining computer-generated, hyperreali...</td>\n",
       "      <td>2008-03-10</td>\n",
       "      <td>9559</td>\n",
       "      <td>Toy story</td>\n",
       "    </tr>\n",
       "  </tbody>\n",
       "</table>\n",
       "</div>"
      ],
      "text/plain": [
       "               critic  fresh    imdb     publication  \\\n",
       "1         Derek Adams  fresh  114709        Time Out   \n",
       "2     Richard Corliss  fresh  114709   TIME Magazine   \n",
       "3         David Ansen  fresh  114709        Newsweek   \n",
       "4       Leonard Klady  fresh  114709         Variety   \n",
       "5  Jonathan Rosenbaum  fresh  114709  Chicago Reader   \n",
       "\n",
       "                                               quote review_date  rtid  \\\n",
       "1  So ingenious in concept, design and execution ...  2009-10-04  9559   \n",
       "2                  The year's most inventive comedy.  2008-08-31  9559   \n",
       "3  A winning animated feature that has something ...  2008-08-18  9559   \n",
       "4  The film sports a provocative and appealing st...  2008-06-09  9559   \n",
       "5  An entertaining computer-generated, hyperreali...  2008-03-10  9559   \n",
       "\n",
       "       title  \n",
       "1  Toy story  \n",
       "2  Toy story  \n",
       "3  Toy story  \n",
       "4  Toy story  \n",
       "5  Toy story  "
      ]
     },
     "execution_count": 2,
     "metadata": {},
     "output_type": "execute_result"
    }
   ],
   "source": [
    "critics = pd.read_csv('data/text/critics.csv')\n",
    "#drop rows with missing quotes\n",
    "critics = critics[~critics.quote.isnull()]\n",
    "print critics.shape\n",
    "critics.head()"
   ]
  },
  {
   "cell_type": "markdown",
   "metadata": {},
   "source": [
    "The critical data is contained in the \"fresh\" column, which contains the critic's rating of the movie, and the \"quote\" column, which contains the written critique. "
   ]
  },
  {
   "cell_type": "markdown",
   "metadata": {},
   "source": [
    "What do positive and negative critiques tend to look like? I wanted to inspect an example of a polarizing movie, one that people tend to either love or hate. The first movie I thought of was \"Dumb and Dumber\", probably because I think it's hilarious, but I know alot of people think it's stupid. "
   ]
  },
  {
   "cell_type": "code",
   "execution_count": 3,
   "metadata": {},
   "outputs": [
    {
     "data": {
      "text/html": [
       "<div>\n",
       "<style scoped>\n",
       "    .dataframe tbody tr th:only-of-type {\n",
       "        vertical-align: middle;\n",
       "    }\n",
       "\n",
       "    .dataframe tbody tr th {\n",
       "        vertical-align: top;\n",
       "    }\n",
       "\n",
       "    .dataframe thead th {\n",
       "        text-align: right;\n",
       "    }\n",
       "</style>\n",
       "<table border=\"1\" class=\"dataframe\">\n",
       "  <thead>\n",
       "    <tr style=\"text-align: right;\">\n",
       "      <th></th>\n",
       "      <th>critic</th>\n",
       "      <th>fresh</th>\n",
       "      <th>imdb</th>\n",
       "      <th>publication</th>\n",
       "      <th>quote</th>\n",
       "      <th>review_date</th>\n",
       "      <th>rtid</th>\n",
       "      <th>title</th>\n",
       "    </tr>\n",
       "  </thead>\n",
       "  <tbody>\n",
       "    <tr>\n",
       "      <th>2543</th>\n",
       "      <td>Owen Gleiberman</td>\n",
       "      <td>fresh</td>\n",
       "      <td>109686</td>\n",
       "      <td>Entertainment Weekly</td>\n",
       "      <td>Dumb and Dumber, which features Carrey and Jef...</td>\n",
       "      <td>2008-04-28</td>\n",
       "      <td>10194</td>\n",
       "      <td>Dumb &amp; Dumber</td>\n",
       "    </tr>\n",
       "    <tr>\n",
       "      <th>2544</th>\n",
       "      <td>Variety Staff</td>\n",
       "      <td>fresh</td>\n",
       "      <td>109686</td>\n",
       "      <td>Variety</td>\n",
       "      <td>The wholeheartedness of this descent into crud...</td>\n",
       "      <td>2008-04-28</td>\n",
       "      <td>10194</td>\n",
       "      <td>Dumb &amp; Dumber</td>\n",
       "    </tr>\n",
       "    <tr>\n",
       "      <th>2545</th>\n",
       "      <td>Jonathan Rosenbaum</td>\n",
       "      <td>rotten</td>\n",
       "      <td>109686</td>\n",
       "      <td>Chicago Reader</td>\n",
       "      <td>This is a long way from the social comedy of J...</td>\n",
       "      <td>2008-04-28</td>\n",
       "      <td>10194</td>\n",
       "      <td>Dumb &amp; Dumber</td>\n",
       "    </tr>\n",
       "    <tr>\n",
       "      <th>2546</th>\n",
       "      <td>NaN</td>\n",
       "      <td>rotten</td>\n",
       "      <td>109686</td>\n",
       "      <td>Time Out</td>\n",
       "      <td>Given American cinema's current obsession with...</td>\n",
       "      <td>2006-01-26</td>\n",
       "      <td>10194</td>\n",
       "      <td>Dumb &amp; Dumber</td>\n",
       "    </tr>\n",
       "    <tr>\n",
       "      <th>2548</th>\n",
       "      <td>Stephen Holden</td>\n",
       "      <td>fresh</td>\n",
       "      <td>109686</td>\n",
       "      <td>New York Times</td>\n",
       "      <td>A movie that fully lives up to its name, right...</td>\n",
       "      <td>2003-05-20</td>\n",
       "      <td>10194</td>\n",
       "      <td>Dumb &amp; Dumber</td>\n",
       "    </tr>\n",
       "  </tbody>\n",
       "</table>\n",
       "</div>"
      ],
      "text/plain": [
       "                  critic   fresh    imdb           publication  \\\n",
       "2543     Owen Gleiberman   fresh  109686  Entertainment Weekly   \n",
       "2544       Variety Staff   fresh  109686               Variety   \n",
       "2545  Jonathan Rosenbaum  rotten  109686        Chicago Reader   \n",
       "2546                 NaN  rotten  109686              Time Out   \n",
       "2548      Stephen Holden   fresh  109686        New York Times   \n",
       "\n",
       "                                                  quote review_date   rtid  \\\n",
       "2543  Dumb and Dumber, which features Carrey and Jef...  2008-04-28  10194   \n",
       "2544  The wholeheartedness of this descent into crud...  2008-04-28  10194   \n",
       "2545  This is a long way from the social comedy of J...  2008-04-28  10194   \n",
       "2546  Given American cinema's current obsession with...  2006-01-26  10194   \n",
       "2548  A movie that fully lives up to its name, right...  2003-05-20  10194   \n",
       "\n",
       "              title  \n",
       "2543  Dumb & Dumber  \n",
       "2544  Dumb & Dumber  \n",
       "2545  Dumb & Dumber  \n",
       "2546  Dumb & Dumber  \n",
       "2548  Dumb & Dumber  "
      ]
     },
     "execution_count": 3,
     "metadata": {},
     "output_type": "execute_result"
    }
   ],
   "source": [
    "example = 'Dumb & Dumber'\n",
    "critics[(critics.title == 'Dumb & Dumber')].head(5)"
   ]
  },
  {
   "cell_type": "markdown",
   "metadata": {},
   "source": [
    "As I suspected, there's a few fresh and rotten ratings of the movie. I print one example of each below. "
   ]
  },
  {
   "cell_type": "code",
   "execution_count": 4,
   "metadata": {},
   "outputs": [
    {
     "name": "stdout",
     "output_type": "stream",
     "text": [
      "Dumb & Dumber Fresh Review\n",
      "Dumb and Dumber, which features Carrey and Jeff Daniels as nitwits traveling cross-country, is a frayed string of gags posing as a movie. Carrey, though, does literal-minded doofdom with peerless enthusiasm.\n",
      "\n",
      "Dumb & Dumber Rotten Review\n",
      "Given American cinema's current obsession with innocence and ignorance, at least this never romanticises its protagonists. They are genuinely, irredeemably, 100 per cent no-hopers.\n"
     ]
    }
   ],
   "source": [
    "dd = critics[(critics.title == example)]\n",
    "print example + \" Fresh Review\"\n",
    "print dd.loc[2543, 'quote']\n",
    "print \"\"\n",
    "print example + \" Rotten Review\"\n",
    "print dd.loc[2546, 'quote']"
   ]
  },
  {
   "cell_type": "markdown",
   "metadata": {},
   "source": [
    "This example immediately illustrates the challenges of text classification. \n",
    "\n",
    "The text of the \"fresh\" review does not convey a strong sense of positivity, referring to the characters as \"nitwits\" and the movie as \"frayed string of gags\".\n",
    "\n",
    "The \"rotten\" review doesn't clearly communicate whether the critic felt positively or negatively about the movie.  "
   ]
  },
  {
   "cell_type": "markdown",
   "metadata": {},
   "source": [
    "## Exploratory Analysis"
   ]
  },
  {
   "cell_type": "markdown",
   "metadata": {},
   "source": [
    "First I conduct some exploratory data analysis to learn more about this dataset. "
   ]
  },
  {
   "cell_type": "code",
   "execution_count": 5,
   "metadata": {},
   "outputs": [
    {
     "name": "stdout",
     "output_type": "stream",
     "text": [
      "Number of reviews: 15561\n",
      "Number of critics: 623\n",
      "Number of movies:  1921\n"
     ]
    }
   ],
   "source": [
    "n_reviews = len(critics)\n",
    "n_movies = critics.rtid.unique().size\n",
    "n_critics = critics.critic.unique().size\n",
    "\n",
    "print(\"Number of reviews: {:d}\".format(n_reviews))\n",
    "print(\"Number of critics: {:d}\".format(n_critics))\n",
    "print(\"Number of movies:  {:d}\".format(n_movies))"
   ]
  },
  {
   "cell_type": "markdown",
   "metadata": {},
   "source": [
    "The code below produces a new table with a row for each critic, with columns for the critic's total number of reviews and their mean of \"fresh\" ratings, which is just the percentage of all their reviews that they gave a fresh rating. "
   ]
  },
  {
   "cell_type": "code",
   "execution_count": 6,
   "metadata": {},
   "outputs": [
    {
     "data": {
      "text/html": [
       "<div>\n",
       "<style scoped>\n",
       "    .dataframe tbody tr th:only-of-type {\n",
       "        vertical-align: middle;\n",
       "    }\n",
       "\n",
       "    .dataframe tbody tr th {\n",
       "        vertical-align: top;\n",
       "    }\n",
       "\n",
       "    .dataframe thead th {\n",
       "        text-align: right;\n",
       "    }\n",
       "</style>\n",
       "<table border=\"1\" class=\"dataframe\">\n",
       "  <thead>\n",
       "    <tr style=\"text-align: right;\">\n",
       "      <th></th>\n",
       "      <th>rev_count</th>\n",
       "      <th>pct_fresh</th>\n",
       "    </tr>\n",
       "    <tr>\n",
       "      <th>critic</th>\n",
       "      <th></th>\n",
       "      <th></th>\n",
       "    </tr>\n",
       "  </thead>\n",
       "  <tbody>\n",
       "    <tr>\n",
       "      <th>A.D. Murphy</th>\n",
       "      <td>13.0</td>\n",
       "      <td>100.000000</td>\n",
       "    </tr>\n",
       "    <tr>\n",
       "      <th>A.H. Weiler</th>\n",
       "      <td>17.0</td>\n",
       "      <td>70.588235</td>\n",
       "    </tr>\n",
       "    <tr>\n",
       "      <th>A.O. Scott</th>\n",
       "      <td>19.0</td>\n",
       "      <td>36.842105</td>\n",
       "    </tr>\n",
       "    <tr>\n",
       "      <th>Aaron Hillis</th>\n",
       "      <td>2.0</td>\n",
       "      <td>100.000000</td>\n",
       "    </tr>\n",
       "    <tr>\n",
       "      <th>Abel Green</th>\n",
       "      <td>5.0</td>\n",
       "      <td>100.000000</td>\n",
       "    </tr>\n",
       "  </tbody>\n",
       "</table>\n",
       "</div>"
      ],
      "text/plain": [
       "              rev_count   pct_fresh\n",
       "critic                             \n",
       "A.D. Murphy        13.0  100.000000\n",
       "A.H. Weiler        17.0   70.588235\n",
       "A.O. Scott         19.0   36.842105\n",
       "Aaron Hillis        2.0  100.000000\n",
       "Abel Green          5.0  100.000000"
      ]
     },
     "execution_count": 6,
     "metadata": {},
     "output_type": "execute_result"
    }
   ],
   "source": [
    "df = critics.copy()\n",
    "# create boolean column from fresh column\n",
    "df['fresh'] = df.fresh == 'fresh'\n",
    "# group data by critic, create aggregate measures\n",
    "def func_agg(x):\n",
    "    names = {'rev_count': x['fresh'].count(),\n",
    "             'pct_fresh':  x['fresh'].mean()\n",
    "            }\n",
    "    return pd.Series(names, index=['rev_count', 'pct_fresh'])\n",
    "gbdf = df.groupby('critic').apply(func_agg)\n",
    "gbdf['pct_fresh'] = gbdf['pct_fresh'] * 100\n",
    "gbdf.head()"
   ]
  },
  {
   "cell_type": "markdown",
   "metadata": {},
   "source": [
    "Here I examine the critics' percentages of \"fresh\" ratings in a histogram, which shows the amount of critics that had various percentages of \"fresh\" ratings, from 0% fresh up to 100% fresh. "
   ]
  },
  {
   "cell_type": "code",
   "execution_count": 7,
   "metadata": {},
   "outputs": [
    {
     "data": {
      "image/png": "[encoded data removed]",
      "text/plain": [
       "<Figure size 600x400 with 1 Axes>"
      ]
     },
     "metadata": {},
     "output_type": "display_data"
    },
    {
     "data": {
      "text/plain": [
       "<ggplot: (32753044)>"
      ]
     },
     "execution_count": 7,
     "metadata": {},
     "output_type": "execute_result"
    }
   ],
   "source": [
    "ptitle = 'Distribution of critic mean'\n",
    "axlab = labs(x = 'Percentage of Critic\\'s Ratings \"Fresh\"', y = 'Number of Critics')\n",
    "plt = ggplot(gbdf) + aes(x='pct_fresh') + geom_histogram(binwidth=10)\n",
    "plt + ggtitle(ptitle) + axlab"
   ]
  },
  {
   "cell_type": "markdown",
   "metadata": {},
   "source": [
    "There's many critics at 0% and 100%, meaning their reviews were either all rotten or all fresh. \n",
    "\n",
    "This picture makes it seem like there's alot of critics out there who either really like or really hate everything that they see, but my hunch is that these are mostly critics with a small number of reviews."
   ]
  },
  {
   "cell_type": "markdown",
   "metadata": {},
   "source": [
    "To investigate this hunch I select the critics with either 0% or 100% of their ratings as fresh."
   ]
  },
  {
   "cell_type": "code",
   "execution_count": 8,
   "metadata": {
    "collapsed": true
   },
   "outputs": [],
   "source": [
    "extreme = gbdf[(gbdf['pct_fresh'] == 100.0) | (gbdf['pct_fresh'] == 0)]"
   ]
  },
  {
   "cell_type": "markdown",
   "metadata": {},
   "source": [
    "Then, I group the table by reviewer count and count the rows. This shows that most of the 100% or 0% fresh critics have only submitted a handful of reviews."
   ]
  },
  {
   "cell_type": "code",
   "execution_count": 9,
   "metadata": {},
   "outputs": [
    {
     "data": {
      "text/plain": [
       "rev_count\n",
       "1.0     221\n",
       "2.0      46\n",
       "3.0      15\n",
       "4.0       5\n",
       "5.0       6\n",
       "6.0       1\n",
       "8.0       2\n",
       "9.0       2\n",
       "10.0      1\n",
       "11.0      1\n",
       "13.0      1\n",
       "16.0      1\n",
       "Name: rev_count, dtype: int64"
      ]
     },
     "execution_count": 9,
     "metadata": {},
     "output_type": "execute_result"
    }
   ],
   "source": [
    "extreme.groupby('rev_count')['rev_count'].count()"
   ]
  },
  {
   "cell_type": "markdown",
   "metadata": {},
   "source": [
    "If I eliminate the critics with less than 3 reviews, and then plot the critic \"fresh\" percentage histogram again, it looks more like what I would expect. Most critics subumit a fresh rating 20-80% of the time. The ratings skew slightly positive, as it looks like most critics rate movies as \"fresh\" 60% of the time, and there's still a decent number of critics with 100% fresh ratings. "
   ]
  },
  {
   "cell_type": "code",
   "execution_count": 10,
   "metadata": {},
   "outputs": [
    {
     "data": {
      "image/png": "[encoded data removed]",
      "text/plain": [
       "<Figure size 600x400 with 1 Axes>"
      ]
     },
     "metadata": {},
     "output_type": "display_data"
    },
    {
     "data": {
      "text/plain": [
       "<ggplot: (32988346)>"
      ]
     },
     "execution_count": 10,
     "metadata": {},
     "output_type": "execute_result"
    }
   ],
   "source": [
    "ptitle = 'Distribution of critic mean'\n",
    "plt = ggplot(gbdf[gbdf.rev_count > 3]) + aes(x='pct_fresh') + geom_histogram(binwidth=10)\n",
    "plt + ggtitle(ptitle) + axlab"
   ]
  },
  {
   "cell_type": "markdown",
   "metadata": {},
   "source": [
    "A quick look at the mean fresh rating confirms the global average is pretty close to 60%. "
   ]
  },
  {
   "cell_type": "code",
   "execution_count": 11,
   "metadata": {},
   "outputs": [
    {
     "name": "stdout",
     "output_type": "stream",
     "text": [
      "Global average fresh rating: 60.9 percent\n"
     ]
    }
   ],
   "source": [
    "print \"Global average fresh rating: %r percent\" % (round(np.mean(df.fresh), 3) * 100)"
   ]
  },
  {
   "cell_type": "markdown",
   "metadata": {},
   "source": [
    "## Data Cleaning and Preparation"
   ]
  },
  {
   "cell_type": "markdown",
   "metadata": {},
   "source": [
    "Before I begin analyzing the text data and training models, I will reserve some of the data for later testing. By holding this data out of the model training process, I can use it later to get a \"true\" estimate of classification performance on future data. "
   ]
  },
  {
   "cell_type": "markdown",
   "metadata": {},
   "source": [
    "Instead of using a random split of the data, I chose to use the most recent 20% of ratings as the test set. This is more analagous to a real-world scenario, where existing data would be used to train a model that predicts ratings from new data coming in."
   ]
  },
  {
   "cell_type": "markdown",
   "metadata": {},
   "source": [
    "After converting the string date to python's datetime format, I show the oldest and most recent review dates. "
   ]
  },
  {
   "cell_type": "code",
   "execution_count": 12,
   "metadata": {},
   "outputs": [
    {
     "name": "stdout",
     "output_type": "stream",
     "text": [
      "1800-01-01 00:00:00\n",
      "2013-10-07 00:00:00\n"
     ]
    }
   ],
   "source": [
    "# convert to review date to datetime format\n",
    "df['date'] = df['review_date'].apply(lambda x: datetime.datetime.strptime(x, '%Y-%m-%d'))\n",
    "\n",
    "# inspect date range\n",
    "print np.min(df.date)\n",
    "print np.max(df.date)"
   ]
  },
  {
   "cell_type": "markdown",
   "metadata": {},
   "source": [
    "One of the reviews was submitted in 1800? That doesn't seem right. Below I sort the data by date and display the first 10 rows. "
   ]
  },
  {
   "cell_type": "code",
   "execution_count": 13,
   "metadata": {},
   "outputs": [
    {
     "data": {
      "text/html": [
       "<div>\n",
       "<style scoped>\n",
       "    .dataframe tbody tr th:only-of-type {\n",
       "        vertical-align: middle;\n",
       "    }\n",
       "\n",
       "    .dataframe tbody tr th {\n",
       "        vertical-align: top;\n",
       "    }\n",
       "\n",
       "    .dataframe thead th {\n",
       "        text-align: right;\n",
       "    }\n",
       "</style>\n",
       "<table border=\"1\" class=\"dataframe\">\n",
       "  <thead>\n",
       "    <tr style=\"text-align: right;\">\n",
       "      <th></th>\n",
       "      <th>critic</th>\n",
       "      <th>fresh</th>\n",
       "      <th>imdb</th>\n",
       "      <th>publication</th>\n",
       "      <th>quote</th>\n",
       "      <th>review_date</th>\n",
       "      <th>rtid</th>\n",
       "      <th>title</th>\n",
       "      <th>date</th>\n",
       "    </tr>\n",
       "  </thead>\n",
       "  <tbody>\n",
       "    <tr>\n",
       "      <th>10865</th>\n",
       "      <td>Owen Gleiberman</td>\n",
       "      <td>True</td>\n",
       "      <td>103644</td>\n",
       "      <td>Entertainment Weekly</td>\n",
       "      <td>A grimly seductive end-of-the-world thriller, ...</td>\n",
       "      <td>1800-01-01</td>\n",
       "      <td>14276</td>\n",
       "      <td>Alien³</td>\n",
       "      <td>1800-01-01 00:00:00</td>\n",
       "    </tr>\n",
       "    <tr>\n",
       "      <th>10478</th>\n",
       "      <td>James Berardinelli</td>\n",
       "      <td>True</td>\n",
       "      <td>92005</td>\n",
       "      <td>ReelViews</td>\n",
       "      <td>It's as effective in 2009 as it was upon its i...</td>\n",
       "      <td>1800-01-01</td>\n",
       "      <td>16272</td>\n",
       "      <td>Stand by Me</td>\n",
       "      <td>1800-01-01 00:00:00</td>\n",
       "    </tr>\n",
       "    <tr>\n",
       "      <th>8143</th>\n",
       "      <td>James Berardinelli</td>\n",
       "      <td>True</td>\n",
       "      <td>32976</td>\n",
       "      <td>ReelViews</td>\n",
       "      <td>The result exhibits that the director is capab...</td>\n",
       "      <td>1800-01-01</td>\n",
       "      <td>17080</td>\n",
       "      <td>Rebecca</td>\n",
       "      <td>1800-01-01 00:00:00</td>\n",
       "    </tr>\n",
       "    <tr>\n",
       "      <th>16362</th>\n",
       "      <td>James Berardinelli</td>\n",
       "      <td>False</td>\n",
       "      <td>19729</td>\n",
       "      <td>ReelViews</td>\n",
       "      <td>The Broadway Melody has not stood the test of ...</td>\n",
       "      <td>1929-02-01</td>\n",
       "      <td>18773</td>\n",
       "      <td>The Broadway Melody</td>\n",
       "      <td>1929-02-01</td>\n",
       "    </tr>\n",
       "    <tr>\n",
       "      <th>16369</th>\n",
       "      <td>James Berardinelli</td>\n",
       "      <td>True</td>\n",
       "      <td>20629</td>\n",
       "      <td>ReelViews</td>\n",
       "      <td>All Quiet on the Western Front is the definiti...</td>\n",
       "      <td>1930-08-24</td>\n",
       "      <td>17121</td>\n",
       "      <td>All Quiet on the Western Front</td>\n",
       "      <td>1930-08-24</td>\n",
       "    </tr>\n",
       "    <tr>\n",
       "      <th>16395</th>\n",
       "      <td>James Berardinelli</td>\n",
       "      <td>True</td>\n",
       "      <td>22958</td>\n",
       "      <td>ReelViews</td>\n",
       "      <td>It hasn't aged as well as some Oscar-winners, ...</td>\n",
       "      <td>1932-01-01</td>\n",
       "      <td>19274</td>\n",
       "      <td>Grand Hotel</td>\n",
       "      <td>1932-01-01</td>\n",
       "    </tr>\n",
       "    <tr>\n",
       "      <th>16401</th>\n",
       "      <td>James Berardinelli</td>\n",
       "      <td>True</td>\n",
       "      <td>23876</td>\n",
       "      <td>ReelViews</td>\n",
       "      <td>If nothing else, this reveals something about ...</td>\n",
       "      <td>1933-01-01</td>\n",
       "      <td>358138026</td>\n",
       "      <td>Cavalcade</td>\n",
       "      <td>1933-01-01</td>\n",
       "    </tr>\n",
       "    <tr>\n",
       "      <th>7948</th>\n",
       "      <td>James Berardinelli</td>\n",
       "      <td>True</td>\n",
       "      <td>25316</td>\n",
       "      <td>ReelViews</td>\n",
       "      <td>Its opposites-attract melding of screwball com...</td>\n",
       "      <td>1934-02-22</td>\n",
       "      <td>18256</td>\n",
       "      <td>It Happened One Night</td>\n",
       "      <td>1934-02-22</td>\n",
       "    </tr>\n",
       "    <tr>\n",
       "      <th>16408</th>\n",
       "      <td>James Berardinelli</td>\n",
       "      <td>True</td>\n",
       "      <td>26752</td>\n",
       "      <td>ReelViews</td>\n",
       "      <td>A rousing adventure film set on the high seas.</td>\n",
       "      <td>1935-01-01</td>\n",
       "      <td>18544</td>\n",
       "      <td>Mutiny on the Bounty</td>\n",
       "      <td>1935-01-01</td>\n",
       "    </tr>\n",
       "    <tr>\n",
       "      <th>16413</th>\n",
       "      <td>James Berardinelli</td>\n",
       "      <td>False</td>\n",
       "      <td>27698</td>\n",
       "      <td>ReelViews</td>\n",
       "      <td>Although some of the production's technical as...</td>\n",
       "      <td>1936-01-01</td>\n",
       "      <td>20735</td>\n",
       "      <td>The Great Ziegfeld</td>\n",
       "      <td>1936-01-01</td>\n",
       "    </tr>\n",
       "  </tbody>\n",
       "</table>\n",
       "</div>"
      ],
      "text/plain": [
       "                   critic  fresh    imdb           publication  \\\n",
       "10865     Owen Gleiberman   True  103644  Entertainment Weekly   \n",
       "10478  James Berardinelli   True   92005             ReelViews   \n",
       "8143   James Berardinelli   True   32976             ReelViews   \n",
       "16362  James Berardinelli  False   19729             ReelViews   \n",
       "16369  James Berardinelli   True   20629             ReelViews   \n",
       "16395  James Berardinelli   True   22958             ReelViews   \n",
       "16401  James Berardinelli   True   23876             ReelViews   \n",
       "7948   James Berardinelli   True   25316             ReelViews   \n",
       "16408  James Berardinelli   True   26752             ReelViews   \n",
       "16413  James Berardinelli  False   27698             ReelViews   \n",
       "\n",
       "                                                   quote review_date  \\\n",
       "10865  A grimly seductive end-of-the-world thriller, ...  1800-01-01   \n",
       "10478  It's as effective in 2009 as it was upon its i...  1800-01-01   \n",
       "8143   The result exhibits that the director is capab...  1800-01-01   \n",
       "16362  The Broadway Melody has not stood the test of ...  1929-02-01   \n",
       "16369  All Quiet on the Western Front is the definiti...  1930-08-24   \n",
       "16395  It hasn't aged as well as some Oscar-winners, ...  1932-01-01   \n",
       "16401  If nothing else, this reveals something about ...  1933-01-01   \n",
       "7948   Its opposites-attract melding of screwball com...  1934-02-22   \n",
       "16408     A rousing adventure film set on the high seas.  1935-01-01   \n",
       "16413  Although some of the production's technical as...  1936-01-01   \n",
       "\n",
       "            rtid                           title                date  \n",
       "10865      14276                          Alien³ 1800-01-01 00:00:00  \n",
       "10478      16272                     Stand by Me 1800-01-01 00:00:00  \n",
       "8143       17080                         Rebecca 1800-01-01 00:00:00  \n",
       "16362      18773             The Broadway Melody          1929-02-01  \n",
       "16369      17121  All Quiet on the Western Front          1930-08-24  \n",
       "16395      19274                     Grand Hotel          1932-01-01  \n",
       "16401  358138026                       Cavalcade          1933-01-01  \n",
       "7948       18256           It Happened One Night          1934-02-22  \n",
       "16408      18544            Mutiny on the Bounty          1935-01-01  \n",
       "16413      20735              The Great Ziegfeld          1936-01-01  "
      ]
     },
     "execution_count": 13,
     "metadata": {},
     "output_type": "execute_result"
    }
   ],
   "source": [
    "df.sort_values('date').head(10)"
   ]
  },
  {
   "cell_type": "markdown",
   "metadata": {},
   "source": [
    "The first 3 reviews seem to have incorrect dates. I'll drop them from the dataset. "
   ]
  },
  {
   "cell_type": "code",
   "execution_count": 14,
   "metadata": {
    "collapsed": true
   },
   "outputs": [],
   "source": [
    "df['year'] = df['date'].apply(lambda x: x.year)\n",
    "df = df[df['year'] >= 1929]"
   ]
  },
  {
   "cell_type": "markdown",
   "metadata": {},
   "source": [
    "Here I sort the data by date and return the date at the 80th percentile , and create a boolean column to note whether the review occurs after this date. Rows marked as \"False\" will be my training set, \"True\" will be the test set.  "
   ]
  },
  {
   "cell_type": "code",
   "execution_count": 15,
   "metadata": {
    "collapsed": true
   },
   "outputs": [],
   "source": [
    "# set the latest 20% of reviews as the test set\n",
    "df = df.sort_values('date')\n",
    "df['date'].quantile(q=0.8)\n",
    "df['test'] = df['date'] > df['date'].quantile(q=0.8)"
   ]
  },
  {
   "cell_type": "code",
   "execution_count": 16,
   "metadata": {},
   "outputs": [
    {
     "data": {
      "text/plain": [
       "0.20002571024553284"
      ]
     },
     "execution_count": 16,
     "metadata": {},
     "output_type": "execute_result"
    }
   ],
   "source": [
    "# confirm the dftest = True rows comprise 20% of dataset\n",
    "np.sum(df.test) / df.shape[0]"
   ]
  },
  {
   "cell_type": "code",
   "execution_count": 17,
   "metadata": {
    "collapsed": true
   },
   "outputs": [],
   "source": [
    "# create train and test dataframes\n",
    "dftrain = df.loc[df.test == False]\n",
    "dftest = df.loc[df.test == True]"
   ]
  },
  {
   "cell_type": "markdown",
   "metadata": {},
   "source": [
    "I also create separate training and test arrays for the target variable, which is the \"fresh\" rating. "
   ]
  },
  {
   "cell_type": "code",
   "execution_count": 18,
   "metadata": {
    "collapsed": true
   },
   "outputs": [],
   "source": [
    "# create target array, training and test sets\n",
    "# convert boolean \"fresh\" column to array of integers\n",
    "y = df['fresh'].values * 1\n",
    "\n",
    "# use boolean array to divide to training and test\n",
    "ytrain = y[df.test == False]\n",
    "ytest = y[df.test == True]"
   ]
  },
  {
   "cell_type": "code",
   "execution_count": 19,
   "metadata": {
    "collapsed": true
   },
   "outputs": [],
   "source": [
    "# save datsets for easier importing later\n",
    "dftrain.to_csv('data/text/critics_train.csv')\n",
    "dftest.to_csv('data/text/critics_test.csv')"
   ]
  },
  {
   "cell_type": "markdown",
   "metadata": {},
   "source": [
    "## Converting text data to numerical format"
   ]
  },
  {
   "cell_type": "markdown",
   "metadata": {},
   "source": [
    "Most classification algorithms cannot take raw text as input, which means I need to convert the review text into a numeric format algorithms will understand. \n",
    "\n",
    "One basic strategy for this problem involves creation of a term frequency matrix. Below I use a simple example to illustrate what this matrix represents. "
   ]
  },
  {
   "cell_type": "code",
   "execution_count": 20,
   "metadata": {},
   "outputs": [
    {
     "data": {
      "text/html": [
       "<div>\n",
       "<style scoped>\n",
       "    .dataframe tbody tr th:only-of-type {\n",
       "        vertical-align: middle;\n",
       "    }\n",
       "\n",
       "    .dataframe tbody tr th {\n",
       "        vertical-align: top;\n",
       "    }\n",
       "\n",
       "    .dataframe thead th {\n",
       "        text-align: right;\n",
       "    }\n",
       "</style>\n",
       "<table border=\"1\" class=\"dataframe\">\n",
       "  <thead>\n",
       "    <tr style=\"text-align: right;\">\n",
       "      <th></th>\n",
       "      <th>revtext</th>\n",
       "    </tr>\n",
       "  </thead>\n",
       "  <tbody>\n",
       "    <tr>\n",
       "      <th>0</th>\n",
       "      <td>This movie was good</td>\n",
       "    </tr>\n",
       "    <tr>\n",
       "      <th>1</th>\n",
       "      <td>Awful, awful. This movie was not good</td>\n",
       "    </tr>\n",
       "  </tbody>\n",
       "</table>\n",
       "</div>"
      ],
      "text/plain": [
       "                                 revtext\n",
       "0                    This movie was good\n",
       "1  Awful, awful. This movie was not good"
      ]
     },
     "execution_count": 20,
     "metadata": {},
     "output_type": "execute_result"
    }
   ],
   "source": [
    "# make up 2 reviews with similar words\n",
    "review0 = 'This movie was good'\n",
    "review1 = 'Awful, awful. This movie was not good'\n",
    "ex_data = pd.DataFrame({'revtext': [review0, review1]}, columns=['revtext'])\n",
    "ex_data"
   ]
  },
  {
   "cell_type": "markdown",
   "metadata": {},
   "source": [
    "The table above contains 2 made-up reviews. The text for both reviews is exactly the same, except the second review has 2 additional words, 'awful' and not'. "
   ]
  },
  {
   "cell_type": "markdown",
   "metadata": {},
   "source": [
    "To convert these reviews to a term frequency matrix, I use a vectorizer. The vectorizer treats the 2 reviews as a set of \"documents\" that use a common vocabulary. The vocabulary comes from the documents, and in its simplest form this vocabulary is just a collection of all the unique words in all the documents. "
   ]
  },
  {
   "cell_type": "markdown",
   "metadata": {},
   "source": [
    "Fitting the vectorizer allows it to learn all the words contained in the documents. Here I fit the vectorizer and print the vocabulary. "
   ]
  },
  {
   "cell_type": "code",
   "execution_count": 21,
   "metadata": {},
   "outputs": [
    {
     "name": "stdout",
     "output_type": "stream",
     "text": [
      "[u'awful', u'good', u'movie', u'not', u'this', u'was']\n"
     ]
    }
   ],
   "source": [
    "vectorizer = CountVectorizer()\n",
    "vectorizer.fit(ex_data['revtext'])\n",
    "columns = vectorizer.get_feature_names()\n",
    "print columns"
   ]
  },
  {
   "cell_type": "markdown",
   "metadata": {},
   "source": [
    "The vectorizer now \"knows\" the vocabulary in these documents, so it can be used to transform the reviews into the term frequency matrix. "
   ]
  },
  {
   "cell_type": "code",
   "execution_count": 22,
   "metadata": {},
   "outputs": [
    {
     "name": "stdout",
     "output_type": "stream",
     "text": [
      "Term Frequency Matrix\n",
      "   awful  good  movie  not  this  was\n",
      "0      0     1      1    0     1    1\n",
      "1      2     1      1    1     1    1\n",
      "This movie was good\n",
      "Awful, awful. This movie was not good\n"
     ]
    }
   ],
   "source": [
    "ex_mat = vectorizer.transform(ex_data['revtext'])\n",
    "print \"Term Frequency Matrix\"\n",
    "print pd.DataFrame(ex_mat.toarray(), columns=columns)\n",
    "print review0\n",
    "print review1"
   ]
  },
  {
   "cell_type": "markdown",
   "metadata": {},
   "source": [
    "As you can see above, the term frequency matrix simply counts the number of occurrences of each word in each document. Th"
   ]
  },
  {
   "cell_type": "markdown",
   "metadata": {},
   "source": [
    "This process easily extends to the 15,000 critiques in the Rotten Tomatoes dataset. "
   ]
  },
  {
   "cell_type": "code",
   "execution_count": 23,
   "metadata": {
    "collapsed": true
   },
   "outputs": [],
   "source": [
    "# fit and transform training set\n",
    "vectorizer = CountVectorizer()\n",
    "xtrain = vectorizer.fit_transform(dftrain['quote'])\n",
    "\n",
    "# transform test set\n",
    "xtest = vectorizer.transform(dftest['quote'])"
   ]
  },
  {
   "cell_type": "code",
   "execution_count": 24,
   "metadata": {},
   "outputs": [
    {
     "name": "stdout",
     "output_type": "stream",
     "text": [
      "(12446, 19805)\n",
      "(3112, 19805)\n"
     ]
    }
   ],
   "source": [
    "print xtrain.shape\n",
    "print xtest.shape"
   ]
  },
  {
   "cell_type": "markdown",
   "metadata": {},
   "source": [
    "The vocabulary contains 19,805 words. The matrix objects xtrain and xtest now contain the term frequency matrix for the training and test sets. \n",
    "\n",
    "The columns of these datasets are now \"features\" that we can use to train a classification algorithm, with the features being the number of times a word appears in a review. "
   ]
  },
  {
   "cell_type": "markdown",
   "metadata": {},
   "source": [
    "## Classifying reviews from term frequencies"
   ]
  },
  {
   "cell_type": "markdown",
   "metadata": {},
   "source": [
    "For a baseline classification model, I chose the Naive Bayes classifier. This classifier tends to perform fairly well on text classification tasks without much tweaking or input from the user. "
   ]
  },
  {
   "cell_type": "code",
   "execution_count": 25,
   "metadata": {
    "collapsed": true
   },
   "outputs": [],
   "source": [
    "#set up and fit classifier\n",
    "clf = MultinomialNB()"
   ]
  },
  {
   "cell_type": "markdown",
   "metadata": {},
   "source": [
    "I use cross-validation to assess classifier performance, with 5 cross-validation folds. I train the model using 4/5 of the data, and use the trained model to make predictions for the remaining 1/5. This process repeats 5 times, and the cross-validation score is the average across the 5 folds."
   ]
  },
  {
   "cell_type": "code",
   "execution_count": 26,
   "metadata": {},
   "outputs": [],
   "source": [
    "# create cross-validation generator\n",
    "skf = StratifiedKFold(n_splits = 5, random_state=3950)\n",
    "\n",
    "# make cross-validated predictions\n",
    "prdscv = cross_val_predict(clf, xtrain, ytrain, cv=skf)"
   ]
  },
  {
   "cell_type": "markdown",
   "metadata": {},
   "source": [
    "I also collect full training set predictions to assess the gap between training and cross-validation performance. "
   ]
  },
  {
   "cell_type": "code",
   "execution_count": 27,
   "metadata": {},
   "outputs": [],
   "source": [
    "# fit classifier to trainig set and make predictions\n",
    "prdstrn = clf.fit(xtrain, ytrain).predict(xtrain)"
   ]
  },
  {
   "cell_type": "markdown",
   "metadata": {},
   "source": [
    "For a performance metric, I use accuracy score, which is the percentage of correct predictions out of the total number of predictions. I also inspect the confusion matrix from the cross-validated predictions. "
   ]
  },
  {
   "cell_type": "code",
   "execution_count": 28,
   "metadata": {},
   "outputs": [
    {
     "name": "stdout",
     "output_type": "stream",
     "text": [
      "Training accuracy: 0.9208581070223365\n",
      "Cross-validation accuracy: 0.76305640366382776\n"
     ]
    },
    {
     "data": {
      "text/plain": [
       "array([[3229, 1777],\n",
       "       [1172, 6268]], dtype=int64)"
      ]
     },
     "execution_count": 28,
     "metadata": {},
     "output_type": "execute_result"
    }
   ],
   "source": [
    "# predict accuracy scores for both training and test sets\n",
    "print \"Training accuracy: %r\" % (accuracy_score(ytrain, prdstrn))\n",
    "print \"Cross-validation accuracy: %r\" % (accuracy_score(ytrain, prdscv))\n",
    "confusion_matrix(ytrain, prdscv)"
   ]
  },
  {
   "cell_type": "markdown",
   "metadata": {},
   "source": [
    "The default Naive Bayes algorithm accurately predicts 76% of the reviews in cross-validation, which seems not bad for baseline performance. "
   ]
  },
  {
   "cell_type": "markdown",
   "metadata": {},
   "source": [
    "Here I try a slightly different Bernoulli Naive Bayes classifier. Instead of a term frequency matrix, this algorithm takes as input a term occurrence matrix, where the cells simply note whether the word was in the critique or not. This algorithm may perform better with shorter documents. "
   ]
  },
  {
   "cell_type": "code",
   "execution_count": 29,
   "metadata": {},
   "outputs": [
    {
     "name": "stdout",
     "output_type": "stream",
     "text": [
      "Training accuracy: 0.90237827414430338\n",
      "Cross-validation accuracy: 0.74264824039852162\n"
     ]
    },
    {
     "data": {
      "text/plain": [
       "array([[2836, 2170],\n",
       "       [1033, 6407]], dtype=int64)"
      ]
     },
     "execution_count": 29,
     "metadata": {},
     "output_type": "execute_result"
    }
   ],
   "source": [
    "# create a binary term matrix\n",
    "vectorizer = CountVectorizer(binary=True)\n",
    "xtrain = vectorizer.fit_transform(dftrain['quote'])\n",
    "\n",
    "# set up Bernoulli model\n",
    "clf = BernoulliNB()\n",
    "prdscv = cross_val_predict(clf, xtrain, ytrain, cv=skf)\n",
    "prdstrn = clf.fit(xtrain, ytrain).predict(xtrain)\n",
    "print \"Training accuracy: %r\" % (accuracy_score(ytrain, prdstrn))\n",
    "print \"Cross-validation accuracy: %r\" % (accuracy_score(ytrain, prdscv))\n",
    "confusion_matrix(ytrain, prdscv)"
   ]
  },
  {
   "cell_type": "markdown",
   "metadata": {},
   "source": [
    "The Bernoulli Naive Bayes model produces slightly lower cross-validation accuracy, at 74.3%. "
   ]
  },
  {
   "cell_type": "markdown",
   "metadata": {},
   "source": [
    "### Examining Prediction Errors"
   ]
  },
  {
   "cell_type": "markdown",
   "metadata": {},
   "source": [
    "The algorithm is correct about 3/4 of the time. Inspecting some of the mistakes may help me decide how to improve on these results. \n",
    "\n",
    "Below I look at some of the biggest \"mistakes\" made by the model: true \"fresh\" ratings that were estimated to have low probabilities of \"fresh\", and true \"rotten\" ratings estimated to have a high probability of \"fresh\". "
   ]
  },
  {
   "cell_type": "code",
   "execution_count": 30,
   "metadata": {},
   "outputs": [],
   "source": [
    "# get estimated probabilities of \"fresh\" rating\n",
    "vectorizer = CountVectorizer()\n",
    "xtrain = vectorizer.fit_transform(dftrain['quote'])\n",
    "clf = MultinomialNB()\n",
    "probs = cross_val_predict(clf, xtrain, ytrain, method='predict_proba')[:, 1]"
   ]
  },
  {
   "cell_type": "code",
   "execution_count": 31,
   "metadata": {},
   "outputs": [],
   "source": [
    "# return indices of lowest \"fresh\" probability for true fresh ratings\n",
    "tfresh_protten = np.argsort(probs[ytrain==1])[0:5]\n",
    "# highest \"fresh\" probability for true rotten ratings\n",
    "trotten_pfresh = np.argsort(probs[ytrain==0])[-5:]"
   ]
  },
  {
   "cell_type": "code",
   "execution_count": 32,
   "metadata": {},
   "outputs": [
    {
     "name": "stdout",
     "output_type": "stream",
     "text": [
      "True Fresh Predicted Rotten\n",
      "---------------------------\n",
      "2.8585561419e-05\n",
      "Still Breathing\n",
      "A gooey, swooning swatch of romantic hyperventilation, its queasy charms. And let it be said that surrendering to those charms could be as guilt-inducing as polishing off a pint of Haagen-Dazs chocolate ice cream before lunch.\n",
      "\n",
      "8.7491674227e-05\n",
      "South Park: Bigger Longer & Uncut\n",
      "Certain, probably arrested, personalities (like mine) just find this kind of sh*t pretty funny and any attempt to talk your way around that is, as Cartman would say, blowing bubbles out your *ss.\n",
      "\n",
      "0.000290266468174\n",
      "Trust the Man\n",
      "I saw this at a festival and hated it, then sat through it again a year later and decided it wasn't so bad, aside from the god-awful ending.\n",
      "\n",
      "0.000295402435766\n",
      "Dead Man Walking\n",
      "Dead Man Walking could easily be manipulative or exploitative, but it's neither. Instead, this is hard-hitting drama that neither accepts nor offers quarter.\n",
      "\n",
      "0.000423442813228\n",
      "Charlotte's Web\n",
      "There's too much talent and too strong a story to mess it up. There was potential for more here, but this incarnation is nothing to be ashamed of, and some of the actors answer the bell.\n",
      "\n"
     ]
    }
   ],
   "source": [
    "print(\"True Fresh Predicted Rotten\")\n",
    "print('---------------------------')\n",
    "for i in tfresh_protten:\n",
    "    print probs[ytrain==1][i]\n",
    "    print dftrain[ytrain == 1].title.iloc[i]\n",
    "    print(dftrain[ytrain == 1].quote.iloc[i])\n",
    "    print(\"\")"
   ]
  },
  {
   "cell_type": "markdown",
   "metadata": {},
   "source": [
    "It's easy to see why the algorithm misclassified these \"fresh\" reviews as \"rotten\": they include many words that are most likely associated with rotten ratings, like \"queasy\", \"hated\", \"bad\", \"god-awful\", \"exploitative\", \"mess\", and \"ashamed\". "
   ]
  },
  {
   "cell_type": "code",
   "execution_count": 33,
   "metadata": {},
   "outputs": [
    {
     "name": "stdout",
     "output_type": "stream",
     "text": [
      "True Rotten Predicted Fresh\n",
      "---------------------------\n",
      "0.999907522721\n",
      "Jackie Brown\n",
      "Working from an Elmore Leonard novel, Tarantino has created a gangster fiction that is never larger than life and sometimes smaller.\n",
      "\n",
      "0.999932830635\n",
      "Return to Paradise\n",
      "If it's to be experienced at all, Return to Paradise is best seen as a lively piece of pulp, not a profound exploration of the vagaries of the human soul.\n",
      "\n",
      "0.999937651787\n",
      "The Waterboy\n",
      "The Waterboy is arguably Sandler's most enjoyable motion picture to date, but it's still far from a masterpiece.\n",
      "\n",
      "0.9999812839\n",
      "Anywhere But Here\n",
      "As a depiction of a loving-turbulent relationship between a single mom (Susan Sarandon) and her rebellious teenage daughter (Natalie Portman), Wang's meller is nicely crafted but old-fashioned like Hollywood's weepies of yesteryear.\n",
      "\n",
      "0.999995538497\n",
      "Det sjunde inseglet\n",
      "It survives today only as an unusually pure example of a typical 50s art-film strategy: the attempt to make the most modern and most popular of art forms acceptable to the intelligentsia by forcing it into an arcane, antique mold.\n",
      "\n"
     ]
    }
   ],
   "source": [
    "print(\"True Rotten Predicted Fresh\")\n",
    "print('---------------------------')\n",
    "for i in trotten_pfresh:\n",
    "    print probs[ytrain==0][i]\n",
    "    print dftrain[ytrain == 0].title.iloc[i]\n",
    "    print(dftrain[ytrain == 0].quote.iloc[i])\n",
    "    print(\"\")"
   ]
  },
  {
   "cell_type": "markdown",
   "metadata": {},
   "source": [
    "For these true \"rotten\" reviews predicted as fresh, I notice several words more commonly associated with positive reviews: \"lively\", \"profound\", \"enjoyable\", \"nicely\", \"popular\", and \"acceptable\"."
   ]
  },
  {
   "cell_type": "code",
   "execution_count": 34,
   "metadata": {},
   "outputs": [],
   "source": [
    "negwords = [\"queasy\", \"hated\", \"bad\", \"awful\", \"exploitative\", \"mess\", \"ashamed\"]\n",
    "poswords = [\"lively\", \"profound\", \"enjoyable\", \"nicely\", \"popular\", \"acceptable\"]"
   ]
  },
  {
   "cell_type": "markdown",
   "metadata": {},
   "source": [
    "To obtain the probability estimate for individual words, I create a 2-D matrix with a 1 along the diagonal, 0's elswhere, and make predictions from this matrix. "
   ]
  },
  {
   "cell_type": "code",
   "execution_count": 35,
   "metadata": {},
   "outputs": [],
   "source": [
    "# fit the model to the training data\n",
    "clf.fit(xtrain, ytrain)\n",
    "\n",
    "# create the 2-d matrix for single word occurrence\n",
    "x = np.eye(xtrain.shape[1])\n",
    "\n",
    "# get probabilities predicted for single words\n",
    "probs = clf.predict_proba(x)[:, 1]"
   ]
  },
  {
   "cell_type": "code",
   "execution_count": 36,
   "metadata": {
    "collapsed": true
   },
   "outputs": [],
   "source": [
    "# get the vocabulary\n",
    "words = np.array(vectorizer.get_feature_names())"
   ]
  },
  {
   "cell_type": "code",
   "execution_count": 37,
   "metadata": {},
   "outputs": [
    {
     "name": "stdout",
     "output_type": "stream",
     "text": [
      "queasy 0.375866062082\n",
      "hated 0.318983630768\n",
      "bad 0.284186331053\n",
      "awful 0.267295381454\n",
      "exploitative 0.457438277336\n",
      "mess 0.31632410125\n",
      "ashamed 0.513117904136\n"
     ]
    }
   ],
   "source": [
    "for w in negwords:\n",
    "    i = list(words).index(w)\n",
    "    print w, probs[i]"
   ]
  },
  {
   "cell_type": "markdown",
   "metadata": {},
   "source": [
    "Nearly all these words have probabilities below 0.50, meaning they typically predict a rotten rating. "
   ]
  },
  {
   "cell_type": "code",
   "execution_count": 38,
   "metadata": {},
   "outputs": [
    {
     "name": "stdout",
     "output_type": "stream",
     "text": [
      "lively 0.775923727069\n",
      "profound 0.693093913268\n",
      "enjoyable 0.832683049924\n",
      "nicely 0.798064245174\n",
      "popular 0.828997641887\n",
      "acceptable 0.513117904136\n"
     ]
    }
   ],
   "source": [
    "for w in poswords:\n",
    "    i = list(words).index(w)\n",
    "    print w, probs[i]"
   ]
  },
  {
   "cell_type": "markdown",
   "metadata": {},
   "source": [
    "All have probabilities above 0.50, meaning they're associated with fresh ratings. "
   ]
  },
  {
   "cell_type": "markdown",
   "metadata": {},
   "source": [
    "I think these errors illustrate the limitations of the approach that I used. Each word is considered in isolation, without consideration of the language or context around the word. The critique as a whole may convey a different attitude or \"sentiment\" than the sum of its parts, but the \"bag-of-words\" approach does not account for this. "
   ]
  },
  {
   "cell_type": "markdown",
   "metadata": {},
   "source": [
    "## Summary and Next Steps"
   ]
  },
  {
   "cell_type": "markdown",
   "metadata": {},
   "source": [
    "I've demonstrated how to convert the movie critiques into a numeric format for classification/prediction algorithms. I've also used two versions of the Naive Bayes classifier to predict the movie ratings from the critique text, resulting in a 76% cross-validation accuracy rate. \n",
    "\n",
    "I've also highlighted some reasons why the classifier misclassified some critiques, by inspecting some predictions that were both highly confident and wrong. \n",
    "\n",
    "I plan to follow up this initial project to improve the accuracy, by testing different feature selection approaches, selecting and fine-tuning different classification algorithms, or some combination of both. "
   ]
  }
 ],
 "metadata": {
  "anaconda-cloud": {},
  "kernelspec": {
   "display_name": "Python 2",
   "language": "python",
   "name": "python2"
  },
  "language_info": {
   "codemirror_mode": {
    "name": "ipython",
    "version": 2
   },
   "file_extension": ".py",
   "mimetype": "text/x-python",
   "name": "python",
   "nbconvert_exporter": "python",
   "pygments_lexer": "ipython2",
   "version": "2.7.13"
  }
 },
 "nbformat": 4,
 "nbformat_minor": 1
}
