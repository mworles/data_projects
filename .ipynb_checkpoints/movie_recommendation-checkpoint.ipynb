{
 "cells": [
  {
   "cell_type": "code",
   "execution_count": 1,
   "metadata": {},
   "outputs": [
    {
     "name": "stderr",
     "output_type": "stream",
     "text": [
      "C:\\ProgramData\\Anaconda2\\lib\\site-packages\\statsmodels\\compat\\pandas.py:56: FutureWarning: The pandas.core.datetools module is deprecated and will be removed in a future version. Please use the pandas.tseries module instead.\n",
      "  from pandas.core import datetools\n"
     ]
    }
   ],
   "source": [
    "import numpy as np\n",
    "import pandas as pd\n",
    "from plotnine import *\n",
    "import re"
   ]
  },
  {
   "cell_type": "code",
   "execution_count": 2,
   "metadata": {
    "collapsed": true
   },
   "outputs": [],
   "source": [
    "from sklearn.metrics import mean_squared_error\n",
    "from math import sqrt"
   ]
  },
  {
   "cell_type": "code",
   "execution_count": 3,
   "metadata": {
    "collapsed": true
   },
   "outputs": [],
   "source": [
    "# load the users and movies data\n",
    "users = pd.read_table('data/movielens/users.dat',\n",
    "                      sep='::', header=None, engine='python',\n",
    "                      names=['user_id', 'gender', 'age', 'occupation', 'zip'])\n",
    "movies = pd.read_table('data/movielens/movies.dat',\n",
    "                       sep='::', header=None, engine='python',\n",
    "                       names=['movie_id', 'title', 'genres'])\n",
    "ratings = pd.read_table('data/movielens/ratings.dat',\n",
    "                       sep='::', header=None, engine='python',\n",
    "                       names=['user_id', 'movie_id', 'rating', 'timestamp'])"
   ]
  },
  {
   "cell_type": "code",
   "execution_count": 4,
   "metadata": {},
   "outputs": [
    {
     "data": {
      "text/html": [
       "<div>\n",
       "<style scoped>\n",
       "    .dataframe tbody tr th:only-of-type {\n",
       "        vertical-align: middle;\n",
       "    }\n",
       "\n",
       "    .dataframe tbody tr th {\n",
       "        vertical-align: top;\n",
       "    }\n",
       "\n",
       "    .dataframe thead th {\n",
       "        text-align: right;\n",
       "    }\n",
       "</style>\n",
       "<table border=\"1\" class=\"dataframe\">\n",
       "  <thead>\n",
       "    <tr style=\"text-align: right;\">\n",
       "      <th></th>\n",
       "      <th>user_id</th>\n",
       "      <th>gender</th>\n",
       "      <th>age</th>\n",
       "      <th>occupation</th>\n",
       "      <th>zip</th>\n",
       "    </tr>\n",
       "  </thead>\n",
       "  <tbody>\n",
       "    <tr>\n",
       "      <th>0</th>\n",
       "      <td>1</td>\n",
       "      <td>F</td>\n",
       "      <td>1</td>\n",
       "      <td>10</td>\n",
       "      <td>48067</td>\n",
       "    </tr>\n",
       "    <tr>\n",
       "      <th>1</th>\n",
       "      <td>2</td>\n",
       "      <td>M</td>\n",
       "      <td>56</td>\n",
       "      <td>16</td>\n",
       "      <td>70072</td>\n",
       "    </tr>\n",
       "    <tr>\n",
       "      <th>2</th>\n",
       "      <td>3</td>\n",
       "      <td>M</td>\n",
       "      <td>25</td>\n",
       "      <td>15</td>\n",
       "      <td>55117</td>\n",
       "    </tr>\n",
       "    <tr>\n",
       "      <th>3</th>\n",
       "      <td>4</td>\n",
       "      <td>M</td>\n",
       "      <td>45</td>\n",
       "      <td>7</td>\n",
       "      <td>02460</td>\n",
       "    </tr>\n",
       "    <tr>\n",
       "      <th>4</th>\n",
       "      <td>5</td>\n",
       "      <td>M</td>\n",
       "      <td>25</td>\n",
       "      <td>20</td>\n",
       "      <td>55455</td>\n",
       "    </tr>\n",
       "  </tbody>\n",
       "</table>\n",
       "</div>"
      ],
      "text/plain": [
       "   user_id gender  age  occupation    zip\n",
       "0        1      F    1          10  48067\n",
       "1        2      M   56          16  70072\n",
       "2        3      M   25          15  55117\n",
       "3        4      M   45           7  02460\n",
       "4        5      M   25          20  55455"
      ]
     },
     "execution_count": 4,
     "metadata": {},
     "output_type": "execute_result"
    }
   ],
   "source": [
    "users.head()"
   ]
  },
  {
   "cell_type": "code",
   "execution_count": 5,
   "metadata": {},
   "outputs": [
    {
     "data": {
      "text/html": [
       "<div>\n",
       "<style scoped>\n",
       "    .dataframe tbody tr th:only-of-type {\n",
       "        vertical-align: middle;\n",
       "    }\n",
       "\n",
       "    .dataframe tbody tr th {\n",
       "        vertical-align: top;\n",
       "    }\n",
       "\n",
       "    .dataframe thead th {\n",
       "        text-align: right;\n",
       "    }\n",
       "</style>\n",
       "<table border=\"1\" class=\"dataframe\">\n",
       "  <thead>\n",
       "    <tr style=\"text-align: right;\">\n",
       "      <th></th>\n",
       "      <th>movie_id</th>\n",
       "      <th>title</th>\n",
       "      <th>genres</th>\n",
       "    </tr>\n",
       "  </thead>\n",
       "  <tbody>\n",
       "    <tr>\n",
       "      <th>0</th>\n",
       "      <td>1</td>\n",
       "      <td>Toy Story (1995)</td>\n",
       "      <td>Animation|Children's|Comedy</td>\n",
       "    </tr>\n",
       "    <tr>\n",
       "      <th>1</th>\n",
       "      <td>2</td>\n",
       "      <td>Jumanji (1995)</td>\n",
       "      <td>Adventure|Children's|Fantasy</td>\n",
       "    </tr>\n",
       "    <tr>\n",
       "      <th>2</th>\n",
       "      <td>3</td>\n",
       "      <td>Grumpier Old Men (1995)</td>\n",
       "      <td>Comedy|Romance</td>\n",
       "    </tr>\n",
       "    <tr>\n",
       "      <th>3</th>\n",
       "      <td>4</td>\n",
       "      <td>Waiting to Exhale (1995)</td>\n",
       "      <td>Comedy|Drama</td>\n",
       "    </tr>\n",
       "    <tr>\n",
       "      <th>4</th>\n",
       "      <td>5</td>\n",
       "      <td>Father of the Bride Part II (1995)</td>\n",
       "      <td>Comedy</td>\n",
       "    </tr>\n",
       "  </tbody>\n",
       "</table>\n",
       "</div>"
      ],
      "text/plain": [
       "   movie_id                               title                        genres\n",
       "0         1                    Toy Story (1995)   Animation|Children's|Comedy\n",
       "1         2                      Jumanji (1995)  Adventure|Children's|Fantasy\n",
       "2         3             Grumpier Old Men (1995)                Comedy|Romance\n",
       "3         4            Waiting to Exhale (1995)                  Comedy|Drama\n",
       "4         5  Father of the Bride Part II (1995)                        Comedy"
      ]
     },
     "execution_count": 5,
     "metadata": {},
     "output_type": "execute_result"
    }
   ],
   "source": [
    "movies.head()"
   ]
  },
  {
   "cell_type": "code",
   "execution_count": 6,
   "metadata": {},
   "outputs": [
    {
     "name": "stdout",
     "output_type": "stream",
     "text": [
      "(1000209, 4)\n"
     ]
    },
    {
     "data": {
      "text/html": [
       "<div>\n",
       "<style scoped>\n",
       "    .dataframe tbody tr th:only-of-type {\n",
       "        vertical-align: middle;\n",
       "    }\n",
       "\n",
       "    .dataframe tbody tr th {\n",
       "        vertical-align: top;\n",
       "    }\n",
       "\n",
       "    .dataframe thead th {\n",
       "        text-align: right;\n",
       "    }\n",
       "</style>\n",
       "<table border=\"1\" class=\"dataframe\">\n",
       "  <thead>\n",
       "    <tr style=\"text-align: right;\">\n",
       "      <th></th>\n",
       "      <th>user_id</th>\n",
       "      <th>movie_id</th>\n",
       "      <th>rating</th>\n",
       "      <th>timestamp</th>\n",
       "    </tr>\n",
       "  </thead>\n",
       "  <tbody>\n",
       "    <tr>\n",
       "      <th>0</th>\n",
       "      <td>1</td>\n",
       "      <td>1193</td>\n",
       "      <td>5</td>\n",
       "      <td>978300760</td>\n",
       "    </tr>\n",
       "    <tr>\n",
       "      <th>1</th>\n",
       "      <td>1</td>\n",
       "      <td>661</td>\n",
       "      <td>3</td>\n",
       "      <td>978302109</td>\n",
       "    </tr>\n",
       "    <tr>\n",
       "      <th>2</th>\n",
       "      <td>1</td>\n",
       "      <td>914</td>\n",
       "      <td>3</td>\n",
       "      <td>978301968</td>\n",
       "    </tr>\n",
       "    <tr>\n",
       "      <th>3</th>\n",
       "      <td>1</td>\n",
       "      <td>3408</td>\n",
       "      <td>4</td>\n",
       "      <td>978300275</td>\n",
       "    </tr>\n",
       "    <tr>\n",
       "      <th>4</th>\n",
       "      <td>1</td>\n",
       "      <td>2355</td>\n",
       "      <td>5</td>\n",
       "      <td>978824291</td>\n",
       "    </tr>\n",
       "  </tbody>\n",
       "</table>\n",
       "</div>"
      ],
      "text/plain": [
       "   user_id  movie_id  rating  timestamp\n",
       "0        1      1193       5  978300760\n",
       "1        1       661       3  978302109\n",
       "2        1       914       3  978301968\n",
       "3        1      3408       4  978300275\n",
       "4        1      2355       5  978824291"
      ]
     },
     "execution_count": 6,
     "metadata": {},
     "output_type": "execute_result"
    }
   ],
   "source": [
    "print ratings.shape\n",
    "ratings.head()"
   ]
  },
  {
   "cell_type": "code",
   "execution_count": 7,
   "metadata": {
    "collapsed": true
   },
   "outputs": [],
   "source": [
    "# some cleaning on movies data\n",
    "stripbar = lambda x: x.replace('|',' ').replace('-', '') \n",
    "movies.loc[:, 'genre'] = movies['genres'].apply(stripbar)\n",
    "movies.loc[:, 'name'] = movies['title'].apply(lambda x: re.sub('\\ \\(\\d\\d\\d\\d\\)', '', x))"
   ]
  },
  {
   "cell_type": "code",
   "execution_count": 8,
   "metadata": {},
   "outputs": [
    {
     "data": {
      "text/html": [
       "<div>\n",
       "<style scoped>\n",
       "    .dataframe tbody tr th:only-of-type {\n",
       "        vertical-align: middle;\n",
       "    }\n",
       "\n",
       "    .dataframe tbody tr th {\n",
       "        vertical-align: top;\n",
       "    }\n",
       "\n",
       "    .dataframe thead th {\n",
       "        text-align: right;\n",
       "    }\n",
       "</style>\n",
       "<table border=\"1\" class=\"dataframe\">\n",
       "  <thead>\n",
       "    <tr style=\"text-align: right;\">\n",
       "      <th></th>\n",
       "      <th>user_id</th>\n",
       "      <th>movie_id</th>\n",
       "      <th>rating</th>\n",
       "      <th>timestamp</th>\n",
       "      <th>gender</th>\n",
       "      <th>age</th>\n",
       "      <th>occupation</th>\n",
       "      <th>zip</th>\n",
       "      <th>title</th>\n",
       "      <th>genres</th>\n",
       "      <th>genre</th>\n",
       "      <th>name</th>\n",
       "    </tr>\n",
       "  </thead>\n",
       "  <tbody>\n",
       "    <tr>\n",
       "      <th>0</th>\n",
       "      <td>1</td>\n",
       "      <td>1193</td>\n",
       "      <td>5</td>\n",
       "      <td>978300760</td>\n",
       "      <td>F</td>\n",
       "      <td>1</td>\n",
       "      <td>10</td>\n",
       "      <td>48067</td>\n",
       "      <td>One Flew Over the Cuckoo's Nest (1975)</td>\n",
       "      <td>Drama</td>\n",
       "      <td>Drama</td>\n",
       "      <td>One Flew Over the Cuckoo's Nest</td>\n",
       "    </tr>\n",
       "    <tr>\n",
       "      <th>1</th>\n",
       "      <td>2</td>\n",
       "      <td>1193</td>\n",
       "      <td>5</td>\n",
       "      <td>978298413</td>\n",
       "      <td>M</td>\n",
       "      <td>56</td>\n",
       "      <td>16</td>\n",
       "      <td>70072</td>\n",
       "      <td>One Flew Over the Cuckoo's Nest (1975)</td>\n",
       "      <td>Drama</td>\n",
       "      <td>Drama</td>\n",
       "      <td>One Flew Over the Cuckoo's Nest</td>\n",
       "    </tr>\n",
       "    <tr>\n",
       "      <th>2</th>\n",
       "      <td>12</td>\n",
       "      <td>1193</td>\n",
       "      <td>4</td>\n",
       "      <td>978220179</td>\n",
       "      <td>M</td>\n",
       "      <td>25</td>\n",
       "      <td>12</td>\n",
       "      <td>32793</td>\n",
       "      <td>One Flew Over the Cuckoo's Nest (1975)</td>\n",
       "      <td>Drama</td>\n",
       "      <td>Drama</td>\n",
       "      <td>One Flew Over the Cuckoo's Nest</td>\n",
       "    </tr>\n",
       "    <tr>\n",
       "      <th>3</th>\n",
       "      <td>15</td>\n",
       "      <td>1193</td>\n",
       "      <td>4</td>\n",
       "      <td>978199279</td>\n",
       "      <td>M</td>\n",
       "      <td>25</td>\n",
       "      <td>7</td>\n",
       "      <td>22903</td>\n",
       "      <td>One Flew Over the Cuckoo's Nest (1975)</td>\n",
       "      <td>Drama</td>\n",
       "      <td>Drama</td>\n",
       "      <td>One Flew Over the Cuckoo's Nest</td>\n",
       "    </tr>\n",
       "    <tr>\n",
       "      <th>4</th>\n",
       "      <td>17</td>\n",
       "      <td>1193</td>\n",
       "      <td>5</td>\n",
       "      <td>978158471</td>\n",
       "      <td>M</td>\n",
       "      <td>50</td>\n",
       "      <td>1</td>\n",
       "      <td>95350</td>\n",
       "      <td>One Flew Over the Cuckoo's Nest (1975)</td>\n",
       "      <td>Drama</td>\n",
       "      <td>Drama</td>\n",
       "      <td>One Flew Over the Cuckoo's Nest</td>\n",
       "    </tr>\n",
       "  </tbody>\n",
       "</table>\n",
       "</div>"
      ],
      "text/plain": [
       "   user_id  movie_id  rating  timestamp gender  age  occupation    zip  \\\n",
       "0        1      1193       5  978300760      F    1          10  48067   \n",
       "1        2      1193       5  978298413      M   56          16  70072   \n",
       "2       12      1193       4  978220179      M   25          12  32793   \n",
       "3       15      1193       4  978199279      M   25           7  22903   \n",
       "4       17      1193       5  978158471      M   50           1  95350   \n",
       "\n",
       "                                    title genres  genre  \\\n",
       "0  One Flew Over the Cuckoo's Nest (1975)  Drama  Drama   \n",
       "1  One Flew Over the Cuckoo's Nest (1975)  Drama  Drama   \n",
       "2  One Flew Over the Cuckoo's Nest (1975)  Drama  Drama   \n",
       "3  One Flew Over the Cuckoo's Nest (1975)  Drama  Drama   \n",
       "4  One Flew Over the Cuckoo's Nest (1975)  Drama  Drama   \n",
       "\n",
       "                              name  \n",
       "0  One Flew Over the Cuckoo's Nest  \n",
       "1  One Flew Over the Cuckoo's Nest  \n",
       "2  One Flew Over the Cuckoo's Nest  \n",
       "3  One Flew Over the Cuckoo's Nest  \n",
       "4  One Flew Over the Cuckoo's Nest  "
      ]
     },
     "execution_count": 8,
     "metadata": {},
     "output_type": "execute_result"
    }
   ],
   "source": [
    "# combine the ratings, user, and movie data\n",
    "ratings_users = pd.merge(ratings, users, how='outer', on='user_id')\n",
    "data = pd.merge(ratings_users, movies, how='inner', on='movie_id')\n",
    "data.head()"
   ]
  },
  {
   "cell_type": "code",
   "execution_count": 9,
   "metadata": {},
   "outputs": [
    {
     "name": "stderr",
     "output_type": "stream",
     "text": [
      "C:\\ProgramData\\Anaconda2\\lib\\site-packages\\pandas\\core\\groupby.py:4291: FutureWarning: using a dict with renaming is deprecated and will be removed in a future version\n",
      "  return super(DataFrameGroupBy, self).aggregate(arg, *args, **kwargs)\n"
     ]
    }
   ],
   "source": [
    "# inspect the distribution of ratings per movie\n",
    "gb_movie = data.groupby('title').agg({'rating': {'rating_count': 'count', 'rating_mean': 'mean'}})\n",
    "gb_movie.columns = gb_movie.columns.droplevel(0)"
   ]
  },
  {
   "cell_type": "code",
   "execution_count": 10,
   "metadata": {},
   "outputs": [
    {
     "data": {
      "image/png": "[encoded data removed]",
      "text/plain": [
       "<Figure size 600x400 with 1 Axes>"
      ]
     },
     "metadata": {},
     "output_type": "display_data"
    },
    {
     "data": {
      "text/plain": [
       "<ggplot: (32396180)>"
      ]
     },
     "execution_count": 10,
     "metadata": {},
     "output_type": "execute_result"
    }
   ],
   "source": [
    "ggplot(gb_movie) + aes(x='rating_count') + geom_histogram(binwidth=100)"
   ]
  },
  {
   "cell_type": "code",
   "execution_count": 11,
   "metadata": {},
   "outputs": [
    {
     "data": {
      "image/png": "[encoded data removed]",
      "text/plain": [
       "<Figure size 600x400 with 1 Axes>"
      ]
     },
     "metadata": {},
     "output_type": "display_data"
    },
    {
     "data": {
      "text/plain": [
       "<ggplot: (34098373)>"
      ]
     },
     "execution_count": 11,
     "metadata": {},
     "output_type": "execute_result"
    }
   ],
   "source": [
    "ggplot(gb_movie) + aes(x='rating_mean') + geom_histogram(binwidth=0.20)"
   ]
  },
  {
   "cell_type": "code",
   "execution_count": 12,
   "metadata": {},
   "outputs": [
    {
     "data": {
      "text/html": [
       "<div>\n",
       "<style scoped>\n",
       "    .dataframe tbody tr th:only-of-type {\n",
       "        vertical-align: middle;\n",
       "    }\n",
       "\n",
       "    .dataframe tbody tr th {\n",
       "        vertical-align: top;\n",
       "    }\n",
       "\n",
       "    .dataframe thead th {\n",
       "        text-align: right;\n",
       "    }\n",
       "</style>\n",
       "<table border=\"1\" class=\"dataframe\">\n",
       "  <thead>\n",
       "    <tr style=\"text-align: right;\">\n",
       "      <th></th>\n",
       "      <th>rating_mean</th>\n",
       "      <th>rating_count</th>\n",
       "    </tr>\n",
       "    <tr>\n",
       "      <th>title</th>\n",
       "      <th></th>\n",
       "      <th></th>\n",
       "    </tr>\n",
       "  </thead>\n",
       "  <tbody>\n",
       "    <tr>\n",
       "      <th>Ulysses (Ulisse) (1954)</th>\n",
       "      <td>5.0</td>\n",
       "      <td>1</td>\n",
       "    </tr>\n",
       "    <tr>\n",
       "      <th>Lured (1947)</th>\n",
       "      <td>5.0</td>\n",
       "      <td>1</td>\n",
       "    </tr>\n",
       "    <tr>\n",
       "      <th>Follow the Bitch (1998)</th>\n",
       "      <td>5.0</td>\n",
       "      <td>1</td>\n",
       "    </tr>\n",
       "    <tr>\n",
       "      <th>Bittersweet Motel (2000)</th>\n",
       "      <td>5.0</td>\n",
       "      <td>1</td>\n",
       "    </tr>\n",
       "    <tr>\n",
       "      <th>Song of Freedom (1936)</th>\n",
       "      <td>5.0</td>\n",
       "      <td>1</td>\n",
       "    </tr>\n",
       "    <tr>\n",
       "      <th>One Little Indian (1973)</th>\n",
       "      <td>5.0</td>\n",
       "      <td>1</td>\n",
       "    </tr>\n",
       "    <tr>\n",
       "      <th>Smashing Time (1967)</th>\n",
       "      <td>5.0</td>\n",
       "      <td>2</td>\n",
       "    </tr>\n",
       "    <tr>\n",
       "      <th>Schlafes Bruder (Brother of Sleep) (1995)</th>\n",
       "      <td>5.0</td>\n",
       "      <td>1</td>\n",
       "    </tr>\n",
       "    <tr>\n",
       "      <th>Gate of Heavenly Peace, The (1995)</th>\n",
       "      <td>5.0</td>\n",
       "      <td>3</td>\n",
       "    </tr>\n",
       "    <tr>\n",
       "      <th>Baby, The (1973)</th>\n",
       "      <td>5.0</td>\n",
       "      <td>1</td>\n",
       "    </tr>\n",
       "  </tbody>\n",
       "</table>\n",
       "</div>"
      ],
      "text/plain": [
       "                                           rating_mean  rating_count\n",
       "title                                                               \n",
       "Ulysses (Ulisse) (1954)                            5.0             1\n",
       "Lured (1947)                                       5.0             1\n",
       "Follow the Bitch (1998)                            5.0             1\n",
       "Bittersweet Motel (2000)                           5.0             1\n",
       "Song of Freedom (1936)                             5.0             1\n",
       "One Little Indian (1973)                           5.0             1\n",
       "Smashing Time (1967)                               5.0             2\n",
       "Schlafes Bruder (Brother of Sleep) (1995)          5.0             1\n",
       "Gate of Heavenly Peace, The (1995)                 5.0             3\n",
       "Baby, The (1973)                                   5.0             1"
      ]
     },
     "execution_count": 12,
     "metadata": {},
     "output_type": "execute_result"
    }
   ],
   "source": [
    "# show 10 highest-rated movies\n",
    "gb_movie.sort_values('rating_mean', ascending=False).head(10)"
   ]
  },
  {
   "cell_type": "code",
   "execution_count": 13,
   "metadata": {
    "collapsed": true
   },
   "outputs": [],
   "source": [
    "# compute mean of all movies\n",
    "mrating = np.mean(gb_movie['rating_mean'])"
   ]
  },
  {
   "cell_type": "code",
   "execution_count": 14,
   "metadata": {
    "collapsed": true
   },
   "outputs": [],
   "source": [
    "q = gb_movie['rating_count'].quantile(0.20)"
   ]
  },
  {
   "cell_type": "code",
   "execution_count": 15,
   "metadata": {
    "collapsed": true
   },
   "outputs": [],
   "source": [
    "qmovies = gb_movie.copy().loc[gb_movie['rating_count'] >= q]"
   ]
  },
  {
   "cell_type": "code",
   "execution_count": 16,
   "metadata": {},
   "outputs": [
    {
     "name": "stdout",
     "output_type": "stream",
     "text": [
      "(2976, 2)\n"
     ]
    },
    {
     "data": {
      "text/html": [
       "<div>\n",
       "<style scoped>\n",
       "    .dataframe tbody tr th:only-of-type {\n",
       "        vertical-align: middle;\n",
       "    }\n",
       "\n",
       "    .dataframe tbody tr th {\n",
       "        vertical-align: top;\n",
       "    }\n",
       "\n",
       "    .dataframe thead th {\n",
       "        text-align: right;\n",
       "    }\n",
       "</style>\n",
       "<table border=\"1\" class=\"dataframe\">\n",
       "  <thead>\n",
       "    <tr style=\"text-align: right;\">\n",
       "      <th></th>\n",
       "      <th>rating_mean</th>\n",
       "      <th>rating_count</th>\n",
       "    </tr>\n",
       "    <tr>\n",
       "      <th>title</th>\n",
       "      <th></th>\n",
       "      <th></th>\n",
       "    </tr>\n",
       "  </thead>\n",
       "  <tbody>\n",
       "    <tr>\n",
       "      <th>Sanjuro (1962)</th>\n",
       "      <td>4.608696</td>\n",
       "      <td>69</td>\n",
       "    </tr>\n",
       "    <tr>\n",
       "      <th>Seven Samurai (The Magnificent Seven) (Shichinin no samurai) (1954)</th>\n",
       "      <td>4.560510</td>\n",
       "      <td>628</td>\n",
       "    </tr>\n",
       "    <tr>\n",
       "      <th>Shawshank Redemption, The (1994)</th>\n",
       "      <td>4.554558</td>\n",
       "      <td>2227</td>\n",
       "    </tr>\n",
       "    <tr>\n",
       "      <th>Godfather, The (1972)</th>\n",
       "      <td>4.524966</td>\n",
       "      <td>2223</td>\n",
       "    </tr>\n",
       "    <tr>\n",
       "      <th>Close Shave, A (1995)</th>\n",
       "      <td>4.520548</td>\n",
       "      <td>657</td>\n",
       "    </tr>\n",
       "    <tr>\n",
       "      <th>Usual Suspects, The (1995)</th>\n",
       "      <td>4.517106</td>\n",
       "      <td>1783</td>\n",
       "    </tr>\n",
       "    <tr>\n",
       "      <th>Schindler's List (1993)</th>\n",
       "      <td>4.510417</td>\n",
       "      <td>2304</td>\n",
       "    </tr>\n",
       "    <tr>\n",
       "      <th>Wrong Trousers, The (1993)</th>\n",
       "      <td>4.507937</td>\n",
       "      <td>882</td>\n",
       "    </tr>\n",
       "    <tr>\n",
       "      <th>Sunset Blvd. (a.k.a. Sunset Boulevard) (1950)</th>\n",
       "      <td>4.491489</td>\n",
       "      <td>470</td>\n",
       "    </tr>\n",
       "    <tr>\n",
       "      <th>Raiders of the Lost Ark (1981)</th>\n",
       "      <td>4.477725</td>\n",
       "      <td>2514</td>\n",
       "    </tr>\n",
       "  </tbody>\n",
       "</table>\n",
       "</div>"
      ],
      "text/plain": [
       "                                                    rating_mean  rating_count\n",
       "title                                                                        \n",
       "Sanjuro (1962)                                         4.608696            69\n",
       "Seven Samurai (The Magnificent Seven) (Shichini...     4.560510           628\n",
       "Shawshank Redemption, The (1994)                       4.554558          2227\n",
       "Godfather, The (1972)                                  4.524966          2223\n",
       "Close Shave, A (1995)                                  4.520548           657\n",
       "Usual Suspects, The (1995)                             4.517106          1783\n",
       "Schindler's List (1993)                                4.510417          2304\n",
       "Wrong Trousers, The (1993)                             4.507937           882\n",
       "Sunset Blvd. (a.k.a. Sunset Boulevard) (1950)          4.491489           470\n",
       "Raiders of the Lost Ark (1981)                         4.477725          2514"
      ]
     },
     "execution_count": 16,
     "metadata": {},
     "output_type": "execute_result"
    }
   ],
   "source": [
    "print qmovies.shape\n",
    "qmovies.sort_values('rating_mean', ascending=False).head(10)"
   ]
  },
  {
   "cell_type": "code",
   "execution_count": 17,
   "metadata": {
    "collapsed": true
   },
   "outputs": [],
   "source": [
    "def weight_rating (x, m=mrating, q=q):\n",
    "    v = x['rating_count']\n",
    "    r = x['rating_mean']\n",
    "    return ((v / (v + q)) * r) + ((q / (q + v)) * m)"
   ]
  },
  {
   "cell_type": "code",
   "execution_count": 18,
   "metadata": {
    "collapsed": true
   },
   "outputs": [],
   "source": [
    "qmovies['score'] = qmovies.apply(weight_rating, axis=1)"
   ]
  },
  {
   "cell_type": "code",
   "execution_count": 19,
   "metadata": {
    "collapsed": true
   },
   "outputs": [],
   "source": [
    "qmovies = qmovies.reset_index()\n",
    "qmovies = pd.merge(qmovies, movies, how='inner', on='title')\n",
    "qmovies = qmovies.loc[:, ['title', 'score']]"
   ]
  },
  {
   "cell_type": "code",
   "execution_count": 20,
   "metadata": {},
   "outputs": [
    {
     "data": {
      "text/html": [
       "<div>\n",
       "<style scoped>\n",
       "    .dataframe tbody tr th:only-of-type {\n",
       "        vertical-align: middle;\n",
       "    }\n",
       "\n",
       "    .dataframe tbody tr th {\n",
       "        vertical-align: top;\n",
       "    }\n",
       "\n",
       "    .dataframe thead th {\n",
       "        text-align: right;\n",
       "    }\n",
       "</style>\n",
       "<table border=\"1\" class=\"dataframe\">\n",
       "  <thead>\n",
       "    <tr style=\"text-align: right;\">\n",
       "      <th></th>\n",
       "      <th>title</th>\n",
       "      <th>score</th>\n",
       "    </tr>\n",
       "  </thead>\n",
       "  <tbody>\n",
       "    <tr>\n",
       "      <th>2409</th>\n",
       "      <td>Shawshank Redemption, The (1994)</td>\n",
       "      <td>4.541109</td>\n",
       "    </tr>\n",
       "    <tr>\n",
       "      <th>2383</th>\n",
       "      <td>Seven Samurai (The Magnificent Seven) (Shichin...</td>\n",
       "      <td>4.513816</td>\n",
       "    </tr>\n",
       "    <tr>\n",
       "      <th>1103</th>\n",
       "      <td>Godfather, The (1972)</td>\n",
       "      <td>4.511796</td>\n",
       "    </tr>\n",
       "    <tr>\n",
       "      <th>2817</th>\n",
       "      <td>Usual Suspects, The (1995)</td>\n",
       "      <td>4.500828</td>\n",
       "    </tr>\n",
       "    <tr>\n",
       "      <th>2356</th>\n",
       "      <td>Schindler's List (1993)</td>\n",
       "      <td>4.497849</td>\n",
       "    </tr>\n",
       "    <tr>\n",
       "      <th>573</th>\n",
       "      <td>Close Shave, A (1995)</td>\n",
       "      <td>4.477198</td>\n",
       "    </tr>\n",
       "    <tr>\n",
       "      <th>2952</th>\n",
       "      <td>Wrong Trousers, The (1993)</td>\n",
       "      <td>4.475685</td>\n",
       "    </tr>\n",
       "    <tr>\n",
       "      <th>2204</th>\n",
       "      <td>Raiders of the Lost Ark (1981)</td>\n",
       "      <td>4.466494</td>\n",
       "    </tr>\n",
       "    <tr>\n",
       "      <th>2227</th>\n",
       "      <td>Rear Window (1954)</td>\n",
       "      <td>4.449669</td>\n",
       "    </tr>\n",
       "    <tr>\n",
       "      <th>2545</th>\n",
       "      <td>Star Wars: Episode IV - A New Hope (1977)</td>\n",
       "      <td>4.444424</td>\n",
       "    </tr>\n",
       "  </tbody>\n",
       "</table>\n",
       "</div>"
      ],
      "text/plain": [
       "                                                  title     score\n",
       "2409                   Shawshank Redemption, The (1994)  4.541109\n",
       "2383  Seven Samurai (The Magnificent Seven) (Shichin...  4.513816\n",
       "1103                              Godfather, The (1972)  4.511796\n",
       "2817                         Usual Suspects, The (1995)  4.500828\n",
       "2356                            Schindler's List (1993)  4.497849\n",
       "573                               Close Shave, A (1995)  4.477198\n",
       "2952                         Wrong Trousers, The (1993)  4.475685\n",
       "2204                     Raiders of the Lost Ark (1981)  4.466494\n",
       "2227                                 Rear Window (1954)  4.449669\n",
       "2545          Star Wars: Episode IV - A New Hope (1977)  4.444424"
      ]
     },
     "execution_count": 20,
     "metadata": {},
     "output_type": "execute_result"
    }
   ],
   "source": [
    "qmovies.sort_values('score', ascending=False).head(10)"
   ]
  },
  {
   "cell_type": "code",
   "execution_count": 21,
   "metadata": {},
   "outputs": [
    {
     "name": "stdout",
     "output_type": "stream",
     "text": [
      "(1000209, 12) (994103, 13)\n"
     ]
    }
   ],
   "source": [
    "# filter dataset to include only qualified movies\n",
    "datasub = data[data['title'].isin(qmovies.title.values)].copy()\n",
    "# add score to dataset\n",
    "datasub = pd.merge(datasub, qmovies, how='inner', on='title')\n",
    "print data.shape, datasub.shape"
   ]
  },
  {
   "cell_type": "code",
   "execution_count": 22,
   "metadata": {},
   "outputs": [
    {
     "data": {
      "text/html": [
       "<div>\n",
       "<style scoped>\n",
       "    .dataframe tbody tr th:only-of-type {\n",
       "        vertical-align: middle;\n",
       "    }\n",
       "\n",
       "    .dataframe tbody tr th {\n",
       "        vertical-align: top;\n",
       "    }\n",
       "\n",
       "    .dataframe thead th {\n",
       "        text-align: right;\n",
       "    }\n",
       "</style>\n",
       "<table border=\"1\" class=\"dataframe\">\n",
       "  <thead>\n",
       "    <tr style=\"text-align: right;\">\n",
       "      <th></th>\n",
       "      <th>user_id</th>\n",
       "      <th>movie_id</th>\n",
       "      <th>rating</th>\n",
       "      <th>timestamp</th>\n",
       "      <th>gender</th>\n",
       "      <th>age</th>\n",
       "      <th>occupation</th>\n",
       "      <th>zip</th>\n",
       "      <th>title</th>\n",
       "      <th>genres</th>\n",
       "      <th>genre</th>\n",
       "      <th>name</th>\n",
       "      <th>score</th>\n",
       "    </tr>\n",
       "  </thead>\n",
       "  <tbody>\n",
       "    <tr>\n",
       "      <th>0</th>\n",
       "      <td>1</td>\n",
       "      <td>1193</td>\n",
       "      <td>5</td>\n",
       "      <td>978300760</td>\n",
       "      <td>F</td>\n",
       "      <td>1</td>\n",
       "      <td>10</td>\n",
       "      <td>48067</td>\n",
       "      <td>One Flew Over the Cuckoo's Nest (1975)</td>\n",
       "      <td>Drama</td>\n",
       "      <td>Drama</td>\n",
       "      <td>One Flew Over the Cuckoo's Nest</td>\n",
       "      <td>4.375569</td>\n",
       "    </tr>\n",
       "    <tr>\n",
       "      <th>1</th>\n",
       "      <td>2</td>\n",
       "      <td>1193</td>\n",
       "      <td>5</td>\n",
       "      <td>978298413</td>\n",
       "      <td>M</td>\n",
       "      <td>56</td>\n",
       "      <td>16</td>\n",
       "      <td>70072</td>\n",
       "      <td>One Flew Over the Cuckoo's Nest (1975)</td>\n",
       "      <td>Drama</td>\n",
       "      <td>Drama</td>\n",
       "      <td>One Flew Over the Cuckoo's Nest</td>\n",
       "      <td>4.375569</td>\n",
       "    </tr>\n",
       "    <tr>\n",
       "      <th>2</th>\n",
       "      <td>12</td>\n",
       "      <td>1193</td>\n",
       "      <td>4</td>\n",
       "      <td>978220179</td>\n",
       "      <td>M</td>\n",
       "      <td>25</td>\n",
       "      <td>12</td>\n",
       "      <td>32793</td>\n",
       "      <td>One Flew Over the Cuckoo's Nest (1975)</td>\n",
       "      <td>Drama</td>\n",
       "      <td>Drama</td>\n",
       "      <td>One Flew Over the Cuckoo's Nest</td>\n",
       "      <td>4.375569</td>\n",
       "    </tr>\n",
       "    <tr>\n",
       "      <th>3</th>\n",
       "      <td>15</td>\n",
       "      <td>1193</td>\n",
       "      <td>4</td>\n",
       "      <td>978199279</td>\n",
       "      <td>M</td>\n",
       "      <td>25</td>\n",
       "      <td>7</td>\n",
       "      <td>22903</td>\n",
       "      <td>One Flew Over the Cuckoo's Nest (1975)</td>\n",
       "      <td>Drama</td>\n",
       "      <td>Drama</td>\n",
       "      <td>One Flew Over the Cuckoo's Nest</td>\n",
       "      <td>4.375569</td>\n",
       "    </tr>\n",
       "    <tr>\n",
       "      <th>4</th>\n",
       "      <td>17</td>\n",
       "      <td>1193</td>\n",
       "      <td>5</td>\n",
       "      <td>978158471</td>\n",
       "      <td>M</td>\n",
       "      <td>50</td>\n",
       "      <td>1</td>\n",
       "      <td>95350</td>\n",
       "      <td>One Flew Over the Cuckoo's Nest (1975)</td>\n",
       "      <td>Drama</td>\n",
       "      <td>Drama</td>\n",
       "      <td>One Flew Over the Cuckoo's Nest</td>\n",
       "      <td>4.375569</td>\n",
       "    </tr>\n",
       "  </tbody>\n",
       "</table>\n",
       "</div>"
      ],
      "text/plain": [
       "   user_id  movie_id  rating  timestamp gender  age  occupation    zip  \\\n",
       "0        1      1193       5  978300760      F    1          10  48067   \n",
       "1        2      1193       5  978298413      M   56          16  70072   \n",
       "2       12      1193       4  978220179      M   25          12  32793   \n",
       "3       15      1193       4  978199279      M   25           7  22903   \n",
       "4       17      1193       5  978158471      M   50           1  95350   \n",
       "\n",
       "                                    title genres  genre  \\\n",
       "0  One Flew Over the Cuckoo's Nest (1975)  Drama  Drama   \n",
       "1  One Flew Over the Cuckoo's Nest (1975)  Drama  Drama   \n",
       "2  One Flew Over the Cuckoo's Nest (1975)  Drama  Drama   \n",
       "3  One Flew Over the Cuckoo's Nest (1975)  Drama  Drama   \n",
       "4  One Flew Over the Cuckoo's Nest (1975)  Drama  Drama   \n",
       "\n",
       "                              name     score  \n",
       "0  One Flew Over the Cuckoo's Nest  4.375569  \n",
       "1  One Flew Over the Cuckoo's Nest  4.375569  \n",
       "2  One Flew Over the Cuckoo's Nest  4.375569  \n",
       "3  One Flew Over the Cuckoo's Nest  4.375569  \n",
       "4  One Flew Over the Cuckoo's Nest  4.375569  "
      ]
     },
     "execution_count": 22,
     "metadata": {},
     "output_type": "execute_result"
    }
   ],
   "source": [
    "datasub.head()"
   ]
  },
  {
   "cell_type": "code",
   "execution_count": 23,
   "metadata": {
    "collapsed": true
   },
   "outputs": [],
   "source": [
    "# take smaller subset for speed reasons\n",
    "datasub = datasub.loc[np.random.choice(datasub.index, size=250000, replace=False), :]"
   ]
  },
  {
   "cell_type": "code",
   "execution_count": 26,
   "metadata": {},
   "outputs": [
    {
     "name": "stdout",
     "output_type": "stream",
     "text": [
      "(249273, 13)\n"
     ]
    }
   ],
   "source": [
    "users_more4 = pd.value_counts(datasub.user_id, sort=False) > 4\n",
    "users_more4 = users_more4[users_more4].index\n",
    "\n",
    "datasub = datasub.loc[datasub.index.map(lambda x: datasub.loc[x, 'user_id'] in users_more4)]\n",
    "print datasub.shape\n",
    "assert np.all(datasub.user_id.value_counts() > 4)"
   ]
  },
  {
   "cell_type": "code",
   "execution_count": 27,
   "metadata": {
    "collapsed": true
   },
   "outputs": [],
   "source": [
    "# count number of movies for each user\n",
    "datasub['user_count'] = datasub.groupby('user_id')['rating'].transform('count')\n",
    "pfunc = lambda x: np.percentile((range(0, len(x))), 80).astype(int)\n",
    "datasub['user_p80'] = datasub.groupby('user_id')['rating'].transform(pfunc)\n",
    "datasub = datasub.sort_values(['user_id', 'timestamp'], ascending=True)"
   ]
  },
  {
   "cell_type": "code",
   "execution_count": 28,
   "metadata": {
    "collapsed": true
   },
   "outputs": [],
   "source": [
    "datasub['rowi'] = 1\n",
    "datasub['user_order'] = datasub.groupby('user_id')['rowi'].transform('cumsum')\n",
    "datasub['test'] = datasub['user_order'] > datasub['user_p80']"
   ]
  },
  {
   "cell_type": "code",
   "execution_count": 29,
   "metadata": {},
   "outputs": [
    {
     "data": {
      "text/html": [
       "<div>\n",
       "<style scoped>\n",
       "    .dataframe tbody tr th:only-of-type {\n",
       "        vertical-align: middle;\n",
       "    }\n",
       "\n",
       "    .dataframe tbody tr th {\n",
       "        vertical-align: top;\n",
       "    }\n",
       "\n",
       "    .dataframe thead th {\n",
       "        text-align: right;\n",
       "    }\n",
       "</style>\n",
       "<table border=\"1\" class=\"dataframe\">\n",
       "  <thead>\n",
       "    <tr style=\"text-align: right;\">\n",
       "      <th></th>\n",
       "      <th>user_id</th>\n",
       "      <th>movie_id</th>\n",
       "      <th>rating</th>\n",
       "      <th>timestamp</th>\n",
       "      <th>gender</th>\n",
       "      <th>age</th>\n",
       "      <th>occupation</th>\n",
       "      <th>zip</th>\n",
       "      <th>title</th>\n",
       "      <th>genres</th>\n",
       "      <th>genre</th>\n",
       "      <th>name</th>\n",
       "      <th>score</th>\n",
       "      <th>test</th>\n",
       "    </tr>\n",
       "  </thead>\n",
       "  <tbody>\n",
       "    <tr>\n",
       "      <th>23270</th>\n",
       "      <td>1</td>\n",
       "      <td>1270</td>\n",
       "      <td>5</td>\n",
       "      <td>978300055</td>\n",
       "      <td>F</td>\n",
       "      <td>1</td>\n",
       "      <td>10</td>\n",
       "      <td>48067</td>\n",
       "      <td>Back to the Future (1985)</td>\n",
       "      <td>Comedy|Sci-Fi</td>\n",
       "      <td>Comedy SciFi</td>\n",
       "      <td>Back to the Future</td>\n",
       "      <td>3.983689</td>\n",
       "      <td>False</td>\n",
       "    </tr>\n",
       "    <tr>\n",
       "      <th>37339</th>\n",
       "      <td>1</td>\n",
       "      <td>1022</td>\n",
       "      <td>5</td>\n",
       "      <td>978300055</td>\n",
       "      <td>F</td>\n",
       "      <td>1</td>\n",
       "      <td>10</td>\n",
       "      <td>48067</td>\n",
       "      <td>Cinderella (1950)</td>\n",
       "      <td>Animation|Children's|Musical</td>\n",
       "      <td>Animation Children's Musical</td>\n",
       "      <td>Cinderella</td>\n",
       "      <td>3.735824</td>\n",
       "      <td>False</td>\n",
       "    </tr>\n",
       "    <tr>\n",
       "      <th>51327</th>\n",
       "      <td>1</td>\n",
       "      <td>1207</td>\n",
       "      <td>4</td>\n",
       "      <td>978300719</td>\n",
       "      <td>F</td>\n",
       "      <td>1</td>\n",
       "      <td>10</td>\n",
       "      <td>48067</td>\n",
       "      <td>To Kill a Mockingbird (1962)</td>\n",
       "      <td>Drama</td>\n",
       "      <td>Drama</td>\n",
       "      <td>To Kill a Mockingbird</td>\n",
       "      <td>4.396945</td>\n",
       "      <td>False</td>\n",
       "    </tr>\n",
       "    <tr>\n",
       "      <th>8926</th>\n",
       "      <td>1</td>\n",
       "      <td>2804</td>\n",
       "      <td>5</td>\n",
       "      <td>978300719</td>\n",
       "      <td>F</td>\n",
       "      <td>1</td>\n",
       "      <td>10</td>\n",
       "      <td>48067</td>\n",
       "      <td>Christmas Story, A (1983)</td>\n",
       "      <td>Comedy|Drama</td>\n",
       "      <td>Comedy Drama</td>\n",
       "      <td>Christmas Story, A</td>\n",
       "      <td>4.222178</td>\n",
       "      <td>False</td>\n",
       "    </tr>\n",
       "    <tr>\n",
       "      <th>22832</th>\n",
       "      <td>1</td>\n",
       "      <td>720</td>\n",
       "      <td>3</td>\n",
       "      <td>978300760</td>\n",
       "      <td>F</td>\n",
       "      <td>1</td>\n",
       "      <td>10</td>\n",
       "      <td>48067</td>\n",
       "      <td>Wallace &amp; Gromit: The Best of Aardman Animatio...</td>\n",
       "      <td>Animation</td>\n",
       "      <td>Animation</td>\n",
       "      <td>Wallace &amp; Gromit: The Best of Aardman Animation</td>\n",
       "      <td>4.367667</td>\n",
       "      <td>False</td>\n",
       "    </tr>\n",
       "  </tbody>\n",
       "</table>\n",
       "</div>"
      ],
      "text/plain": [
       "       user_id  movie_id  rating  timestamp gender  age  occupation    zip  \\\n",
       "23270        1      1270       5  978300055      F    1          10  48067   \n",
       "37339        1      1022       5  978300055      F    1          10  48067   \n",
       "51327        1      1207       4  978300719      F    1          10  48067   \n",
       "8926         1      2804       5  978300719      F    1          10  48067   \n",
       "22832        1       720       3  978300760      F    1          10  48067   \n",
       "\n",
       "                                                   title  \\\n",
       "23270                          Back to the Future (1985)   \n",
       "37339                                  Cinderella (1950)   \n",
       "51327                       To Kill a Mockingbird (1962)   \n",
       "8926                           Christmas Story, A (1983)   \n",
       "22832  Wallace & Gromit: The Best of Aardman Animatio...   \n",
       "\n",
       "                             genres                         genre  \\\n",
       "23270                 Comedy|Sci-Fi                  Comedy SciFi   \n",
       "37339  Animation|Children's|Musical  Animation Children's Musical   \n",
       "51327                         Drama                         Drama   \n",
       "8926                   Comedy|Drama                  Comedy Drama   \n",
       "22832                     Animation                     Animation   \n",
       "\n",
       "                                                  name     score   test  \n",
       "23270                               Back to the Future  3.983689  False  \n",
       "37339                                       Cinderella  3.735824  False  \n",
       "51327                            To Kill a Mockingbird  4.396945  False  \n",
       "8926                                Christmas Story, A  4.222178  False  \n",
       "22832  Wallace & Gromit: The Best of Aardman Animation  4.367667  False  "
      ]
     },
     "execution_count": 29,
     "metadata": {},
     "output_type": "execute_result"
    }
   ],
   "source": [
    "datasub = datasub.drop(['user_count', 'user_p80', 'rowi', 'user_order'], axis=1)\n",
    "datasub.head()"
   ]
  },
  {
   "cell_type": "code",
   "execution_count": 30,
   "metadata": {
    "collapsed": true
   },
   "outputs": [],
   "source": [
    "test = datasub[datasub['test']]"
   ]
  },
  {
   "cell_type": "code",
   "execution_count": 31,
   "metadata": {
    "collapsed": true
   },
   "outputs": [],
   "source": [
    "train = datasub[~datasub['test']]"
   ]
  },
  {
   "cell_type": "code",
   "execution_count": 32,
   "metadata": {},
   "outputs": [
    {
     "data": {
      "text/plain": [
       "2936"
      ]
     },
     "execution_count": 32,
     "metadata": {},
     "output_type": "execute_result"
    }
   ],
   "source": [
    "len(test['movie_id'].unique())"
   ]
  },
  {
   "cell_type": "code",
   "execution_count": 33,
   "metadata": {},
   "outputs": [
    {
     "data": {
      "text/plain": [
       "2974"
      ]
     },
     "execution_count": 33,
     "metadata": {},
     "output_type": "execute_result"
    }
   ],
   "source": [
    "len(train['movie_id'].unique())"
   ]
  },
  {
   "cell_type": "code",
   "execution_count": 34,
   "metadata": {
    "collapsed": true
   },
   "outputs": [],
   "source": [
    "# remove from train ratings of movies not in test\n",
    "# will need same size user-item matrix in train and test\n",
    "test_items = test['movie_id'].unique()\n",
    "train = train[train['movie_id'].isin(test_items)]\n",
    "# and vice versa\n",
    "train_items = train['movie_id'].unique()\n",
    "test = test[test['movie_id'].isin(train_items)]"
   ]
  },
  {
   "cell_type": "code",
   "execution_count": 35,
   "metadata": {},
   "outputs": [
    {
     "data": {
      "text/plain": [
       "True"
      ]
     },
     "execution_count": 35,
     "metadata": {},
     "output_type": "execute_result"
    }
   ],
   "source": [
    "len(train['movie_id'].unique()) == len(test['movie_id'].unique())"
   ]
  },
  {
   "cell_type": "markdown",
   "metadata": {},
   "source": [
    "# Mini-Challenge prep: evaluation functions\n",
    "\n",
    "These are the two functions that you will need to test your `estimate` method."
   ]
  },
  {
   "cell_type": "code",
   "execution_count": 292,
   "metadata": {
    "collapsed": true
   },
   "outputs": [],
   "source": [
    "def evaluate(rec_func, testdata):\n",
    "    \"\"\" RMSE-based predictive performance evaluation with pandas. \"\"\"\n",
    "    test = testdata\n",
    "    ids_to_estimate = zip(test.user_id, test.movie_id)\n",
    "    ypred = np.array([rec_func(u,i) for (u,i) in ids_to_estimate])\n",
    "    ytrue = test.rating.values\n",
    "    return sqrt(mean_squared_error(ypred, ytrue))"
   ]
  },
  {
   "cell_type": "markdown",
   "metadata": {},
   "source": [
    "### 1. Simple collaborative filter using global mean rating"
   ]
  },
  {
   "cell_type": "code",
   "execution_count": 113,
   "metadata": {
    "collapsed": true
   },
   "outputs": [],
   "source": [
    "# get dataset of global mean\n",
    "global_mean = train['rating'].mean()"
   ]
  },
  {
   "cell_type": "code",
   "execution_count": 114,
   "metadata": {
    "collapsed": true
   },
   "outputs": [],
   "source": [
    "def alg_mean(user_id, movie_id):\n",
    "    \"\"\" Simple collaborative-filter based on mean ratings. \n",
    "    Return mean rating of movie from training set.\n",
    "    \"\"\"\n",
    "    return global_mean"
   ]
  },
  {
   "cell_type": "code",
   "execution_count": 115,
   "metadata": {},
   "outputs": [
    {
     "name": "stdout",
     "output_type": "stream",
     "text": [
      "RMSE: 1.14843300664\n"
     ]
    }
   ],
   "source": [
    "print 'RMSE: %s' % evaluate(alg_mean)"
   ]
  },
  {
   "cell_type": "markdown",
   "metadata": {},
   "source": [
    "### 1. Simple collaborative filter - movie mean ratings"
   ]
  },
  {
   "cell_type": "code",
   "execution_count": 116,
   "metadata": {
    "collapsed": true
   },
   "outputs": [],
   "source": [
    "# get dataset of global means of training set movies\n",
    "movie_means = train.groupby('movie_id')['rating'].mean()"
   ]
  },
  {
   "cell_type": "code",
   "execution_count": 117,
   "metadata": {
    "collapsed": true
   },
   "outputs": [],
   "source": [
    "def alg_means(user_id, movie_id):\n",
    "    \"\"\" Simple collaborative-filter based on mean ratings. \n",
    "    Return mean rating of movie from training set.\n",
    "    \"\"\"\n",
    "    return movie_means.loc[movie_id]"
   ]
  },
  {
   "cell_type": "code",
   "execution_count": 118,
   "metadata": {},
   "outputs": [
    {
     "name": "stdout",
     "output_type": "stream",
     "text": [
      "RMSE: 1.0038696568\n"
     ]
    }
   ],
   "source": [
    "print 'RMSE: %s' % evaluate(alg_means)"
   ]
  },
  {
   "cell_type": "markdown",
   "metadata": {},
   "source": [
    "### 2. Simple collaborative filter - user and movie means"
   ]
  },
  {
   "cell_type": "code",
   "execution_count": 134,
   "metadata": {},
   "outputs": [],
   "source": [
    "user_means = train.groupby('user_id')['rating'].mean()"
   ]
  },
  {
   "cell_type": "code",
   "execution_count": 135,
   "metadata": {},
   "outputs": [],
   "source": [
    "user_means_adj = user_means - global_mean\n",
    "movie_means_adj = movie_means - global_mean"
   ]
  },
  {
   "cell_type": "code",
   "execution_count": 130,
   "metadata": {},
   "outputs": [],
   "source": [
    "def alg_adjust(user_id, movie_id):\n",
    "    \"\"\" Simple collaborative-filter based on mean ratings. \n",
    "    Return mean rating of movie from training set.\n",
    "    \"\"\"\n",
    "    user_adjust = user_means_adj.loc[user_id]\n",
    "    movie_adjust = movie_means_adj.loc[movie_id]\n",
    "    return global_mean + user_adjust + movie_adjust\n",
    "    "
   ]
  },
  {
   "cell_type": "code",
   "execution_count": 131,
   "metadata": {},
   "outputs": [
    {
     "name": "stdout",
     "output_type": "stream",
     "text": [
      "RMSE: 0.977076156865\n"
     ]
    }
   ],
   "source": [
    "print 'RMSE: %s' % evaluate(alg_adjust)"
   ]
  },
  {
   "cell_type": "markdown",
   "metadata": {},
   "source": [
    "### Simple collaborative filter - Gender and age"
   ]
  },
  {
   "cell_type": "code",
   "execution_count": 138,
   "metadata": {},
   "outputs": [
    {
     "data": {
      "text/html": [
       "<div>\n",
       "<style scoped>\n",
       "    .dataframe tbody tr th:only-of-type {\n",
       "        vertical-align: middle;\n",
       "    }\n",
       "\n",
       "    .dataframe tbody tr th {\n",
       "        vertical-align: top;\n",
       "    }\n",
       "\n",
       "    .dataframe thead th {\n",
       "        text-align: right;\n",
       "    }\n",
       "</style>\n",
       "<table border=\"1\" class=\"dataframe\">\n",
       "  <thead>\n",
       "    <tr style=\"text-align: right;\">\n",
       "      <th></th>\n",
       "      <th>user_id</th>\n",
       "      <th>movie_id</th>\n",
       "      <th>rating</th>\n",
       "      <th>timestamp</th>\n",
       "      <th>gender</th>\n",
       "      <th>age</th>\n",
       "      <th>occupation</th>\n",
       "      <th>zip</th>\n",
       "      <th>title</th>\n",
       "      <th>genres</th>\n",
       "      <th>genre</th>\n",
       "      <th>name</th>\n",
       "      <th>score</th>\n",
       "      <th>test</th>\n",
       "    </tr>\n",
       "  </thead>\n",
       "  <tbody>\n",
       "    <tr>\n",
       "      <th>23270</th>\n",
       "      <td>1</td>\n",
       "      <td>1270</td>\n",
       "      <td>5</td>\n",
       "      <td>978300055</td>\n",
       "      <td>F</td>\n",
       "      <td>1</td>\n",
       "      <td>10</td>\n",
       "      <td>48067</td>\n",
       "      <td>Back to the Future (1985)</td>\n",
       "      <td>Comedy|Sci-Fi</td>\n",
       "      <td>Comedy SciFi</td>\n",
       "      <td>Back to the Future</td>\n",
       "      <td>3.983689</td>\n",
       "      <td>False</td>\n",
       "    </tr>\n",
       "    <tr>\n",
       "      <th>37339</th>\n",
       "      <td>1</td>\n",
       "      <td>1022</td>\n",
       "      <td>5</td>\n",
       "      <td>978300055</td>\n",
       "      <td>F</td>\n",
       "      <td>1</td>\n",
       "      <td>10</td>\n",
       "      <td>48067</td>\n",
       "      <td>Cinderella (1950)</td>\n",
       "      <td>Animation|Children's|Musical</td>\n",
       "      <td>Animation Children's Musical</td>\n",
       "      <td>Cinderella</td>\n",
       "      <td>3.735824</td>\n",
       "      <td>False</td>\n",
       "    </tr>\n",
       "    <tr>\n",
       "      <th>51327</th>\n",
       "      <td>1</td>\n",
       "      <td>1207</td>\n",
       "      <td>4</td>\n",
       "      <td>978300719</td>\n",
       "      <td>F</td>\n",
       "      <td>1</td>\n",
       "      <td>10</td>\n",
       "      <td>48067</td>\n",
       "      <td>To Kill a Mockingbird (1962)</td>\n",
       "      <td>Drama</td>\n",
       "      <td>Drama</td>\n",
       "      <td>To Kill a Mockingbird</td>\n",
       "      <td>4.396945</td>\n",
       "      <td>False</td>\n",
       "    </tr>\n",
       "    <tr>\n",
       "      <th>8926</th>\n",
       "      <td>1</td>\n",
       "      <td>2804</td>\n",
       "      <td>5</td>\n",
       "      <td>978300719</td>\n",
       "      <td>F</td>\n",
       "      <td>1</td>\n",
       "      <td>10</td>\n",
       "      <td>48067</td>\n",
       "      <td>Christmas Story, A (1983)</td>\n",
       "      <td>Comedy|Drama</td>\n",
       "      <td>Comedy Drama</td>\n",
       "      <td>Christmas Story, A</td>\n",
       "      <td>4.222178</td>\n",
       "      <td>False</td>\n",
       "    </tr>\n",
       "    <tr>\n",
       "      <th>22832</th>\n",
       "      <td>1</td>\n",
       "      <td>720</td>\n",
       "      <td>3</td>\n",
       "      <td>978300760</td>\n",
       "      <td>F</td>\n",
       "      <td>1</td>\n",
       "      <td>10</td>\n",
       "      <td>48067</td>\n",
       "      <td>Wallace &amp; Gromit: The Best of Aardman Animatio...</td>\n",
       "      <td>Animation</td>\n",
       "      <td>Animation</td>\n",
       "      <td>Wallace &amp; Gromit: The Best of Aardman Animation</td>\n",
       "      <td>4.367667</td>\n",
       "      <td>False</td>\n",
       "    </tr>\n",
       "  </tbody>\n",
       "</table>\n",
       "</div>"
      ],
      "text/plain": [
       "       user_id  movie_id  rating  timestamp gender  age  occupation    zip  \\\n",
       "23270        1      1270       5  978300055      F    1          10  48067   \n",
       "37339        1      1022       5  978300055      F    1          10  48067   \n",
       "51327        1      1207       4  978300719      F    1          10  48067   \n",
       "8926         1      2804       5  978300719      F    1          10  48067   \n",
       "22832        1       720       3  978300760      F    1          10  48067   \n",
       "\n",
       "                                                   title  \\\n",
       "23270                          Back to the Future (1985)   \n",
       "37339                                  Cinderella (1950)   \n",
       "51327                       To Kill a Mockingbird (1962)   \n",
       "8926                           Christmas Story, A (1983)   \n",
       "22832  Wallace & Gromit: The Best of Aardman Animatio...   \n",
       "\n",
       "                             genres                         genre  \\\n",
       "23270                 Comedy|Sci-Fi                  Comedy SciFi   \n",
       "37339  Animation|Children's|Musical  Animation Children's Musical   \n",
       "51327                         Drama                         Drama   \n",
       "8926                   Comedy|Drama                  Comedy Drama   \n",
       "22832                     Animation                     Animation   \n",
       "\n",
       "                                                  name     score   test  \n",
       "23270                               Back to the Future  3.983689  False  \n",
       "37339                                       Cinderella  3.735824  False  \n",
       "51327                            To Kill a Mockingbird  4.396945  False  \n",
       "8926                                Christmas Story, A  4.222178  False  \n",
       "22832  Wallace & Gromit: The Best of Aardman Animation  4.367667  False  "
      ]
     },
     "execution_count": 138,
     "metadata": {},
     "output_type": "execute_result"
    }
   ],
   "source": [
    "train.head()"
   ]
  },
  {
   "cell_type": "code",
   "execution_count": 149,
   "metadata": {},
   "outputs": [],
   "source": [
    "gb = train.groupby(['age', 'gender', 'movie_id'])['rating'].mean()"
   ]
  },
  {
   "cell_type": "code",
   "execution_count": 152,
   "metadata": {},
   "outputs": [],
   "source": [
    "gbwide = gb.unstack()"
   ]
  },
  {
   "cell_type": "code",
   "execution_count": 162,
   "metadata": {},
   "outputs": [
    {
     "data": {
      "text/html": [
       "<div>\n",
       "<style scoped>\n",
       "    .dataframe tbody tr th:only-of-type {\n",
       "        vertical-align: middle;\n",
       "    }\n",
       "\n",
       "    .dataframe tbody tr th {\n",
       "        vertical-align: top;\n",
       "    }\n",
       "\n",
       "    .dataframe thead th {\n",
       "        text-align: right;\n",
       "    }\n",
       "</style>\n",
       "<table border=\"1\" class=\"dataframe\">\n",
       "  <thead>\n",
       "    <tr style=\"text-align: right;\">\n",
       "      <th></th>\n",
       "      <th>movie_id</th>\n",
       "      <th>1</th>\n",
       "      <th>2</th>\n",
       "      <th>3</th>\n",
       "      <th>4</th>\n",
       "      <th>5</th>\n",
       "      <th>6</th>\n",
       "      <th>7</th>\n",
       "      <th>8</th>\n",
       "      <th>9</th>\n",
       "      <th>10</th>\n",
       "      <th>...</th>\n",
       "      <th>3942</th>\n",
       "      <th>3943</th>\n",
       "      <th>3945</th>\n",
       "      <th>3946</th>\n",
       "      <th>3947</th>\n",
       "      <th>3948</th>\n",
       "      <th>3949</th>\n",
       "      <th>3950</th>\n",
       "      <th>3951</th>\n",
       "      <th>3952</th>\n",
       "    </tr>\n",
       "    <tr>\n",
       "      <th>age</th>\n",
       "      <th>gender</th>\n",
       "      <th></th>\n",
       "      <th></th>\n",
       "      <th></th>\n",
       "      <th></th>\n",
       "      <th></th>\n",
       "      <th></th>\n",
       "      <th></th>\n",
       "      <th></th>\n",
       "      <th></th>\n",
       "      <th></th>\n",
       "      <th></th>\n",
       "      <th></th>\n",
       "      <th></th>\n",
       "      <th></th>\n",
       "      <th></th>\n",
       "      <th></th>\n",
       "      <th></th>\n",
       "      <th></th>\n",
       "      <th></th>\n",
       "      <th></th>\n",
       "      <th></th>\n",
       "    </tr>\n",
       "  </thead>\n",
       "  <tbody>\n",
       "    <tr>\n",
       "      <th rowspan=\"2\" valign=\"top\">1</th>\n",
       "      <th>F</th>\n",
       "      <td>4.200000</td>\n",
       "      <td>4.000000</td>\n",
       "      <td>4.000000</td>\n",
       "      <td>2.720000</td>\n",
       "      <td>4.000000</td>\n",
       "      <td>3.821782</td>\n",
       "      <td>3.414894</td>\n",
       "      <td>3.000000</td>\n",
       "      <td>2.866667</td>\n",
       "      <td>3.473988</td>\n",
       "      <td>...</td>\n",
       "      <td>1.857143</td>\n",
       "      <td>2.545455</td>\n",
       "      <td>1.4</td>\n",
       "      <td>2.166667</td>\n",
       "      <td>3.625000</td>\n",
       "      <td>4.500000</td>\n",
       "      <td>4.066667</td>\n",
       "      <td>4.0</td>\n",
       "      <td>3.0</td>\n",
       "      <td>3.785714</td>\n",
       "    </tr>\n",
       "    <tr>\n",
       "      <th>M</th>\n",
       "      <td>4.230769</td>\n",
       "      <td>3.000000</td>\n",
       "      <td>2.000000</td>\n",
       "      <td>2.720000</td>\n",
       "      <td>4.000000</td>\n",
       "      <td>3.666667</td>\n",
       "      <td>3.414894</td>\n",
       "      <td>2.823529</td>\n",
       "      <td>2.866667</td>\n",
       "      <td>3.700000</td>\n",
       "      <td>...</td>\n",
       "      <td>1.857143</td>\n",
       "      <td>2.000000</td>\n",
       "      <td>1.4</td>\n",
       "      <td>2.166667</td>\n",
       "      <td>3.625000</td>\n",
       "      <td>4.111111</td>\n",
       "      <td>4.066667</td>\n",
       "      <td>5.0</td>\n",
       "      <td>3.0</td>\n",
       "      <td>3.333333</td>\n",
       "    </tr>\n",
       "    <tr>\n",
       "      <th rowspan=\"2\" valign=\"top\">18</th>\n",
       "      <th>F</th>\n",
       "      <td>4.000000</td>\n",
       "      <td>3.000000</td>\n",
       "      <td>2.200000</td>\n",
       "      <td>3.666667</td>\n",
       "      <td>2.166667</td>\n",
       "      <td>3.888889</td>\n",
       "      <td>3.714286</td>\n",
       "      <td>2.000000</td>\n",
       "      <td>3.000000</td>\n",
       "      <td>3.800000</td>\n",
       "      <td>...</td>\n",
       "      <td>1.857143</td>\n",
       "      <td>4.000000</td>\n",
       "      <td>1.0</td>\n",
       "      <td>2.166667</td>\n",
       "      <td>3.625000</td>\n",
       "      <td>3.285714</td>\n",
       "      <td>4.000000</td>\n",
       "      <td>3.0</td>\n",
       "      <td>3.0</td>\n",
       "      <td>4.000000</td>\n",
       "    </tr>\n",
       "    <tr>\n",
       "      <th>M</th>\n",
       "      <td>4.000000</td>\n",
       "      <td>3.095238</td>\n",
       "      <td>3.611111</td>\n",
       "      <td>1.500000</td>\n",
       "      <td>2.888889</td>\n",
       "      <td>4.029412</td>\n",
       "      <td>3.400000</td>\n",
       "      <td>2.400000</td>\n",
       "      <td>3.000000</td>\n",
       "      <td>3.593750</td>\n",
       "      <td>...</td>\n",
       "      <td>2.000000</td>\n",
       "      <td>2.666667</td>\n",
       "      <td>2.0</td>\n",
       "      <td>2.800000</td>\n",
       "      <td>3.625000</td>\n",
       "      <td>4.076923</td>\n",
       "      <td>4.200000</td>\n",
       "      <td>1.5</td>\n",
       "      <td>3.0</td>\n",
       "      <td>3.500000</td>\n",
       "    </tr>\n",
       "    <tr>\n",
       "      <th rowspan=\"2\" valign=\"top\">25</th>\n",
       "      <th>F</th>\n",
       "      <td>4.290323</td>\n",
       "      <td>3.100000</td>\n",
       "      <td>3.500000</td>\n",
       "      <td>2.600000</td>\n",
       "      <td>3.250000</td>\n",
       "      <td>4.000000</td>\n",
       "      <td>3.450000</td>\n",
       "      <td>3.000000</td>\n",
       "      <td>2.866667</td>\n",
       "      <td>3.666667</td>\n",
       "      <td>...</td>\n",
       "      <td>1.000000</td>\n",
       "      <td>2.000000</td>\n",
       "      <td>1.4</td>\n",
       "      <td>1.000000</td>\n",
       "      <td>3.625000</td>\n",
       "      <td>4.000000</td>\n",
       "      <td>2.666667</td>\n",
       "      <td>3.0</td>\n",
       "      <td>2.0</td>\n",
       "      <td>4.400000</td>\n",
       "    </tr>\n",
       "    <tr>\n",
       "      <th>M</th>\n",
       "      <td>4.176056</td>\n",
       "      <td>2.976744</td>\n",
       "      <td>3.200000</td>\n",
       "      <td>3.000000</td>\n",
       "      <td>2.866667</td>\n",
       "      <td>3.946667</td>\n",
       "      <td>3.210526</td>\n",
       "      <td>2.500000</td>\n",
       "      <td>2.625000</td>\n",
       "      <td>3.308824</td>\n",
       "      <td>...</td>\n",
       "      <td>2.000000</td>\n",
       "      <td>1.500000</td>\n",
       "      <td>1.0</td>\n",
       "      <td>2.000000</td>\n",
       "      <td>4.333333</td>\n",
       "      <td>3.529412</td>\n",
       "      <td>4.555556</td>\n",
       "      <td>2.0</td>\n",
       "      <td>3.0</td>\n",
       "      <td>3.900000</td>\n",
       "    </tr>\n",
       "    <tr>\n",
       "      <th rowspan=\"2\" valign=\"top\">35</th>\n",
       "      <th>F</th>\n",
       "      <td>4.176471</td>\n",
       "      <td>3.428571</td>\n",
       "      <td>2.833333</td>\n",
       "      <td>3.000000</td>\n",
       "      <td>3.750000</td>\n",
       "      <td>3.272727</td>\n",
       "      <td>3.500000</td>\n",
       "      <td>3.500000</td>\n",
       "      <td>2.866667</td>\n",
       "      <td>2.800000</td>\n",
       "      <td>...</td>\n",
       "      <td>1.857143</td>\n",
       "      <td>4.000000</td>\n",
       "      <td>1.4</td>\n",
       "      <td>2.000000</td>\n",
       "      <td>3.625000</td>\n",
       "      <td>3.230769</td>\n",
       "      <td>2.000000</td>\n",
       "      <td>3.0</td>\n",
       "      <td>3.0</td>\n",
       "      <td>3.250000</td>\n",
       "    </tr>\n",
       "    <tr>\n",
       "      <th>M</th>\n",
       "      <td>4.285714</td>\n",
       "      <td>3.555556</td>\n",
       "      <td>2.846154</td>\n",
       "      <td>2.000000</td>\n",
       "      <td>2.000000</td>\n",
       "      <td>3.516129</td>\n",
       "      <td>3.800000</td>\n",
       "      <td>3.000000</td>\n",
       "      <td>3.333333</td>\n",
       "      <td>3.631579</td>\n",
       "      <td>...</td>\n",
       "      <td>3.000000</td>\n",
       "      <td>3.000000</td>\n",
       "      <td>1.4</td>\n",
       "      <td>1.666667</td>\n",
       "      <td>4.000000</td>\n",
       "      <td>4.071429</td>\n",
       "      <td>4.666667</td>\n",
       "      <td>3.0</td>\n",
       "      <td>4.0</td>\n",
       "      <td>3.833333</td>\n",
       "    </tr>\n",
       "    <tr>\n",
       "      <th rowspan=\"2\" valign=\"top\">45</th>\n",
       "      <th>F</th>\n",
       "      <td>4.000000</td>\n",
       "      <td>3.142857</td>\n",
       "      <td>3.112360</td>\n",
       "      <td>2.720000</td>\n",
       "      <td>4.000000</td>\n",
       "      <td>4.000000</td>\n",
       "      <td>3.000000</td>\n",
       "      <td>2.823529</td>\n",
       "      <td>2.866667</td>\n",
       "      <td>4.000000</td>\n",
       "      <td>...</td>\n",
       "      <td>1.857143</td>\n",
       "      <td>2.545455</td>\n",
       "      <td>1.4</td>\n",
       "      <td>2.166667</td>\n",
       "      <td>4.000000</td>\n",
       "      <td>4.000000</td>\n",
       "      <td>4.066667</td>\n",
       "      <td>3.0</td>\n",
       "      <td>5.0</td>\n",
       "      <td>4.000000</td>\n",
       "    </tr>\n",
       "    <tr>\n",
       "      <th>M</th>\n",
       "      <td>4.100000</td>\n",
       "      <td>3.600000</td>\n",
       "      <td>3.666667</td>\n",
       "      <td>2.720000</td>\n",
       "      <td>3.000000</td>\n",
       "      <td>3.750000</td>\n",
       "      <td>3.400000</td>\n",
       "      <td>3.000000</td>\n",
       "      <td>2.866667</td>\n",
       "      <td>3.727273</td>\n",
       "      <td>...</td>\n",
       "      <td>1.857143</td>\n",
       "      <td>2.545455</td>\n",
       "      <td>1.4</td>\n",
       "      <td>1.000000</td>\n",
       "      <td>1.000000</td>\n",
       "      <td>4.000000</td>\n",
       "      <td>5.000000</td>\n",
       "      <td>3.0</td>\n",
       "      <td>1.0</td>\n",
       "      <td>3.500000</td>\n",
       "    </tr>\n",
       "  </tbody>\n",
       "</table>\n",
       "<p>10 rows × 2934 columns</p>\n",
       "</div>"
      ],
      "text/plain": [
       "movie_id        1         2         3         4         5         6     \\\n",
       "age gender                                                               \n",
       "1   F       4.200000  4.000000  4.000000  2.720000  4.000000  3.821782   \n",
       "    M       4.230769  3.000000  2.000000  2.720000  4.000000  3.666667   \n",
       "18  F       4.000000  3.000000  2.200000  3.666667  2.166667  3.888889   \n",
       "    M       4.000000  3.095238  3.611111  1.500000  2.888889  4.029412   \n",
       "25  F       4.290323  3.100000  3.500000  2.600000  3.250000  4.000000   \n",
       "    M       4.176056  2.976744  3.200000  3.000000  2.866667  3.946667   \n",
       "35  F       4.176471  3.428571  2.833333  3.000000  3.750000  3.272727   \n",
       "    M       4.285714  3.555556  2.846154  2.000000  2.000000  3.516129   \n",
       "45  F       4.000000  3.142857  3.112360  2.720000  4.000000  4.000000   \n",
       "    M       4.100000  3.600000  3.666667  2.720000  3.000000  3.750000   \n",
       "\n",
       "movie_id        7         8         9         10      ...         3942  \\\n",
       "age gender                                            ...                \n",
       "1   F       3.414894  3.000000  2.866667  3.473988    ...     1.857143   \n",
       "    M       3.414894  2.823529  2.866667  3.700000    ...     1.857143   \n",
       "18  F       3.714286  2.000000  3.000000  3.800000    ...     1.857143   \n",
       "    M       3.400000  2.400000  3.000000  3.593750    ...     2.000000   \n",
       "25  F       3.450000  3.000000  2.866667  3.666667    ...     1.000000   \n",
       "    M       3.210526  2.500000  2.625000  3.308824    ...     2.000000   \n",
       "35  F       3.500000  3.500000  2.866667  2.800000    ...     1.857143   \n",
       "    M       3.800000  3.000000  3.333333  3.631579    ...     3.000000   \n",
       "45  F       3.000000  2.823529  2.866667  4.000000    ...     1.857143   \n",
       "    M       3.400000  3.000000  2.866667  3.727273    ...     1.857143   \n",
       "\n",
       "movie_id        3943  3945      3946      3947      3948      3949  3950  \\\n",
       "age gender                                                                 \n",
       "1   F       2.545455   1.4  2.166667  3.625000  4.500000  4.066667   4.0   \n",
       "    M       2.000000   1.4  2.166667  3.625000  4.111111  4.066667   5.0   \n",
       "18  F       4.000000   1.0  2.166667  3.625000  3.285714  4.000000   3.0   \n",
       "    M       2.666667   2.0  2.800000  3.625000  4.076923  4.200000   1.5   \n",
       "25  F       2.000000   1.4  1.000000  3.625000  4.000000  2.666667   3.0   \n",
       "    M       1.500000   1.0  2.000000  4.333333  3.529412  4.555556   2.0   \n",
       "35  F       4.000000   1.4  2.000000  3.625000  3.230769  2.000000   3.0   \n",
       "    M       3.000000   1.4  1.666667  4.000000  4.071429  4.666667   3.0   \n",
       "45  F       2.545455   1.4  2.166667  4.000000  4.000000  4.066667   3.0   \n",
       "    M       2.545455   1.4  1.000000  1.000000  4.000000  5.000000   3.0   \n",
       "\n",
       "movie_id    3951      3952  \n",
       "age gender                  \n",
       "1   F        3.0  3.785714  \n",
       "    M        3.0  3.333333  \n",
       "18  F        3.0  4.000000  \n",
       "    M        3.0  3.500000  \n",
       "25  F        2.0  4.400000  \n",
       "    M        3.0  3.900000  \n",
       "35  F        3.0  3.250000  \n",
       "    M        4.0  3.833333  \n",
       "45  F        5.0  4.000000  \n",
       "    M        1.0  3.500000  \n",
       "\n",
       "[10 rows x 2934 columns]"
      ]
     },
     "execution_count": 162,
     "metadata": {},
     "output_type": "execute_result"
    }
   ],
   "source": [
    "gbwide.head(10)"
   ]
  },
  {
   "cell_type": "code",
   "execution_count": 161,
   "metadata": {},
   "outputs": [],
   "source": [
    "# fill missing with movie global mean\n",
    "\n",
    "for c in gbwide.columns:\n",
    "    gbwide.loc[:, c] = gbwide.loc[:, c].fillna(movie_means.loc[c])\n"
   ]
  },
  {
   "cell_type": "code",
   "execution_count": 170,
   "metadata": {},
   "outputs": [],
   "source": [
    "users = users.set_index('user_id')"
   ]
  },
  {
   "cell_type": "code",
   "execution_count": 173,
   "metadata": {},
   "outputs": [
    {
     "data": {
      "text/plain": [
       "(1, 'F')"
      ]
     },
     "execution_count": 173,
     "metadata": {},
     "output_type": "execute_result"
    }
   ],
   "source": [
    "ix = (1, 'F')\n",
    "ix"
   ]
  },
  {
   "cell_type": "code",
   "execution_count": 176,
   "metadata": {},
   "outputs": [],
   "source": [
    "def alg_gender_age(user_id, movie_id):\n",
    "    \"\"\" Simple collaborative-filter based on mean ratings. \n",
    "    Return mean rating of movie from training set.\n",
    "    \"\"\"\n",
    "    gender = users.loc[user_id, 'gender']\n",
    "    age = users.loc[user_id, 'age']\n",
    "    idx = (age, gender)\n",
    "    return gbwide.loc[idx, movie_id]"
   ]
  },
  {
   "cell_type": "code",
   "execution_count": 177,
   "metadata": {},
   "outputs": [
    {
     "name": "stdout",
     "output_type": "stream",
     "text": [
      "RMSE: 1.0658075723\n"
     ]
    }
   ],
   "source": [
    "print 'RMSE: %s' % evaluate(alg_gender_age)"
   ]
  },
  {
   "cell_type": "markdown",
   "metadata": {},
   "source": [
    "### Simple collaborative filter - Similar users"
   ]
  },
  {
   "cell_type": "code",
   "execution_count": 179,
   "metadata": {},
   "outputs": [],
   "source": [
    "from sklearn.decomposition import NMF\n",
    "from sklearn.preprocessing import Normalizer, MaxAbsScaler\n",
    "from sklearn.pipeline import make_pipeline"
   ]
  },
  {
   "cell_type": "code",
   "execution_count": 180,
   "metadata": {
    "collapsed": true
   },
   "outputs": [],
   "source": [
    "sppt = train.pivot_table('rating', index='user_id', columns='movie_id', fill_value=0)"
   ]
  },
  {
   "cell_type": "code",
   "execution_count": 182,
   "metadata": {
    "collapsed": true
   },
   "outputs": [],
   "source": [
    "scaler = MaxAbsScaler()\n",
    "normalizer = Normalizer()"
   ]
  },
  {
   "cell_type": "code",
   "execution_count": 199,
   "metadata": {
    "collapsed": true
   },
   "outputs": [],
   "source": [
    "nmf = NMF(n_components=100)"
   ]
  },
  {
   "cell_type": "code",
   "execution_count": 213,
   "metadata": {
    "collapsed": true
   },
   "outputs": [],
   "source": [
    "pipeline = make_pipeline(scaler, nmf, normalizer)\n",
    "norm_features = pipeline.fit_transform(sppt)"
   ]
  },
  {
   "cell_type": "code",
   "execution_count": 214,
   "metadata": {
    "collapsed": true
   },
   "outputs": [],
   "source": [
    "from sklearn.metrics.pairwise import pairwise_distances\n",
    "user_sim = pairwise_distances(norm_features, metric='cosine')"
   ]
  },
  {
   "cell_type": "code",
   "execution_count": 215,
   "metadata": {},
   "outputs": [],
   "source": [
    "user_sim_df = pd.DataFrame(user_sim, index=user_means.index, columns=user_means.index)"
   ]
  },
  {
   "cell_type": "code",
   "execution_count": 282,
   "metadata": {},
   "outputs": [],
   "source": [
    "# create dict where key is movie and value is list of raters\n",
    "movie_raters = train.groupby('movie_id')['user_id'].apply(list).to_dict()"
   ]
  },
  {
   "cell_type": "code",
   "execution_count": null,
   "metadata": {
    "collapsed": true
   },
   "outputs": [],
   "source": [
    "train_um = train.set_index(['user_id', 'movie_id'])"
   ]
  },
  {
   "cell_type": "code",
   "execution_count": 289,
   "metadata": {
    "collapsed": true
   },
   "outputs": [],
   "source": [
    "def alg_similar_20(user_id, movie_id):\n",
    "    \"\"\" Simple collaborative-filter based user similarities. \n",
    "    Return mean rating of movie from users most similar, up to 20).\n",
    "    \"\"\"\n",
    "    # get ids of training set raters\n",
    "    train_raters = movie_raters[movie_id]\n",
    "    # get the 20 most similar raters of movie\n",
    "    most_sim = np.array(user_sim_df[user_id][train_raters].nlargest(20).index)\n",
    "    # set index\n",
    "    ix = zip(most_sim, [movie_id] * len(most_sim))\n",
    "    return train_um.loc[ix, 'rating'].mean()"
   ]
  },
  {
   "cell_type": "code",
   "execution_count": 309,
   "metadata": {},
   "outputs": [
    {
     "name": "stdout",
     "output_type": "stream",
     "text": [
      "RMSE: 1.03798523551\n"
     ]
    }
   ],
   "source": [
    "print 'RMSE: %s' % evaluate(alg_similar_20, test)"
   ]
  },
  {
   "cell_type": "code",
   "execution_count": 355,
   "metadata": {
    "collapsed": true
   },
   "outputs": [],
   "source": [
    "def alg_similar(user_id, movie_id):\n",
    "    \"\"\" Simple collaborative-filter based user similarities. \n",
    "    Return mean rating of movie from users most similar, up to 20).\n",
    "    \"\"\"\n",
    "    train_raters = movie_raters[movie_id]\n",
    "    sim_scores = np.array(user_sim_df[user_id][train_raters])\n",
    "    rater_means = user_means[train_raters]\n",
    "    ix = zip(train_raters, [movie_id] * len(train_raters))\n",
    "    rater_scores = train_um.loc[ix, 'rating']\n",
    "    user_mean = user_means[user_id]\n",
    "    den = np.sum(sim_scores)\n",
    "    num = np.sum(sim_scores * (rater_scores - rater_means))\n",
    "    return user_mean + (num/den)"
   ]
  },
  {
   "cell_type": "code",
   "execution_count": 358,
   "metadata": {},
   "outputs": [
    {
     "name": "stdout",
     "output_type": "stream",
     "text": [
      "RMSE: 0.976771322467\n"
     ]
    }
   ],
   "source": [
    "print 'RMSE: %s' % evaluate(alg_similar, test)"
   ]
  },
  {
   "cell_type": "code",
   "execution_count": 67,
   "metadata": {
    "collapsed": true
   },
   "outputs": [],
   "source": [
    "from surprise import SVD\n",
    "from surprise import Dataset\n",
    "from surprise import Reader\n",
    "from surprise import NormalPredictor\n",
    "from surprise.model_selection import cross_validate\n",
    "from surprise import accuracy"
   ]
  },
  {
   "cell_type": "code",
   "execution_count": 45,
   "metadata": {
    "collapsed": true
   },
   "outputs": [],
   "source": [
    "data_train = train.loc[:, ['user_id', 'movie_id', 'rating']]\n",
    "data_test = test.loc[:, ['user_id', 'movie_id', 'rating']]"
   ]
  },
  {
   "cell_type": "code",
   "execution_count": 46,
   "metadata": {
    "collapsed": true
   },
   "outputs": [],
   "source": [
    "reader = Reader(rating_scale=(1, 5))\n",
    "dftrain = Dataset.load_from_df(data_train, reader)\n",
    "dftest = Dataset.load_from_df(data_test, reader)"
   ]
  },
  {
   "cell_type": "code",
   "execution_count": 52,
   "metadata": {},
   "outputs": [
    {
     "data": {
      "text/plain": [
       "{u'fit_time': (0.09999990463256836, 0.0989999771118164),\n",
       " u'test_mae': array([ 1.19656503,  1.19504292]),\n",
       " u'test_rmse': array([ 1.49403483,  1.49350161]),\n",
       " u'test_time': (0.6080000400543213, 0.6070001125335693)}"
      ]
     },
     "execution_count": 52,
     "metadata": {},
     "output_type": "execute_result"
    }
   ],
   "source": [
    "cross_validate(NormalPredictor(), dftrain, cv=2)"
   ]
  },
  {
   "cell_type": "code",
   "execution_count": 53,
   "metadata": {},
   "outputs": [
    {
     "data": {
      "text/plain": [
       "{u'fit_time': (5.205000162124634, 5.388000011444092),\n",
       " u'test_mae': array([ 0.7487613,  0.7477967]),\n",
       " u'test_rmse': array([ 0.94440088,  0.94506263]),\n",
       " u'test_time': (0.8799998760223389, 0.8380000591278076)}"
      ]
     },
     "execution_count": 53,
     "metadata": {},
     "output_type": "execute_result"
    }
   ],
   "source": [
    "cross_validate(SVD(), dftrain, cv=2)"
   ]
  },
  {
   "cell_type": "code",
   "execution_count": 62,
   "metadata": {
    "collapsed": true
   },
   "outputs": [],
   "source": [
    "trainset = dftrain.build_full_trainset()\n",
    "testset = dftest.build_full_trainset()\n",
    "testset = testset.build_testset()"
   ]
  },
  {
   "cell_type": "code",
   "execution_count": 77,
   "metadata": {
    "collapsed": true
   },
   "outputs": [],
   "source": [
    "# We'll use the famous SVD algorithm.\n",
    "algo = SVD()\n",
    "\n",
    "# Train the algorithm on the trainset, and predict ratings for the testset\n",
    "algo.fit(trainset)\n",
    "predictions = algo.test(testset)"
   ]
  },
  {
   "cell_type": "code",
   "execution_count": 78,
   "metadata": {},
   "outputs": [
    {
     "name": "stdout",
     "output_type": "stream",
     "text": [
      "RMSE: 0.9566\n"
     ]
    },
    {
     "data": {
      "text/plain": [
       "0.95656611782335121"
      ]
     },
     "execution_count": 78,
     "metadata": {},
     "output_type": "execute_result"
    }
   ],
   "source": [
    "accuracy.rmse(predictions, verbose=True)"
   ]
  },
  {
   "cell_type": "code",
   "execution_count": 76,
   "metadata": {},
   "outputs": [
    {
     "name": "stdout",
     "output_type": "stream",
     "text": [
      "Estimating biases using als...\n",
      "RMSE: 0.9518\n",
      "0.95176887223\n"
     ]
    }
   ],
   "source": [
    "from surprise import BaselineOnly\n",
    "algo = BaselineOnly()\n",
    "algo.fit(trainset)\n",
    "predictions = algo.test(testset)\n",
    "print accuracy.rmse(predictions)"
   ]
  },
  {
   "cell_type": "markdown",
   "metadata": {},
   "source": [
    "## 2.  Simple collaborative filtering using weighted score"
   ]
  },
  {
   "cell_type": "code",
   "execution_count": 302,
   "metadata": {
    "collapsed": true
   },
   "outputs": [],
   "source": [
    "def collab_wscore(user_id, movie_id):\n",
    "    \"\"\" Simple collaborative-filtering based on weighted score. \n",
    "    Return mean weighted score of test movie from all other users.\n",
    "    \"\"\"\n",
    "    movie_condition = train.movie_id == movie_id\n",
    "    weighted_scores = train.loc[movie_condition]\n",
    "    weighted_scores = weighted_scores.loc[:, 'score']\n",
    "    \n",
    "    if weighted_scores.empty:\n",
    "        score = 3.0\n",
    "    else:\n",
    "        score =  weighted_scores.iloc[0]\n",
    "    \n",
    "    return score"
   ]
  },
  {
   "cell_type": "code",
   "execution_count": null,
   "metadata": {
    "collapsed": true
   },
   "outputs": [],
   "source": [
    "print 'RMSE: %s' % evaluate(collab_wscore)"
   ]
  },
  {
   "cell_type": "code",
   "execution_count": 309,
   "metadata": {
    "collapsed": true
   },
   "outputs": [],
   "source": [
    "def collab_gender_age(user_id, movie_id):\n",
    "    \"\"\" \n",
    "    Collaborative filtering using gender and age. \n",
    "    Use weighted score.\n",
    "    \"\"\"\n",
    "    \n",
    "    user_condition = train.user_id != user_id\n",
    "    movie_condition = train.movie_id == movie_id\n",
    "    ratings_by_others = train.loc[user_condition & movie_condition]\n",
    "    \n",
    "    if ratings_by_others.empty: \n",
    "        return 3.0\n",
    "    \n",
    "    pt = ratings_by_others.pivot_table('score', index='movie_id', columns=['gender', 'age'])\n",
    "    user_info = users.set_index('user_id')\n",
    "    user_gender = user_info.loc[user_id, 'gender']\n",
    "    user_age = user_info.loc[user_id, 'age']\n",
    "    gender_age = (user_gender, user_age)\n",
    "    \n",
    "    if gender_age in pt.columns: \n",
    "        if np.isnan(pt.loc[movie_id, gender_age]):\n",
    "            return pt.loc[movie_id, user_gender].mean() \n",
    "        else:\n",
    "            return pt.loc[movie_id, gender_age]\n",
    "    else:\n",
    "        return pt.loc[movie_id].mean()"
   ]
  },
  {
   "cell_type": "code",
   "execution_count": 310,
   "metadata": {},
   "outputs": [
    {
     "name": "stdout",
     "output_type": "stream",
     "text": [
      "RMSE: 0.971788297512\n"
     ]
    }
   ],
   "source": [
    "print 'RMSE: %s' % evaluate(collab_gender_age)"
   ]
  },
  {
   "cell_type": "code",
   "execution_count": 82,
   "metadata": {
    "collapsed": true
   },
   "outputs": [],
   "source": [
    "from sklearn.feature_extraction.text import CountVectorizer"
   ]
  },
  {
   "cell_type": "code",
   "execution_count": 83,
   "metadata": {
    "collapsed": true
   },
   "outputs": [],
   "source": [
    "vectorizer = CountVectorizer(input='content')"
   ]
  },
  {
   "cell_type": "code",
   "execution_count": 123,
   "metadata": {
    "collapsed": true
   },
   "outputs": [],
   "source": [
    "dtm = vectorizer.fit_transform(movies['genre'])"
   ]
  },
  {
   "cell_type": "code",
   "execution_count": 124,
   "metadata": {
    "collapsed": true
   },
   "outputs": [],
   "source": [
    "vocab = vectorizer.get_feature_names()"
   ]
  },
  {
   "cell_type": "code",
   "execution_count": 125,
   "metadata": {
    "collapsed": true
   },
   "outputs": [],
   "source": [
    "dtm = dtm.toarray()"
   ]
  },
  {
   "cell_type": "code",
   "execution_count": 126,
   "metadata": {
    "collapsed": true
   },
   "outputs": [],
   "source": [
    "vocab = np.array(vocab)"
   ]
  },
  {
   "cell_type": "code",
   "execution_count": 127,
   "metadata": {},
   "outputs": [
    {
     "data": {
      "text/html": [
       "<div>\n",
       "<style scoped>\n",
       "    .dataframe tbody tr th:only-of-type {\n",
       "        vertical-align: middle;\n",
       "    }\n",
       "\n",
       "    .dataframe tbody tr th {\n",
       "        vertical-align: top;\n",
       "    }\n",
       "\n",
       "    .dataframe thead th {\n",
       "        text-align: right;\n",
       "    }\n",
       "</style>\n",
       "<table border=\"1\" class=\"dataframe\">\n",
       "  <thead>\n",
       "    <tr style=\"text-align: right;\">\n",
       "      <th></th>\n",
       "      <th>action</th>\n",
       "      <th>adventure</th>\n",
       "      <th>animation</th>\n",
       "      <th>children</th>\n",
       "      <th>comedy</th>\n",
       "      <th>crime</th>\n",
       "      <th>documentary</th>\n",
       "      <th>drama</th>\n",
       "      <th>fantasy</th>\n",
       "      <th>filmnoir</th>\n",
       "      <th>horror</th>\n",
       "      <th>musical</th>\n",
       "      <th>mystery</th>\n",
       "      <th>romance</th>\n",
       "      <th>scifi</th>\n",
       "      <th>thriller</th>\n",
       "      <th>war</th>\n",
       "      <th>western</th>\n",
       "    </tr>\n",
       "    <tr>\n",
       "      <th>title</th>\n",
       "      <th></th>\n",
       "      <th></th>\n",
       "      <th></th>\n",
       "      <th></th>\n",
       "      <th></th>\n",
       "      <th></th>\n",
       "      <th></th>\n",
       "      <th></th>\n",
       "      <th></th>\n",
       "      <th></th>\n",
       "      <th></th>\n",
       "      <th></th>\n",
       "      <th></th>\n",
       "      <th></th>\n",
       "      <th></th>\n",
       "      <th></th>\n",
       "      <th></th>\n",
       "      <th></th>\n",
       "    </tr>\n",
       "  </thead>\n",
       "  <tbody>\n",
       "    <tr>\n",
       "      <th>Toy Story (1995)</th>\n",
       "      <td>0</td>\n",
       "      <td>0</td>\n",
       "      <td>1</td>\n",
       "      <td>1</td>\n",
       "      <td>1</td>\n",
       "      <td>0</td>\n",
       "      <td>0</td>\n",
       "      <td>0</td>\n",
       "      <td>0</td>\n",
       "      <td>0</td>\n",
       "      <td>0</td>\n",
       "      <td>0</td>\n",
       "      <td>0</td>\n",
       "      <td>0</td>\n",
       "      <td>0</td>\n",
       "      <td>0</td>\n",
       "      <td>0</td>\n",
       "      <td>0</td>\n",
       "    </tr>\n",
       "    <tr>\n",
       "      <th>Jumanji (1995)</th>\n",
       "      <td>0</td>\n",
       "      <td>1</td>\n",
       "      <td>0</td>\n",
       "      <td>1</td>\n",
       "      <td>0</td>\n",
       "      <td>0</td>\n",
       "      <td>0</td>\n",
       "      <td>0</td>\n",
       "      <td>1</td>\n",
       "      <td>0</td>\n",
       "      <td>0</td>\n",
       "      <td>0</td>\n",
       "      <td>0</td>\n",
       "      <td>0</td>\n",
       "      <td>0</td>\n",
       "      <td>0</td>\n",
       "      <td>0</td>\n",
       "      <td>0</td>\n",
       "    </tr>\n",
       "    <tr>\n",
       "      <th>Grumpier Old Men (1995)</th>\n",
       "      <td>0</td>\n",
       "      <td>0</td>\n",
       "      <td>0</td>\n",
       "      <td>0</td>\n",
       "      <td>1</td>\n",
       "      <td>0</td>\n",
       "      <td>0</td>\n",
       "      <td>0</td>\n",
       "      <td>0</td>\n",
       "      <td>0</td>\n",
       "      <td>0</td>\n",
       "      <td>0</td>\n",
       "      <td>0</td>\n",
       "      <td>1</td>\n",
       "      <td>0</td>\n",
       "      <td>0</td>\n",
       "      <td>0</td>\n",
       "      <td>0</td>\n",
       "    </tr>\n",
       "    <tr>\n",
       "      <th>Waiting to Exhale (1995)</th>\n",
       "      <td>0</td>\n",
       "      <td>0</td>\n",
       "      <td>0</td>\n",
       "      <td>0</td>\n",
       "      <td>1</td>\n",
       "      <td>0</td>\n",
       "      <td>0</td>\n",
       "      <td>1</td>\n",
       "      <td>0</td>\n",
       "      <td>0</td>\n",
       "      <td>0</td>\n",
       "      <td>0</td>\n",
       "      <td>0</td>\n",
       "      <td>0</td>\n",
       "      <td>0</td>\n",
       "      <td>0</td>\n",
       "      <td>0</td>\n",
       "      <td>0</td>\n",
       "    </tr>\n",
       "    <tr>\n",
       "      <th>Father of the Bride Part II (1995)</th>\n",
       "      <td>0</td>\n",
       "      <td>0</td>\n",
       "      <td>0</td>\n",
       "      <td>0</td>\n",
       "      <td>1</td>\n",
       "      <td>0</td>\n",
       "      <td>0</td>\n",
       "      <td>0</td>\n",
       "      <td>0</td>\n",
       "      <td>0</td>\n",
       "      <td>0</td>\n",
       "      <td>0</td>\n",
       "      <td>0</td>\n",
       "      <td>0</td>\n",
       "      <td>0</td>\n",
       "      <td>0</td>\n",
       "      <td>0</td>\n",
       "      <td>0</td>\n",
       "    </tr>\n",
       "  </tbody>\n",
       "</table>\n",
       "</div>"
      ],
      "text/plain": [
       "                                    action  adventure  animation  children  \\\n",
       "title                                                                        \n",
       "Toy Story (1995)                         0          0          1         1   \n",
       "Jumanji (1995)                           0          1          0         1   \n",
       "Grumpier Old Men (1995)                  0          0          0         0   \n",
       "Waiting to Exhale (1995)                 0          0          0         0   \n",
       "Father of the Bride Part II (1995)       0          0          0         0   \n",
       "\n",
       "                                    comedy  crime  documentary  drama  \\\n",
       "title                                                                   \n",
       "Toy Story (1995)                         1      0            0      0   \n",
       "Jumanji (1995)                           0      0            0      0   \n",
       "Grumpier Old Men (1995)                  1      0            0      0   \n",
       "Waiting to Exhale (1995)                 1      0            0      1   \n",
       "Father of the Bride Part II (1995)       1      0            0      0   \n",
       "\n",
       "                                    fantasy  filmnoir  horror  musical  \\\n",
       "title                                                                    \n",
       "Toy Story (1995)                          0         0       0        0   \n",
       "Jumanji (1995)                            1         0       0        0   \n",
       "Grumpier Old Men (1995)                   0         0       0        0   \n",
       "Waiting to Exhale (1995)                  0         0       0        0   \n",
       "Father of the Bride Part II (1995)        0         0       0        0   \n",
       "\n",
       "                                    mystery  romance  scifi  thriller  war  \\\n",
       "title                                                                        \n",
       "Toy Story (1995)                          0        0      0         0    0   \n",
       "Jumanji (1995)                            0        0      0         0    0   \n",
       "Grumpier Old Men (1995)                   0        1      0         0    0   \n",
       "Waiting to Exhale (1995)                  0        0      0         0    0   \n",
       "Father of the Bride Part II (1995)        0        0      0         0    0   \n",
       "\n",
       "                                    western  \n",
       "title                                        \n",
       "Toy Story (1995)                          0  \n",
       "Jumanji (1995)                            0  \n",
       "Grumpier Old Men (1995)                   0  \n",
       "Waiting to Exhale (1995)                  0  \n",
       "Father of the Bride Part II (1995)        0  "
      ]
     },
     "execution_count": 127,
     "metadata": {},
     "output_type": "execute_result"
    }
   ],
   "source": [
    "dtm_5 = dtm[0:5, :]\n",
    "dtm_5_index = movies['title']\n",
    "dtm_5_index = dtm_5_index.iloc[0:5]\n",
    "pd.DataFrame(dtm_5, columns=vocab, index=dtm_5_index)"
   ]
  },
  {
   "cell_type": "code",
   "execution_count": 159,
   "metadata": {
    "collapsed": true
   },
   "outputs": [],
   "source": [
    "from sklearn.metrics.pairwise import euclidean_distances\n",
    "from sklearn.metrics.pairwise import cosine_similarity\n",
    "from sklearn.decomposition import NMF\n",
    "from sklearn.preprocessing import normalize"
   ]
  },
  {
   "cell_type": "code",
   "execution_count": 135,
   "metadata": {},
   "outputs": [
    {
     "data": {
      "text/plain": [
       "NMF(alpha=0.0, beta_loss='frobenius', init=None, l1_ratio=0.0, max_iter=200,\n",
       "  n_components=10, random_state=None, shuffle=False, solver='cd',\n",
       "  tol=0.0001, verbose=0)"
      ]
     },
     "execution_count": 135,
     "metadata": {},
     "output_type": "execute_result"
    }
   ],
   "source": [
    "model = NMF(n_components=10)\n",
    "model.fit(dtm)"
   ]
  },
  {
   "cell_type": "code",
   "execution_count": 136,
   "metadata": {
    "collapsed": true
   },
   "outputs": [],
   "source": [
    "nmf_features = model.transform(dtm)"
   ]
  },
  {
   "cell_type": "code",
   "execution_count": 137,
   "metadata": {},
   "outputs": [
    {
     "data": {
      "text/plain": [
       "array([ 0.        ,  0.17792112,  0.        ,  0.00036548,  0.        ,\n",
       "        0.        ,  0.29722762,  0.        ,  0.        ,  0.        ])"
      ]
     },
     "execution_count": 137,
     "metadata": {},
     "output_type": "execute_result"
    }
   ],
   "source": [
    "nmf_features[0, :]"
   ]
  },
  {
   "cell_type": "code",
   "execution_count": 139,
   "metadata": {
    "collapsed": true
   },
   "outputs": [],
   "source": [
    "df = pd.DataFrame(nmf_features, index=movies['name'])"
   ]
  },
  {
   "cell_type": "code",
   "execution_count": 140,
   "metadata": {},
   "outputs": [
    {
     "name": "stdout",
     "output_type": "stream",
     "text": [
      "0    0.000000\n",
      "1    0.000789\n",
      "2    0.000000\n",
      "3    0.000253\n",
      "4    0.004256\n",
      "5    0.000566\n",
      "6    0.353689\n",
      "7    0.000000\n",
      "8    0.000000\n",
      "9    0.000000\n",
      "Name: Beauty and the Beast, dtype: float64\n",
      "0    0.000000\n",
      "1    0.179251\n",
      "2    0.000000\n",
      "3    0.000202\n",
      "4    0.004197\n",
      "5    0.000560\n",
      "6    0.352805\n",
      "7    0.000000\n",
      "8    0.000000\n",
      "9    0.000000\n",
      "Name: Aladdin, dtype: float64\n"
     ]
    }
   ],
   "source": [
    "print df.loc['Beauty and the Beast']\n",
    "print df.loc['Aladdin']"
   ]
  },
  {
   "cell_type": "code",
   "execution_count": 143,
   "metadata": {},
   "outputs": [
    {
     "name": "stdout",
     "output_type": "stream",
     "text": [
      "(10L, 18L)\n"
     ]
    }
   ],
   "source": [
    "print(model.components_.shape)"
   ]
  },
  {
   "cell_type": "code",
   "execution_count": 144,
   "metadata": {},
   "outputs": [
    {
     "data": {
      "text/html": [
       "<div>\n",
       "<style scoped>\n",
       "    .dataframe tbody tr th:only-of-type {\n",
       "        vertical-align: middle;\n",
       "    }\n",
       "\n",
       "    .dataframe tbody tr th {\n",
       "        vertical-align: top;\n",
       "    }\n",
       "\n",
       "    .dataframe thead th {\n",
       "        text-align: right;\n",
       "    }\n",
       "</style>\n",
       "<table border=\"1\" class=\"dataframe\">\n",
       "  <thead>\n",
       "    <tr style=\"text-align: right;\">\n",
       "      <th></th>\n",
       "      <th>action</th>\n",
       "      <th>adventure</th>\n",
       "      <th>animation</th>\n",
       "      <th>children</th>\n",
       "      <th>comedy</th>\n",
       "      <th>crime</th>\n",
       "      <th>documentary</th>\n",
       "      <th>drama</th>\n",
       "      <th>fantasy</th>\n",
       "      <th>filmnoir</th>\n",
       "      <th>horror</th>\n",
       "      <th>musical</th>\n",
       "      <th>mystery</th>\n",
       "      <th>romance</th>\n",
       "      <th>scifi</th>\n",
       "      <th>thriller</th>\n",
       "      <th>war</th>\n",
       "      <th>western</th>\n",
       "    </tr>\n",
       "  </thead>\n",
       "  <tbody>\n",
       "    <tr>\n",
       "      <th>0</th>\n",
       "      <td>0.000000</td>\n",
       "      <td>0.000000</td>\n",
       "      <td>0.000000</td>\n",
       "      <td>0.001834</td>\n",
       "      <td>0.000000</td>\n",
       "      <td>0.000000</td>\n",
       "      <td>0.016204</td>\n",
       "      <td>7.273418</td>\n",
       "      <td>0.002952</td>\n",
       "      <td>0.000000</td>\n",
       "      <td>0.000000</td>\n",
       "      <td>0.000000</td>\n",
       "      <td>0.053438</td>\n",
       "      <td>0.00000</td>\n",
       "      <td>0.000000</td>\n",
       "      <td>0.000000</td>\n",
       "      <td>0.294008</td>\n",
       "      <td>0.037709</td>\n",
       "    </tr>\n",
       "    <tr>\n",
       "      <th>1</th>\n",
       "      <td>0.000000</td>\n",
       "      <td>0.000000</td>\n",
       "      <td>0.000000</td>\n",
       "      <td>0.010685</td>\n",
       "      <td>5.602094</td>\n",
       "      <td>0.000000</td>\n",
       "      <td>0.018052</td>\n",
       "      <td>0.000000</td>\n",
       "      <td>0.007801</td>\n",
       "      <td>0.000000</td>\n",
       "      <td>0.000000</td>\n",
       "      <td>0.046940</td>\n",
       "      <td>0.012384</td>\n",
       "      <td>0.00000</td>\n",
       "      <td>0.000000</td>\n",
       "      <td>0.000000</td>\n",
       "      <td>0.000000</td>\n",
       "      <td>0.071244</td>\n",
       "    </tr>\n",
       "    <tr>\n",
       "      <th>2</th>\n",
       "      <td>5.723545</td>\n",
       "      <td>0.006228</td>\n",
       "      <td>0.000000</td>\n",
       "      <td>0.000000</td>\n",
       "      <td>0.000000</td>\n",
       "      <td>0.000432</td>\n",
       "      <td>0.000000</td>\n",
       "      <td>0.000000</td>\n",
       "      <td>0.000000</td>\n",
       "      <td>0.000000</td>\n",
       "      <td>0.000000</td>\n",
       "      <td>0.000000</td>\n",
       "      <td>0.000000</td>\n",
       "      <td>0.00000</td>\n",
       "      <td>0.000000</td>\n",
       "      <td>0.009650</td>\n",
       "      <td>0.634408</td>\n",
       "      <td>0.104627</td>\n",
       "    </tr>\n",
       "    <tr>\n",
       "      <th>3</th>\n",
       "      <td>0.008027</td>\n",
       "      <td>0.002936</td>\n",
       "      <td>0.026809</td>\n",
       "      <td>0.000000</td>\n",
       "      <td>0.000000</td>\n",
       "      <td>0.000000</td>\n",
       "      <td>0.000000</td>\n",
       "      <td>0.000000</td>\n",
       "      <td>0.000000</td>\n",
       "      <td>0.161390</td>\n",
       "      <td>0.000000</td>\n",
       "      <td>0.000000</td>\n",
       "      <td>0.524049</td>\n",
       "      <td>0.00000</td>\n",
       "      <td>0.000210</td>\n",
       "      <td>4.593133</td>\n",
       "      <td>0.000000</td>\n",
       "      <td>0.000000</td>\n",
       "    </tr>\n",
       "    <tr>\n",
       "      <th>4</th>\n",
       "      <td>0.000000</td>\n",
       "      <td>0.000000</td>\n",
       "      <td>0.000000</td>\n",
       "      <td>0.000000</td>\n",
       "      <td>0.000000</td>\n",
       "      <td>0.000000</td>\n",
       "      <td>0.000000</td>\n",
       "      <td>0.000000</td>\n",
       "      <td>0.020918</td>\n",
       "      <td>0.000000</td>\n",
       "      <td>0.000000</td>\n",
       "      <td>0.168712</td>\n",
       "      <td>0.071699</td>\n",
       "      <td>4.90207</td>\n",
       "      <td>0.000000</td>\n",
       "      <td>0.000000</td>\n",
       "      <td>0.108290</td>\n",
       "      <td>0.000000</td>\n",
       "    </tr>\n",
       "    <tr>\n",
       "      <th>5</th>\n",
       "      <td>0.003000</td>\n",
       "      <td>0.001365</td>\n",
       "      <td>0.000000</td>\n",
       "      <td>0.000000</td>\n",
       "      <td>0.000000</td>\n",
       "      <td>0.000000</td>\n",
       "      <td>0.000000</td>\n",
       "      <td>0.000000</td>\n",
       "      <td>0.000000</td>\n",
       "      <td>0.000000</td>\n",
       "      <td>4.869521</td>\n",
       "      <td>0.021276</td>\n",
       "      <td>0.000000</td>\n",
       "      <td>0.00000</td>\n",
       "      <td>0.000279</td>\n",
       "      <td>0.001668</td>\n",
       "      <td>0.000000</td>\n",
       "      <td>0.000000</td>\n",
       "    </tr>\n",
       "    <tr>\n",
       "      <th>6</th>\n",
       "      <td>0.000000</td>\n",
       "      <td>0.000000</td>\n",
       "      <td>1.824203</td>\n",
       "      <td>3.754242</td>\n",
       "      <td>0.000000</td>\n",
       "      <td>0.000000</td>\n",
       "      <td>0.002205</td>\n",
       "      <td>0.000000</td>\n",
       "      <td>0.454578</td>\n",
       "      <td>0.003993</td>\n",
       "      <td>0.000000</td>\n",
       "      <td>1.040904</td>\n",
       "      <td>0.019941</td>\n",
       "      <td>0.00000</td>\n",
       "      <td>0.000000</td>\n",
       "      <td>0.000000</td>\n",
       "      <td>0.006339</td>\n",
       "      <td>0.000000</td>\n",
       "    </tr>\n",
       "    <tr>\n",
       "      <th>7</th>\n",
       "      <td>0.000000</td>\n",
       "      <td>0.000000</td>\n",
       "      <td>0.008792</td>\n",
       "      <td>0.000000</td>\n",
       "      <td>0.000000</td>\n",
       "      <td>0.000000</td>\n",
       "      <td>0.000000</td>\n",
       "      <td>0.000000</td>\n",
       "      <td>0.061108</td>\n",
       "      <td>0.000000</td>\n",
       "      <td>0.000000</td>\n",
       "      <td>0.000000</td>\n",
       "      <td>0.000000</td>\n",
       "      <td>0.00000</td>\n",
       "      <td>3.857162</td>\n",
       "      <td>0.001694</td>\n",
       "      <td>0.000000</td>\n",
       "      <td>0.005165</td>\n",
       "    </tr>\n",
       "    <tr>\n",
       "      <th>8</th>\n",
       "      <td>0.017246</td>\n",
       "      <td>0.000000</td>\n",
       "      <td>0.000000</td>\n",
       "      <td>0.000000</td>\n",
       "      <td>0.000000</td>\n",
       "      <td>3.984213</td>\n",
       "      <td>0.000000</td>\n",
       "      <td>0.006114</td>\n",
       "      <td>0.000000</td>\n",
       "      <td>0.308234</td>\n",
       "      <td>0.000000</td>\n",
       "      <td>0.000000</td>\n",
       "      <td>0.191561</td>\n",
       "      <td>0.00000</td>\n",
       "      <td>0.000000</td>\n",
       "      <td>0.000000</td>\n",
       "      <td>0.000000</td>\n",
       "      <td>0.000000</td>\n",
       "    </tr>\n",
       "    <tr>\n",
       "      <th>9</th>\n",
       "      <td>0.006913</td>\n",
       "      <td>3.702984</td>\n",
       "      <td>0.000000</td>\n",
       "      <td>0.205002</td>\n",
       "      <td>0.000000</td>\n",
       "      <td>0.000000</td>\n",
       "      <td>0.000000</td>\n",
       "      <td>0.000000</td>\n",
       "      <td>0.422182</td>\n",
       "      <td>0.000000</td>\n",
       "      <td>0.000000</td>\n",
       "      <td>0.000000</td>\n",
       "      <td>0.000000</td>\n",
       "      <td>0.00000</td>\n",
       "      <td>0.000000</td>\n",
       "      <td>0.000000</td>\n",
       "      <td>0.000000</td>\n",
       "      <td>0.012967</td>\n",
       "    </tr>\n",
       "  </tbody>\n",
       "</table>\n",
       "</div>"
      ],
      "text/plain": [
       "     action  adventure  animation  children    comedy     crime  documentary  \\\n",
       "0  0.000000   0.000000   0.000000  0.001834  0.000000  0.000000     0.016204   \n",
       "1  0.000000   0.000000   0.000000  0.010685  5.602094  0.000000     0.018052   \n",
       "2  5.723545   0.006228   0.000000  0.000000  0.000000  0.000432     0.000000   \n",
       "3  0.008027   0.002936   0.026809  0.000000  0.000000  0.000000     0.000000   \n",
       "4  0.000000   0.000000   0.000000  0.000000  0.000000  0.000000     0.000000   \n",
       "5  0.003000   0.001365   0.000000  0.000000  0.000000  0.000000     0.000000   \n",
       "6  0.000000   0.000000   1.824203  3.754242  0.000000  0.000000     0.002205   \n",
       "7  0.000000   0.000000   0.008792  0.000000  0.000000  0.000000     0.000000   \n",
       "8  0.017246   0.000000   0.000000  0.000000  0.000000  3.984213     0.000000   \n",
       "9  0.006913   3.702984   0.000000  0.205002  0.000000  0.000000     0.000000   \n",
       "\n",
       "      drama   fantasy  filmnoir    horror   musical   mystery  romance  \\\n",
       "0  7.273418  0.002952  0.000000  0.000000  0.000000  0.053438  0.00000   \n",
       "1  0.000000  0.007801  0.000000  0.000000  0.046940  0.012384  0.00000   \n",
       "2  0.000000  0.000000  0.000000  0.000000  0.000000  0.000000  0.00000   \n",
       "3  0.000000  0.000000  0.161390  0.000000  0.000000  0.524049  0.00000   \n",
       "4  0.000000  0.020918  0.000000  0.000000  0.168712  0.071699  4.90207   \n",
       "5  0.000000  0.000000  0.000000  4.869521  0.021276  0.000000  0.00000   \n",
       "6  0.000000  0.454578  0.003993  0.000000  1.040904  0.019941  0.00000   \n",
       "7  0.000000  0.061108  0.000000  0.000000  0.000000  0.000000  0.00000   \n",
       "8  0.006114  0.000000  0.308234  0.000000  0.000000  0.191561  0.00000   \n",
       "9  0.000000  0.422182  0.000000  0.000000  0.000000  0.000000  0.00000   \n",
       "\n",
       "      scifi  thriller       war   western  \n",
       "0  0.000000  0.000000  0.294008  0.037709  \n",
       "1  0.000000  0.000000  0.000000  0.071244  \n",
       "2  0.000000  0.009650  0.634408  0.104627  \n",
       "3  0.000210  4.593133  0.000000  0.000000  \n",
       "4  0.000000  0.000000  0.108290  0.000000  \n",
       "5  0.000279  0.001668  0.000000  0.000000  \n",
       "6  0.000000  0.000000  0.006339  0.000000  \n",
       "7  3.857162  0.001694  0.000000  0.005165  \n",
       "8  0.000000  0.000000  0.000000  0.000000  \n",
       "9  0.000000  0.000000  0.000000  0.012967  "
      ]
     },
     "execution_count": 144,
     "metadata": {},
     "output_type": "execute_result"
    }
   ],
   "source": [
    "pd.DataFrame(model.components_, columns=vocab)"
   ]
  },
  {
   "cell_type": "code",
   "execution_count": 155,
   "metadata": {},
   "outputs": [
    {
     "name": "stdout",
     "output_type": "stream",
     "text": [
      "drama          7.273418\n",
      "war            0.294008\n",
      "mystery        0.053438\n",
      "western        0.037709\n",
      "documentary    0.016204\n",
      "Name: 0, dtype: float64\n"
     ]
    }
   ],
   "source": [
    "df_components = pd.DataFrame(model.components_, columns=vocab)\n",
    "component_0 = df_components.iloc[0, :]\n",
    "print component_0.nlargest()"
   ]
  },
  {
   "cell_type": "code",
   "execution_count": 157,
   "metadata": {},
   "outputs": [
    {
     "data": {
      "text/plain": [
       "(3883L, 10L)"
      ]
     },
     "execution_count": 157,
     "metadata": {},
     "output_type": "execute_result"
    }
   ],
   "source": [
    "nmf_features.shape"
   ]
  },
  {
   "cell_type": "code",
   "execution_count": 160,
   "metadata": {
    "collapsed": true
   },
   "outputs": [],
   "source": [
    "norm_features = normalize(nmf_features)"
   ]
  },
  {
   "cell_type": "code",
   "execution_count": 161,
   "metadata": {
    "collapsed": true
   },
   "outputs": [],
   "source": [
    "df = pd.DataFrame(norm_features, index=movies['name'])"
   ]
  },
  {
   "cell_type": "code",
   "execution_count": 166,
   "metadata": {},
   "outputs": [
    {
     "data": {
      "text/plain": [
       "(3883, 10)"
      ]
     },
     "execution_count": 166,
     "metadata": {},
     "output_type": "execute_result"
    }
   ],
   "source": [
    "df.shape"
   ]
  },
  {
   "cell_type": "code",
   "execution_count": 168,
   "metadata": {},
   "outputs": [
    {
     "name": "stdout",
     "output_type": "stream",
     "text": [
      "name\n",
      "Toy Story                              1.0\n",
      "Aladdin and the King of Thieves        1.0\n",
      "American Tail, An                      1.0\n",
      "American Tail: Fievel Goes West, An    1.0\n",
      "Rugrats Movie, The                     1.0\n",
      "dtype: float64\n"
     ]
    }
   ],
   "source": [
    "movie = df.loc[\"Toy Story\"]\n",
    "similarities = df.dot(movie)\n",
    "print(similarities.nlargest())"
   ]
  },
  {
   "cell_type": "code",
   "execution_count": null,
   "metadata": {
    "collapsed": true
   },
   "outputs": [],
   "source": []
  },
  {
   "cell_type": "code",
   "execution_count": 147,
   "metadata": {},
   "outputs": [
    {
     "data": {
      "text/html": [
       "<div>\n",
       "<style scoped>\n",
       "    .dataframe tbody tr th:only-of-type {\n",
       "        vertical-align: middle;\n",
       "    }\n",
       "\n",
       "    .dataframe tbody tr th {\n",
       "        vertical-align: top;\n",
       "    }\n",
       "\n",
       "    .dataframe thead th {\n",
       "        text-align: right;\n",
       "    }\n",
       "</style>\n",
       "<table border=\"1\" class=\"dataframe\">\n",
       "  <thead>\n",
       "    <tr style=\"text-align: right;\">\n",
       "      <th></th>\n",
       "      <th>0</th>\n",
       "      <th>1</th>\n",
       "      <th>2</th>\n",
       "      <th>3</th>\n",
       "      <th>4</th>\n",
       "      <th>5</th>\n",
       "      <th>6</th>\n",
       "      <th>7</th>\n",
       "      <th>8</th>\n",
       "      <th>9</th>\n",
       "    </tr>\n",
       "    <tr>\n",
       "      <th>name</th>\n",
       "      <th></th>\n",
       "      <th></th>\n",
       "      <th></th>\n",
       "      <th></th>\n",
       "      <th></th>\n",
       "      <th></th>\n",
       "      <th></th>\n",
       "      <th></th>\n",
       "      <th></th>\n",
       "      <th></th>\n",
       "    </tr>\n",
       "  </thead>\n",
       "  <tbody>\n",
       "    <tr>\n",
       "      <th>NeverEnding Story III, The</th>\n",
       "      <td>0.000034</td>\n",
       "      <td>0.0</td>\n",
       "      <td>0.0</td>\n",
       "      <td>0.0</td>\n",
       "      <td>0.0</td>\n",
       "      <td>0.0</td>\n",
       "      <td>0.209686</td>\n",
       "      <td>0.002974</td>\n",
       "      <td>0.0</td>\n",
       "      <td>0.296318</td>\n",
       "    </tr>\n",
       "    <tr>\n",
       "      <th>NeverEnding Story, The</th>\n",
       "      <td>0.000034</td>\n",
       "      <td>0.0</td>\n",
       "      <td>0.0</td>\n",
       "      <td>0.0</td>\n",
       "      <td>0.0</td>\n",
       "      <td>0.0</td>\n",
       "      <td>0.209686</td>\n",
       "      <td>0.002974</td>\n",
       "      <td>0.0</td>\n",
       "      <td>0.296318</td>\n",
       "    </tr>\n",
       "    <tr>\n",
       "      <th>Jumanji</th>\n",
       "      <td>0.000034</td>\n",
       "      <td>0.0</td>\n",
       "      <td>0.0</td>\n",
       "      <td>0.0</td>\n",
       "      <td>0.0</td>\n",
       "      <td>0.0</td>\n",
       "      <td>0.209686</td>\n",
       "      <td>0.002974</td>\n",
       "      <td>0.0</td>\n",
       "      <td>0.296318</td>\n",
       "    </tr>\n",
       "    <tr>\n",
       "      <th>Kids of the Round Table</th>\n",
       "      <td>0.000034</td>\n",
       "      <td>0.0</td>\n",
       "      <td>0.0</td>\n",
       "      <td>0.0</td>\n",
       "      <td>0.0</td>\n",
       "      <td>0.0</td>\n",
       "      <td>0.209686</td>\n",
       "      <td>0.002974</td>\n",
       "      <td>0.0</td>\n",
       "      <td>0.296318</td>\n",
       "    </tr>\n",
       "    <tr>\n",
       "      <th>Indian in the Cupboard, The</th>\n",
       "      <td>0.000034</td>\n",
       "      <td>0.0</td>\n",
       "      <td>0.0</td>\n",
       "      <td>0.0</td>\n",
       "      <td>0.0</td>\n",
       "      <td>0.0</td>\n",
       "      <td>0.209686</td>\n",
       "      <td>0.002974</td>\n",
       "      <td>0.0</td>\n",
       "      <td>0.296318</td>\n",
       "    </tr>\n",
       "    <tr>\n",
       "      <th>Santa Claus: The Movie</th>\n",
       "      <td>0.000034</td>\n",
       "      <td>0.0</td>\n",
       "      <td>0.0</td>\n",
       "      <td>0.0</td>\n",
       "      <td>0.0</td>\n",
       "      <td>0.0</td>\n",
       "      <td>0.209686</td>\n",
       "      <td>0.002974</td>\n",
       "      <td>0.0</td>\n",
       "      <td>0.296318</td>\n",
       "    </tr>\n",
       "    <tr>\n",
       "      <th>Escape to Witch Mountain</th>\n",
       "      <td>0.000034</td>\n",
       "      <td>0.0</td>\n",
       "      <td>0.0</td>\n",
       "      <td>0.0</td>\n",
       "      <td>0.0</td>\n",
       "      <td>0.0</td>\n",
       "      <td>0.209686</td>\n",
       "      <td>0.002974</td>\n",
       "      <td>0.0</td>\n",
       "      <td>0.296318</td>\n",
       "    </tr>\n",
       "    <tr>\n",
       "      <th>NeverEnding Story II: The Next Chapter, The</th>\n",
       "      <td>0.000034</td>\n",
       "      <td>0.0</td>\n",
       "      <td>0.0</td>\n",
       "      <td>0.0</td>\n",
       "      <td>0.0</td>\n",
       "      <td>0.0</td>\n",
       "      <td>0.209686</td>\n",
       "      <td>0.002974</td>\n",
       "      <td>0.0</td>\n",
       "      <td>0.296318</td>\n",
       "    </tr>\n",
       "    <tr>\n",
       "      <th>Labyrinth</th>\n",
       "      <td>0.000034</td>\n",
       "      <td>0.0</td>\n",
       "      <td>0.0</td>\n",
       "      <td>0.0</td>\n",
       "      <td>0.0</td>\n",
       "      <td>0.0</td>\n",
       "      <td>0.209686</td>\n",
       "      <td>0.002974</td>\n",
       "      <td>0.0</td>\n",
       "      <td>0.296318</td>\n",
       "    </tr>\n",
       "    <tr>\n",
       "      <th>Darby O'Gill and the Little People</th>\n",
       "      <td>0.000034</td>\n",
       "      <td>0.0</td>\n",
       "      <td>0.0</td>\n",
       "      <td>0.0</td>\n",
       "      <td>0.0</td>\n",
       "      <td>0.0</td>\n",
       "      <td>0.209686</td>\n",
       "      <td>0.002974</td>\n",
       "      <td>0.0</td>\n",
       "      <td>0.296318</td>\n",
       "    </tr>\n",
       "  </tbody>\n",
       "</table>\n",
       "</div>"
      ],
      "text/plain": [
       "                                                    0    1    2    3    4  \\\n",
       "name                                                                        \n",
       "NeverEnding Story III, The                   0.000034  0.0  0.0  0.0  0.0   \n",
       "NeverEnding Story, The                       0.000034  0.0  0.0  0.0  0.0   \n",
       "Jumanji                                      0.000034  0.0  0.0  0.0  0.0   \n",
       "Kids of the Round Table                      0.000034  0.0  0.0  0.0  0.0   \n",
       "Indian in the Cupboard, The                  0.000034  0.0  0.0  0.0  0.0   \n",
       "Santa Claus: The Movie                       0.000034  0.0  0.0  0.0  0.0   \n",
       "Escape to Witch Mountain                     0.000034  0.0  0.0  0.0  0.0   \n",
       "NeverEnding Story II: The Next Chapter, The  0.000034  0.0  0.0  0.0  0.0   \n",
       "Labyrinth                                    0.000034  0.0  0.0  0.0  0.0   \n",
       "Darby O'Gill and the Little People           0.000034  0.0  0.0  0.0  0.0   \n",
       "\n",
       "                                               5         6         7    8  \\\n",
       "name                                                                        \n",
       "NeverEnding Story III, The                   0.0  0.209686  0.002974  0.0   \n",
       "NeverEnding Story, The                       0.0  0.209686  0.002974  0.0   \n",
       "Jumanji                                      0.0  0.209686  0.002974  0.0   \n",
       "Kids of the Round Table                      0.0  0.209686  0.002974  0.0   \n",
       "Indian in the Cupboard, The                  0.0  0.209686  0.002974  0.0   \n",
       "Santa Claus: The Movie                       0.0  0.209686  0.002974  0.0   \n",
       "Escape to Witch Mountain                     0.0  0.209686  0.002974  0.0   \n",
       "NeverEnding Story II: The Next Chapter, The  0.0  0.209686  0.002974  0.0   \n",
       "Labyrinth                                    0.0  0.209686  0.002974  0.0   \n",
       "Darby O'Gill and the Little People           0.0  0.209686  0.002974  0.0   \n",
       "\n",
       "                                                    9  \n",
       "name                                                   \n",
       "NeverEnding Story III, The                   0.296318  \n",
       "NeverEnding Story, The                       0.296318  \n",
       "Jumanji                                      0.296318  \n",
       "Kids of the Round Table                      0.296318  \n",
       "Indian in the Cupboard, The                  0.296318  \n",
       "Santa Claus: The Movie                       0.296318  \n",
       "Escape to Witch Mountain                     0.296318  \n",
       "NeverEnding Story II: The Next Chapter, The  0.296318  \n",
       "Labyrinth                                    0.296318  \n",
       "Darby O'Gill and the Little People           0.296318  "
      ]
     },
     "execution_count": 147,
     "metadata": {},
     "output_type": "execute_result"
    }
   ],
   "source": [
    "df.sort_values(9, ascending=False).head(10)"
   ]
  },
  {
   "cell_type": "code",
   "execution_count": 175,
   "metadata": {
    "collapsed": true
   },
   "outputs": [],
   "source": [
    "spt = train.pivot_table('rating', index='movie_id', columns=['user_id'], fill_value=0)"
   ]
  },
  {
   "cell_type": "code",
   "execution_count": 177,
   "metadata": {},
   "outputs": [
    {
     "data": {
      "text/plain": [
       "array([5, 4, 3, 1, 2], dtype=int64)"
      ]
     },
     "execution_count": 177,
     "metadata": {},
     "output_type": "execute_result"
    }
   ],
   "source": [
    "train.rating.unique()"
   ]
  },
  {
   "cell_type": "code",
   "execution_count": 176,
   "metadata": {
    "scrolled": true
   },
   "outputs": [
    {
     "data": {
      "text/html": [
       "<div>\n",
       "<style scoped>\n",
       "    .dataframe tbody tr th:only-of-type {\n",
       "        vertical-align: middle;\n",
       "    }\n",
       "\n",
       "    .dataframe tbody tr th {\n",
       "        vertical-align: top;\n",
       "    }\n",
       "\n",
       "    .dataframe thead th {\n",
       "        text-align: right;\n",
       "    }\n",
       "</style>\n",
       "<table border=\"1\" class=\"dataframe\">\n",
       "  <thead>\n",
       "    <tr style=\"text-align: right;\">\n",
       "      <th>user_id</th>\n",
       "      <th>1</th>\n",
       "      <th>2</th>\n",
       "      <th>3</th>\n",
       "      <th>4</th>\n",
       "      <th>5</th>\n",
       "      <th>6</th>\n",
       "      <th>8</th>\n",
       "      <th>9</th>\n",
       "      <th>10</th>\n",
       "      <th>11</th>\n",
       "      <th>...</th>\n",
       "      <th>6031</th>\n",
       "      <th>6032</th>\n",
       "      <th>6033</th>\n",
       "      <th>6034</th>\n",
       "      <th>6035</th>\n",
       "      <th>6036</th>\n",
       "      <th>6037</th>\n",
       "      <th>6038</th>\n",
       "      <th>6039</th>\n",
       "      <th>6040</th>\n",
       "    </tr>\n",
       "    <tr>\n",
       "      <th>movie_id</th>\n",
       "      <th></th>\n",
       "      <th></th>\n",
       "      <th></th>\n",
       "      <th></th>\n",
       "      <th></th>\n",
       "      <th></th>\n",
       "      <th></th>\n",
       "      <th></th>\n",
       "      <th></th>\n",
       "      <th></th>\n",
       "      <th></th>\n",
       "      <th></th>\n",
       "      <th></th>\n",
       "      <th></th>\n",
       "      <th></th>\n",
       "      <th></th>\n",
       "      <th></th>\n",
       "      <th></th>\n",
       "      <th></th>\n",
       "      <th></th>\n",
       "      <th></th>\n",
       "    </tr>\n",
       "  </thead>\n",
       "  <tbody>\n",
       "    <tr>\n",
       "      <th>1</th>\n",
       "      <td>0</td>\n",
       "      <td>0</td>\n",
       "      <td>0</td>\n",
       "      <td>0</td>\n",
       "      <td>0</td>\n",
       "      <td>0</td>\n",
       "      <td>0</td>\n",
       "      <td>0</td>\n",
       "      <td>0</td>\n",
       "      <td>0</td>\n",
       "      <td>...</td>\n",
       "      <td>0</td>\n",
       "      <td>0</td>\n",
       "      <td>0</td>\n",
       "      <td>0</td>\n",
       "      <td>0</td>\n",
       "      <td>0</td>\n",
       "      <td>0</td>\n",
       "      <td>0</td>\n",
       "      <td>0</td>\n",
       "      <td>3</td>\n",
       "    </tr>\n",
       "    <tr>\n",
       "      <th>2</th>\n",
       "      <td>0</td>\n",
       "      <td>0</td>\n",
       "      <td>0</td>\n",
       "      <td>0</td>\n",
       "      <td>0</td>\n",
       "      <td>0</td>\n",
       "      <td>0</td>\n",
       "      <td>0</td>\n",
       "      <td>0</td>\n",
       "      <td>0</td>\n",
       "      <td>...</td>\n",
       "      <td>0</td>\n",
       "      <td>0</td>\n",
       "      <td>0</td>\n",
       "      <td>0</td>\n",
       "      <td>0</td>\n",
       "      <td>0</td>\n",
       "      <td>0</td>\n",
       "      <td>0</td>\n",
       "      <td>0</td>\n",
       "      <td>0</td>\n",
       "    </tr>\n",
       "    <tr>\n",
       "      <th>3</th>\n",
       "      <td>0</td>\n",
       "      <td>0</td>\n",
       "      <td>0</td>\n",
       "      <td>0</td>\n",
       "      <td>0</td>\n",
       "      <td>0</td>\n",
       "      <td>0</td>\n",
       "      <td>0</td>\n",
       "      <td>0</td>\n",
       "      <td>0</td>\n",
       "      <td>...</td>\n",
       "      <td>0</td>\n",
       "      <td>0</td>\n",
       "      <td>0</td>\n",
       "      <td>0</td>\n",
       "      <td>0</td>\n",
       "      <td>0</td>\n",
       "      <td>0</td>\n",
       "      <td>0</td>\n",
       "      <td>0</td>\n",
       "      <td>0</td>\n",
       "    </tr>\n",
       "    <tr>\n",
       "      <th>4</th>\n",
       "      <td>0</td>\n",
       "      <td>0</td>\n",
       "      <td>0</td>\n",
       "      <td>0</td>\n",
       "      <td>0</td>\n",
       "      <td>0</td>\n",
       "      <td>0</td>\n",
       "      <td>0</td>\n",
       "      <td>0</td>\n",
       "      <td>0</td>\n",
       "      <td>...</td>\n",
       "      <td>0</td>\n",
       "      <td>0</td>\n",
       "      <td>0</td>\n",
       "      <td>0</td>\n",
       "      <td>2</td>\n",
       "      <td>0</td>\n",
       "      <td>0</td>\n",
       "      <td>0</td>\n",
       "      <td>0</td>\n",
       "      <td>0</td>\n",
       "    </tr>\n",
       "    <tr>\n",
       "      <th>5</th>\n",
       "      <td>0</td>\n",
       "      <td>0</td>\n",
       "      <td>0</td>\n",
       "      <td>0</td>\n",
       "      <td>0</td>\n",
       "      <td>0</td>\n",
       "      <td>0</td>\n",
       "      <td>0</td>\n",
       "      <td>0</td>\n",
       "      <td>0</td>\n",
       "      <td>...</td>\n",
       "      <td>0</td>\n",
       "      <td>0</td>\n",
       "      <td>0</td>\n",
       "      <td>0</td>\n",
       "      <td>0</td>\n",
       "      <td>0</td>\n",
       "      <td>0</td>\n",
       "      <td>0</td>\n",
       "      <td>0</td>\n",
       "      <td>0</td>\n",
       "    </tr>\n",
       "  </tbody>\n",
       "</table>\n",
       "<p>5 rows × 5821 columns</p>\n",
       "</div>"
      ],
      "text/plain": [
       "user_id   1     2     3     4     5     6     8     9     10    11    ...   \\\n",
       "movie_id                                                              ...    \n",
       "1            0     0     0     0     0     0     0     0     0     0  ...    \n",
       "2            0     0     0     0     0     0     0     0     0     0  ...    \n",
       "3            0     0     0     0     0     0     0     0     0     0  ...    \n",
       "4            0     0     0     0     0     0     0     0     0     0  ...    \n",
       "5            0     0     0     0     0     0     0     0     0     0  ...    \n",
       "\n",
       "user_id   6031  6032  6033  6034  6035  6036  6037  6038  6039  6040  \n",
       "movie_id                                                              \n",
       "1            0     0     0     0     0     0     0     0     0     3  \n",
       "2            0     0     0     0     0     0     0     0     0     0  \n",
       "3            0     0     0     0     0     0     0     0     0     0  \n",
       "4            0     0     0     0     2     0     0     0     0     0  \n",
       "5            0     0     0     0     0     0     0     0     0     0  \n",
       "\n",
       "[5 rows x 5821 columns]"
      ]
     },
     "execution_count": 176,
     "metadata": {},
     "output_type": "execute_result"
    }
   ],
   "source": [
    "spt.head(5)"
   ]
  },
  {
   "cell_type": "code",
   "execution_count": 167,
   "metadata": {
    "collapsed": true
   },
   "outputs": [],
   "source": [
    "from sklearn.decomposition import NMF\n",
    "from sklearn.preprocessing import Normalizer, MaxAbsScaler\n",
    "from sklearn.pipeline import make_pipeline"
   ]
  },
  {
   "cell_type": "code",
   "execution_count": 179,
   "metadata": {
    "collapsed": true
   },
   "outputs": [],
   "source": [
    "sppt = train.pivot_table('rating', index='name', columns='user_id', fill_value=0)"
   ]
  },
  {
   "cell_type": "code",
   "execution_count": 180,
   "metadata": {
    "collapsed": true
   },
   "outputs": [],
   "source": [
    "scaler = MaxAbsScaler()\n",
    "nmf = NMF(n_components=20)\n",
    "normalizer = Normalizer()\n",
    "pipeline = make_pipeline(scaler, nmf, normalizer)\n",
    "norm_features = pipeline.fit_transform(sppt)"
   ]
  },
  {
   "cell_type": "code",
   "execution_count": 181,
   "metadata": {},
   "outputs": [
    {
     "data": {
      "text/plain": [
       "(2897L, 20L)"
      ]
     },
     "execution_count": 181,
     "metadata": {},
     "output_type": "execute_result"
    }
   ],
   "source": [
    "norm_features.shape"
   ]
  },
  {
   "cell_type": "code",
   "execution_count": 183,
   "metadata": {},
   "outputs": [
    {
     "name": "stdout",
     "output_type": "stream",
     "text": [
      "name\n",
      "Toy Story                      1.000000\n",
      "Muppets Take Manhattan, The    0.981802\n",
      "Clue                           0.975218\n",
      "Great Muppet Caper, The        0.971666\n",
      "Joe's Apartment                0.966464\n",
      "dtype: float64\n"
     ]
    }
   ],
   "source": [
    "df = pd.DataFrame(norm_features, index=sppt.index)\n",
    "movie = df.loc[\"Toy Story\"]\n",
    "similarities = df.dot(movie)\n",
    "print(similarities.nlargest())"
   ]
  },
  {
   "cell_type": "code",
   "execution_count": 209,
   "metadata": {
    "collapsed": true
   },
   "outputs": [],
   "source": [
    "matdf_train = train.pivot_table('rating', index='user_id', columns=['movie_id'], fill_value=0)\n",
    "matdf_test = test.pivot_table('rating', index='user_id', columns=['movie_id'], fill_value=0)\n",
    "mat_train = np.array(matdf_train)\n",
    "mat_test = np.array(matdf_test)"
   ]
  },
  {
   "cell_type": "code",
   "execution_count": 210,
   "metadata": {},
   "outputs": [
    {
     "name": "stdout",
     "output_type": "stream",
     "text": [
      "(5814L, 2935L) (5814L, 2935L)\n"
     ]
    }
   ],
   "source": [
    "print mat_train.shape, mat_test.shape"
   ]
  },
  {
   "cell_type": "code",
   "execution_count": 211,
   "metadata": {
    "collapsed": true
   },
   "outputs": [],
   "source": [
    "from sklearn.metrics.pairwise import pairwise_distances\n",
    "user_sim = pairwise_distances(mat_train, metric='cosine')\n",
    "item_sim= pairwise_distances(mat_train.T, metric='cosine')"
   ]
  },
  {
   "cell_type": "code",
   "execution_count": 212,
   "metadata": {
    "collapsed": true
   },
   "outputs": [],
   "source": [
    "def predict(ratings, similarity, type='user'):\n",
    "    if type == 'user':\n",
    "        mean_user_rating = ratings.mean(axis=1)\n",
    "        #You use np.newaxis so that mean_user_rating has same format as ratings\n",
    "        ratings_diff = (ratings - mean_user_rating[:, np.newaxis])\n",
    "        pred = mean_user_rating[:, np.newaxis] + similarity.dot(ratings_diff) / np.array([np.abs(similarity).sum(axis=1)]).T\n",
    "    elif type == 'item':\n",
    "        pred = ratings.dot(similarity) / np.array([np.abs(similarity).sum(axis=1)])\n",
    "    return pred"
   ]
  },
  {
   "cell_type": "code",
   "execution_count": 213,
   "metadata": {
    "collapsed": true
   },
   "outputs": [],
   "source": [
    "item_prediction = predict(mat_train, item_sim, type='item')\n",
    "user_prediction = predict(mat_train, user_sim, type='user')"
   ]
  },
  {
   "cell_type": "code",
   "execution_count": 238,
   "metadata": {},
   "outputs": [
    {
     "data": {
      "text/plain": [
       "count    5814.000000\n",
       "mean        0.980898\n",
       "std         0.047402\n",
       "min         0.000000\n",
       "25%         1.000000\n",
       "50%         1.000000\n",
       "75%         1.000000\n",
       "max         1.000000\n",
       "dtype: float64"
      ]
     },
     "execution_count": 238,
     "metadata": {},
     "output_type": "execute_result"
    }
   ],
   "source": [
    "pd.Series(user_sim[3, :]).describe()"
   ]
  },
  {
   "cell_type": "code",
   "execution_count": 215,
   "metadata": {},
   "outputs": [
    {
     "data": {
      "text/plain": [
       "(5814L, 2935L)"
      ]
     },
     "execution_count": 215,
     "metadata": {},
     "output_type": "execute_result"
    }
   ],
   "source": [
    "user_prediction.shape"
   ]
  },
  {
   "cell_type": "code",
   "execution_count": 216,
   "metadata": {
    "collapsed": true
   },
   "outputs": [],
   "source": [
    "def rmse(prediction, test_data):\n",
    "    prediction = prediction[test_data.nonzero()].flatten()\n",
    "    test_data = test_data[test_data.nonzero()].flatten()\n",
    "    return sqrt(mean_squared_error(prediction, test_data))"
   ]
  },
  {
   "cell_type": "code",
   "execution_count": 217,
   "metadata": {},
   "outputs": [
    {
     "name": "stdout",
     "output_type": "stream",
     "text": [
      "User-based CF RMSE: 3.5177405248\n",
      "Item-based CF RMSE: 3.57147277659\n"
     ]
    }
   ],
   "source": [
    "print 'User-based CF RMSE: ' + str(rmse(user_prediction, mat_test))\n",
    "print 'Item-based CF RMSE: ' + str(rmse(item_prediction, mat_test))"
   ]
  },
  {
   "cell_type": "code",
   "execution_count": 218,
   "metadata": {
    "collapsed": true
   },
   "outputs": [],
   "source": [
    "preds_1 = item_prediction[mat_test.nonzero()].flatten()"
   ]
  },
  {
   "cell_type": "code",
   "execution_count": null,
   "metadata": {
    "collapsed": true
   },
   "outputs": [],
   "source": []
  },
  {
   "cell_type": "code",
   "execution_count": 221,
   "metadata": {
    "collapsed": true
   },
   "outputs": [],
   "source": [
    "test['pred0'] = preds_0\n",
    "test['pred1'] = preds_1"
   ]
  },
  {
   "cell_type": "code",
   "execution_count": 227,
   "metadata": {
    "collapsed": true
   },
   "outputs": [],
   "source": [
    "import seaborn as sns\n",
    "import matplotlib.pyplot as plt\n",
    "%matplotlib inline"
   ]
  },
  {
   "cell_type": "code",
   "execution_count": 106,
   "metadata": {},
   "outputs": [
    {
     "data": {
      "text/plain": [
       "(5814L, 2975L)"
      ]
     },
     "execution_count": 106,
     "metadata": {},
     "output_type": "execute_result"
    }
   ],
   "source": [
    "user_prediction.shape"
   ]
  },
  {
   "cell_type": "code",
   "execution_count": null,
   "metadata": {
    "collapsed": true
   },
   "outputs": [],
   "source": []
  }
 ],
 "metadata": {
  "anaconda-cloud": {},
  "kernelspec": {
   "display_name": "Python 2",
   "language": "python",
   "name": "python2"
  },
  "language_info": {
   "codemirror_mode": {
    "name": "ipython",
    "version": 2
   },
   "file_extension": ".py",
   "mimetype": "text/x-python",
   "name": "python",
   "nbconvert_exporter": "python",
   "pygments_lexer": "ipython2",
   "version": "2.7.13"
  }
 },
 "nbformat": 4,
 "nbformat_minor": 1
}
